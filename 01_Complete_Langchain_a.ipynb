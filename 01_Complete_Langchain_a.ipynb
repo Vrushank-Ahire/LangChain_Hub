{
  "cells": [
    {
      "cell_type": "code",
      "execution_count": 172,
      "metadata": {
        "id": "rFfEXFKKPttd"
      },
      "outputs": [],
      "source": [
        "groq_api_key = \"enter_GROQ_api_key\"\n",
        "serpapi_api_key = \"enter_SERPAPI_api_key\"\n",
        "openai_api_key = \"enter_OPENAI_api_key\"\n",
        "cohere_api_key = \"enter_COHERE_api_key\""
      ]
    },
    {
      "cell_type": "markdown",
      "metadata": {
        "id": "eiWt8rc2x_Ff"
      },
      "source": [
        "---"
      ]
    },
    {
      "cell_type": "markdown",
      "metadata": {
        "id": "8sycG-h5vSnu"
      },
      "source": [
        "# **Chat Messages**\n",
        "Like text, but specified with a message type (System, Human, AI)"
      ]
    },
    {
      "cell_type": "code",
      "execution_count": 2,
      "metadata": {
        "colab": {
          "base_uri": "https://localhost:8080/"
        },
        "id": "iMyl1JZBfCCs",
        "outputId": "4a7123c8-12c6-4284-af87-f301d5dc5930"
      },
      "outputs": [
        {
          "name": "stdout",
          "output_type": "stream",
          "text": [
            "\u001b[2K     \u001b[90m━━━━━━━━━━━━━━━━━━━━━━━━━━━━━━━━━━━━━━━━\u001b[0m \u001b[32m975.5/975.5 kB\u001b[0m \u001b[31m9.2 MB/s\u001b[0m eta \u001b[36m0:00:00\u001b[0m\n",
            "\u001b[2K     \u001b[90m━━━━━━━━━━━━━━━━━━━━━━━━━━━━━━━━━━━━━━━━\u001b[0m \u001b[32m332.8/332.8 kB\u001b[0m \u001b[31m12.5 MB/s\u001b[0m eta \u001b[36m0:00:00\u001b[0m\n",
            "\u001b[2K     \u001b[90m━━━━━━━━━━━━━━━━━━━━━━━━━━━━━━━━━━━━━━━━\u001b[0m \u001b[32m127.4/127.4 kB\u001b[0m \u001b[31m16.0 MB/s\u001b[0m eta \u001b[36m0:00:00\u001b[0m\n",
            "\u001b[2K     \u001b[90m━━━━━━━━━━━━━━━━━━━━━━━━━━━━━━━━━━━━━━━━\u001b[0m \u001b[32m145.0/145.0 kB\u001b[0m \u001b[31m13.3 MB/s\u001b[0m eta \u001b[36m0:00:00\u001b[0m\n",
            "\u001b[?25h"
          ]
        }
      ],
      "source": [
        "pip install -qU langchain"
      ]
    },
    {
      "cell_type": "code",
      "execution_count": 3,
      "metadata": {
        "colab": {
          "base_uri": "https://localhost:8080/"
        },
        "id": "UEELVLJYib7M",
        "outputId": "d34806ed-cce0-4136-86f4-a6b2cb50c3eb"
      },
      "outputs": [
        {
          "name": "stdout",
          "output_type": "stream",
          "text": [
            "\u001b[?25l     \u001b[90m━━━━━━━━━━━━━━━━━━━━━━━━━━━━━━━━━━━━━━━━\u001b[0m \u001b[32m0.0/103.5 kB\u001b[0m \u001b[31m?\u001b[0m eta \u001b[36m-:--:--\u001b[0m\r\u001b[2K     \u001b[90m━━━━━━━━━━━━━━━━━━━━━━━━━━━━━━━━━━━━━━━━\u001b[0m \u001b[32m103.5/103.5 kB\u001b[0m \u001b[31m4.1 MB/s\u001b[0m eta \u001b[36m0:00:00\u001b[0m\n",
            "\u001b[2K     \u001b[90m━━━━━━━━━━━━━━━━━━━━━━━━━━━━━━━━━━━━━━━━\u001b[0m \u001b[32m75.6/75.6 kB\u001b[0m \u001b[31m6.3 MB/s\u001b[0m eta \u001b[36m0:00:00\u001b[0m\n",
            "\u001b[2K     \u001b[90m━━━━━━━━━━━━━━━━━━━━━━━━━━━━━━━━━━━━━━━━\u001b[0m \u001b[32m77.9/77.9 kB\u001b[0m \u001b[31m5.6 MB/s\u001b[0m eta \u001b[36m0:00:00\u001b[0m\n",
            "\u001b[2K     \u001b[90m━━━━━━━━━━━━━━━━━━━━━━━━━━━━━━━━━━━━━━━━\u001b[0m \u001b[32m58.3/58.3 kB\u001b[0m \u001b[31m6.0 MB/s\u001b[0m eta \u001b[36m0:00:00\u001b[0m\n",
            "\u001b[?25h"
          ]
        }
      ],
      "source": [
        "%pip install -qU langchain-groq"
      ]
    },
    {
      "cell_type": "code",
      "execution_count": 4,
      "metadata": {
        "id": "WUg7NA7xf49I"
      },
      "outputs": [],
      "source": [
        "# from langchain_core.prompts import ChatPromptTemplate\n",
        "from langchain_groq import ChatGroq\n",
        "from langchain.prompts import PromptTemplate\n",
        "from langchain.chains import LLMChain"
      ]
    },
    {
      "cell_type": "code",
      "execution_count": 5,
      "metadata": {
        "id": "w6wAWAWFpKjJ"
      },
      "outputs": [],
      "source": [
        "pip install -qU python-dotenv"
      ]
    },
    {
      "cell_type": "code",
      "execution_count": 6,
      "metadata": {
        "id": "WYAkWatXoNHh"
      },
      "outputs": [],
      "source": [
        "from dotenv import load_dotenv\n",
        "import os\n",
        "load_dotenv()\n",
        "\n",
        "groq_api_key = os.getenv( 'GROQ_API_KEY', groq_api_key)"
      ]
    },
    {
      "cell_type": "code",
      "execution_count": 7,
      "metadata": {
        "id": "s43gU9UUofZD"
      },
      "outputs": [],
      "source": [
        "from langchain.schema import HumanMessage, AIMessage, SystemMessage"
      ]
    },
    {
      "cell_type": "code",
      "execution_count": 8,
      "metadata": {
        "id": "qMh08zwuqDrZ"
      },
      "outputs": [],
      "source": [
        "chat = ChatGroq(\n",
        "    temperature = 0.7,\n",
        "    model=\"llama3-70b-8192\",\n",
        "    api_key=groq_api_key\n",
        ")"
      ]
    },
    {
      "cell_type": "code",
      "execution_count": 9,
      "metadata": {
        "colab": {
          "base_uri": "https://localhost:8080/",
          "height": 107
        },
        "id": "TrnVpMyVr6AQ",
        "outputId": "9d0988ef-e882-4f3f-fee2-83afca226a93"
      },
      "outputs": [
        {
          "name": "stderr",
          "output_type": "stream",
          "text": [
            "/usr/local/lib/python3.10/dist-packages/langchain_core/_api/deprecation.py:139: LangChainDeprecationWarning: The method `BaseChatModel.__call__` was deprecated in langchain-core 0.1.7 and will be removed in 0.3.0. Use invoke instead.\n",
            "  warn_deprecated(\n"
          ]
        },
        {
          "data": {
            "application/vnd.google.colaboratory.intrinsic+json": {
              "type": "string"
            },
            "text/plain": [
              "\"content='You might enjoy a fresh Caprese salad with sliced tomatoes, mozzarella, and basil, or a juicy grilled cheese sandwich with tomato soup!' \""
            ]
          },
          "execution_count": 9,
          "metadata": {},
          "output_type": "execute_result"
        }
      ],
      "source": [
        "response = chat(\n",
        "                [\n",
        "                    SystemMessage(content=\"You are a nice AI bot that helps a user figure out what to eat in one short sentence\"),\n",
        "                    HumanMessage(content=\"I like tomatoes, what should I eat?\")\n",
        "\n",
        "                ]\n",
        "            )\n",
        "\n",
        "str(response).split(\"response_metadata\")[0]"
      ]
    },
    {
      "cell_type": "code",
      "execution_count": 10,
      "metadata": {
        "colab": {
          "base_uri": "https://localhost:8080/",
          "height": 52
        },
        "id": "z0-dS_YPr6iU",
        "outputId": "bc59f672-be85-47e0-9a15-9656362b43db"
      },
      "outputs": [
        {
          "data": {
            "application/vnd.google.colaboratory.intrinsic+json": {
              "type": "string"
            },
            "text/plain": [
              "\"content='You may want to refer to the laws of intestate succession in your state, which are typically found in the probate code or estates code, such as California Probate Code Section 6400-6414.' \""
            ]
          },
          "execution_count": 10,
          "metadata": {},
          "output_type": "execute_result"
        }
      ],
      "source": [
        "response = chat(\n",
        "                [\n",
        "                    SystemMessage(content=\"You are a nice AI bot that helps a user figure out what law codes in number to follow in one short sentence\"),\n",
        "                    HumanMessage(content=\"I want to divide the propery between my two sons.\")\n",
        "\n",
        "                ]\n",
        "            )\n",
        "\n",
        "str(response).split(\"response_metadata\")[0]"
      ]
    },
    {
      "cell_type": "code",
      "execution_count": 11,
      "metadata": {
        "colab": {
          "base_uri": "https://localhost:8080/",
          "height": 52
        },
        "id": "3ad3eUWmsidf",
        "outputId": "b99d5684-a8f5-4ea8-fee4-fec4a06086a3"
      },
      "outputs": [
        {
          "data": {
            "application/vnd.google.colaboratory.intrinsic+json": {
              "type": "string"
            },
            "text/plain": [
              "\"content='You can consider creating a Living Trust, which would be governed by California Probate Code sections 15300-15403, allowing you to divide your property between your two sons according to your wishes.' \""
            ]
          },
          "execution_count": 11,
          "metadata": {},
          "output_type": "execute_result"
        }
      ],
      "source": [
        "response = chat(\n",
        "                [\n",
        "                    SystemMessage(content=\"You are a nice AI bot that helps a user figure out what law codes in number to follow in one short sentence\"),\n",
        "                    HumanMessage(content=\"I want to divide the propery between my two sons.\"),\n",
        "                    AIMessage(content='You should follow the laws outlined in Title 30 of the California Probate Code, specifically sections 21110-21113, which govern the distribution of property among heirs and beneficiaries.'),\n",
        "                    HumanMessage(content=\"Please suggest other method that use other codes than this.\")\n",
        "\n",
        "                ]\n",
        "            )\n",
        "\n",
        "str(response).split(\"response_metadata\")[0]"
      ]
    },
    {
      "cell_type": "code",
      "execution_count": 12,
      "metadata": {
        "colab": {
          "base_uri": "https://localhost:8080/",
          "height": 35
        },
        "id": "Zo7L82MltKo3",
        "outputId": "f1564edf-e577-49c5-ea20-01d8aa6c0d30"
      },
      "outputs": [
        {
          "data": {
            "application/vnd.google.colaboratory.intrinsic+json": {
              "type": "string"
            },
            "text/plain": [
              "\"content='Friday!' \""
            ]
          },
          "execution_count": 12,
          "metadata": {},
          "output_type": "execute_result"
        }
      ],
      "source": [
        "response = chat(\n",
        "                [\n",
        "                    HumanMessage(content=\"What comes after Thursday?\")\n",
        "                ]\n",
        "            )\n",
        "\n",
        "str(response).split(\"response_metadata\")[0]"
      ]
    },
    {
      "cell_type": "markdown",
      "metadata": {
        "id": "4svagmMkyHCc"
      },
      "source": [
        "---"
      ]
    },
    {
      "cell_type": "markdown",
      "metadata": {
        "id": "lACG27JFvqYY"
      },
      "source": [
        "# **Documents**\n",
        "An object that holds a piece of text and metadata (more information about that text)"
      ]
    },
    {
      "cell_type": "code",
      "execution_count": 13,
      "metadata": {
        "id": "YMsDKXgYt2Zo"
      },
      "outputs": [],
      "source": [
        "from langchain.schema import Document"
      ]
    },
    {
      "cell_type": "code",
      "execution_count": 14,
      "metadata": {
        "colab": {
          "base_uri": "https://localhost:8080/"
        },
        "id": "pg4LANS1v124",
        "outputId": "934ca50f-26f2-4898-d3e5-2efba3e292d3"
      },
      "outputs": [
        {
          "data": {
            "text/plain": [
              "Document(page_content='This document contains the information about Mission Mangal. This information gathered from the space portal of Gov of India.', metadata={'my_document_id': 123789, 'my_document_src': 'www.isro.gov.in', 'my_document_create_time': '26|06|24'})"
            ]
          },
          "execution_count": 14,
          "metadata": {},
          "output_type": "execute_result"
        }
      ],
      "source": [
        "Document(\n",
        "    page_content=\"This document contains the information about Mission Mangal. This information gathered from the space portal of Gov of India.\",\n",
        "    metadata={\n",
        "        'my_document_id' : 123789,\n",
        "        'my_document_src' : 'www.isro.gov.in',\n",
        "        'my_document_create_time' : '26|06|24'\n",
        "    }\n",
        ")"
      ]
    },
    {
      "cell_type": "code",
      "execution_count": 15,
      "metadata": {
        "colab": {
          "base_uri": "https://localhost:8080/"
        },
        "id": "MmCtWSM9xVL4",
        "outputId": "6acad56d-d5b8-4308-c350-4b70699da891"
      },
      "outputs": [
        {
          "data": {
            "text/plain": [
              "Document(page_content='This document contains the information about Mission Mangal. This information gathered from the space portal of Gov of India.')"
            ]
          },
          "execution_count": 15,
          "metadata": {},
          "output_type": "execute_result"
        }
      ],
      "source": [
        "Document(\n",
        "    page_content = 'This document contains the information about Mission Mangal. This information gathered from the space portal of Gov of India.'\n",
        ")"
      ]
    },
    {
      "cell_type": "markdown",
      "metadata": {
        "id": "fKyTMEZuyOTz"
      },
      "source": [
        "---"
      ]
    },
    {
      "cell_type": "markdown",
      "metadata": {
        "id": "6RsumqrdyRvE"
      },
      "source": [
        "# **Text Embedding Model**\n",
        "Change the text into a vector (a series of numbers that hold the semantic 'meaning' of the text). Mainly used when comparing two pieces of text together."
      ]
    },
    {
      "cell_type": "code",
      "execution_count": 16,
      "metadata": {
        "id": "mEkYl3WlyOGy"
      },
      "outputs": [],
      "source": [
        "# pip install -qU langchain-openai\n",
        "\n",
        "# from langchain_openai import OpenAIEmbeddings\n",
        "# embeddings = OpenAIEmbeddings(openai_api_key=openai_api_key)\n",
        "\n",
        "# text = \"Hello! Let's discuss about the latest stock market trends.\"\n",
        "\n",
        "# text_embedding = embeddings.embed_query(text)\n",
        "# print(f\"Here's a sample: {text_embedding[:5]}...\")\n",
        "# print(f\"Your embedding is length {len(text_embedding)}\")"
      ]
    },
    {
      "cell_type": "code",
      "execution_count": 17,
      "metadata": {
        "colab": {
          "base_uri": "https://localhost:8080/"
        },
        "id": "sYomNdfJ-WzP",
        "outputId": "8c4fd58d-d6aa-4462-d9ea-8589fab0371a"
      },
      "outputs": [
        {
          "name": "stdout",
          "output_type": "stream",
          "text": [
            "\u001b[2K     \u001b[90m━━━━━━━━━━━━━━━━━━━━━━━━━━━━━━━━━━━━━━━━\u001b[0m \u001b[32m173.8/173.8 kB\u001b[0m \u001b[31m6.3 MB/s\u001b[0m eta \u001b[36m0:00:00\u001b[0m\n",
            "\u001b[2K     \u001b[90m━━━━━━━━━━━━━━━━━━━━━━━━━━━━━━━━━━━━━━━━\u001b[0m \u001b[32m139.2/139.2 kB\u001b[0m \u001b[31m6.9 MB/s\u001b[0m eta \u001b[36m0:00:00\u001b[0m\n",
            "\u001b[2K     \u001b[90m━━━━━━━━━━━━━━━━━━━━━━━━━━━━━━━━━━━━━━━━\u001b[0m \u001b[32m3.1/3.1 MB\u001b[0m \u001b[31m15.1 MB/s\u001b[0m eta \u001b[36m0:00:00\u001b[0m\n",
            "\u001b[2K     \u001b[90m━━━━━━━━━━━━━━━━━━━━━━━━━━━━━━━━━━━━━━━━\u001b[0m \u001b[32m12.3/12.3 MB\u001b[0m \u001b[31m54.8 MB/s\u001b[0m eta \u001b[36m0:00:00\u001b[0m\n",
            "\u001b[2K     \u001b[90m━━━━━━━━━━━━━━━━━━━━━━━━━━━━━━━━━━━━━━━━\u001b[0m \u001b[32m82.7/82.7 kB\u001b[0m \u001b[31m12.8 MB/s\u001b[0m eta \u001b[36m0:00:00\u001b[0m\n",
            "\u001b[?25h"
          ]
        }
      ],
      "source": [
        "pip install -qU langchain-cohere"
      ]
    },
    {
      "cell_type": "code",
      "execution_count": 18,
      "metadata": {
        "id": "fI024XKN2kFW"
      },
      "outputs": [],
      "source": [
        "from langchain_cohere import CohereEmbeddings\n",
        "\n",
        "embeddings = CohereEmbeddings(cohere_api_key = cohere_api_key)"
      ]
    },
    {
      "cell_type": "code",
      "execution_count": 19,
      "metadata": {
        "id": "Xfy3wjJS3jbX"
      },
      "outputs": [],
      "source": [
        "text = \"Hello! Let's discuss about the latest stock market trends.\""
      ]
    },
    {
      "cell_type": "code",
      "execution_count": 20,
      "metadata": {
        "colab": {
          "base_uri": "https://localhost:8080/"
        },
        "id": "I_HZWtU--vda",
        "outputId": "dc867372-e8e2-4d22-e263-266a5d8084c6"
      },
      "outputs": [
        {
          "name": "stdout",
          "output_type": "stream",
          "text": [
            "Here's a sample: [-0.6694336, 2.3886719, 0.8676758, -1.0048828, -0.78125]...\n",
            "Your embedding is length 4096\n"
          ]
        }
      ],
      "source": [
        "text_embedding = embeddings.embed_query(text)\n",
        "print(f\"Here's a sample: {text_embedding[:5]}...\")\n",
        "print(f\"Your embedding is length {len(text_embedding)}\")"
      ]
    },
    {
      "cell_type": "markdown",
      "metadata": {
        "id": "zN6-YObO_ptZ"
      },
      "source": [
        "---"
      ]
    },
    {
      "cell_type": "markdown",
      "metadata": {
        "id": "3WO0a_A__kBp"
      },
      "source": [
        "# **Prompt Template**\n",
        "An object that helps create prompts based on a combination of user input, other non-static information and a fixed template string."
      ]
    },
    {
      "cell_type": "code",
      "execution_count": 21,
      "metadata": {
        "id": "4tTTOPlB_oHx"
      },
      "outputs": [],
      "source": [
        "from langchain_groq import ChatGroq\n",
        "from langchain.prompts import PromptTemplate"
      ]
    },
    {
      "cell_type": "code",
      "execution_count": 22,
      "metadata": {
        "id": "CFDjMD5SC13Z"
      },
      "outputs": [],
      "source": [
        "chat = ChatGroq(\n",
        "    temperature=0.7,\n",
        "    model=\"llama3-70b-8192\",\n",
        "    api_key=groq_api_key\n",
        ")"
      ]
    },
    {
      "cell_type": "code",
      "execution_count": 23,
      "metadata": {
        "id": "6uqDiDbODYck"
      },
      "outputs": [],
      "source": [
        "template = \"\"\"\n",
        "I really want to travel to {location}. What should I do there?\n",
        "\n",
        "Respond in one short sentence\n",
        "\"\"\""
      ]
    },
    {
      "cell_type": "code",
      "execution_count": 24,
      "metadata": {
        "id": "sw7Jvq9PE0Q5"
      },
      "outputs": [],
      "source": [
        "prompt = PromptTemplate(\n",
        "    input_variables = ['location'] ,\n",
        "    template=template\n",
        ")"
      ]
    },
    {
      "cell_type": "code",
      "execution_count": 25,
      "metadata": {
        "colab": {
          "base_uri": "https://localhost:8080/"
        },
        "id": "BhWmmUFNFGUI",
        "outputId": "1fb0f329-494e-4bfd-e3d9-f50609a08968"
      },
      "outputs": [
        {
          "name": "stdout",
          "output_type": "stream",
          "text": [
            "\n",
            "I really want to travel to India. What should I do there?\n",
            "\n",
            "Respond in one short sentence\n",
            "\n",
            "content='Explore the vibrant cities, experience the rich cultural heritage, and marvel at the iconic landmarks like the Taj Mahal, Golden Temple, and Varanasi Ghats.' \n"
          ]
        }
      ],
      "source": [
        "final_prompt = prompt.format(location = \"India\")\n",
        "print(final_prompt)\n",
        "\n",
        "response = chat.invoke(final_prompt)\n",
        "\n",
        "print(str(response).split(\"response_metadata\")[0])"
      ]
    },
    {
      "cell_type": "code",
      "execution_count": 26,
      "metadata": {
        "colab": {
          "base_uri": "https://localhost:8080/"
        },
        "id": "Wdofnn47FhYj",
        "outputId": "80916fab-4e55-49a8-d236-1db1655e175e"
      },
      "outputs": [
        {
          "name": "stdout",
          "output_type": "stream",
          "text": [
            "\n",
            "I really want to travel to Rome. What should I do there?\n",
            "\n",
            "Respond in one short sentence\n",
            "\n",
            "content='Visit the Colosseum, explore the Vatican City, indulge in delicious Italian cuisine, and wander through the ancient ruins and charming piazzas of this eternal city!' \n"
          ]
        }
      ],
      "source": [
        "final_prompt = prompt.format(location = \"Rome\")\n",
        "print(final_prompt)\n",
        "\n",
        "response = chat.invoke(final_prompt)\n",
        "\n",
        "print(str(response).split(\"response_metadata\")[0])"
      ]
    },
    {
      "cell_type": "markdown",
      "metadata": {
        "id": "-N2GUZ3CLaFQ"
      },
      "source": [
        "---"
      ]
    },
    {
      "cell_type": "markdown",
      "metadata": {
        "id": "uY9qmY8zLbE4"
      },
      "source": [
        "# **Example Selectors**\n",
        "An easy way to select from a series of examples that allow you to dynamic place in-context information into your prompt. Often used when your task is nuanced or you have a large list of examples."
      ]
    },
    {
      "cell_type": "code",
      "execution_count": 27,
      "metadata": {
        "colab": {
          "base_uri": "https://localhost:8080/"
        },
        "collapsed": true,
        "id": "avdqjKYEPrWx",
        "outputId": "eddb1153-a0e5-4e11-d44f-b9f08065c289"
      },
      "outputs": [
        {
          "name": "stdout",
          "output_type": "stream",
          "text": [
            "\u001b[2K     \u001b[90m━━━━━━━━━━━━━━━━━━━━━━━━━━━━━━━━━━━━━━━━\u001b[0m \u001b[32m559.5/559.5 kB\u001b[0m \u001b[31m7.3 MB/s\u001b[0m eta \u001b[36m0:00:00\u001b[0m\n",
            "\u001b[2K     \u001b[90m━━━━━━━━━━━━━━━━━━━━━━━━━━━━━━━━━━━━━━━━\u001b[0m \u001b[32m2.4/2.4 MB\u001b[0m \u001b[31m16.2 MB/s\u001b[0m eta \u001b[36m0:00:00\u001b[0m\n",
            "\u001b[2K     \u001b[90m━━━━━━━━━━━━━━━━━━━━━━━━━━━━━━━━━━━━━━━━\u001b[0m \u001b[32m92.0/92.0 kB\u001b[0m \u001b[31m12.8 MB/s\u001b[0m eta \u001b[36m0:00:00\u001b[0m\n",
            "\u001b[2K     \u001b[90m━━━━━━━━━━━━━━━━━━━━━━━━━━━━━━━━━━━━━━━━\u001b[0m \u001b[32m62.4/62.4 kB\u001b[0m \u001b[31m8.4 MB/s\u001b[0m eta \u001b[36m0:00:00\u001b[0m\n",
            "\u001b[2K     \u001b[90m━━━━━━━━━━━━━━━━━━━━━━━━━━━━━━━━━━━━━━━━\u001b[0m \u001b[32m41.3/41.3 kB\u001b[0m \u001b[31m5.8 MB/s\u001b[0m eta \u001b[36m0:00:00\u001b[0m\n",
            "\u001b[2K     \u001b[90m━━━━━━━━━━━━━━━━━━━━━━━━━━━━━━━━━━━━━━━━\u001b[0m \u001b[32m6.8/6.8 MB\u001b[0m \u001b[31m37.3 MB/s\u001b[0m eta \u001b[36m0:00:00\u001b[0m\n",
            "\u001b[2K     \u001b[90m━━━━━━━━━━━━━━━━━━━━━━━━━━━━━━━━━━━━━━━━\u001b[0m \u001b[32m59.9/59.9 kB\u001b[0m \u001b[31m9.0 MB/s\u001b[0m eta \u001b[36m0:00:00\u001b[0m\n",
            "\u001b[2K     \u001b[90m━━━━━━━━━━━━━━━━━━━━━━━━━━━━━━━━━━━━━━━━\u001b[0m \u001b[32m107.0/107.0 kB\u001b[0m \u001b[31m15.6 MB/s\u001b[0m eta \u001b[36m0:00:00\u001b[0m\n",
            "\u001b[2K     \u001b[90m━━━━━━━━━━━━━━━━━━━━━━━━━━━━━━━━━━━━━━━━\u001b[0m \u001b[32m67.3/67.3 kB\u001b[0m \u001b[31m9.9 MB/s\u001b[0m eta \u001b[36m0:00:00\u001b[0m\n",
            "\u001b[?25h  Installing build dependencies ... \u001b[?25l\u001b[?25hdone\n",
            "  Getting requirements to build wheel ... \u001b[?25l\u001b[?25hdone\n",
            "  Preparing metadata (pyproject.toml) ... \u001b[?25l\u001b[?25hdone\n",
            "\u001b[2K     \u001b[90m━━━━━━━━━━━━━━━━━━━━━━━━━━━━━━━━━━━━━━━━\u001b[0m \u001b[32m283.7/283.7 kB\u001b[0m \u001b[31m35.8 MB/s\u001b[0m eta \u001b[36m0:00:00\u001b[0m\n",
            "\u001b[2K     \u001b[90m━━━━━━━━━━━━━━━━━━━━━━━━━━━━━━━━━━━━━━━━\u001b[0m \u001b[32m1.7/1.7 MB\u001b[0m \u001b[31m47.6 MB/s\u001b[0m eta \u001b[36m0:00:00\u001b[0m\n",
            "\u001b[2K     \u001b[90m━━━━━━━━━━━━━━━━━━━━━━━━━━━━━━━━━━━━━━━━\u001b[0m \u001b[32m67.6/67.6 kB\u001b[0m \u001b[31m10.5 MB/s\u001b[0m eta \u001b[36m0:00:00\u001b[0m\n",
            "\u001b[2K     \u001b[90m━━━━━━━━━━━━━━━━━━━━━━━━━━━━━━━━━━━━━━━━\u001b[0m \u001b[32m71.9/71.9 kB\u001b[0m \u001b[31m10.9 MB/s\u001b[0m eta \u001b[36m0:00:00\u001b[0m\n",
            "\u001b[2K     \u001b[90m━━━━━━━━━━━━━━━━━━━━━━━━━━━━━━━━━━━━━━━━\u001b[0m \u001b[32m53.6/53.6 kB\u001b[0m \u001b[31m7.9 MB/s\u001b[0m eta \u001b[36m0:00:00\u001b[0m\n",
            "\u001b[2K     \u001b[90m━━━━━━━━━━━━━━━━━━━━━━━━━━━━━━━━━━━━━━━━\u001b[0m \u001b[32m46.0/46.0 kB\u001b[0m \u001b[31m6.2 MB/s\u001b[0m eta \u001b[36m0:00:00\u001b[0m\n",
            "\u001b[2K     \u001b[90m━━━━━━━━━━━━━━━━━━━━━━━━━━━━━━━━━━━━━━━━\u001b[0m \u001b[32m52.5/52.5 kB\u001b[0m \u001b[31m8.2 MB/s\u001b[0m eta \u001b[36m0:00:00\u001b[0m\n",
            "\u001b[2K     \u001b[90m━━━━━━━━━━━━━━━━━━━━━━━━━━━━━━━━━━━━━━━━\u001b[0m \u001b[32m130.5/130.5 kB\u001b[0m \u001b[31m19.7 MB/s\u001b[0m eta \u001b[36m0:00:00\u001b[0m\n",
            "\u001b[2K     \u001b[90m━━━━━━━━━━━━━━━━━━━━━━━━━━━━━━━━━━━━━━━━\u001b[0m \u001b[32m341.4/341.4 kB\u001b[0m \u001b[31m37.3 MB/s\u001b[0m eta \u001b[36m0:00:00\u001b[0m\n",
            "\u001b[2K     \u001b[90m━━━━━━━━━━━━━━━━━━━━━━━━━━━━━━━━━━━━━━━━\u001b[0m \u001b[32m3.4/3.4 MB\u001b[0m \u001b[31m63.0 MB/s\u001b[0m eta \u001b[36m0:00:00\u001b[0m\n",
            "\u001b[2K     \u001b[90m━━━━━━━━━━━━━━━━━━━━━━━━━━━━━━━━━━━━━━━━\u001b[0m \u001b[32m1.2/1.2 MB\u001b[0m \u001b[31m60.2 MB/s\u001b[0m eta \u001b[36m0:00:00\u001b[0m\n",
            "\u001b[2K     \u001b[90m━━━━━━━━━━━━━━━━━━━━━━━━━━━━━━━━━━━━━━━━\u001b[0m \u001b[32m130.2/130.2 kB\u001b[0m \u001b[31m18.8 MB/s\u001b[0m eta \u001b[36m0:00:00\u001b[0m\n",
            "\u001b[2K     \u001b[90m━━━━━━━━━━━━━━━━━━━━━━━━━━━━━━━━━━━━━━━━\u001b[0m \u001b[32m307.7/307.7 kB\u001b[0m \u001b[31m39.0 MB/s\u001b[0m eta \u001b[36m0:00:00\u001b[0m\n",
            "\u001b[2K     \u001b[90m━━━━━━━━━━━━━━━━━━━━━━━━━━━━━━━━━━━━━━━━\u001b[0m \u001b[32m86.8/86.8 kB\u001b[0m \u001b[31m13.4 MB/s\u001b[0m eta \u001b[36m0:00:00\u001b[0m\n",
            "\u001b[?25h  Building wheel for pypika (pyproject.toml) ... \u001b[?25l\u001b[?25hdone\n"
          ]
        }
      ],
      "source": [
        "pip install -qU chromadb"
      ]
    },
    {
      "cell_type": "code",
      "execution_count": 28,
      "metadata": {
        "colab": {
          "base_uri": "https://localhost:8080/"
        },
        "id": "llHMnKdo1pHW",
        "outputId": "df3a5751-f901-4831-9de9-2207ea01e55a"
      },
      "outputs": [
        {
          "name": "stdout",
          "output_type": "stream",
          "text": [
            "\u001b[2K     \u001b[90m━━━━━━━━━━━━━━━━━━━━━━━━━━━━━━━━━━━━━━━━\u001b[0m \u001b[32m2.2/2.2 MB\u001b[0m \u001b[31m12.4 MB/s\u001b[0m eta \u001b[36m0:00:00\u001b[0m\n",
            "\u001b[2K     \u001b[90m━━━━━━━━━━━━━━━━━━━━━━━━━━━━━━━━━━━━━━━━\u001b[0m \u001b[32m49.2/49.2 kB\u001b[0m \u001b[31m4.8 MB/s\u001b[0m eta \u001b[36m0:00:00\u001b[0m\n",
            "\u001b[?25h"
          ]
        }
      ],
      "source": [
        "pip install -qU langchain-community"
      ]
    },
    {
      "cell_type": "code",
      "execution_count": 29,
      "metadata": {
        "id": "gY_iYHWZLc03"
      },
      "outputs": [],
      "source": [
        "from langchain.prompts.example_selector import SemanticSimilarityExampleSelector\n",
        "from langchain_cohere import CohereEmbeddings\n",
        "from langchain.prompts import FewShotPromptTemplate, PromptTemplate\n",
        "from langchain_groq import ChatGroq\n",
        "from langchain.vectorstores import Chroma"
      ]
    },
    {
      "cell_type": "code",
      "execution_count": 30,
      "metadata": {
        "id": "zKtv2uKmL0-q"
      },
      "outputs": [],
      "source": [
        "chat = ChatGroq(\n",
        "    temperature=0.95,\n",
        "    model=\"llama3-70b-8192\",\n",
        "    api_key=groq_api_key\n",
        ")"
      ]
    },
    {
      "cell_type": "code",
      "execution_count": 31,
      "metadata": {
        "id": "c8S5eAPONHxu"
      },
      "outputs": [],
      "source": [
        "example_prompt = PromptTemplate(\n",
        "    input_variables = [\"input\", \"output\"],\n",
        "    template = \"Example Input: {input}\\nExample Output: {output}\"\n",
        ")"
      ]
    },
    {
      "cell_type": "code",
      "execution_count": 32,
      "metadata": {
        "id": "xgKWUNUPNoEg"
      },
      "outputs": [],
      "source": [
        "examples = [\n",
        "    {\"input\": \"pirate\", \"output\": \"ship\"},\n",
        "    {\"input\": \"pilot\", \"output\": \"plane\"},\n",
        "    {\"input\": \"driver\", \"output\": \"car\"},\n",
        "    {\"input\": \"tree\", \"output\": \"ground\"},\n",
        "    {\"input\": \"bird\", \"output\": \"nest\"},\n",
        "    {\"input\": \"chef\", \"output\": \"kitchen\"},\n",
        "    {\"input\": \"doctor\", \"output\": \"hospital\"},\n",
        "    {\"input\": \"teacher\", \"output\": \"classroom\"},\n",
        "    {\"input\": \"artist\", \"output\": \"studio\"},\n",
        "    {\"input\": \"farmer\", \"output\": \"field\"},\n",
        "    {\"input\": \"fisherman\", \"output\": \"boat\"},\n",
        "    {\"input\": \"writer\", \"output\": \"book\"},\n",
        "    {\"input\": \"musician\", \"output\": \"stage\"},\n",
        "    {\"input\": \"athlete\", \"output\": \"stadium\"},\n",
        "    {\"input\": \"librarian\", \"output\": \"library\"},\n",
        "    {\"input\": \"miner\", \"output\": \"mine\"},\n",
        "    {\"input\": \"soldier\", \"output\": \"battlefield\"},\n",
        "    {\"input\": \"programmer\", \"output\": \"computer\"},\n",
        "    {\"input\": \"actor\", \"output\": \"theater\"},\n",
        "    {\"input\": \"dancer\", \"output\": \"dance floor\"},\n",
        "]"
      ]
    },
    {
      "cell_type": "code",
      "execution_count": 33,
      "metadata": {
        "id": "2koC9k2tONCe"
      },
      "outputs": [],
      "source": [
        "example_selector = SemanticSimilarityExampleSelector.from_examples(\n",
        "    examples,\n",
        "    CohereEmbeddings(cohere_api_key = cohere_api_key),\n",
        "    Chroma,\n",
        "    k=1\n",
        ")"
      ]
    },
    {
      "cell_type": "code",
      "execution_count": 34,
      "metadata": {
        "id": "3i7Zno_DPVlr"
      },
      "outputs": [],
      "source": [
        "similar_prompt = FewShotPromptTemplate(\n",
        "    example_selector=example_selector,\n",
        "    example_prompt=example_prompt,\n",
        "    prefix = \"Give the loaction of an item usually found in\",\n",
        "    suffix= \"Input: {noun}\\nOutput: \",\n",
        "    input_variables=[\"noun\"]\n",
        ")"
      ]
    },
    {
      "cell_type": "code",
      "execution_count": 35,
      "metadata": {
        "colab": {
          "base_uri": "https://localhost:8080/"
        },
        "id": "SrQ32dUHRCjx",
        "outputId": "1b2d472b-fa9f-4746-fa47-e92ba26c8086"
      },
      "outputs": [
        {
          "name": "stdout",
          "output_type": "stream",
          "text": [
            "Give the loaction of an item usually found in\n",
            "\n",
            "Example Input: librarian\n",
            "Example Output: library\n",
            "\n",
            "Input: scientist\n",
            "Output: \n"
          ]
        }
      ],
      "source": [
        "my_noun = \"scientist\"\n",
        "print(similar_prompt.format(noun=my_noun))"
      ]
    },
    {
      "cell_type": "code",
      "execution_count": 36,
      "metadata": {
        "colab": {
          "base_uri": "https://localhost:8080/",
          "height": 0
        },
        "id": "b4mu8N5USmOW",
        "outputId": "dc9f2570-3114-435a-c22d-71aa940a9e41"
      },
      "outputs": [
        {
          "data": {
            "application/vnd.google.colaboratory.intrinsic+json": {
              "type": "string"
            },
            "text/plain": [
              "\"content='Laboratory' \""
            ]
          },
          "execution_count": 36,
          "metadata": {},
          "output_type": "execute_result"
        }
      ],
      "source": [
        "response = chat.invoke(similar_prompt.format(noun=my_noun))\n",
        "\n",
        "str(response).split(\"response_metadata\")[0]"
      ]
    },
    {
      "cell_type": "markdown",
      "metadata": {
        "id": "-_jlO8QaWK9l"
      },
      "source": [
        "---"
      ]
    },
    {
      "cell_type": "markdown",
      "metadata": {
        "id": "LiV5VmzVVwaN"
      },
      "source": [
        "# **Output Parsers Method 1: Prompt Instructions & String Parsing**\n",
        "A helpful way to format the output of a model. Usually used for structured output.\n",
        "\n",
        "Two big concepts:\n",
        "\n",
        "**1. Format Instructions** - A autogenerated prompt that tells the LLM how to format it's response based off your desired result\n",
        "\n",
        "**2. Parser** - A method which will extract your model's text output into a desired structure (usually json)"
      ]
    },
    {
      "cell_type": "code",
      "execution_count": 37,
      "metadata": {
        "id": "GlGHhkuHWFbX"
      },
      "outputs": [],
      "source": [
        "from langchain.output_parsers import StructuredOutputParser, ResponseSchema\n",
        "from langchain.prompts import PromptTemplate, HumanMessagePromptTemplate\n",
        "from langchain_groq import ChatGroq"
      ]
    },
    {
      "cell_type": "code",
      "execution_count": 38,
      "metadata": {
        "id": "LpgPZXtU2Ft3"
      },
      "outputs": [],
      "source": [
        "chat = ChatGroq(\n",
        "    temperature = 0.7,\n",
        "    model = \"llama3-70b-8192\",\n",
        "    api_key = groq_api_key\n",
        ")"
      ]
    },
    {
      "cell_type": "code",
      "execution_count": 39,
      "metadata": {
        "id": "xTBXJdnn2b3n"
      },
      "outputs": [],
      "source": [
        "response_schemas = [\n",
        "    ResponseSchema(name=\"bad_string\", description=\"This is poorly formatted user input string\"),\n",
        "    ResponseSchema(name=\"good_string\", description=\"This is your response, a reformated response\")\n",
        "]\n",
        "\n",
        "output_parser = StructuredOutputParser.from_response_schemas(response_schemas)"
      ]
    },
    {
      "cell_type": "code",
      "execution_count": 40,
      "metadata": {
        "colab": {
          "base_uri": "https://localhost:8080/"
        },
        "id": "g7xn8ONH3aaG",
        "outputId": "37ba497a-a02b-457e-e4f8-b926a4536617"
      },
      "outputs": [
        {
          "name": "stdout",
          "output_type": "stream",
          "text": [
            "The output should be a markdown code snippet formatted in the following schema, including the leading and trailing \"```json\" and \"```\":\n",
            "\n",
            "```json\n",
            "{\n",
            "\t\"bad_string\": string  // This is poorly formatted user input string\n",
            "\t\"good_string\": string  // This is your response, a reformated response\n",
            "}\n",
            "```\n"
          ]
        }
      ],
      "source": [
        "format_instructions = output_parser.get_format_instructions()\n",
        "print(format_instructions)"
      ]
    },
    {
      "cell_type": "code",
      "execution_count": 41,
      "metadata": {
        "colab": {
          "base_uri": "https://localhost:8080/"
        },
        "id": "pa5N5axY4ks5",
        "outputId": "c1034db3-1d93-475a-bf55-abf3744a196a"
      },
      "outputs": [
        {
          "name": "stdout",
          "output_type": "stream",
          "text": [
            "\n",
            "You will be given a poorly formatted string from a user\n",
            "Reformat it and make sure that all the words are spelt correctly\n",
            "\n",
            "The output should be a markdown code snippet formatted in the following schema, including the leading and trailing \"```json\" and \"```\":\n",
            "\n",
            "```json\n",
            "{\n",
            "\t\"bad_string\": string  // This is poorly formatted user input string\n",
            "\t\"good_string\": string  // This is your response, a reformated response\n",
            "}\n",
            "```\n",
            "\n",
            "% USER INPUT\n",
            "welcome to dilli\n",
            "\n",
            "YOUR_RESPONSE:\n",
            "\n"
          ]
        }
      ],
      "source": [
        "template = \"\"\"\n",
        "You will be given a poorly formatted string from a user\n",
        "Reformat it and make sure that all the words are spelt correctly\n",
        "\n",
        "{format_instructions}\n",
        "\n",
        "% USER INPUT\n",
        "{user_input}\n",
        "\n",
        "YOUR_RESPONSE:\n",
        "\"\"\"\n",
        "\n",
        "\n",
        "prompt = PromptTemplate(\n",
        "    input_variables=[\"user_input\"],\n",
        "    partial_variables={\"format_instructions\": format_instructions},\n",
        "    template=template\n",
        ")\n",
        "\n",
        "promptValue = prompt.format(user_input=\"welcome to dilli\")\n",
        "print(promptValue)"
      ]
    },
    {
      "cell_type": "code",
      "execution_count": 42,
      "metadata": {
        "colab": {
          "base_uri": "https://localhost:8080/",
          "height": 0
        },
        "id": "lqXkkMOo5yZc",
        "outputId": "b4504e2c-df96-42d8-debb-730adc78424b"
      },
      "outputs": [
        {
          "data": {
            "application/vnd.google.colaboratory.intrinsic+json": {
              "type": "string"
            },
            "text/plain": [
              "'{\\\\n\\\\t\"bad_string\": \"welcome to dilli\",  // This is poorly formatted user input string\\\\n\\\\t\"good_string\": \"Welcome to Delhi\"  // This is your response, a reformated response\\\\n}\\\\n```\\' '"
            ]
          },
          "execution_count": 42,
          "metadata": {},
          "output_type": "execute_result"
        }
      ],
      "source": [
        "llm_output = chat.invoke(promptValue)\n",
        "\n",
        "'{' +str(llm_output).split('response_metadata')[0].split('{')[-1]"
      ]
    },
    {
      "cell_type": "markdown",
      "metadata": {
        "id": "xlfv1CHr-ms7"
      },
      "source": [
        "# **Output Parsers Method 2: Groq Fuctions**\n",
        "When OpenAI released function calling, the game changed. This is recommended method when starting out.\n",
        "\n",
        "They trained models specifically for outputing structured data. It became super easy to specify a Pydantic schema and get a structured output.\n",
        "\n",
        "There are many ways to define your schema, I prefer using Pydantic Models because of how organized they are.\n",
        "\n",
        "**Example 1: Simple**\n",
        "\n",
        "Let's get started by defining a simple model for us to extract from."
      ]
    },
    {
      "cell_type": "code",
      "execution_count": 43,
      "metadata": {
        "id": "gFEIXE5U6-TV"
      },
      "outputs": [],
      "source": [
        "from langchain.pydantic_v1 import BaseModel, Field\n",
        "from typing import Optional"
      ]
    },
    {
      "cell_type": "code",
      "execution_count": 44,
      "metadata": {
        "id": "0fazJYxKBbsp"
      },
      "outputs": [],
      "source": [
        "class Person (BaseModel):\n",
        "  \"\"\"Identifying information about the person\"\"\"\n",
        "\n",
        "  name: str = Field(...,description = \"The person's name\")\n",
        "  age : int = Field(...,description=\"The person's age\")\n",
        "  fav_food : Optional[str] = Field(None, description=\"The person's favourite food\")"
      ]
    },
    {
      "cell_type": "code",
      "execution_count": 45,
      "metadata": {
        "id": "gKyyF9lpCXii"
      },
      "outputs": [],
      "source": [
        "model = ChatGroq(\n",
        "    temperature=0.7,\n",
        "    model=\"llama3-70b-8192\",\n",
        "    api_key=groq_api_key\n",
        ")\n",
        "structured_llm = model.with_structured_output(Person)"
      ]
    },
    {
      "cell_type": "code",
      "execution_count": 46,
      "metadata": {
        "colab": {
          "base_uri": "https://localhost:8080/"
        },
        "id": "hLaMaVS0Dhg3",
        "outputId": "3ba82d79-5382-438c-c76c-7cbe7f2b9308"
      },
      "outputs": [
        {
          "data": {
            "text/plain": [
              "Person(name='Joey', age=12, fav_food='spinach')"
            ]
          },
          "execution_count": 46,
          "metadata": {},
          "output_type": "execute_result"
        }
      ],
      "source": [
        "structured_llm.invoke(\"Joey just turned 12 and loves spinach. Caroline is 10 years older than Joey.\")"
      ]
    },
    {
      "cell_type": "code",
      "execution_count": 47,
      "metadata": {
        "id": "9sapywtKGwUC"
      },
      "outputs": [],
      "source": [
        "from typing import Sequence\n",
        "\n",
        "class People(BaseModel):\n",
        "  \"\"\"Identifying information about the people\"\"\"\n",
        "  people: Sequence[Person] = Field(..., description=\"The people in the text\")\n"
      ]
    },
    {
      "cell_type": "code",
      "execution_count": 48,
      "metadata": {
        "id": "ee5dVMtoI-UD"
      },
      "outputs": [],
      "source": [
        "structured_llm_chain = model.with_structured_output(People)"
      ]
    },
    {
      "cell_type": "code",
      "execution_count": 49,
      "metadata": {
        "colab": {
          "base_uri": "https://localhost:8080/"
        },
        "id": "Fhc7Ht5aJVJK",
        "outputId": "a03d5a8d-ab7e-43ee-fde4-0c3fb9758f5a"
      },
      "outputs": [
        {
          "data": {
            "text/plain": [
              "People(people=[Person(name='Sally', age=13, fav_food=None), Person(name='Joey', age=12, fav_food='spinach'), Person(name='Caroline', age=23, fav_food=None)])"
            ]
          },
          "execution_count": 49,
          "metadata": {},
          "output_type": "execute_result"
        }
      ],
      "source": [
        "structured_llm_chain.invoke(\"Sally is 13, Joey just turned 12 and loves spinach. Caroline is 10 years older than Sally.\")"
      ]
    },
    {
      "cell_type": "markdown",
      "metadata": {
        "id": "IjzoG9AXmZo0"
      },
      "source": [
        "---"
      ]
    },
    {
      "cell_type": "markdown",
      "metadata": {
        "id": "0qg5bKcdLr-C"
      },
      "source": [
        "# Indexes - Structuring documents to LLMs can work with them"
      ]
    },
    {
      "cell_type": "markdown",
      "metadata": {
        "id": "sXqTXOD4L1Pt"
      },
      "source": [
        "# **Document Loaders**\n",
        "Easy ways to import data from other sources."
      ]
    },
    {
      "cell_type": "code",
      "execution_count": 50,
      "metadata": {
        "colab": {
          "base_uri": "https://localhost:8080/"
        },
        "id": "2ONb7L0IJpkC",
        "outputId": "af319d21-8003-41ec-8e05-7868c355ee8b"
      },
      "outputs": [
        {
          "name": "stderr",
          "output_type": "stream",
          "text": [
            "WARNING:langchain_community.utils.user_agent:USER_AGENT environment variable not set, consider setting it to identify your requests.\n"
          ]
        }
      ],
      "source": [
        "from langchain.document_loaders import HNLoader"
      ]
    },
    {
      "cell_type": "code",
      "execution_count": 51,
      "metadata": {
        "id": "pKf2z-0wunMz"
      },
      "outputs": [],
      "source": [
        "loader = HNLoader(\"https://news.ycombinator.com/item?id=34422627\")"
      ]
    },
    {
      "cell_type": "code",
      "execution_count": 52,
      "metadata": {
        "id": "4ebJJzibutV7"
      },
      "outputs": [],
      "source": [
        "data = loader.load()"
      ]
    },
    {
      "cell_type": "code",
      "execution_count": 53,
      "metadata": {
        "colab": {
          "base_uri": "https://localhost:8080/"
        },
        "id": "cqqJsFK7vBkS",
        "outputId": "b3984045-3fa2-4991-bc5b-8428bdcbfa73"
      },
      "outputs": [
        {
          "name": "stdout",
          "output_type": "stream",
          "text": [
            "Found 76 comments\n",
            "Here's a sample:\n",
            "\n",
            "Ozzie_osman on Jan 18, 2023  \n",
            "             | next [–] \n",
            "\n",
            "LangChain is awesome. For people not sure what it's doing, large language models (LLMs) are veOzzie_osman on Jan 18, 2023  \n",
            "             | parent | next [–] \n",
            "\n",
            "Also, another library to check out is GPT Index (https://github.com/jerryjliu/gpt_ind\n"
          ]
        }
      ],
      "source": [
        "print(f\"Found {len(data)} comments\")\n",
        "print(f\"Here's a sample:\\n\\n{''.join([x.page_content[:150] for x in data[:2]])}\")"
      ]
    },
    {
      "cell_type": "code",
      "execution_count": 54,
      "metadata": {
        "id": "Pc2ZVqFfvL8T"
      },
      "outputs": [],
      "source": [
        "from langchain.document_loaders import GutenbergLoader\n",
        "loader = GutenbergLoader(\"https://www.gutenberg.org/cache/epub/2148/pg2148.txt\")\n",
        "\n",
        "data = loader.load()"
      ]
    },
    {
      "cell_type": "code",
      "execution_count": 55,
      "metadata": {
        "colab": {
          "base_uri": "https://localhost:8080/"
        },
        "id": "vyVxLOtIwNW0",
        "outputId": "6c4ef124-f7d6-4ec1-8a83-e66a824782f3"
      },
      "outputs": [
        {
          "name": "stdout",
          "output_type": "stream",
          "text": [
            "      At Paris, just after dark one gusty evening in the autumn of 18-,\r\n",
            "\n",
            "\n",
            "      I was enjoying the twofold l\n"
          ]
        }
      ],
      "source": [
        "print(data[0].page_content[1875:1984])"
      ]
    },
    {
      "cell_type": "code",
      "execution_count": 56,
      "metadata": {
        "colab": {
          "base_uri": "https://localhost:8080/"
        },
        "id": "SZqLsZZXlnbF",
        "outputId": "532f592c-0485-403d-a5cf-8e8a8b779dbf"
      },
      "outputs": [
        {
          "name": "stdout",
          "output_type": "stream",
          "text": [
            "\u001b[2K     \u001b[90m━━━━━━━━━━━━━━━━━━━━━━━━━━━━━━━━━━━━━━━━\u001b[0m \u001b[32m2.0/2.0 MB\u001b[0m \u001b[31m10.9 MB/s\u001b[0m eta \u001b[36m0:00:00\u001b[0m\n",
            "\u001b[2K     \u001b[90m━━━━━━━━━━━━━━━━━━━━━━━━━━━━━━━━━━━━━━━━\u001b[0m \u001b[32m431.4/431.4 kB\u001b[0m \u001b[31m18.0 MB/s\u001b[0m eta \u001b[36m0:00:00\u001b[0m\n",
            "\u001b[2K     \u001b[90m━━━━━━━━━━━━━━━━━━━━━━━━━━━━━━━━━━━━━━━━\u001b[0m \u001b[32m274.7/274.7 kB\u001b[0m \u001b[31m17.9 MB/s\u001b[0m eta \u001b[36m0:00:00\u001b[0m\n",
            "\u001b[2K     \u001b[90m━━━━━━━━━━━━━━━━━━━━━━━━━━━━━━━━━━━━━━━━\u001b[0m \u001b[32m981.5/981.5 kB\u001b[0m \u001b[31m22.2 MB/s\u001b[0m eta \u001b[36m0:00:00\u001b[0m\n",
            "\u001b[?25h  Preparing metadata (setup.py) ... \u001b[?25l\u001b[?25hdone\n",
            "\u001b[2K     \u001b[90m━━━━━━━━━━━━━━━━━━━━━━━━━━━━━━━━━━━━━━━━\u001b[0m \u001b[32m3.4/3.4 MB\u001b[0m \u001b[31m30.8 MB/s\u001b[0m eta \u001b[36m0:00:00\u001b[0m\n",
            "\u001b[2K     \u001b[90m━━━━━━━━━━━━━━━━━━━━━━━━━━━━━━━━━━━━━━━━\u001b[0m \u001b[32m41.0/41.0 kB\u001b[0m \u001b[31m4.5 MB/s\u001b[0m eta \u001b[36m0:00:00\u001b[0m\n",
            "\u001b[2K     \u001b[90m━━━━━━━━━━━━━━━━━━━━━━━━━━━━━━━━━━━━━━━━\u001b[0m \u001b[32m80.8/80.8 kB\u001b[0m \u001b[31m10.6 MB/s\u001b[0m eta \u001b[36m0:00:00\u001b[0m\n",
            "\u001b[2K     \u001b[90m━━━━━━━━━━━━━━━━━━━━━━━━━━━━━━━━━━━━━━━━\u001b[0m \u001b[32m290.4/290.4 kB\u001b[0m \u001b[31m34.0 MB/s\u001b[0m eta \u001b[36m0:00:00\u001b[0m\n",
            "\u001b[2K     \u001b[90m━━━━━━━━━━━━━━━━━━━━━━━━━━━━━━━━━━━━━━━━\u001b[0m \u001b[32m54.5/54.5 kB\u001b[0m \u001b[31m8.1 MB/s\u001b[0m eta \u001b[36m0:00:00\u001b[0m\n",
            "\u001b[?25h  Building wheel for langdetect (setup.py) ... \u001b[?25l\u001b[?25hdone\n"
          ]
        }
      ],
      "source": [
        "pip install -qU unstructured"
      ]
    },
    {
      "cell_type": "code",
      "execution_count": 57,
      "metadata": {
        "colab": {
          "base_uri": "https://localhost:8080/",
          "height": 0
        },
        "id": "v_HhZnZbw0Zt",
        "outputId": "2240f85e-4f82-4e93-a4d4-0ba0644a5a11"
      },
      "outputs": [
        {
          "data": {
            "application/vnd.google.colaboratory.intrinsic+json": {
              "type": "string"
            },
            "text/plain": [
              "'New: How to Start Google | Best Essay | Superlinear Want to start a startup? Get funded by Y Combinator . © mmxxiv pg'"
            ]
          },
          "execution_count": 57,
          "metadata": {},
          "output_type": "execute_result"
        }
      ],
      "source": [
        "from langchain.document_loaders import UnstructuredURLLoader\n",
        "\n",
        "urls = [\n",
        "    \"http://www.paulgraham.com/\"\n",
        "]\n",
        "\n",
        "loader = UnstructuredURLLoader(urls=urls)\n",
        "\n",
        "data = loader.load()\n",
        "\n",
        "data[0].page_content"
      ]
    },
    {
      "cell_type": "markdown",
      "metadata": {
        "id": "soCSVdBHmWyH"
      },
      "source": [
        "---"
      ]
    },
    {
      "cell_type": "markdown",
      "metadata": {
        "id": "aRyrnbpqmTjZ"
      },
      "source": [
        "# **Text Splitters**\n",
        "Often times your document is too long (like a book) for your LLM. You need to split it up into chunks. Text splitters help with this."
      ]
    },
    {
      "cell_type": "code",
      "execution_count": 58,
      "metadata": {
        "id": "JI_lYRPumWD2"
      },
      "outputs": [],
      "source": [
        "from langchain.text_splitter import RecursiveCharacterTextSplitter"
      ]
    },
    {
      "cell_type": "code",
      "execution_count": 59,
      "metadata": {
        "colab": {
          "base_uri": "https://localhost:8080/"
        },
        "id": "IQpou0pSmnYe",
        "outputId": "b8a5ef0c-a0a1-4d29-d9b7-f740d50d23bc"
      },
      "outputs": [
        {
          "name": "stdout",
          "output_type": "stream",
          "text": [
            "We have 1 document\n"
          ]
        }
      ],
      "source": [
        "with open('/content/drive/MyDrive/Colab Notebooks/LangChain/The Project Gutenberg eBook of A Book.txt') as f:\n",
        "  pg_work = f.read()\n",
        "\n",
        "print(f\"We have {len([pg_work])} document\")"
      ]
    },
    {
      "cell_type": "code",
      "execution_count": 60,
      "metadata": {
        "id": "HM-kHTEgpE6V"
      },
      "outputs": [],
      "source": [
        "text_splitter = RecursiveCharacterTextSplitter(\n",
        "    chunk_size = 150,\n",
        "    chunk_overlap = 20\n",
        ")"
      ]
    },
    {
      "cell_type": "code",
      "execution_count": 61,
      "metadata": {
        "id": "Q8-p_RjDpsGB"
      },
      "outputs": [],
      "source": [
        "texts = text_splitter.create_documents([pg_work])"
      ]
    },
    {
      "cell_type": "code",
      "execution_count": 62,
      "metadata": {
        "colab": {
          "base_uri": "https://localhost:8080/"
        },
        "id": "xAHeX9FRp77a",
        "outputId": "df667313-3cb7-46cc-aee4-f93960a0d19c"
      },
      "outputs": [
        {
          "name": "stdout",
          "output_type": "stream",
          "text": [
            "We have 6170 documents\n"
          ]
        }
      ],
      "source": [
        "print(f\"We have {len(texts)} documents\")"
      ]
    },
    {
      "cell_type": "code",
      "execution_count": 63,
      "metadata": {
        "colab": {
          "base_uri": "https://localhost:8080/"
        },
        "id": "L6swfYSoqMWd",
        "outputId": "7d886bf1-1992-4c76-b255-12b1281f764f"
      },
      "outputs": [
        {
          "name": "stdout",
          "output_type": "stream",
          "text": [
            "Preview:\n",
            "rooms and a vestibule. At the present time they are occupied as offices\n",
            "by legal practitioners, and many a day has passed since womanly taste \n",
            "\n",
            "decorated their windows with flowers and muslin curtains; but a certain\n",
            "venerable gentleman, to whom the writer of this page is indebted for\n"
          ]
        }
      ],
      "source": [
        "print(\"Preview:\")\n",
        "print(texts[105].page_content,\"\\n\")\n",
        "print(texts[106].page_content)\n"
      ]
    },
    {
      "cell_type": "markdown",
      "metadata": {
        "id": "X4guHcOHrc6q"
      },
      "source": [
        "---"
      ]
    },
    {
      "cell_type": "markdown",
      "metadata": {
        "id": "nXp4Tt_srZ7h"
      },
      "source": [
        "# **Retrievers**\n",
        "Easy way to combine documents with language models.\n",
        "\n",
        "There are many different types of retrievers, the most widely supported is the VectoreStoreRetriever"
      ]
    },
    {
      "cell_type": "code",
      "execution_count": 64,
      "metadata": {
        "id": "W93OaEaR31TV"
      },
      "outputs": [],
      "source": [
        "pip install -qU langchain-cohere"
      ]
    },
    {
      "cell_type": "code",
      "execution_count": 65,
      "metadata": {
        "colab": {
          "base_uri": "https://localhost:8080/"
        },
        "id": "K2YQndgc6fbj",
        "outputId": "a7c62b33-cdee-4de6-a0d8-b6caabb19865"
      },
      "outputs": [
        {
          "name": "stdout",
          "output_type": "stream",
          "text": [
            "\u001b[2K     \u001b[90m━━━━━━━━━━━━━━━━━━━━━━━━━━━━━━━━━━━━━━━━\u001b[0m \u001b[32m85.5/85.5 MB\u001b[0m \u001b[31m9.1 MB/s\u001b[0m eta \u001b[36m0:00:00\u001b[0m\n",
            "\u001b[?25h"
          ]
        }
      ],
      "source": [
        "pip install -qU faiss-gpu"
      ]
    },
    {
      "cell_type": "code",
      "execution_count": 66,
      "metadata": {
        "id": "ZI_RdUrHra4m"
      },
      "outputs": [],
      "source": [
        "from langchain.document_loaders import TextLoader\n",
        "from langchain.text_splitter import RecursiveCharacterTextSplitter\n",
        "from langchain.vectorstores import FAISS\n",
        "from langchain_cohere import CohereEmbeddings"
      ]
    },
    {
      "cell_type": "code",
      "execution_count": 67,
      "metadata": {
        "id": "oNvX5WjN2a57"
      },
      "outputs": [],
      "source": [
        "loader = TextLoader(\"/content/drive/MyDrive/Colab Notebooks/LangChain/The Project Gutenberg eBook of A Book.txt\")\n",
        "documents = loader.load()\n",
        "\n",
        "text_splitter = RecursiveCharacterTextSplitter(\n",
        "    chunk_size = 500,\n",
        "    chunk_overlap = 20\n",
        ")\n",
        "\n",
        "texts = text_splitter.split_documents(documents)\n",
        "\n",
        "embeddings = CohereEmbeddings(cohere_api_key = cohere_api_key)\n",
        "\n",
        "db = FAISS.from_documents(texts, embeddings)"
      ]
    },
    {
      "cell_type": "code",
      "execution_count": 68,
      "metadata": {
        "id": "xXiMVWHw5Tan"
      },
      "outputs": [],
      "source": [
        "retriever = db.as_retriever()"
      ]
    },
    {
      "cell_type": "code",
      "execution_count": 69,
      "metadata": {
        "colab": {
          "base_uri": "https://localhost:8080/"
        },
        "id": "C7Lkh7lS7Ou8",
        "outputId": "54c6a069-711e-4b5b-990b-6a0bdd0ae969"
      },
      "outputs": [
        {
          "data": {
            "text/plain": [
              "VectorStoreRetriever(tags=['FAISS', 'CohereEmbeddings'], vectorstore=<langchain_community.vectorstores.faiss.FAISS object at 0x7c6c78e061d0>)"
            ]
          },
          "execution_count": 69,
          "metadata": {},
          "output_type": "execute_result"
        }
      ],
      "source": [
        "retriever"
      ]
    },
    {
      "cell_type": "code",
      "execution_count": 70,
      "metadata": {
        "colab": {
          "base_uri": "https://localhost:8080/"
        },
        "id": "KNALICqW7P24",
        "outputId": "961e94a9-1a65-4d5b-dfc9-b4907361c77d"
      },
      "outputs": [
        {
          "name": "stderr",
          "output_type": "stream",
          "text": [
            "/usr/local/lib/python3.10/dist-packages/langchain_core/_api/deprecation.py:139: LangChainDeprecationWarning: The method `BaseRetriever.get_relevant_documents` was deprecated in langchain-core 0.1.46 and will be removed in 0.3.0. Use invoke instead.\n",
            "  warn_deprecated(\n"
          ]
        }
      ],
      "source": [
        "docs = retriever.get_relevant_documents(\"Who used to inhabit the cottages under the trees of Gray's Inn gardens in the past?\")"
      ]
    },
    {
      "cell_type": "code",
      "execution_count": 71,
      "metadata": {
        "colab": {
          "base_uri": "https://localhost:8080/"
        },
        "id": "MujxfXrG8U9W",
        "outputId": "5784b72c-58e2-42e6-e417-b77221324d31"
      },
      "outputs": [
        {
          "name": "stdout",
          "output_type": "stream",
          "text": [
            "with collegiate 'buildings;' but a few of them still remain, the grand\n",
            "piles having long since been partitioned off into chambers, and the\n",
            "little houses striking the eye as quaint, misplaced, insignificant\n",
            "blocks of human habitation. Under the trees of Gray's Inn gardens may\n",
            "be seen two modest tenements, each of them comprising some six or eight\n",
            "rooms and a vestibule. At the present time they are occupied as offices\n",
            "by legal practitioners, and many a day has passed since womanly taste\n",
            "\n",
            "\n",
            "Throughout the eighteenth century Lincoln's Inn Fields, an open though\n",
            "disorderly spot, was a great place for the residence of legal magnates.\n",
            "Somers, Nathan Wright, Cowper, Harcourt, successively inhabited Powis\n",
            "House. Chief Justice Parker (subsequently Lord Chancellor Macclesfield)\n",
            "lived there when he engaged Philip Yorke (then an attorney's articled\n",
            "clerk, but afterwards Lord Chancellor of England) to be his son's law\n",
            "tutor. On the south side of the square, Lord Chancellor Henley kept high\n",
            "\n",
            "\n",
            "In Charles II.'s time there were eight Inns of Chancery; and of them\n",
            "three were subsidiary to the Inner Temple--viz., Clifford's Inn,\n",
            "Clement's Inn, and Lyon's Inn. Clifford's Inn (originally the town\n",
            "residence of the Barons Clifford) was first inhabited by law-students in\n",
            "the eighteenth year of Edward III. Clement's Inn (taking its name from\n",
            "the adjacent St. Clement's Well) was certainly inhabited by law-students\n",
            "as early as the nineteenth year of Edward IV. Lyon's Inn was an Inn of\n",
            "\n",
            "\n",
            "state in the family mansion that descended to him on the death of his\n",
            "elder brother, and subsequently passed into the hands of the Surgeons,\n",
            "whose modest but convenient college stands upon its site. Wedderburn and\n",
            "Erskine had their mansions in Lincoln's Inn Fields, as well as their\n",
            "suburban villas. And between the lawyers of the Restoration and the\n",
            "judges of George III.'s reign, a large proportion of our most eminent\n",
            "jurists and advocates lived in that square and the adjoining streets;\n",
            "\n",
            "\n"
          ]
        }
      ],
      "source": [
        "for x in docs:\n",
        "    page_content = x.page_content\n",
        "    print(page_content)\n",
        "    # print(page_content.replace(\"\\\\n\", \"\\n\"))\n",
        "    print(\"\\n\")"
      ]
    },
    {
      "cell_type": "markdown",
      "metadata": {
        "id": "uuFEukLfHTvD"
      },
      "source": [
        "---"
      ]
    },
    {
      "cell_type": "markdown",
      "metadata": {
        "id": "imFLTN2VHXLw"
      },
      "source": [
        "# **VectorStores**\n",
        "Databases to store vectors. Most popular ones are Pinecone & Weaviate. Chroma & FAISS are easy to work with locally.\n",
        "\n",
        "Conceptually, think of them as tables w/ a column for embeddings (vectors) and a column for metadata.*italicized text*\n",
        "\n",
        "Example\n",
        "\n",
        "| Embedding      | Metadata |\n",
        "| ----------- | ----------- |\n",
        "| [-0.00015641732898075134, -0.003165106289088726, ...]      | {'date' : '1/2/23}       |\n",
        "| [-0.00035465431654651654, 1.4654131651654516546, ...]   | {'date' : '1/3/23}        |"
      ]
    },
    {
      "cell_type": "code",
      "execution_count": 72,
      "metadata": {
        "id": "7RmDlagZ-CLn"
      },
      "outputs": [],
      "source": [
        "from langchain.document_loaders import TextLoader\n",
        "from langchain.text_splitter import RecursiveCharacterTextSplitter\n",
        "from langchain_cohere import CohereEmbeddings\n",
        "from langchain.vectorstores import FAISS"
      ]
    },
    {
      "cell_type": "code",
      "execution_count": 73,
      "metadata": {
        "id": "Lz5xlmgYB9E9"
      },
      "outputs": [],
      "source": [
        "loader = TextLoader(\"/content/drive/MyDrive/Colab Notebooks/LangChain/The Project Gutenberg eBook of A Book.txt\")\n",
        "documents = loader.load()\n",
        "\n",
        "text_splitter = RecursiveCharacterTextSplitter(\n",
        "    chunk_size = 1000,\n",
        "    chunk_overlap = 50\n",
        ")\n",
        "\n",
        "texts = text_splitter.split_documents(documents)\n",
        "\n",
        "embeddings = CohereEmbeddings(cohere_api_key= cohere_api_key)"
      ]
    },
    {
      "cell_type": "code",
      "execution_count": 74,
      "metadata": {
        "colab": {
          "base_uri": "https://localhost:8080/"
        },
        "id": "hsSSTaveNq-m",
        "outputId": "d3854d87-81e3-4779-ae75-43a73d618b10"
      },
      "outputs": [
        {
          "name": "stdout",
          "output_type": "stream",
          "text": [
            "We have 1132 documents\n"
          ]
        }
      ],
      "source": [
        "print(f\"We have {len(texts)} documents\")"
      ]
    },
    {
      "cell_type": "code",
      "execution_count": 75,
      "metadata": {
        "id": "7tVWajGxN3cc"
      },
      "outputs": [],
      "source": [
        "embedding_list = embeddings.embed_documents([text.page_content for text in texts])"
      ]
    },
    {
      "cell_type": "code",
      "execution_count": 76,
      "metadata": {
        "colab": {
          "base_uri": "https://localhost:8080/"
        },
        "id": "5pjpAywGOSQ_",
        "outputId": "c2419de7-574f-4d56-c258-004d2ff3ce48"
      },
      "outputs": [
        {
          "name": "stdout",
          "output_type": "stream",
          "text": [
            "We have 1132 embeddings\n",
            "Here's a sample of one: [-0.49658203, -0.22045898, -0.79052734]...\n"
          ]
        }
      ],
      "source": [
        "print(f\"We have {len(embedding_list)} embeddings\")\n",
        "print (f\"Here's a sample of one: {embedding_list[0][:3]}...\")"
      ]
    },
    {
      "cell_type": "markdown",
      "metadata": {
        "id": "6GCFxuasPR3m"
      },
      "source": [
        "---"
      ]
    },
    {
      "cell_type": "markdown",
      "metadata": {
        "id": "FvbXcMjcPTT4"
      },
      "source": [
        "# Memory\n",
        "Helping LLMs remember information.\n",
        "\n",
        "Memory is a bit of a loose term. It could be as simple as remembering information you've chatted about in the past or more complicated information retrieval.\n",
        "\n",
        "We'll keep it towards the Chat Message use case. This would be used for chat bots.*italicized text*"
      ]
    },
    {
      "cell_type": "code",
      "execution_count": 82,
      "metadata": {
        "id": "bib9vXnkOfgu"
      },
      "outputs": [],
      "source": [
        "from langchain.memory import ChatMessageHistory\n",
        "from langchain_groq import ChatGroq\n",
        "\n",
        "chat = ChatGroq(\n",
        "    temperature = 0.7,\n",
        "    model=\"llama3-70b-8192\",\n",
        "    api_key=groq_api_key\n",
        ")\n",
        "\n",
        "history = ChatMessageHistory()\n",
        "\n",
        "history.add_ai_message(\"hi!\")\n",
        "history.add_user_message(\"what is the capital of france?\")"
      ]
    },
    {
      "cell_type": "code",
      "execution_count": 83,
      "metadata": {
        "colab": {
          "base_uri": "https://localhost:8080/"
        },
        "id": "K0wBP1MAQeoG",
        "outputId": "0d883db5-4bad-46c5-afae-6733d293d5ef"
      },
      "outputs": [
        {
          "data": {
            "text/plain": [
              "[AIMessage(content='hi!'),\n",
              " HumanMessage(content='what is the capital of france?')]"
            ]
          },
          "execution_count": 83,
          "metadata": {},
          "output_type": "execute_result"
        }
      ],
      "source": [
        "history.messages"
      ]
    },
    {
      "cell_type": "code",
      "execution_count": 85,
      "metadata": {
        "colab": {
          "base_uri": "https://localhost:8080/",
          "height": 35
        },
        "id": "UlB584S_Q1wT",
        "outputId": "3f49e29b-9b1c-4bbc-e698-754b5e21af0c"
      },
      "outputs": [
        {
          "data": {
            "application/vnd.google.colaboratory.intrinsic+json": {
              "type": "string"
            },
            "text/plain": [
              "'The capital of France is Paris.'"
            ]
          },
          "execution_count": 85,
          "metadata": {},
          "output_type": "execute_result"
        }
      ],
      "source": [
        "ai_response = chat(history.messages)\n",
        "ai_response.content"
      ]
    },
    {
      "cell_type": "code",
      "execution_count": 86,
      "metadata": {
        "colab": {
          "base_uri": "https://localhost:8080/"
        },
        "id": "96L11LzrREn9",
        "outputId": "ac713b4d-46fa-4652-f32a-1e08553e4587"
      },
      "outputs": [
        {
          "data": {
            "text/plain": [
              "[AIMessage(content='hi!'),\n",
              " HumanMessage(content='what is the capital of france?'),\n",
              " AIMessage(content='The capital of France is Paris.')]"
            ]
          },
          "execution_count": 86,
          "metadata": {},
          "output_type": "execute_result"
        }
      ],
      "source": [
        "history.add_ai_message(ai_response.content)\n",
        "history.messages"
      ]
    },
    {
      "cell_type": "markdown",
      "metadata": {
        "id": "vX_NxixuSnEF"
      },
      "source": [
        "---"
      ]
    },
    {
      "cell_type": "markdown",
      "metadata": {
        "id": "ge03QZjMSoXa"
      },
      "source": [
        "# Chains ⛓️⛓️⛓️\n",
        "Combining different LLM calls and action automatically\n",
        "\n",
        "Ex: Summary #1, Summary #2, Summary #3 > Final Summary\n"
      ]
    },
    {
      "cell_type": "markdown",
      "metadata": {
        "id": "-Fgq8Gq6StGs"
      },
      "source": [
        "## 1. Simple Sequential Chains\n",
        "\n",
        "Easy chains where you can use the output of an LLM as an input into another. Good for breaking up tasks (and keeping your LLM focused)"
      ]
    },
    {
      "cell_type": "code",
      "execution_count": 88,
      "metadata": {
        "id": "T65dh-ZgSkmQ"
      },
      "outputs": [],
      "source": [
        "from langchain_groq import ChatGroq\n",
        "from langchain.chains import LLMChain\n",
        "from langchain.prompts import PromptTemplate\n",
        "from langchain.chains import SimpleSequentialChain"
      ]
    },
    {
      "cell_type": "code",
      "execution_count": 124,
      "metadata": {
        "id": "Nz4KWzgOTayg"
      },
      "outputs": [],
      "source": [
        "chat = ChatGroq(\n",
        "    temperature = 0.7,\n",
        "    model=\"llama3-70b-8192\",\n",
        "    api_key = groq_api_key\n",
        ")"
      ]
    },
    {
      "cell_type": "code",
      "execution_count": 125,
      "metadata": {
        "id": "_Jib1er3TpT-"
      },
      "outputs": [],
      "source": [
        "template = \"\"\"Your Job is to come up with a classic dish from the are that user suggests.\n",
        "%USER LOCATION\n",
        "{user_location}\n",
        "\n",
        "YOUR RESPONSE:\n",
        "\"\"\"\n",
        "prompt_template = PromptTemplate(\n",
        "    input_variables = [\"user_location\"],\n",
        "    template = template\n",
        ")\n",
        "\n",
        "location_chain = LLMChain(llm=chat,prompt=prompt_template)"
      ]
    },
    {
      "cell_type": "code",
      "execution_count": 126,
      "metadata": {
        "id": "zXeNOO9fUepV"
      },
      "outputs": [],
      "source": [
        "template = \"\"\"Given a meal, give a short and simple recepie how to make the dish at home.\n",
        "% Meal\n",
        "{user_meal}\n",
        "\n",
        "YOUR RESPONSE\n",
        "\"\"\"\n",
        "\n",
        "prompt_template = PromptTemplate(\n",
        "    input_variables = [\"user_meal\"],\n",
        "    template = template\n",
        ")\n",
        "\n",
        "meal_chain = LLMChain(llm=chat,prompt = prompt_template)"
      ]
    },
    {
      "cell_type": "code",
      "execution_count": 127,
      "metadata": {
        "id": "MTWK4pPnV1A1"
      },
      "outputs": [],
      "source": [
        "overall_chain = SimpleSequentialChain(chains=[location_chain, meal_chain], verbose=True)"
      ]
    },
    {
      "cell_type": "code",
      "execution_count": 128,
      "metadata": {
        "colab": {
          "base_uri": "https://localhost:8080/"
        },
        "id": "tj_hIjFxWlr7",
        "outputId": "1027538a-c8c5-4061-b1b0-d91cd4f5810d"
      },
      "outputs": [
        {
          "name": "stdout",
          "output_type": "stream",
          "text": [
            "\n",
            "\n",
            "\u001b[1m> Entering new SimpleSequentialChain chain...\u001b[0m\n",
            "\u001b[36;1m\u001b[1;3mIndia!\n",
            "\n",
            "One of the most iconic and beloved dishes from India is... (drumroll please)... Butter Chicken!\n",
            "\n",
            "This rich, creamy, and flavorful dish originated in the city of Delhi and has since become a staple of Indian cuisine. Marinated chicken cooked in a rich tomato-based sauce with a hint of butter, garam masala, and a touch of cream, served with basmati rice and naan bread. It's a culinary delight that's sure to tantalize your taste buds!\n",
            "\n",
            "Would you like to explore more Indian dishes or try something new?\u001b[0m\n",
            "\u001b[33;1m\u001b[1;3mHere's a simple recipe to make Butter Chicken at home:\n",
            "\n",
            "**Ingredients:**\n",
            "\n",
            "* 1 1/2 pounds boneless, skinless chicken breast or thighs\n",
            "* 1/2 cup plain yogurt\n",
            "* 2 tablespoons lemon juice\n",
            "* 2 teaspoons garam masala powder\n",
            "* 1 teaspoon cumin powder\n",
            "* 1/2 teaspoon cayenne pepper (optional)\n",
            "* 1 large onion, diced\n",
            "* 2 cloves garlic, minced\n",
            "* 2 large tomatoes, diced\n",
            "* 2 tablespoons butter\n",
            "* 2 tablespoons all-purpose flour\n",
            "* 1 cup chicken broth\n",
            "* 1/2 cup heavy cream\n",
            "* Salt and pepper, to taste\n",
            "* Fresh cilantro, for garnish\n",
            "* Basmati rice and naan bread, for serving\n",
            "\n",
            "**Instructions:**\n",
            "\n",
            "1. In a bowl, mix together yogurt, lemon juice, garam masala, cumin, and cayenne pepper (if using). Add the chicken and marinate for at least 30 minutes or up to 2 hours in the refrigerator.\n",
            "2. In a large skillet, melt 1 tablespoon of butter over medium heat. Add the diced onion and cook until softened, about 5 minutes. Add the minced garlic and cook for another minute.\n",
            "3. Add the diced tomatoes, cumin powder, and salt. Cook for 10-12 minutes or until the tomatoes are soft and the mixture is fragrant.\n",
            "4. Add the marinated chicken to the skillet and cook until browned on all sides and cooked through, about 6-8 minutes.\n",
            "5. In a small bowl, mix together flour and chicken broth until smooth. Add the mixture to the skillet and stir well.\n",
            "6. Add the heavy cream and stir well. Bring the mixture to a simmer and cook for 2-3 minutes or until the sauce thickens.\n",
            "7. Stir in the remaining 1 tablespoon of butter until melted.\n",
            "8. Serve the Butter Chicken over basmati rice with naan bread and garnish with fresh cilantro.\n",
            "\n",
            "Enjoy your delicious homemade Butter Chicken!\u001b[0m\n",
            "\n",
            "\u001b[1m> Finished chain.\u001b[0m\n"
          ]
        }
      ],
      "source": [
        "review = overall_chain.run(\"India\")"
      ]
    },
    {
      "cell_type": "markdown",
      "metadata": {
        "id": "spjiDoCXfEqV"
      },
      "source": [
        "## 2. Summarization Chain\n",
        "\n",
        "Easily run through long numerous documents and get a summary."
      ]
    },
    {
      "cell_type": "code",
      "execution_count": 137,
      "metadata": {
        "colab": {
          "base_uri": "https://localhost:8080/"
        },
        "id": "67jmjbtdhwfx",
        "outputId": "00cc89a3-212a-43ec-eb5e-8afe7a6bd8bf"
      },
      "outputs": [
        {
          "name": "stdout",
          "output_type": "stream",
          "text": [
            "\u001b[2K     \u001b[90m━━━━━━━━━━━━━━━━━━━━━━━━━━━━━━━━━━━━━━━━\u001b[0m \u001b[32m3.5/3.5 MB\u001b[0m \u001b[31m19.3 MB/s\u001b[0m eta \u001b[36m0:00:00\u001b[0m\n",
            "\u001b[2K     \u001b[90m━━━━━━━━━━━━━━━━━━━━━━━━━━━━━━━━━━━━━━━━\u001b[0m \u001b[32m15.7/15.7 MB\u001b[0m \u001b[31m30.2 MB/s\u001b[0m eta \u001b[36m0:00:00\u001b[0m\n",
            "\u001b[?25h"
          ]
        }
      ],
      "source": [
        "pip install -qU PyMuPDF"
      ]
    },
    {
      "cell_type": "code",
      "execution_count": 160,
      "metadata": {
        "id": "Gbp9TIADWq8K"
      },
      "outputs": [],
      "source": [
        "from langchain.chains.summarize import load_summarize_chain\n",
        "from langchain.document_loaders import PyMuPDFLoader\n",
        "import fitz\n",
        "from langchain.text_splitter import RecursiveCharacterTextSplitter\n",
        "from langchain.schema import Document"
      ]
    },
    {
      "cell_type": "code",
      "execution_count": 166,
      "metadata": {
        "id": "ai0n1HWhkOzv"
      },
      "outputs": [],
      "source": [
        "def pdf_loader(file_path):\n",
        "    doc = fitz.open(file_path)\n",
        "    documents = []\n",
        "    for page_num in range(len(doc)):\n",
        "        page = doc.load_page(page_num)\n",
        "        page_text = page.get_text()\n",
        "        documents.append({\n",
        "            'page_content': page_text,\n",
        "            'metadata': {\n",
        "                'page_number': page_num + 1,  # Example metadata\n",
        "                'file_name': file_path.split('/')[-1]  # Example metadata\n",
        "            }\n",
        "        })\n",
        "    return documents"
      ]
    },
    {
      "cell_type": "code",
      "execution_count": 167,
      "metadata": {
        "id": "bZ_8OR7fjEv8"
      },
      "outputs": [],
      "source": [
        "pdf_file = \"/content/drive/MyDrive/Colab Notebooks/LangChain/Granular_Ball_UTSVM.pdf\"\n",
        "documents = pdf_loader(pdf_file)\n",
        "\n",
        "# Concatenate all page contents into a single string\n",
        "all_text = \"\\n\".join([doc['page_content'] for doc in documents])\n",
        "\n",
        "text_splitter = RecursiveCharacterTextSplitter(\n",
        "    chunk_size=1000,\n",
        "    chunk_overlap=50\n",
        ")\n",
        "\n",
        "texts = text_splitter.split_text(all_text)\n",
        "\n",
        "# Now you can proceed with your LangChain summarization chain\n",
        "chain = load_summarize_chain(chat, chain_type=\"map_reduce\", verbose=True)\n",
        "club_text = []\n",
        "for text in texts:\n",
        "  club = Document(\n",
        "    page_content = text\n",
        "  )\n",
        "  club_text.append(club)"
      ]
    },
    {
      "cell_type": "code",
      "execution_count": 168,
      "metadata": {
        "colab": {
          "base_uri": "https://localhost:8080/",
          "height": 1000,
          "referenced_widgets": [
            "01deaeb77a38497e90273cd9aa92fa5b",
            "6816a53883a344feb42a7909b278c6c1",
            "ade95e037f54406eb0fa0b9a6ee1d11b",
            "1dbafe6a69334af1ae2e7ed3af5d9a08",
            "8b04a0f0b7e84631b70ab935c63c8cc9",
            "6fbc2dce99134aca822ddff49a3743d4",
            "0cd6f7036b4c4818ae8955c0299487f0",
            "97a153e23e164a1fab10aa0223579201",
            "10e67ae197c245389b57a8365b36bc69",
            "47a2adbf36174274a5f2bfad8ecaf8db",
            "9fa813c3a35249c98a21a0458367e276",
            "0ad56d98c55f4dd29cd70b0ed5968deb",
            "f9ca87dc11ac4ab39b994f8b9a136dbd",
            "c457907ddd0348ab826392e30da5fff8",
            "4ed2bf91e49b429582e74c728c650a35",
            "76af60af2df944a29250f028cd7fcb51",
            "4338c0506ef64c4599be1bd1dbfc679b",
            "82d8e725e3c447048c154f23fd1ff823",
            "6616410cfaed4265b2c11255e56fbd0d",
            "d5198f9d07884e9a90dbddd75aa09bdb",
            "8e439d5ba7ea48de94bdf16f12783c69",
            "96e72f0f69a3437a961f5ad7ee64a388",
            "43f20db44d614d9aa2e44f33155ab1eb",
            "cc7954838070498b8e1fa40f16215123",
            "4481af453a054ef680b624e6c33558e0",
            "2d72976e426e46dab21f6d0be14ad179",
            "5a594b1936c74f48a477ed3fb1dd3c3d",
            "357a8c0623f54177bd672f0ed4f9df75",
            "cd3ee8e4f51545518585ce29b7a26a0a",
            "dc8155d3a0a74eeabbb691815f01c4a3",
            "75b45fbf633947e5bd663e0e192ba45b",
            "071eaaf608514e44bb18bcb8fedbae2b",
            "fe4da75975c8447fae978c6f9767d883",
            "67da6b93e96f41e3ac3a815d8d0c87f2",
            "4f6037c3989544c6a63ce8b242cd47fa",
            "8fa27d5b8eba4287a7933621a258bf44",
            "d6dbaaa40e574b6eaaa6fdc53b25c54e",
            "5a7c63999e0641ab8424e6c66761eb81",
            "14bfcaf4721b4bb69e0ab3485f826254",
            "0d6c16ff0eb84b159905a4a27f1546bc",
            "46d85e74fa8f4e16b6691261a14edb76",
            "5d244c9aa0ff4a67a40a3e2da0964368",
            "42f096eec1d445319351ee3ddf7743c6",
            "bac1a0ffa10d48ebb946fc10d2ae4140",
            "50dd300d0b554eb5823b7ac91db6fee3",
            "2c537e209fa449709d9b5ff556aef696",
            "b6f332599c24441f97d0d2a3c10a32d6",
            "34d217abd9cc42c083af3c1803765dc4",
            "549fa3583c734b78a86faf8aa54b726e",
            "fb8b0eed71da48f4887b57fe4039cd72",
            "3f40c18c2b8b4736906f1b466dcd1ca4",
            "93a7299804ef4ff69f16a0a910d0e3d5",
            "0c96f54abb1146f6a28c88a0196c9020",
            "ee5612ce9bfe4345b35b7ee9f6a592a0",
            "4ea25b6a6bee4a359cfeddff839e7252"
          ]
        },
        "id": "pJjWmftVpq5j",
        "outputId": "529696d1-7175-44bf-d92a-f5ab855090ba"
      },
      "outputs": [
        {
          "name": "stdout",
          "output_type": "stream",
          "text": [
            "\n",
            "\n",
            "\u001b[1m> Entering new MapReduceDocumentsChain chain...\u001b[0m\n",
            "\n",
            "\n",
            "\u001b[1m> Entering new LLMChain chain...\u001b[0m\n",
            "Prompt after formatting:\n",
            "\u001b[32;1m\u001b[1;3mWrite a concise summary of the following:\n",
            "\n",
            "\n",
            "\"Granular Ball Twin Support Vector Machine\n",
            "with Universum Data\n",
            "Research Highlights\n",
            "• Innovative Data Representation with Granular Balls:\n",
            "The GBU-TSVM model employs an innovative approach by representing\n",
            "data instances as granular balls rather than conventional points. This\n",
            "method improves the model’s robustness and efficiency, especially in han-\n",
            "dling noisy and large datasets. By grouping data points into granular\n",
            "balls, the model achieves better computational efficiency, increased noise\n",
            "resistance, and enhanced interpretability, establishing a new standard in\n",
            "data representation.\n",
            "• Enhanced Generalization using Universum Data :\n",
            "The GBU-TSVM incorporates Universum data, which includes samples\n",
            "outside the target classes, to significantly improve generalization capa-\n",
            "bilities. This integration enriches the model with contextual informa-\n",
            "tion, refining classification boundaries and increasing overall accuracy.\n",
            "Universum data enables the classifier to perform better on benchmark\"\n",
            "\n",
            "\n",
            "CONCISE SUMMARY:\u001b[0m\n",
            "Prompt after formatting:\n",
            "\u001b[32;1m\u001b[1;3mWrite a concise summary of the following:\n",
            "\n",
            "\n",
            "\"datasets, demonstrating the model’s ability to utilize additional knowl-\n",
            "edge for more precise predictions.\n",
            "• Refined Learning with Modified Hinge Loss Function:\n",
            "The model includes an advanced hinge loss function that accounts for\n",
            "the radii of granular balls, leading to a more accurate error measure and\n",
            "learning process. This modification allows for a detailed error assess-\n",
            "ment, enhancing the model’s learning efficiency and decision boundary\n",
            "precision. By addressing the limitations of existing TSVM models, this\n",
            "innovation sets a new benchmark in the field of machine learning classi-\n",
            "fiers.\n",
            "1\"\n",
            "\n",
            "\n",
            "CONCISE SUMMARY:\u001b[0m\n",
            "Prompt after formatting:\n",
            "\u001b[32;1m\u001b[1;3mWrite a concise summary of the following:\n",
            "\n",
            "\n",
            "\"Granular Ball Twin Support Vector Machine\n",
            "with Universum Data\n",
            "M. A. Ganaiea,∗, Vrushank Ahirea\n",
            "aDepartment of Computer Science and Engineering, Indian Institute of Technology\n",
            "Ropar, Rupnagar, 140001, Punjab, India\n",
            "Abstract\n",
            "Classification with support vector machines (SVM) often suffers from limited\n",
            "performance when relying solely on labeled data from target classes and is sensi-\n",
            "tive to noise and outliers. Incorporating prior knowledge from Universum data and\n",
            "more robust data representations can enhance accuracy and efficiency. Motivated\n",
            "by these findings, we propose a novel Granular Ball Twin Support Vector Machine\n",
            "with Universum Data (GBU-TSVM) that extends the TSVM framework to leverage\n",
            "both Universum samples and granular ball computing during model training. Unlike\n",
            "existing TSVM methods, our GBU-TSVM represents data instances as hyper-balls\n",
            "rather than points in the feature space.\n",
            "This innovative approach improves the\"\n",
            "\n",
            "\n",
            "CONCISE SUMMARY:\u001b[0m\n",
            "Prompt after formatting:\n",
            "\u001b[32;1m\u001b[1;3mWrite a concise summary of the following:\n",
            "\n",
            "\n",
            "\"This innovative approach improves the\n",
            "model’s robustness and efficiency, particularly in handling noisy and large datasets.\n",
            "By grouping data points into granular balls, the model achieves superior computa-\n",
            "tional efficiency, increased noise resistance, and enhanced interpretability. Addition-\n",
            "ally, the inclusion of Universum data, which consists of samples that are not strictly\n",
            "from the target classes, further refines the classification boundaries. This integration\n",
            "enriches the model with contextual information, refining classification boundaries\n",
            "and boosting overall accuracy. Our experimental results on UCI benchmark datasets\n",
            "demonstrate that the GBU-TSVM outperforms existing TSVM models in both ac-\n",
            "curacy and computational efficiency. These findings highlight the potential of the\n",
            "GBU-TSVM model in setting a new standard in data representation and classifica-\n",
            "tion.\n",
            "Keywords:\n",
            "granular ball computing, granular ball twin support vector machine,\"\n",
            "\n",
            "\n",
            "CONCISE SUMMARY:\u001b[0m\n",
            "Prompt after formatting:\n",
            "\u001b[32;1m\u001b[1;3mWrite a concise summary of the following:\n",
            "\n",
            "\n",
            "\"universum data, classification, twin Support Vector Machine (TSVM), support\n",
            "∗Corresponding author\n",
            "Email addresses: mudasir@iitrpr.ac.in (M. A. Ganaie ),\n",
            "2022csb1002@iitrpr.ac.in\n",
            "(Vrushank Ahire)\n",
            "Preprint submitted to Elsevier\n",
            "June 23, 2024\"\n",
            "\n",
            "\n",
            "CONCISE SUMMARY:\u001b[0m\n",
            "Prompt after formatting:\n",
            "\u001b[32;1m\u001b[1;3mWrite a concise summary of the following:\n",
            "\n",
            "\n",
            "\"vector machines (SVM)\n",
            "1. Introduction\n",
            "Over the past few years, classification techniques in machine learning have wit-\n",
            "nessed remarkable progress, particularly with the advent of Support Vector Machines\n",
            "(SVMs) and their numerous adaptations. Traditional SVMs have gained widespread\n",
            "usage for classification tasks due to their robustness and effectiveness in handling\n",
            "high-dimensional data. However, despite their success, SVMs have certain inher-\n",
            "ent limitations, such as sensitivity to noise and inefficiency when dealing with large,\n",
            "complex datasets. Recognizing these limitations, researchers have actively explored\n",
            "novel methods to enhance the performance and capabilities of SVM classifiers. One\n",
            "such approach is Granular Computing, which enables the representation and pro-\n",
            "cessing of information in a hierarchical manner, from coarse to fine granules (Xia\n",
            "et al., 2023) [1]. This cognitive approach aligns with the way humans intuitively\"\n",
            "\n",
            "\n",
            "CONCISE SUMMARY:\u001b[0m\n",
            "Prompt after formatting:\n",
            "\u001b[32;1m\u001b[1;3mWrite a concise summary of the following:\n",
            "\n",
            "\n",
            "\"manage complexity (Figure 1), providing a robust framework for data analysis and\n",
            "knowledge discovery. Within this realm, Granular-ball Computing has emerged as\n",
            "a powerful paradigm, involving the partitioning of datasets into hyper-balls of vary-\n",
            "ing sizes, known as granular-balls, which encapsulate groups of data points. These\n",
            "granular-balls serve as an intermediate representation between the raw data points\n",
            "and the final classification model, offering several advantages, including improved\n",
            "computational efficiency, enhanced robustness to noise, and better interpretability.\n",
            "Building upon the principles of Granular-ball Computing, researchers developed the\n",
            "Figure 1: Global precedence in human cognition\n",
            "3\"\n",
            "\n",
            "\n",
            "CONCISE SUMMARY:\u001b[0m\n",
            "Prompt after formatting:\n",
            "\u001b[32;1m\u001b[1;3mWrite a concise summary of the following:\n",
            "\n",
            "\n",
            "\"Granular-ball Support Vector Machine (GB-SVM) (Xia et al., 2019)[2], an innova-\n",
            "tive classifier that utilizes granular-balls as input instead of individual data points,\n",
            "leveraging the inherent benefits of this approach. While GB-SVM addressed some\n",
            "of the limitations of traditional SVMs, it still faced challenges in handling complex\n",
            "datasets with noise and outliers.\n",
            "Concurrently, the concept of Twin Support Vector Machines (TSVMs) (Jayadeva\n",
            "et al.,(2007) [3]; Kumar et al.,(2008) [4]; Shao et al.,(2012) [5]) gained traction as an\n",
            "efficient alternative to traditional SVMs for binary classification tasks. Unlike SVMs\n",
            "that find a single hyperplane to separate classes, TSVMs construct two non-parallel\n",
            "hyperplanes, each closer to one of the two classes while maintaining a margin from the\n",
            "other. This method simplifies the problem by breaking it down into two smaller and\n",
            "more manageable quadratic programming problems (QPP) tasks, leading to faster\n",
            "training and good generalization performance.\"\n",
            "\n",
            "\n",
            "CONCISE SUMMARY:\u001b[0m\n",
            "Prompt after formatting:\n",
            "\u001b[32;1m\u001b[1;3mWrite a concise summary of the following:\n",
            "\n",
            "\n",
            "\"training and good generalization performance.\n",
            "To further enhance the capabilities of TSVMs, researchers explored the integra-\n",
            "tion of Universum data into the SVM framework (Weston et al., (2006) [6]). Univer-\n",
            "sum data comprises examples that fall outside of the target classes but offer valuable\n",
            "contextual information to enhance the learning process (Figure 2). By incorporating\n",
            "these Universum samples, classifiers can achieve better generalization and accuracy\n",
            "by leveraging prior knowledge about the problem domain.\n",
            "The concept of Universum learning was successfully applied to TSVMs, leading to\n",
            "Figure 2: Visualizing Universum Data and Classes\n",
            "the development of the Universum TSVM (U-TSVM) (Qi et al., (2012) [7]). Unlike\n",
            "traditional U-SVM, U-TSVM utilizes two hinge loss functions to place Universum\n",
            "data in a non-parallel insensitive loss tube, allowing for more flexible exploitation\n",
            "of prior knowledge. This approach demonstrated superior performance compared to\"\n",
            "\n",
            "\n",
            "CONCISE SUMMARY:\u001b[0m\n",
            "Prompt after formatting:\n",
            "\u001b[32;1m\u001b[1;3mWrite a concise summary of the following:\n",
            "\n",
            "\n",
            "\"traditional SVMs in various tasks.\n",
            "Recognizing the potential synergies between Universum learning, TSVMs, and\n",
            "4\"\n",
            "\n",
            "\n",
            "CONCISE SUMMARY:\u001b[0m\n",
            "Prompt after formatting:\n",
            "\u001b[32;1m\u001b[1;3mWrite a concise summary of the following:\n",
            "\n",
            "\n",
            "\"Granular-ball Computing, researchers proposed various extensions and improvements\n",
            "to address the limitations of existing methods. Xu et al. (2016a [8], 2016b [9]) ex-\n",
            "tended the concept of U-TSVM by introducing regularization terms and least-squares\n",
            "formulations, respectively, to improve generalization performance and computational\n",
            "efficiency.\n",
            "Concurrently, researchers tackled related challenges, such as class imbalance and\n",
            "multi-task learning scenarios. Richhariya et al. (2020a) [10] introduced the reduced\n",
            "universum twin support vector machine for class imbalance learning (RUTSVM-\n",
            "CIL), incorporating Universum learning with SVM to address class imbalance prob-\n",
            "lems. They used a small-sized rectangular kernel matrix to reduce computational\n",
            "time, making their method suitable for large-scale imbalanced datasets. Moosaei\n",
            "et al. (2022 [11], 2023 [12]) proposed the universum parametric-margin ν-support\n",
            "vector machine (U Par-ν-SVM) and the inverse free reduced universum twin support\"\n",
            "\n",
            "\n",
            "CONCISE SUMMARY:\u001b[0m\n",
            "Prompt after formatting:\n",
            "\u001b[32;1m\u001b[1;3mWrite a concise summary of the following:\n",
            "\n",
            "\n",
            "\"vector machine for imbalanced data classification, respectively, aiming to improve\n",
            "generalization performance by integrating Universum data and exploiting paramet-\n",
            "ric margins or inverse-free formulations.\n",
            "Xiao et al. (2021a [13], 2021b [14]) extended the application of Universum learn-\n",
            "ing to multi-task and transductive settings, introducing novel methods that leveraged\n",
            "Universum data in these contexts. Kumar et al. (2021) [15] proposed the universum\n",
            "based Lagrangian twin bounded support vector machine (ULTBSVM) for classifying\n",
            "EEG signals, using Universum data to include prior data distribution knowledge.\n",
            "Building upon these advancements, Liu et al. (2022) [16] and Li et al. (2022)\n",
            "[17] developed adaptive robust Adaboost-based twin support vector machines with\n",
            "Universum learning (ARABUTWSVM) and an improved parametric-margin uni-\n",
            "versum TSVM, respectively, aiming to enhance the robustness and generalization\n",
            "performance of existing methods.\"\n",
            "\n",
            "\n",
            "CONCISE SUMMARY:\u001b[0m\n",
            "Prompt after formatting:\n",
            "\u001b[32;1m\u001b[1;3mWrite a concise summary of the following:\n",
            "\n",
            "\n",
            "\"performance of existing methods.\n",
            "Motivated by these challenges and advancements, we propose a novel Granular\n",
            "Ball Twin Support Vector Machine with Universum Data (GBU-TSVM) that syn-\n",
            "ergistically combines the strengths of TSVM, Universum learning, and granular ball\n",
            "computing (Xia, 2022) [18] . Our GBU-TSVM extends the TSVM framework by\n",
            "representing data instances as granular balls instead of points in the feature space.\n",
            "This innovative approach improves the model’s robustness and efficiency, particu-\n",
            "larly in handling noisy and large datasets. By grouping data points into granular\n",
            "balls, the model achieves superior computational efficiency, increased noise resis-\n",
            "tance, and enhanced interpretability. Additionally, the inclusion of Universum data\n",
            "further refines the classification boundaries by enriching the model with contextual\n",
            "information from samples that are not strictly from the target classes (Xiao et al.,\n",
            "(2021a)) [13].\n",
            "5\"\n",
            "\n",
            "\n",
            "CONCISE SUMMARY:\u001b[0m\n",
            "Prompt after formatting:\n",
            "\u001b[32;1m\u001b[1;3mWrite a concise summary of the following:\n",
            "\n",
            "\n",
            "\"The integration of Universum learning and granular ball computing in the GBU-\n",
            "TSVM model addresses several limitations of existing methods.\n",
            "⋄The granular ball representation provides a robust and efficient alternative\n",
            "to traditional point-based representations, mitigating the impact of noise and\n",
            "outliers while reducing computational complexity.\n",
            "⋄The incorporation of Universum data enhances the model’s ability to capture\n",
            "prior knowledge and meaningful concepts from the problem domain, leading to\n",
            "improved classification accuracy.\n",
            "⋄The twin support vector machine formulation ensures faster training and good\n",
            "generalization performance, making the GBU-TSVM suitable for complex clas-\n",
            "sification tasks.\n",
            "The rest of this paper is organized as follows: Section 2 presents an overview of\n",
            "related work, offering detailed discussions on SVM, GB-SVM, TSVM, and U-TSVM.\n",
            "In Section 3, the proposed Granular-ball U-TSVM model is introduced, with an\"\n",
            "\n",
            "\n",
            "CONCISE SUMMARY:\u001b[0m\n",
            "Prompt after formatting:\n",
            "\u001b[32;1m\u001b[1;3mWrite a concise summary of the following:\n",
            "\n",
            "\n",
            "\"in-depth explanation of its theoretical foundation and algorithmic implementation.\n",
            "Section 4 presents the experimental analysis, showcasing the performance of GBU-\n",
            "TSVM on various benchmark datasets. In conclusion, Section 5 of the manuscript\n",
            "provides a summary of the main results and suggests possible avenues for further\n",
            "research.\n",
            "2. Related Work\n",
            "In this section, we discuss the baseline classification models.\n",
            "2.1. Support Vector Machines\n",
            "Support Vector Machines (SVMs) represent a category of supervised learning\n",
            "techniques extensively applied in tasks involving classification and regression. Intro-\n",
            "duced by Vapnik et al., SVMs have evolved into one of the most widely adopted and\n",
            "effective methodologies in the field of machine learning due to their robustness and\n",
            "effectiveness in handling the complex data. SVMs operate by finding the optimal\n",
            "separating hyperplane that maximizes the margin between the classes in the training\"\n",
            "\n",
            "\n",
            "CONCISE SUMMARY:\u001b[0m\n",
            "Prompt after formatting:\n",
            "\u001b[32;1m\u001b[1;3mWrite a concise summary of the following:\n",
            "\n",
            "\n",
            "\"data. The margin is defined as the distance between the hyperplane and the nearest\n",
            "data points from either class, known as support vectors. The intuition behind this\n",
            "approach is that maximizing the margin leads to better generalization performance\n",
            "on unseen data, reducing the risk of overfitting.\n",
            "6\"\n",
            "\n",
            "\n",
            "CONCISE SUMMARY:\u001b[0m\n",
            "Prompt after formatting:\n",
            "\u001b[32;1m\u001b[1;3mWrite a concise summary of the following:\n",
            "\n",
            "\n",
            "\"Primal Formulation\n",
            "The primal optimization problem for SVM can be stated as follows:\n",
            "min\n",
            "ω,b,ξ\n",
            "1\n",
            "2∥ω∥2 + C\n",
            "k\n",
            "X\n",
            "i=1\n",
            "ξi\n",
            "subject to\n",
            "yi(ωTxi + b) ≥1 −ξi,\n",
            "ξi ≥0,\n",
            "i = 1, . . . , k,\n",
            "(1)\n",
            "In this context, C represents for the penalty parameter, while ξi signifies the slack\n",
            "variables. The aim is to identify the optimal separating hyperplane (ω, b) in such\n",
            "that:\n",
            "ωTx + b = 0.\n",
            "(2)\n",
            "Dual Formulation\n",
            "The primal problem can be transformed into its dual form, which is usually easier\n",
            "to handle computationally. The Wolfe Dual of the SVM problem is given by:\n",
            "max\n",
            "α\n",
            "k\n",
            "X\n",
            "i=1\n",
            "αi −1\n",
            "2\n",
            "k\n",
            "X\n",
            "i=1\n",
            "k\n",
            "X\n",
            "j=1\n",
            "yiyjαiαj⟨xi, xj⟩\n",
            "subject to\n",
            "k\n",
            "X\n",
            "i=1\n",
            "yiαi = 0,\n",
            "0 ≤αi ≤C,\n",
            "i = 1, . . . , k,\n",
            "(3)\n",
            "Here, αi represents the Lagrangian multipliers. The solution α∗yields the optimal\n",
            "separating hyperplane (ω, b) in the following way:\n",
            "ω =\n",
            "k\n",
            "X\n",
            "i=1\n",
            "α∗\n",
            "i yixi,\n",
            "(4)\n",
            "b = 1\n",
            "Nb\n",
            " \n",
            "yi −\n",
            "k\n",
            "X\n",
            "j=1\n",
            "α∗\n",
            "jyj⟨xi, xj⟩\n",
            "!\n",
            ",\n",
            "(5)\n",
            "where Nb represents the count of support vectors satisfying 0 < α∗\n",
            "i < C.\n",
            "Kernel Trick\"\n",
            "\n",
            "\n",
            "CONCISE SUMMARY:\u001b[0m\n",
            "Prompt after formatting:\n",
            "\u001b[32;1m\u001b[1;3mWrite a concise summary of the following:\n",
            "\n",
            "\n",
            "\"i < C.\n",
            "Kernel Trick\n",
            "One of the most powerful features of SVMs is their ability to handle non-linearly\n",
            "separable data by using the kernel trick. A kernel function K(xi, xj) computes the dot\n",
            "product of the data points in a higher-dimensional feature space without explicitly\n",
            "7\"\n",
            "\n",
            "\n",
            "CONCISE SUMMARY:\u001b[0m\n",
            "Prompt after formatting:\n",
            "\u001b[32;1m\u001b[1;3mWrite a concise summary of the following:\n",
            "\n",
            "\n",
            "\"mapping the data points into that space. Commonly used kernel functions include\n",
            "the linear, polynomial, and radial basis function (RBF) kernels. The dual problem\n",
            "incorporating a kernel function becomes:\n",
            "max\n",
            "α\n",
            "k\n",
            "X\n",
            "i=1\n",
            "αi −1\n",
            "2\n",
            "k\n",
            "X\n",
            "i=1\n",
            "k\n",
            "X\n",
            "j=1\n",
            "yiyjαiαjK(xi, xj)\n",
            "subject to\n",
            "k\n",
            "X\n",
            "i=1\n",
            "yiαi = 0,\n",
            "0 ≤αi ≤C,\n",
            "i = 1, . . . , k,\n",
            "(6)\n",
            "SVMs excel in high-dimensional spaces, even when samples are scarce. It of-\n",
            "fers flexibility through the specification of different kernel functions for the decision\n",
            "function. It may struggle with noisy or outlier-laden data.\n",
            "2.2. Granular Ball Support Vector Machines (GB-SVM)\n",
            "Granular Ball Support Vector Machines (GB-SVM), proposed by Xia et al.(2022)\n",
            "[18], extends the traditional SVM framework to handle uncertainties and improve ro-\n",
            "bustness in classification tasks. The primary idea behind GB-SVM is to represent\n",
            "data points as granular balls rather than individual points. Each granular ball encap-\"\n",
            "\n",
            "\n",
            "CONCISE SUMMARY:\u001b[0m\n",
            "Prompt after formatting:\n",
            "\u001b[32;1m\u001b[1;3mWrite a concise summary of the following:\n",
            "\n",
            "\n",
            "\"sulates a cluster of data points, providing a way to handle variability and uncertainty\n",
            "within the data. This representation leads to a more robust and efficient classification\n",
            "model, especially in scenarios where the data is noisy or contains outliers.\n",
            "In GB-SVM, data points are grouped into granular balls, each characterized by\n",
            "a center and a radius. The center represents the mean of the data points within the\n",
            "ball, and the radius indicates the variability of the points around the center. This\n",
            "approach allows the model to account for the internal structure of the data clusters,\n",
            "leading to more accurate and stable classification boundaries.\n",
            "The constraint for the support planes l′\n",
            "1 and l′\n",
            "2 is modified to incorporate the\n",
            "granular balls:\n",
            "yiω · ci + yib −∥ω∥ri ≥1\n",
            "(7)\n",
            "The equations for the support planes l′\n",
            "1 and l′\n",
            "2 are:\n",
            "l′\n",
            "1 : ω · ci −∥ω∥ri + b = 1,\n",
            "yi = +1\n",
            "l′\n",
            "2 : ω · ci + ∥ω∥ri + b = −1,\n",
            "yi = −1\n",
            "l′\n",
            "0 : ω · ci + b = 0\n",
            "(8)\"\n",
            "\n",
            "\n",
            "CONCISE SUMMARY:\u001b[0m\n",
            "Prompt after formatting:\n",
            "\u001b[32;1m\u001b[1;3mWrite a concise summary of the following:\n",
            "\n",
            "\n",
            "\"yi = −1\n",
            "l′\n",
            "0 : ω · ci + b = 0\n",
            "(8)\n",
            "The objective is to seek an optimal separation hyperplane (ω, b) that accounts\n",
            "for the granular balls.\n",
            "8\"\n",
            "\n",
            "\n",
            "CONCISE SUMMARY:\u001b[0m\n",
            "Prompt after formatting:\n",
            "\u001b[32;1m\u001b[1;3mWrite a concise summary of the following:\n",
            "\n",
            "\n",
            "\"Primal Formulation The primal optimization problem for an inseparable GB-\n",
            "SVM with slack variables ξi and a penalty coefficient C is formulated as follows:\n",
            "min\n",
            "ω,b,ξ\n",
            "1\n",
            "2∥ω∥2 + C\n",
            "k\n",
            "X\n",
            "i=1\n",
            "ξi\n",
            "subject to\n",
            "yi(ω · ci + b) −∥ω∥ri ≥1 −ξi,\n",
            "ξi ≥0,\n",
            "i = 1, . . . , k,\n",
            "(9)\n",
            "Here, ω represents the weight vector, b is the bias term, ξi are the slack vari-\n",
            "ables, ci and ri denote the center and radius of the i-th granular ball, respectively,\n",
            "and yi ∈{+1, −1} are the class labels. This formulation aims to find the optimal\n",
            "separating hyperplane that maximizes the margin while allowing for some misclassi-\n",
            "fication controlled by the penalty parameter C.\n",
            "Dual Formulation\n",
            "The Wolfe Dual of the GB-SVM problem introduces Lagrange multipliers αi and\n",
            "can be expressed as:\n",
            "max\n",
            "α\n",
            "−1\n",
            "2\n",
            " k\n",
            "X\n",
            "i=1\n",
            "αiyici\n",
            "!2\n",
            "−1\n",
            "2\n",
            " k\n",
            "X\n",
            "i=1\n",
            "αiri\n",
            "!2\n",
            "+\n",
            "\r\n",
            "\r\n",
            "\r\n",
            "\r\n",
            "\r\n",
            "k\n",
            "X\n",
            "i=1\n",
            "αiyici\n",
            "\r\n",
            "\r\n",
            "\r\n",
            "\r\n",
            "\r\n",
            "k\n",
            "X\n",
            "i=1\n",
            "αiri +\n",
            "k\n",
            "X\n",
            "i=1\n",
            "αi\n",
            "subject to\n",
            "k\n",
            "X\n",
            "i=1\n",
            "αiyi = 0,\n",
            "0 ≤αi ≤C,\n",
            "i = 1, . . . , k,\n",
            "(10)\n",
            "A simplified representation of the dual model (10) is:\n",
            "max\n",
            "α\n",
            "−1\"\n",
            "\n",
            "\n",
            "CONCISE SUMMARY:\u001b[0m\n",
            "Prompt after formatting:\n",
            "\u001b[32;1m\u001b[1;3mWrite a concise summary of the following:\n",
            "\n",
            "\n",
            "\"max\n",
            "α\n",
            "−1\n",
            "2P 2 −1\n",
            "2Q2 + ∥P∥Q +\n",
            "k\n",
            "X\n",
            "i=1\n",
            "αi\n",
            "subject to\n",
            "k\n",
            "X\n",
            "i=1\n",
            "αiyi = 0,\n",
            "0 ≤αi ≤C,\n",
            "i = 1, . . . , k,\n",
            "(11)\n",
            "where P = Pk\n",
            "i=1 αiyici and Q = Pk\n",
            "i=1 αiri. The solution to this dual problem\n",
            "provides the necessary parameters to define the optimal separating hyperplane (ω, b).\n",
            "9\"\n",
            "\n",
            "\n",
            "CONCISE SUMMARY:\u001b[0m\n",
            "Prompt after formatting:\n",
            "\u001b[32;1m\u001b[1;3mWrite a concise summary of the following:\n",
            "\n",
            "\n",
            "\"To find the optimal value of α, solve the convex optimization problem (11).\n",
            "Substituting these optimal α values into the expressions for P and Q yields the most\n",
            "effective value for (ω, b). ω can be given as:\n",
            "ω = (∥P∥−Q)P\n",
            "∥P∥\n",
            "where:\n",
            "∥ω∥= ∥P∥−Q\n",
            "After determining the most suitable ω, the intercept b can be computed using\n",
            "the support vectors. For each support vector i with αi neither 0 nor C:\n",
            "For positive support vectors (yi = +1):\n",
            "b = 1 −ω · ci + ∥ω∥ri\n",
            "For negative support vectors (yi = −1):\n",
            "b = −1 −ω · ci −∥ω∥ri\n",
            "To obtain a stable b, average the b values from all support vectors:\n",
            "b = 1\n",
            "ns\n",
            "ns\n",
            "X\n",
            "i=1\n",
            "(yi −ω · ci + yi∥ω∥ri)\n",
            "Here, ns denotes the count of support vectors, ci represents the center of the i-th\n",
            "granular ball, and ri signifies the radius of the i-th granular ball.\n",
            "By representing data as granular balls, GB-SVM can better handle noise and\n",
            "outliers, leading to more stable classification boundaries.\n",
            "This sets the stage for\"\n",
            "\n",
            "\n",
            "CONCISE SUMMARY:\u001b[0m\n",
            "Prompt after formatting:\n",
            "\u001b[32;1m\u001b[1;3mWrite a concise summary of the following:\n",
            "\n",
            "\n",
            "\"This sets the stage for\n",
            "further advancements, such as integrating Universum data to improve the model’s\n",
            "contextual understanding and generalization capabilities, as explored in subsequent\n",
            "sections.\n",
            "2.3. Twin Support Vector Machine (TSVM)\n",
            "Twin Support Vector Machine (TSVM) is a binary classification algorithm intro-\n",
            "duced by Jayadeva et al. (2007) [3]. It differentiates itself from traditional SVMs\n",
            "by constructing two non-parallel hyperplanes instead of a single hyperplane. These\n",
            "two hyperplanes are strategically positioned such that one hyperplane is closer to\n",
            "one class, while the other hyperplane maintains a specific distance from the other\n",
            "10\"\n",
            "\n",
            "\n",
            "CONCISE SUMMARY:\u001b[0m\n",
            "Prompt after formatting:\n",
            "\u001b[32;1m\u001b[1;3mWrite a concise summary of the following:\n",
            "\n",
            "\n",
            "\"class. This approach aims to enhance the classification performance, particularly for\n",
            "imbalanced datasets.\n",
            "Let’s examine two-class categorization scenario with m1 Class 1(+ve) instances\n",
            "and m2 Class 2(-ve) instances (m1 + m2 = m). The Class 1(+ve) data points are\n",
            "denoted by A ∈Rm1×n, with each row Ai ∈Rn representing a single data point.\n",
            "Similarly, the Class 2(-ve) data points are represented by B ∈Rm2×n.\n",
            "TSVM constructs two non-parallel hyperplanes:\n",
            "f+(x) = (ω+ · x) + b+ = 0\n",
            "and\n",
            "f−(x) = (ω−· x) + b−= 0,\n",
            "(12)\n",
            "where ω+, ω−∈Rn and b+, b−∈R. Each hyperplane is designed to be closer to\n",
            "one class and maintains a at least a distance of one from the other class.\n",
            "Primal Formulation: For determining the optimal hyperplanes, TSVM solves\n",
            "two QPPs:\n",
            "min\n",
            "ω+,b+,ξ\n",
            "1\n",
            "2∥Aω+ + e+b+∥2 + c1eT\n",
            "−ξ,\n",
            "subject to\n",
            "−(Bω+ + e−b+) + ξ ≥e−,\n",
            "ξ ≥0,\n",
            "(13)\n",
            "and\n",
            "min\n",
            "ω−,b−,η\n",
            "1\n",
            "2∥Bω−+ e−b−∥2 + c2eT\n",
            "+η,\n",
            "subject to\n",
            "(Aω−+ e+b−) + η ≥e+,\n",
            "η ≥0.\n",
            "(14)\"\n",
            "\n",
            "\n",
            "CONCISE SUMMARY:\u001b[0m\n",
            "Prompt after formatting:\n",
            "\u001b[32;1m\u001b[1;3mWrite a concise summary of the following:\n",
            "\n",
            "\n",
            "\"+η,\n",
            "subject to\n",
            "(Aω−+ e+b−) + η ≥e+,\n",
            "η ≥0.\n",
            "(14)\n",
            "where c1, c2 ≥0 are regularization parameters, and e+, e−are vectors of ones of ap-\n",
            "propriate dimensions for positive and negative classes, respectively.\n",
            "Dual Formulation\n",
            "By introducing Lagrange multipliers αi and βi, we can derive the dual form of\n",
            "the QPPs (13) and (14):\n",
            "max\n",
            "α\n",
            "eT\n",
            "−α −1\n",
            "2αTG(HTH)−1GTα,\n",
            "subject to\n",
            "0 ≤α ≤c1e−,\n",
            "(15)\n",
            "and\n",
            "max\n",
            "β\n",
            "eT\n",
            "+β −1\n",
            "2βTP(QTQ)−1P Tβ,\n",
            "subject to\n",
            "0 ≤β ≤c2e+.\n",
            "(16)\n",
            "11\"\n",
            "\n",
            "\n",
            "CONCISE SUMMARY:\u001b[0m\n",
            "Prompt after formatting:\n",
            "\u001b[32;1m\u001b[1;3mWrite a concise summary of the following:\n",
            "\n",
            "\n",
            "\"where H = [A e+], G = [B e−], P = [A e+], and Q = [B e−].\n",
            "The solutions α and β from the dual problems provide the parameters for the\n",
            "hyperplanes as:\n",
            "v1 = −(HTH)−1GTα,\n",
            "where\n",
            "v1 =\n",
            "\u0014ω+\n",
            "b+\n",
            "\u0015\n",
            ",\n",
            "v2 = −(QTQ)−1P Tβ,\n",
            "where\n",
            "v2 =\n",
            "\u0014ω−\n",
            "b−\n",
            "\u0015\n",
            ".\n",
            "(17)\n",
            "For non-linear classification tasks, these formulations can be extended using kernel\n",
            "functions, allowing the data to be mapped into a higher-dimensional feature space\n",
            "where the linear separation might be more feasible.\n",
            "2.4. Universum-Twin Support Vector Machine (U-TSVM)\n",
            "Universum-Twin Support Vector Machine (U-TSVM), introduced by Qi et al.\n",
            "(2012) [7], incorporates supplementary data, known as Universum data, to enhance\n",
            "classification performance by leveraging information related to the underlying data\n",
            "distribution. This section elaborates on how U-TSVM utilizes Universum data to\n",
            "improve the robustness of the classification model.\n",
            "In the U-TSVM framework, the training dataset ˜\n",
            "D includes both annotated data\n",
            "D and Universum data U:\n",
            "˜\n",
            "D = D ∪U,\n",
            "(18)\"\n",
            "\n",
            "\n",
            "CONCISE SUMMARY:\u001b[0m\n",
            "Prompt after formatting:\n",
            "\u001b[32;1m\u001b[1;3mWrite a concise summary of the following:\n",
            "\n",
            "\n",
            "\"D and Universum data U:\n",
            "˜\n",
            "D = D ∪U,\n",
            "(18)\n",
            "Here, the labeled/annotated data D and the Universum data U are specified as:\n",
            "D = {(z1, γ1), . . . , (zm, γm)} ∈(Rn × Γ)m,\n",
            "U = {u1, . . . , up} ∈Rn,\n",
            "(19)\n",
            "with zi ∈Rn, γi ∈Γ = {−1, 1} for i = 1, . . . , m, and uj ∈Rn for j = 1, . . . , p.\n",
            "The objective is to derive a function γ = sgn(h(z)) that can predict the label γ for\n",
            "any given input datapoint z ∈Rn.\n",
            "Primal Formulation\n",
            "U-TSVM classifies data points into +1 (+ve Class) or -1 (-ve Class) by their\n",
            "distance to two nonparallel hyperplanes. The method incorporates Universum data\n",
            "by adding hinge loss functions to the quadratic programming problems:\n",
            "12\"\n",
            "\n",
            "\n",
            "CONCISE SUMMARY:\u001b[0m\n",
            "Prompt after formatting:\n",
            "\u001b[32;1m\u001b[1;3mWrite a concise summary of the following:\n",
            "\n",
            "\n",
            "\"min\n",
            "ω+,b+,ξ,ψ\n",
            "1\n",
            "2∥Aω+ + e+b+∥2 + c1eT\n",
            "−ξ + cueT\n",
            "uψ,\n",
            "(20)\n",
            "subject to\n",
            "−(Bω+ + e−b+) + ξ ≥e−,\n",
            "ξ ≥0,\n",
            "(21)\n",
            "(Uω+ + eub+) + ψ ≥(−1 + ϵ)eu,\n",
            "ψ ≥0,\n",
            "and\n",
            "min\n",
            "ω−,b−,η,ψ∗\n",
            "1\n",
            "2∥Bω−+ e−b−∥2 + c2eT\n",
            "+η + cueT\n",
            "uψ∗,\n",
            "(22)\n",
            "subject to\n",
            "(Aω−+ e+b−) + η ≥e+,\n",
            "η ≥0,\n",
            "(23)\n",
            "−(Uω−+ eub−) + ψ∗≥(−1 + ϵ)eu,\n",
            "ψ∗≥0.\n",
            "Here, ψ = (ψ1, . . . , ψp)T, ψ∗= (ψ∗\n",
            "1, . . . , ψ∗\n",
            "p)T, and ϵ, c1, c2, cu ∈[0, ∞) are pre-\n",
            "defined parameters. Vectors e+, e−, eu represent ones of suitable dimensions, and\n",
            "U ∈Rp×n denotes the Universum class, with each row Ui ∈Rn as a Universum\n",
            "sample. The hinge loss terms for Universum samples are given by:\n",
            "ψi = max{0, −1 + ϵ −h+(ui)},\n",
            "(24)\n",
            "ψ∗\n",
            "i = max{0, −1 + ϵ + h−(ui)},\n",
            "(25)\n",
            "for i = 1, . . . , p. The total hinge loss approximates the loss function in the objective.\n",
            "We define matrices and vectors as follows:\n",
            "H = [A e+],\n",
            "G = [B e−],\n",
            "O = [U eu],\n",
            "(26)\n",
            "and the extended vector ϑ+ = [ω+ b+]T represents the parameters of the separating\"\n",
            "\n",
            "\n",
            "CONCISE SUMMARY:\u001b[0m\n",
            "Prompt after formatting:\n",
            "\u001b[32;1m\u001b[1;3mWrite a concise summary of the following:\n",
            "\n",
            "\n",
            "\"hyperplane for the positive class. This equality can be reformulated as follows:\n",
            "HTHϑ+ + GTα −OTµ = 0,\n",
            "(27)\n",
            "leading to:\n",
            "ϑ+ = −(HTH)−1(GTα −OTµ).\n",
            "(28)\n",
            "Dual Formulation\n",
            "The dual formulations for the optimization problems involve Lagrange multipliers\n",
            "α and µ for the positive hyperplane:\n",
            "max\n",
            "α,µ\n",
            "−1\n",
            "2(αTG −µTO)(HTH)−1(GTα −OTµ)\n",
            "(29)\n",
            "+ eT\n",
            "−α + (ϵ −1)eT\n",
            "uµ,\n",
            "subject to\n",
            "0 ≤α ≤c1e−,\n",
            "0 ≤µ ≤cueu,\n",
            "13\"\n",
            "\n",
            "\n",
            "CONCISE SUMMARY:\u001b[0m\n",
            "Prompt after formatting:\n",
            "\u001b[32;1m\u001b[1;3mWrite a concise summary of the following:\n",
            "\n",
            "\n",
            "\"and for the negative hyperplane:\n",
            "max\n",
            "λ,ν\n",
            "−1\n",
            "2(λTP −νTS)(QTQ)−1(P Tλ −STν)\n",
            "(30)\n",
            "+ eT\n",
            "+λ + (ϵ −1)eT\n",
            "uν,\n",
            "subject to\n",
            "0 ≤λ ≤c2e+,\n",
            "0 ≤ν ≤cueu,\n",
            "where\n",
            "P = [A e+],\n",
            "Q = [B e−],\n",
            "S = [U eu],\n",
            "(31)\n",
            "and the extended vector ϑ−= [ω−b−]T represents the parameters of the separating\n",
            "hyperplane for the negative class. This equality can be reformulated as follows:\n",
            "QTQϑ−+ P Tλ −STν = 0,\n",
            "(32)\n",
            "thus,\n",
            "ϑ−= −(QTQ)−1(P Tλ −STν).\n",
            "(33)\n",
            "The separating hyperplanes are derived from ϑ+ and ϑ−:\n",
            "ωT\n",
            "+z + b+ = 0,\n",
            "ωT\n",
            "−z + b−−= 0.\n",
            "(34)\n",
            "A distinct sample z ∈Rn is classified based on its minimum distance to these hyper-\n",
            "planes:\n",
            "h(z) = min\n",
            "+,−{δ+(z), δ−(z)},\n",
            "(35)\n",
            "where\n",
            "δ+(z) = |ωT\n",
            "+z + b+|,\n",
            "δ−(z) = |ωT\n",
            "−z + b−|.\n",
            "(36)\n",
            "3. Proposed granular ball twins support vector machine with universum\n",
            "data (GBU-TSVM) Model\n",
            "In this section, we discuss the formulation of the proposed granular ball twins\n",
            "support vector machine with universum data for linear and non-linear cases.\n",
            "3.1. Linear Case\"\n",
            "\n",
            "\n",
            "CONCISE SUMMARY:\u001b[0m\n",
            "Prompt after formatting:\n",
            "\u001b[32;1m\u001b[1;3mWrite a concise summary of the following:\n",
            "\n",
            "\n",
            "\"3.1. Linear Case\n",
            "In the foundational work on classification and clustering utilizing granular-ball\n",
            "computing, a granular-ball GBj is defined as GBj = {zi | i = 1, 2, . . . , k}. The\n",
            "center of a granular-ball, denoted as c, is computed using the formula c = 1\n",
            "k\n",
            "Pk\n",
            "i=1 zi,\n",
            "14\"\n",
            "\n",
            "\n",
            "CONCISE SUMMARY:\u001b[0m\n",
            "Prompt after formatting:\n",
            "\u001b[32;1m\u001b[1;3mWrite a concise summary of the following:\n",
            "\n",
            "\n",
            "\"where zi represents an individual sample within the granular-ball, and k is the to-\n",
            "tal number of samples in the granular-ball. The radius of a granular-ball can be\n",
            "determined through several methods, with the two primary methods being the av-\n",
            "erage distance and the maximum distance. The average distance is calculated as\n",
            "ravg = 1\n",
            "k\n",
            "Pk\n",
            "i=1 ∥zi −c∥, while the maximum distance is given by rmax = max ∥zi −c∥,\n",
            "where ∥· ∥represents the Euclidean distance.\n",
            "Given a dataset D with n samples, zi ∈D. GBj (j = 1, 2, . . . , m) represents a\n",
            "granular-ball generated from dataset D, with m being the total number of granular-\n",
            "balls. The optimization model is structured as follows:\n",
            "f(zi, ⃗\n",
            "α) →g(GBj, ⃗\n",
            "β),\n",
            "(37)\n",
            "subject to\n",
            "min\n",
            "m\n",
            "X\n",
            "j=1\n",
            "|GBj| + m + loss(GBj),\n",
            "quality(GBj) ≥T,\n",
            "(38)\n",
            "where | · | denotes cardinality, f represents traditional learning methods, g de-\n",
            "notes granular-ball learning methods, and loss(GBj) optimizes granular-ball quality.\"\n",
            "\n",
            "\n",
            "CONCISE SUMMARY:\u001b[0m\n",
            "Prompt after formatting:\n",
            "\u001b[32;1m\u001b[1;3mWrite a concise summary of the following:\n",
            "\n",
            "\n",
            "\"Expanding from the basics of granular-ball computing, we now integrate Universum\n",
            "data to enrich our classification approach. The classification problem with Univer-\n",
            "sum is represented as follows:\n",
            "Let ˜\n",
            "T denote the augmented training set comprising labeled granular-balls and\n",
            "Universum samples:\n",
            "˜\n",
            "T = T+ ∪T−∪U,\n",
            "(39)\n",
            "where ∪denotes set union. The components of ˜\n",
            "T are defined as follows:\n",
            "T+ = {(c+\n",
            "1 , r+\n",
            "1 , +1), . . . , (c+\n",
            "m1, r+\n",
            "m1, +1)} ⊂(Rn × R≥0 × Y)m1,\n",
            "(40)\n",
            "T−= {(c−\n",
            "1 , r−\n",
            "1 , −1), . . . , (c−\n",
            "m2, r−\n",
            "m2, −1)} ⊂(Rn × R≥0 × Y)m2,\n",
            "(41)\n",
            "U = {c∗\n",
            "1, . . . , c∗\n",
            "u} ⊂(Rn)u,\n",
            "(42)\n",
            "Ru = {r∗\n",
            "1, . . . , r∗\n",
            "u} ⊂(R)u\n",
            "(43)\n",
            "with:\n",
            "⋄c+\n",
            "i ∈Rn, r+\n",
            "i ∈R≥0, i = 1, . . . , m1: centroids and radii for positive (+1) class\n",
            "granular-balls.\n",
            "15\"\n",
            "\n",
            "\n",
            "CONCISE SUMMARY:\u001b[0m\n",
            "Prompt after formatting:\n",
            "\u001b[32;1m\u001b[1;3mWrite a concise summary of the following:\n",
            "\n",
            "\n",
            "\"⋄c−\n",
            "j ∈Rn, r−\n",
            "j ∈R≥0, j = 1, . . . , m2: centroids and radii for negative (-1) class\n",
            "granular-balls.\n",
            "⋄c∗\n",
            "k ∈Rn, r∗\n",
            "k ∈R≥0, k = 1, . . . , u: centroids and radii for Universum samples.\n",
            "⋄Y = {−1, +1}: binary class labels.\n",
            "Here, T+ and T−represent the labeled training data in the form of granular-balls.\n",
            "Each granular-ball is characterized by its centroid c+\n",
            "i or c−\n",
            "j , radius r+\n",
            "i or r−\n",
            "j , and\n",
            "class label +1 or −1, respectively. The set U represents the Universum data, con-\n",
            "sisting of unlabeled samples that do not belong to either class but provide valuable\n",
            "domain information. Ru represents the radii of the granular-balls generated from\n",
            "the Universum data.\n",
            "The parameters A, B, R+, R−, and Ru are defined as follows:\n",
            "⋄A = {c+\n",
            "1 , . . . , c+\n",
            "m1} denotes the centroids of granular-balls in the positive (+1)\n",
            "class.\n",
            "⋄B = {c−\n",
            "1 , . . . , c−\n",
            "m2} denotes the centroids of granular-balls in the negative (-1)\n",
            "class.\n",
            "⋄R+ = {r+\n",
            "1 , . . . , r+\"\n",
            "\n",
            "\n",
            "CONCISE SUMMARY:\u001b[0m\n",
            "Prompt after formatting:\n",
            "\u001b[32;1m\u001b[1;3mWrite a concise summary of the following:\n",
            "\n",
            "\n",
            "\"class.\n",
            "⋄R+ = {r+\n",
            "1 , . . . , r+\n",
            "m1} represents the radii associated with the centroids in A.\n",
            "⋄R−= {r−\n",
            "1 , . . . , r−\n",
            "m2} represents the radii associated with the centroids in B.\n",
            "The primary objective of GBU-TSVM is to derive a decision function expressed as:\n",
            "γ = sgn(h(z)),\n",
            "(44)\n",
            "to predict the classification γ ∈Y for any input data point z ∈Rn. Unlike traditional\n",
            "TSVMs and its variants, the function h(z) in GBU-TSVM considers the distances\n",
            "from z to the granular-balls of both classes, not just the distances to individual points\n",
            "or hyperplanes.\n",
            "The ϵ-insensitive loss function used in U-SVM is defined as follows:\n",
            "1\n",
            "2∥ω∥2\n",
            "2 + c\n",
            "l\n",
            "X\n",
            "i=1\n",
            "ϕϵ[γifw,b(zi)] + d\n",
            "u\n",
            "X\n",
            "j=1\n",
            "ρ[fw,b(z∗\n",
            "j )],\n",
            "(45)\n",
            "Here, max{0, ϵ −γif(zi)} denotes the hinge loss function (ϕϵ[t]), integrating prior\n",
            "information conveyed by the Universum. The function ρ[t] = ρ−ϵ[t] + ρ−ϵ[−t] ac-\n",
            "counts for error tolerance within a specified margin. The sum of the losses captures\n",
            "16\"\n",
            "\n",
            "\n",
            "CONCISE SUMMARY:\u001b[0m\n",
            "Prompt after formatting:\n",
            "\u001b[32;1m\u001b[1;3mWrite a concise summary of the following:\n",
            "\n",
            "\n",
            "\"the prior knowledge incorporated from the Universum : Pu\n",
            "j=1 ρ[fw,b(z∗\n",
            "j )]. A smaller\n",
            "value of this sum suggests a higher probability for the classifier fw,b, and vice versa.\n",
            "In U-TSVM, the hinge loss function is modified to include prior knowledge from\n",
            "Universum samples, making it approximately equal to the sum of ψi and ψ∗\n",
            "i . These\n",
            "terms are defined as:\n",
            "ψi =\n",
            "(\n",
            "0 ,\n",
            "fω+,b+(z∗\n",
            "i ) ≥−1 + ϵ\n",
            "−1 + ϵ −fω+,b+(z∗\n",
            "i ),\n",
            "fω+,b+(z∗\n",
            "i ) < −1 + ϵ\n",
            "(46)\n",
            "= max{0, −1 + ϵ −fω+,b+(z∗\n",
            "i )},\n",
            "(47)\n",
            "and\n",
            "ψ∗\n",
            "i =\n",
            "(\n",
            "0 ,\n",
            "−fω−,b−(z∗\n",
            "i ) ≥−1 + ϵ\n",
            "−1 + ϵ + fω−,b−(z∗\n",
            "i ),\n",
            "−fω−,b−(z∗\n",
            "i ) < −1 + ϵ\n",
            "(48)\n",
            "= max{0, −1 + ϵ −fω−,b−(z∗\n",
            "i )},\n",
            "(49)\n",
            "where i = 1, . . . , u. These functions adjust the loss based on the distance of Univer-\n",
            "sum samples from the decision boundary.\n",
            "Primal Formulation\n",
            "For GBU-TSVM, the hinge loss function considers the centroids and radii of\n",
            "Universum samples. The modified loss functions are given by:\n",
            "ψi =\n",
            "(\n",
            "0 ,\n",
            "fω+,b+(c∗\n",
            "i ) + r∗\n",
            "i ≥−1 + ϵ\n",
            "−1 + ϵ −fω+,b+(c∗\n",
            "i ) −r∗\n",
            "i ,\n",
            "fω+,b+(c∗\n",
            "i ) + r∗\n",
            "i < −1 + ϵ\"\n",
            "\n",
            "\n",
            "CONCISE SUMMARY:\u001b[0m\n",
            "Prompt after formatting:\n",
            "\u001b[32;1m\u001b[1;3mWrite a concise summary of the following:\n",
            "\n",
            "\n",
            "\"i ) −r∗\n",
            "i ,\n",
            "fω+,b+(c∗\n",
            "i ) + r∗\n",
            "i < −1 + ϵ\n",
            "(50)\n",
            "= max{0, −1 + ϵ −fω+,b+(c∗\n",
            "i ) −r∗\n",
            "i },\n",
            "(51)\n",
            "and\n",
            "ψ∗\n",
            "i =\n",
            "(\n",
            "0 ,\n",
            "−fω−,b−(c∗\n",
            "i ) + r∗\n",
            "i ≥−1 + ϵ\n",
            "−1 + ϵ + fω−,b−(c∗\n",
            "i ) −r∗\n",
            "i ,\n",
            "−fω−,b−(c∗\n",
            "i ) + r∗\n",
            "i < −1 + ϵ\n",
            "(52)\n",
            "= max{0, −1 + ϵ + fω−,b−(c∗\n",
            "i ) −r∗\n",
            "i }.\n",
            "(53)\n",
            "where i = 1, . . . , u. These adjustments in the loss function allow GBU-TSVM to\n",
            "incorporate the geometry of Universum samples into the learning process.\n",
            "17\"\n",
            "\n",
            "\n",
            "CONCISE SUMMARY:\u001b[0m\n",
            "Prompt after formatting:\n",
            "\u001b[32;1m\u001b[1;3mWrite a concise summary of the following:\n",
            "\n",
            "\n",
            "\"For GBU-TSVM, a new granular ball point is classified as either +1 or -1 depend-\n",
            "ing on its distance from the two nonparallel hyperplanes. The pre-existing knowledge\n",
            "contained in the Universum is incorporated by introducing modified hinge loss func-\n",
            "tions into the following quadratic programming problems (QPPs) respectively:\n",
            "min\n",
            "ω+,b+,ξ,ψ\n",
            "1\n",
            "2∥Aω+ + e+b+∥2 + c1eT\n",
            "−ξ + cueT\n",
            "uψ,\n",
            "(54)\n",
            "subject to\n",
            "−(Bω+ + e−b+) + ξ ≥e−−R−,\n",
            "ξ ≥0,\n",
            "(55)\n",
            "(Uω+ + eub+) + ψ ≥(−1 + ϵ)eu −Ru,\n",
            "ψ ≥0,\n",
            "and\n",
            "min\n",
            "ω−,b−,η,ψ∗\n",
            "1\n",
            "2∥Bω−+ e−b−∥2 + c2eT\n",
            "+η + cueT\n",
            "uψ∗,\n",
            "(56)\n",
            "subject to\n",
            "(Aω−+ e+b−) + η ≥e+ −R+,\n",
            "η ≥0,\n",
            "(57)\n",
            "−(Uω−+ eub−) + ψ∗≥(−1 + ϵ)eu −Ru,\n",
            "ψ∗≥0,\n",
            "where ψ = (ψ1, . . . , ψu)T and ψ∗= (ψ∗\n",
            "1, . . . , ψ∗\n",
            "u)T. The constants ϵ, c1, c2, and cu are\n",
            "all non-negative, i.e., ϵ, c1, c2, cu ≥0. The vectors e+, e−, and eu are unit vectors of\n",
            "dimensions m1, m2, and u, respectively. The Universum class, U ∈Ru×n, consists\n",
            "of rows Ui ∈Rn, each representing a Universum sample. Ru denotes the radii of the\"\n",
            "\n",
            "\n",
            "CONCISE SUMMARY:\u001b[0m\n",
            "Prompt after formatting:\n",
            "\u001b[32;1m\u001b[1;3mWrite a concise summary of the following:\n",
            "\n",
            "\n",
            "\"granular balls generated from the Universum data.\n",
            "Figure 3: Hinge Loss ψ\n",
            "18\"\n",
            "\n",
            "\n",
            "CONCISE SUMMARY:\u001b[0m\n",
            "Prompt after formatting:\n",
            "\u001b[32;1m\u001b[1;3mWrite a concise summary of the following:\n",
            "\n",
            "\n",
            "\"Figure 4: Hinge Loss ψ∗\n",
            "The Lagrangian associated with equations (54)–(55) can be expressed as:\n",
            "L(Ω) = 1\n",
            "2∥Aω+ + e+b+∥2 + c1eT\n",
            "−ξ + cueT\n",
            "uψ\n",
            "−αT(−(Bω+ + e−b+) + ξ −e−+ R−)\n",
            "−βTξ −µT((Uω+ + eub+) + ψ + (1 −ϵ)eu + Ru) −γTψ,\n",
            "(58)\n",
            "where Ω= {ω+, b+, ξ, ψ, α, β, µ, γ}. The Lagrange multipliers are represented by\n",
            "the vectors α = (α1, . . . , αm1)T, β = (β1, . . . , βm1)T, µ = (µ1, . . . , µu)T, and γ =\n",
            "(γ1, . . . , γu)T.\n",
            "Dual Formulation\n",
            "Using the Karush-Kuhn-Tucker (KKT) conditions, we have:\n",
            "max\n",
            "Ω\n",
            "L(Ω),\n",
            "(59)\n",
            "subject to\n",
            "∂L(Ω)\n",
            "∂ω+\n",
            "= 0,\n",
            "∂L(Ω)\n",
            "∂b+\n",
            "= 0,\n",
            "∂L(Ω)\n",
            "∂ξ\n",
            "= 0,\n",
            "∂L(Ω)\n",
            "∂ψ\n",
            "= 0,\n",
            "(60)\n",
            "α, β, µ, γ ≥0.\n",
            "(61)\n",
            "Following (60), the outcomes are as follows:\n",
            "∂L\n",
            "∂ω+\n",
            "= AT(Aω+ + e+b+) + BTα −U Tµ = 0,\n",
            "(62)\n",
            "∂L\n",
            "∂b+\n",
            "= eT\n",
            "+(Aω+ + e+b+) + eTα −eTµ = 0,\n",
            "(63)\n",
            "19\"\n",
            "\n",
            "\n",
            "CONCISE SUMMARY:\u001b[0m\n",
            "Prompt after formatting:\n",
            "\u001b[32;1m\u001b[1;3mWrite a concise summary of the following:\n",
            "\n",
            "\n",
            "\"∂L\n",
            "∂ξ = c1e−−α −β = 0,\n",
            "(64)\n",
            "∂L\n",
            "∂ψ = cueu −µ −γ = 0.\n",
            "(65)\n",
            "Given that β, γ ≥0, equations (64) - (65) become:\n",
            "0 ≤α ≤c1e−,\n",
            "(66)\n",
            "0 ≤µ ≤cueu.\n",
            "(67)\n",
            "From (62) and (63), we have:\n",
            "[A e+]T[A e+][ω+ b+]T + [B e−]Tα −[U eu]Tµ = 0.\n",
            "(68)\n",
            "We define matrices and vectors as follows:\n",
            "H = [A e+],\n",
            "G = [B e−],\n",
            "O = [U eu],\n",
            "(69)\n",
            "and the extended vector ϑ+ = [ω+ b+]T represents the parameters of the separating\n",
            "hyperplane for the positive class. Eq.(68) can be reformulated as follows:\n",
            "HTHϑ+ + GTα −OTµ = 0,\n",
            "(70)\n",
            "leading to:\n",
            "ϑ+ = −(HTH)−1(GTα −OTµ).\n",
            "(71)\n",
            "In dual optimization theory, the Wolfe dual corresponding to the (54)–(55) is\n",
            "formulated as\n",
            "max\n",
            "α,µ\n",
            "−1\n",
            "2(αTG −µTO)(HTH)−1(GTα −OTµ)\n",
            "+ (eT\n",
            "−−RT\n",
            "−)α + ((ϵ −1)eT\n",
            "u −RT\n",
            "u)µ,\n",
            "(72)\n",
            "subject to\n",
            "0 ≤α ≤c1e−,\n",
            "0 ≤µ ≤cueu,\n",
            "(73)\n",
            "Analogously, the dual form for (56)–(57) and the optimization problem corre-\n",
            "sponding to generation of negative hyperplane is as follows:\n",
            "20\"\n",
            "\n",
            "\n",
            "CONCISE SUMMARY:\u001b[0m\n",
            "Prompt after formatting:\n",
            "\u001b[32;1m\u001b[1;3mWrite a concise summary of the following:\n",
            "\n",
            "\n",
            "\"max\n",
            "λ,ν\n",
            "−1\n",
            "2(λTP −νTS)(QTQ)−1(P Tλ −STν)\n",
            "+ (eT\n",
            "+ −RT\n",
            "+)λ + ((ϵ −1)eT\n",
            "u −RT\n",
            "u)ν,\n",
            "(74)\n",
            "subject to\n",
            "0 ≤λ ≤c2e+,\n",
            "0 ≤ν ≤cueu,\n",
            "(75)\n",
            "where\n",
            "P = [A e+],\n",
            "Q = [B e−],\n",
            "S = [U eu],\n",
            "(76)\n",
            "and the extended vector ϑ−= [ω−b−]T, represents the parameters of the sepa-\n",
            "rating hyperplane for the negative class. This equality can be reformulated as follows:\n",
            "QTQϑ−+ P Tλ −STν = 0,\n",
            "(77)\n",
            "thus,\n",
            "ϑ−= −(QTQ)−1(P Tλ −STν).\n",
            "(78)\n",
            "The separating hyperplanes are derived from ϑ+ and ϑ−Eq.(71) and (78),:\n",
            "ωT\n",
            "+z + b+ = 0,\n",
            "ωT\n",
            "−z + b−−= 0.\n",
            "(79)\n",
            "A distinct sample z ∈Rn is classified based on its minimum distance to these hyper-\n",
            "planes:\n",
            "h(z) = min\n",
            "+,−{δ+(z), δ−(z)},\n",
            "(80)\n",
            "Here,\n",
            "δ+(z) = |ωT\n",
            "+z + b+|,\n",
            "δ−(z) = |ωT\n",
            "−z + b−|.\n",
            "(81)\n",
            "where |·| signifies the orthogonal distance of the point z from the planes ωT\n",
            "+z +b+\n",
            "and ωT\n",
            "−z + b−\n",
            "3.2. Non-linear Case for GBU-TSVM using RBF Kernel\n",
            "To extend the Granular Ball TSVM with Universum data (GBU-TSVM) to the\n",
            "non-linear case, we utilize the kernel trick. Specifically, we employ the Radial Ba-\"\n",
            "\n",
            "\n",
            "CONCISE SUMMARY:\u001b[0m\n",
            "Prompt after formatting:\n",
            "\u001b[32;1m\u001b[1;3mWrite a concise summary of the following:\n",
            "\n",
            "\n",
            "\"sis Function (RBF) kernel. The general approach is to map the data points into\n",
            "a higher-dimensional feature space, perform the required computations, and then\n",
            "derive the decision functions. Generating granular-balls in high-dimensional space is\n",
            "21\"\n",
            "\n",
            "\n",
            "CONCISE SUMMARY:\u001b[0m\n",
            "Prompt after formatting:\n",
            "\u001b[32;1m\u001b[1;3mWrite a concise summary of the following:\n",
            "\n",
            "\n",
            "\"Figure 5: GBU-TSVM Geometric Interpretation\n",
            "challenging because the radius cannot be directly mapped. Mapping original space\n",
            "balls to kernel space changes the data distribution, making them inaccurate. The\n",
            "best solution is to generate granular-balls directly in the kernel space.\n",
            "Let ϕ : Rn →H denote the mapping from the input space to the feature space\n",
            "induced by the RBF kernel. The RBF kernel is defined as:\n",
            "K < zi, zj >= exp\n",
            "\u0012\n",
            "−∥zi −zj∥2\n",
            "2σ2\n",
            "\u0013\n",
            "(82)\n",
            "where σ is a hyperparameter controlling the width of the Gaussian function. Given\n",
            "a dataset D with n samples, xi ∈D, we first map all the data points to the feature\n",
            "space:\n",
            "ϕ(zi),\n",
            "i = 1, 2, . . . , n\n",
            "(83)\n",
            "We form granular balls in the feature space. For a granular ball GBj with k samples,\n",
            "the center and radius in the feature space are defined as:\n",
            "cj = 1\n",
            "k\n",
            "k\n",
            "X\n",
            "i=1\n",
            "ϕ(zi)\n",
            "(84)\n",
            "22\"\n",
            "\n",
            "\n",
            "CONCISE SUMMARY:\u001b[0m\n",
            "Prompt after formatting:\n",
            "\u001b[32;1m\u001b[1;3mWrite a concise summary of the following:\n",
            "\n",
            "\n",
            "\"rj = 1\n",
            "k\n",
            "k\n",
            "X\n",
            "i=1\n",
            "∥ϕ(zi) −cj∥\n",
            "(85)\n",
            "Let ˜\n",
            "T denote the augmented training set comprising labeled granular-balls and\n",
            "Universum samples:\n",
            "˜\n",
            "T = T+ ∪T−∪U,\n",
            "(86)\n",
            "where ∪denotes set union. The components of ˜\n",
            "T are defined as follows:\n",
            "T+ = {(c+\n",
            "1 , r+\n",
            "1 , +1), . . . , (c+\n",
            "m1, r+\n",
            "m1, +1)} ⊂(Rn × R≥0 × Y)m1,\n",
            "(87)\n",
            "T−= {(c−\n",
            "1 , r−\n",
            "1 , −1), . . . , (c−\n",
            "m2, r−\n",
            "m2, −1)} ⊂(Rn × R≥0 × Y)m2,\n",
            "(88)\n",
            "U = {c∗\n",
            "1, . . . , c∗\n",
            "u} ⊂(Rn)u,\n",
            "(89)\n",
            "Ru = {r∗\n",
            "1, . . . , r∗\n",
            "u} ⊂(R)u\n",
            "(90)\n",
            "We examine the following hyperplanes generated by the kernel:\n",
            "K(z, CT )ω+ + b+ = 0,\n",
            "(91)\n",
            "K(z, CT )ω−+ b−= 0,\n",
            "(92)\n",
            "where CT = [A B]T and K is the chosen Gaussian kernel function.\n",
            "Primal Formulation The nonlinear optimization problems can be stated as:\n",
            "min\n",
            "ω+,b+,ξ,ψ\n",
            "1\n",
            "2∥K(A, CT )ω+ + e+b+∥2 + c1eT\n",
            "−ξ + cueT\n",
            "uψ,\n",
            "(93)\n",
            "subject to\n",
            "−(K(B, CT )ω+ + e−b+) + ξ ≥e−−R−,\n",
            "ξ ≥0,\n",
            "(94)\n",
            "(K(U, CT )ω+ + eub+) + ψ ≥(−1 + ϵ)eu −Ru,\n",
            "ψ ≥0,\n",
            "and\n",
            "min\n",
            "ω−,b−,η,ψ∗\n",
            "1\n",
            "2∥K(B, CT )ω−+ e−b−∥2 + c2eT\n",
            "+η + cueT\n",
            "uψ∗,\n",
            "(95)\n",
            "subject to\n",
            "(K(A, CT )ω−+ e+b−) + η ≥e+ −R+,\n",
            "η ≥0,\"\n",
            "\n",
            "\n",
            "CONCISE SUMMARY:\u001b[0m\n",
            "Prompt after formatting:\n",
            "\u001b[32;1m\u001b[1;3mWrite a concise summary of the following:\n",
            "\n",
            "\n",
            "\"subject to\n",
            "(K(A, CT )ω−+ e+b−) + η ≥e+ −R+,\n",
            "η ≥0,\n",
            "(96)\n",
            "−(K(U, CT )ω−+ eub−) + ψ∗≥(−1 + ϵ)eu −Ru,\n",
            "ψ∗≥0,\n",
            "Dual Formulation\n",
            "Following the same procedure as in the linear case, we obtain the Wolfe dual of\n",
            "the first problem (93)-(94):\n",
            "23\"\n",
            "\n",
            "\n",
            "CONCISE SUMMARY:\u001b[0m\n",
            "Prompt after formatting:\n",
            "\u001b[32;1m\u001b[1;3mWrite a concise summary of the following:\n",
            "\n",
            "\n",
            "\"max\n",
            "α,µ\n",
            "−1\n",
            "2(αTGΦ −µTOΦ)(HT\n",
            "ΦHΦ)−1(GT\n",
            "Φα −OT\n",
            "Φµ)\n",
            "+ (eT\n",
            "−−RT\n",
            "−)α + ((ϵ −1)eT\n",
            "u −RT\n",
            "u)µ,\n",
            "(97)\n",
            "subject to\n",
            "0 ≤α ≤c1e−,\n",
            "0 ≤µ ≤cueu,\n",
            "(98)\n",
            "We define matrices and vectors as follows:\n",
            "HΦ = [K(A, CT )\n",
            "e+],\n",
            "GΦ = [K(B, CT )\n",
            "e−],\n",
            "OΦ = [K(U, CT )\n",
            "eu],\n",
            "(99)\n",
            "and the extended vector ϑ+ = [ω+ b+]T represents the parameters of the separating\n",
            "hyperplane for the positive class. This equality can be reformulated as follows:\n",
            "HTHϑ+ + GTα −OTµ = 0,\n",
            "(100)\n",
            "leading to:\n",
            "ϑ+ = −(HT\n",
            "ΦHΦ)−1(GT\n",
            "Φα −OT\n",
            "Φµ).\n",
            "(101)\n",
            "Analogously, the dual form for (95)–(96) and the optimization problem corresponding\n",
            "to the generation of negative hyperplane is as follows:\n",
            "max\n",
            "λ,ν\n",
            "−1\n",
            "2(λTPΦ −νTSΦ)(QT\n",
            "ΦQΦ)−1(P T\n",
            "Φ λ −ST\n",
            "Φν)\n",
            "+ (eT\n",
            "+ −RT\n",
            "+)λ + ((ϵ −1)eT\n",
            "u −RT\n",
            "u)ν,\n",
            "(102)\n",
            "subject to\n",
            "0 ≤λ ≤c2e+,\n",
            "0 ≤ν ≤cueu,\n",
            "(103)\n",
            "where\n",
            "PΦ = [K(A, CT )\n",
            "e+],\n",
            "QΦ = [K(B, CT )\n",
            "e−],\n",
            "SΦ = [K(U, CT )\n",
            "eu],\n",
            "(104)\n",
            "and the extended vector ϑ−= [ω−b−]T, represents the parameters of the sepa-\"\n",
            "\n",
            "\n",
            "CONCISE SUMMARY:\u001b[0m\n",
            "Prompt after formatting:\n",
            "\u001b[32;1m\u001b[1;3mWrite a concise summary of the following:\n",
            "\n",
            "\n",
            "\"rating hyperplane for the negative class. This equality can be reformulated as follows:\n",
            "QTQϑ−+ P Tλ −STν = 0,\n",
            "(105)\n",
            "thus,\n",
            "24\"\n",
            "\n",
            "\n",
            "CONCISE SUMMARY:\u001b[0m\n",
            "Prompt after formatting:\n",
            "\u001b[32;1m\u001b[1;3mWrite a concise summary of the following:\n",
            "\n",
            "\n",
            "\"ϑ−= −(QTQ)−1(P Tλ −STν).\n",
            "(106)\n",
            "The separating hyperplanes are derived from ϑ+ and ϑ−Eq.(101) and (106),:\n",
            "K(z, CT )ω+ + b+ = 0,\n",
            "K(z, CT )ω−+ b−= 0,\n",
            "(107)\n",
            "A distinct sample z ∈Rn is classified based on its minimum distance to these\n",
            "hyperplanes:\n",
            "h(z) = min\n",
            "+,−{δ+(z), δ−(z)},\n",
            "(108)\n",
            "Here,\n",
            "δ+(z) = |K(z, CT )ω+ + b+|,\n",
            "δ−(z) = |K(z, CT )ω−+ b−|.\n",
            "(109)\n",
            "and | · | signifies the orthogonal distance of the point z from the planes generated\n",
            "by the kernel.\n",
            "4. Experiments\n",
            "In this section, we discuss about the datasets used for the evaluation of baseline\n",
            "and proposed model. Moreover, we evaluate the models statistically to evaluate their\n",
            "significance.\n",
            "4.1. Dataset Information\n",
            "Several binary class UCI benchmark datasets with binary class were thoughtfully\n",
            "selected for our experiments. The dataset details are summarized in Table 1.\n",
            "4.2. Experimental Setup\n",
            "The experiments were conducted on a PC with an Intel Core i5-11320H CPU\n",
            "@ 3.20GHz and 16 GB RAM. The software environment was Google Colab with\"\n",
            "\n",
            "\n",
            "CONCISE SUMMARY:\u001b[0m\n",
            "Prompt after formatting:\n",
            "\u001b[32;1m\u001b[1;3mWrite a concise summary of the following:\n",
            "\n",
            "\n",
            "\"Python 3.10.We employed cvx.opt.solvers to efficiently solve the quadratic program-\n",
            "ming problem (QQP), ensuring precise optimization for our classification model. The\n",
            "hyperparameters c1, c2, and cu were selected from the set {22i | i = −4, . . . , 4}. For\n",
            "simplicity, c1, c2, and cu were set equal. The model’s performance could potentially\n",
            "improve if these parameters were independent, but due to computational limitations,\n",
            "we considered them equal. The values of ϵ were considered in the range (0,1) and\n",
            "for simplicity ϵ values were selected from set {0, 0.2, 0.4, 0.6, 0.8, 1} .\n",
            "The values for the minimum number of data points in a granular ball (num) and\n",
            "the purity for ball generation (pur) were first observed and recorded for each dataset.\n",
            "25\"\n",
            "\n",
            "\n",
            "CONCISE SUMMARY:\u001b[0m\n",
            "Prompt after formatting:\n",
            "\u001b[32;1m\u001b[1;3mWrite a concise summary of the following:\n",
            "\n",
            "\n",
            "\"Table 1: Dataset Information\n",
            "Dataset\n",
            "#Samples #Features %Majority\n",
            "Fertility\n",
            "100\n",
            "9\n",
            "88\n",
            "Pittsburg-Bridges-T-OR-D\n",
            "102\n",
            "7\n",
            "86.3\n",
            "Molec-Biol-Promoter\n",
            "106\n",
            "57\n",
            "50\n",
            "Monks-1\n",
            "124\n",
            "6\n",
            "50\n",
            "Echocardiogram\n",
            "131\n",
            "10\n",
            "67.2\n",
            "Breast-Cancer-Wisc-Prog\n",
            "198\n",
            "33\n",
            "76.3\n",
            "Parkinsons\n",
            "195\n",
            "22\n",
            "75.4\n",
            "Statlog-Heart\n",
            "270\n",
            "13\n",
            "55.6\n",
            "Horse-Colic\n",
            "300\n",
            "25\n",
            "63.7\n",
            "Musk-1\n",
            "476\n",
            "166\n",
            "56.5\n",
            "Ilpd-Indian-Liver\n",
            "583\n",
            "9\n",
            "71.4\n",
            "Credit-Approval\n",
            "690\n",
            "15\n",
            "55.5\n",
            "Blood\n",
            "748\n",
            "4\n",
            "76.2\n",
            "Oocytes-Trisopterus-Nucleus-2f\n",
            "912\n",
            "25\n",
            "57.8\n",
            "Mammographic\n",
            "961\n",
            "5\n",
            "53.7\n",
            "Statlog-German-Credit\n",
            "1000\n",
            "24\n",
            "70\n",
            "Oocytes-Merluccius-Nucleus-4d\n",
            "1022\n",
            "41\n",
            "68.7\n",
            "titanic\n",
            "2201\n",
            "3\n",
            "67.7\n",
            "This preliminary step ensured that favorable ranges for num and pur were considered\n",
            "when using c1, c2, cu, num, and pur as hyperparameters. The ball generation program\n",
            "includes a delete ball functionality, which rechecks if the generated balls meet the\n",
            "num and pur thresholds; otherwise, the balls are deleted.\n",
            "To avoid the cost of\n",
            "hyperparameter tuning in cases where no balls are generated and to select favorable\"\n",
            "\n",
            "\n",
            "CONCISE SUMMARY:\u001b[0m\n",
            "Prompt after formatting:\n",
            "\u001b[32;1m\u001b[1;3mWrite a concise summary of the following:\n",
            "\n",
            "\n",
            "\"parametric ranges for num and pur to achieve better accuracy, we observed ball\n",
            "generation beforehand.\n",
            "Universum data were generated using two methods: (1) initially splitting the\n",
            "data into training, test, and Universum data, then generating Universum data balls\n",
            "from the Universum data, and (2) Splitting the data into only training and test data,\n",
            "generating training data balls, and then generating Universum data balls from the\n",
            "class +1 and class -1 training balls using average centroid and radius parameters.\n",
            "Specifically, we consider an equal number of samples from both class +1 and class\n",
            "-1 (minimum from either class), and then generate Universum data balls using the\n",
            "average centroid from each class +1 and class -1 sample together, along with the\n",
            "corresponding average radii. We conducted both experiments but found the second\n",
            "method to be computationally expensive.\n",
            "Thus, we uniformly followed the first\n",
            "method across all datasets.\"\n",
            "\n",
            "\n",
            "CONCISE SUMMARY:\u001b[0m\n",
            "Prompt after formatting:\n",
            "\u001b[32;1m\u001b[1;3mWrite a concise summary of the following:\n",
            "\n",
            "\n",
            "\"method across all datasets.\n",
            "To obtain Universum knowledge, we randomly split the data into 50% training\n",
            "26\"\n",
            "\n",
            "\n",
            "CONCISE SUMMARY:\u001b[0m\n",
            "Prompt after formatting:\n",
            "\u001b[32;1m\u001b[1;3mWrite a concise summary of the following:\n",
            "\n",
            "\n",
            "\"data, 30% Universum data, and 20% test data. Universum data granular balls were\n",
            "generated with the same num and pur thresholds used for training data. We per-\n",
            "formed 5-fold cross-validation to select the best pair of hyperparameters, and the\n",
            "test data were evaluated using these parameters.\n",
            "4.3. Results and Analysis\n",
            "Table 2 presents the accuracy comparison of the models across various datasets.\n",
            "Table 2: Average Accuracy Comparison of Models\n",
            "Dataset\n",
            "GBU-TSVM U-TSVM TSVM Pin-GTSVM\n",
            "Pittsburg-Bridges\n",
            "90.47\n",
            "81.23\n",
            "83.87\n",
            "81.71\n",
            "Monks-1\n",
            "96.87\n",
            "84.38\n",
            "79.27\n",
            "76.31\n",
            "Echocardiogram\n",
            "85.18\n",
            "83.54\n",
            "80.33\n",
            "78.66\n",
            "Parkinsons\n",
            "82.50\n",
            "79.48\n",
            "79.66\n",
            "83.05\n",
            "Statlog-Heart\n",
            "88.83\n",
            "79.06\n",
            "71.26\n",
            "82.71\n",
            "Blood\n",
            "79.33\n",
            "80.67\n",
            "64.88\n",
            "76.14\n",
            "Ilpd-Indian-Liver\n",
            "75.42\n",
            "72.04\n",
            "66.28\n",
            "60.48\n",
            "Credit-Approval\n",
            "85.53\n",
            "81.15\n",
            "85.09\n",
            "81.73\n",
            "Mammographic\n",
            "87.56\n",
            "81.69\n",
            "82.01\n",
            "56.74\n",
            "Oocytes-Trisopterus\n",
            "83.06\n",
            "77.24\n",
            "79.92\n",
            "73.35\n",
            "It is noteworthy that the GBU-TSVM model consistently outperforms other\"\n",
            "\n",
            "\n",
            "CONCISE SUMMARY:\u001b[0m\n",
            "Prompt after formatting:\n",
            "\u001b[32;1m\u001b[1;3mWrite a concise summary of the following:\n",
            "\n",
            "\n",
            "\"TSVM variants with increasing dataset sizes. This observation was consistent across\n",
            "various datasets.\n",
            "The accuracy formula used for the experiments is given by:\n",
            "Accuracy = Number of True Positives + Number of True Negatives\n",
            "Total Number of Predictions\n",
            "× 100%\n",
            "For example, for datasets with an increasing number of samples (e.g., from 100\n",
            "to 1000), better results were observed compared to other models. For the Oocytes-\n",
            "Trisopterus dataset (1022 samples), the average accuracies for the models were as\n",
            "follows: 83.06% for the GBU-TSVM model, 77.24% for U-TSVM, 79.92% for TSVM,\n",
            "and 73.35% for Pin-GTSVM. Additionally, for datasets with data points in the range\n",
            "of 1000, GBU-TSVM performs 16 times faster than U-TSVM and 58 times faster\n",
            "than TSVM. This can be attributed to the representation of thousands of data points\n",
            "by a few hundred balls or less, leading to reduced computation time. Time for Hy-\n",
            "perparameter tuning is excluded.\n",
            "27\"\n",
            "\n",
            "\n",
            "CONCISE SUMMARY:\u001b[0m\n",
            "Prompt after formatting:\n",
            "\u001b[32;1m\u001b[1;3mWrite a concise summary of the following:\n",
            "\n",
            "\n",
            "\"GBU-TSVM also shows remarkable performance on smaller datasets, especially\n",
            "those with fewer than 300 samples. Please refer to Figure 6. The model effectively\n",
            "handles the reduced data size, maintaining high accuracy and computational effi-\n",
            "ciency.\n",
            "Figure 6: Model Performance Across Various Dataset Sizes\n",
            "All results were obtained through a fair comparison under the same settings.\n",
            "GBU-TSVM is a more generalized version, and U-TSVM, Pin-GTSVM and other\n",
            "TSVM models were derived by making necessary modifications to the GBU-TSVM\n",
            "model to record the accuracies. GBU-TSVM achieves the highest accuracy in 8 out\n",
            "of the 10 datasets, underscoring its consistent superiority across a diverse range of\n",
            "datasets and further validating its robustness. Furthermore, GBU-TSVM not only\n",
            "achieves the highest accuracy in most datasets but also provides a significant ac-\n",
            "curacy margin over the second-best model. For instance, in the Monks-1 dataset,\n",
            "GBU-TSVM outperforms U-TSVM by a margin of 12.49%.\"\n",
            "\n",
            "\n",
            "CONCISE SUMMARY:\u001b[0m\n",
            "Prompt after formatting:\n",
            "\u001b[32;1m\u001b[1;3mWrite a concise summary of the following:\n",
            "\n",
            "\n",
            "\"GBU-TSVM shows strong performance on datasets that are typically challeng-\n",
            "ing, such as the Pittsburg-Bridges and Echocardiogram datasets, where it leads by\n",
            "a notable margin.\n",
            "Moreover, the strong performance of GBU-TSVM on medical\n",
            "datasets like Echocardiogram and Mammographic is noteworthy. Given the impor-\n",
            "tance of accuracy in medical diagnoses, this highlights GBU-TSVM’s potential for\n",
            "critical real-world applications.\n",
            "28\"\n",
            "\n",
            "\n",
            "CONCISE SUMMARY:\u001b[0m\n",
            "Prompt after formatting:\n",
            "\u001b[32;1m\u001b[1;3mWrite a concise summary of the following:\n",
            "\n",
            "\n",
            "\"We have also statistically confirmed that our proposed model, GBY-TSVM, out-\n",
            "performs others. Below are some tests that support this assertion:\n",
            "4.3.1. Friedman Test\n",
            "The Friedman Test evaluates the statistical significance of differences in accuracy\n",
            "among multiple models. This non-parametric test ranks the models for each dataset\n",
            "and compares the average ranks to determine if there are significant differences.\n",
            "The Friedman Test statistic (χ2) is calculated as:\n",
            "χ2 =\n",
            "\"\n",
            "12\n",
            "nk(k + 1)\n",
            "k\n",
            "X\n",
            "i=1\n",
            "R2\n",
            "i\n",
            "#\n",
            "−3n(k + 1)\n",
            "(110)\n",
            "where:\n",
            "⋄n is the number of datasets\n",
            "⋄k is the number of models\n",
            "⋄Ri is the sum of ranks for model i\n",
            "For our experiments, the Friedman Test yielded the following results:\n",
            "Table 3: Average Ranks of Models\n",
            "Model\n",
            "Rank\n",
            "GBU-TSVM 1.2\n",
            "U-TSVM\n",
            "2.8\n",
            "TSVM\n",
            "2.8\n",
            "Pin-GTSVM 3.2\n",
            "Table 4: Friedman Test Results\n",
            "˜\n",
            "χ2\n",
            "14.16\n",
            "P-value\n",
            "0.0027\n",
            "The p-value of 0.0027 suggests a statistically significant difference in model per-\"\n",
            "\n",
            "\n",
            "CONCISE SUMMARY:\u001b[0m\n",
            "Prompt after formatting:\n",
            "\u001b[32;1m\u001b[1;3mWrite a concise summary of the following:\n",
            "\n",
            "\n",
            "\"formance. With this p-value being less than the chosen significance level (typically\n",
            "0.05), the null hypothesis is rejected, indicating significant differences in accuracy\n",
            "among the models.\n",
            "4.3.2. Wilcoxon Signed-Rank Test\n",
            "The Wilcoxon Signed-Rank Test was performed to compare the performance of\n",
            "GBU-TSVM against each of the other models pairwise. This non-parametric test is\n",
            "29\"\n",
            "\n",
            "\n",
            "CONCISE SUMMARY:\u001b[0m\n",
            "Prompt after formatting:\n",
            "\u001b[32;1m\u001b[1;3mWrite a concise summary of the following:\n",
            "\n",
            "\n",
            "\"used to compare two related samples to assess whether their population mean ranks\n",
            "differ.\n",
            "The Wilcoxon Signed-Rank Test statistic is calculated as follows:\n",
            "W =\n",
            "n\n",
            "X\n",
            "i=1\n",
            "sign(di) · Ri\n",
            "(111)\n",
            "where:\n",
            "⋄di is the difference between each pair of observations.\n",
            "⋄sign(di) is the sign of the difference (+1 if positive, −1 if negative).\n",
            "⋄Ri is the rank of the absolute value of di.\n",
            "⋄n is the number of pairs.\n",
            "The null hypothesis (H0) assumes that there is no difference between the paired\n",
            "observations, while the alternative hypothesis (H1) suggests that there is a significant\n",
            "difference.\n",
            "For our experiments, the results are presented in the table below:\n",
            "Table 5: Wilcoxon Signed-Rank Test Results\n",
            "Comparison\n",
            "p-value Conclusion\n",
            "GBU-TSVM vs. U-TSVM\n",
            "0.0039\n",
            "Significant\n",
            "GBU-TSVM vs. TSVM\n",
            "0.0019\n",
            "Significant\n",
            "GBU-TSVM vs. Pin-GTSVM\n",
            "0.0039\n",
            "Significant\n",
            "The p-values indicate that there are significant differences in performance between\"\n",
            "\n",
            "\n",
            "CONCISE SUMMARY:\u001b[0m\n",
            "Prompt after formatting:\n",
            "\u001b[32;1m\u001b[1;3mWrite a concise summary of the following:\n",
            "\n",
            "\n",
            "\"GBU-TSVM and each of the other models, using a significance threshold of α = 0.05.\n",
            "4.3.3. Kruskal-Wallis Test\n",
            "The Kruskal-Wallis Test is performed to compare the performance of multiple\n",
            "TSVM variants across multiple datasets. This non-parametric test assesses whether\n",
            "there are significant differences in performance among the TSVM variants.\n",
            "The Kruskal-Wallis test statistic is calculated as follows:\n",
            "H =\n",
            "12\n",
            "N(N + 1)\n",
            "\" k\n",
            "X\n",
            "j=1\n",
            "R2\n",
            "j\n",
            "nj\n",
            "−3(N + 1)\n",
            "#\n",
            "(112)\n",
            "30\"\n",
            "\n",
            "\n",
            "CONCISE SUMMARY:\u001b[0m\n",
            "Prompt after formatting:\n",
            "\u001b[32;1m\u001b[1;3mWrite a concise summary of the following:\n",
            "\n",
            "\n",
            "\"where:\n",
            "⋄H is the Kruskal-Wallis test statistic.\n",
            "⋄N is the total number of observations across all groups.\n",
            "⋄k is the number of groups (TSVM variants).\n",
            "⋄Rj is the sum of ranks for the j-th group.\n",
            "⋄nj is the number of observations in the j-th group.\n",
            "Table 6: Results of Kruskal-Wallis Test\n",
            "Statistic\n",
            "Value\n",
            "test statistic\n",
            "10.63\n",
            "p-value\n",
            "0.0139\n",
            "With a significance level of α = 0.05, since the p-value (0.0139) is less than\n",
            "α, we reject the null hypothesis. Therefore, we conclude that there are significant\n",
            "differences in performance among the TSVM variants.\n",
            "This implies that at least one of the TSVM variants performs significantly differently\n",
            "compared to the others across the datasets considered.\n",
            "4.3.4. Win-Tie-Loss Analysis\n",
            "To further compare the performance of the models, we conducted a Win-Tie-Loss\n",
            "analysis. It involves counting the number of times GBU-TSVM outperforms (wins),\n",
            "ties with, or is outperformed by (losses) each of the other models across multiple\n",
            "datasets.\"\n",
            "\n",
            "\n",
            "CONCISE SUMMARY:\u001b[0m\n",
            "Prompt after formatting:\n",
            "\u001b[32;1m\u001b[1;3mWrite a concise summary of the following:\n",
            "\n",
            "\n",
            "\"datasets.\n",
            "Table 7: Win-Tie-Loss Analysis\n",
            "Comparison\n",
            "Wins Ties Losses\n",
            "GBU-TSVM vs. U-TSVM\n",
            "9\n",
            "0\n",
            "1\n",
            "GBU-TSVM vs. TSVM\n",
            "9\n",
            "1\n",
            "0\n",
            "GBU-TSVM vs. Pin-GTSVM\n",
            "9\n",
            "0\n",
            "1\n",
            "These results demonstrate that GBU-TSVM consistently outperforms U-TSVM,\n",
            "TSVM, and Pin-GTSVM in terms of accuracy across the evaluated datasets, with\n",
            "no ties and only a few losses in each comparison.\n",
            "31\"\n",
            "\n",
            "\n",
            "CONCISE SUMMARY:\u001b[0m\n",
            "Prompt after formatting:\n",
            "\u001b[32;1m\u001b[1;3mWrite a concise summary of the following:\n",
            "\n",
            "\n",
            "\"4.3.5. Parameter Sensitivity Analysis\n",
            "We conducted a detailed parameter sensitivity analysis to understand the impact\n",
            "of different hyperparameter settings on the performance of GBU-TSVM. Specifically,\n",
            "we varied the parameters c1, c2, cu, and ϵ, and recorded their effects on accuracy.\n",
            "The analysis was carried out on the Statlog-Heart dataset, which consists of 270\n",
            "samples and 13 features, with a majority class proportion of 55.6%.\n",
            "For our experiments, we first observed the granular ball formation and determined\n",
            "that a minimum number of data points in a granular ball (num) of 20 and a purity\n",
            "of a granular ball (pur) of 0.88 were suitable settings. Therefore, we fixed num at 20\n",
            "and pur at 0.88. The hyperparameters c1, c2, cu, and ϵ were varied across a range\n",
            "defined by powers of 2 from 2−8 to 28:\n",
            "{2k | k ∈{−8, −7, . . . , 7, 8}}\n",
            "This range allowed us to comprehensively explore the parameter space and identify\n",
            "the most effective settings.\"\n",
            "\n",
            "\n",
            "CONCISE SUMMARY:\u001b[0m\n",
            "Prompt after formatting:\n",
            "\u001b[32;1m\u001b[1;3mWrite a concise summary of the following:\n",
            "\n",
            "\n",
            "\"the most effective settings.\n",
            "The tables below summarize the top 1% accuracy results for each parameter,\n",
            "highlighting the top value for c1, c2, cu, and ϵ.\n",
            "Parameter\n",
            "Value\n",
            "c1\n",
            "8.0\n",
            "c2\n",
            "4.0\n",
            "cu\n",
            "0.25\n",
            "ϵ\n",
            "32.0\n",
            "Table 8: Top Values for Each Parameter\n",
            "The hyperparameters c1 = 8.0, c2 = 4.0, cu = 0.25, and ϵ = 32.0 were identified as\n",
            "the most effective, emphasizing the critical role of optimal hyperparameter selection\n",
            "in achieving peak classification accuracy. These findings underscore the necessity of\n",
            "finely tuning hyperparameters to optimize GBU-TSVM’s performance. While the\n",
            "model exhibits robustness across a range of values, pinpointing and configuring the\n",
            "most effective parameters are crucial steps toward maximizing classification accuracy.\n",
            "5. Conclusion\n",
            "In this paper, we proposed the Granular Ball-based Universum Twin Support\n",
            "Vector Machine (GBU-TSVM), leveraging granular-ball computing for enhanced\n",
            "32\"\n",
            "\n",
            "\n",
            "CONCISE SUMMARY:\u001b[0m\n",
            "Prompt after formatting:\n",
            "\u001b[32;1m\u001b[1;3mWrite a concise summary of the following:\n",
            "\n",
            "\n",
            "\"classification. Our model integrates traditional TSVM methodologies with granular-\n",
            "ball learning to effectively utilize Universum data.\n",
            "This approach allows for the\n",
            "incorporation of unlabeled samples, enriching the classifier’s performance by embed-\n",
            "ding prior domain knowledge. The experimental results on various UCI benchmark\n",
            "datasets demonstrate that GBU-TSVM achieves superior performance compared to\n",
            "traditional TSVMs and it’s variants, particularly in handling imbalanced and com-\n",
            "plex datasets. The incorporation of granular-ball structures significantly enhances\n",
            "the classifier’s robustness and accuracy. In conclusion, the proposed GBU-TSVM\n",
            "model provides a powerful framework for classification tasks, offering improved gen-\n",
            "eralization capabilities and resilience to data variations. Future work could explore\n",
            "the optimization of hyperparameters independently and extend the application of\n",
            "GBU-TSVM to multi-class classification problems.\n",
            "References\"\n",
            "\n",
            "\n",
            "CONCISE SUMMARY:\u001b[0m\n",
            "Prompt after formatting:\n",
            "\u001b[32;1m\u001b[1;3mWrite a concise summary of the following:\n",
            "\n",
            "\n",
            "\"References\n",
            "[1] Shuyin Xia, Guoyin Wang, and Xinbo Gao. Granular ball computing: an ef-\n",
            "ficient, robust, and interpretable adaptive multi-granularity representation and\n",
            "computation method. arXiv preprint arXiv:2304.11171, 2023.\n",
            "[2] Shuyin Xia, Yunsheng Liu, Xin Ding, Guoyin Wang, Hong Yu, and Yuoguo Luo.\n",
            "Granular ball computing classifiers for efficient, scalable and robust learning.\n",
            "Information Sciences, 483:136–152, 2019.\n",
            "[3] Jayadeva, Reshma Khemchandani, Suresh Chandra, et al. Twin support vector\n",
            "machines for pattern classification. IEEE Transactions on pattern analysis and\n",
            "machine intelligence, 29(5):905–910, 2007.\n",
            "[4] M Arun Kumar and Madan Gopal. Application of smoothing technique on twin\n",
            "support vector machines. Pattern Recognition Letters, 29(13):1842–1848, 2008.\n",
            "[5] Yuan-Hai Shao and Nai-Yang Deng. A coordinate descent margin based-twin\n",
            "support vector machine for classification. Neural networks, 25:114–121, 2012.\n",
            "[6] Jason Weston, Ronan Collobert, Fabian Sinz, L´\"\n",
            "\n",
            "\n",
            "CONCISE SUMMARY:\u001b[0m\n",
            "Prompt after formatting:\n",
            "\u001b[32;1m\u001b[1;3mWrite a concise summary of the following:\n",
            "\n",
            "\n",
            "\"eon Bottou, and Vladimir Vap-\n",
            "nik. Inference with the universum. In Proceedings of the 23rd international\n",
            "conference on Machine learning, pages 1009–1016, 2006.\n",
            "[7] Zhiquan Qi, Yingjie Tian, and Yong Shi. Twin support vector machine with\n",
            "universum data. Neural Networks, 36:112–119, 2012.\n",
            "33\"\n",
            "\n",
            "\n",
            "CONCISE SUMMARY:\u001b[0m\n",
            "Prompt after formatting:\n",
            "\u001b[32;1m\u001b[1;3mWrite a concise summary of the following:\n",
            "\n",
            "\n",
            "\"[8] Yitian Xu, Mei Chen, and Guohui Li. Least squares twin support vector machine\n",
            "with universum data for classification. International Journal of Systems Science,\n",
            "47(15):3637–3645, 2016.\n",
            "[9] Yitian Xu, Mei Chen, Zhiji Yang, and Guohui Li. ν-twin support vector machine\n",
            "with universum data for classification. Applied Intelligence, 44(4):956–968, 2016.\n",
            "[10] Bharat Richhariya and Muhammad Tanveer. A reduced universum twin support\n",
            "vector machine for class imbalance learning. Pattern Recognition, 102:107150,\n",
            "2020.\n",
            "[11] Hossein Moosaei, Fatemeh Bazikar, Saeed Ketabchi, and Milan Hlad´\n",
            "ık. Uni-\n",
            "versum parametric-margin ν-support vector machine for classification using the\n",
            "difference of convex functions algorithm. Applied Intelligence, 52(3):2634–2654,\n",
            "2022.\n",
            "[12] Hossein Moosaei, MA Ganaie, Milan Hlad´\n",
            "ık, and Muhammad Tanveer. Inverse\n",
            "free reduced universum twin support vector machine for imbalanced data clas-\n",
            "sification. Neural Networks, 157:125–135, 2023.\"\n",
            "\n",
            "\n",
            "CONCISE SUMMARY:\u001b[0m\n",
            "Prompt after formatting:\n",
            "\u001b[32;1m\u001b[1;3mWrite a concise summary of the following:\n",
            "\n",
            "\n",
            "\"sification. Neural Networks, 157:125–135, 2023.\n",
            "[13] Yanshan Xiao, Jing Wen, and Bo Liu. A new multi-task learning method with\n",
            "universum data. Applied Intelligence, 51:3421–3434, 2021.\n",
            "[14] Yanshan Xiao, Junyao Feng, and Bo Liu. A new transductive learning method\n",
            "with universum data. Applied Intelligence, 51(8):5571–5583, 2021.\n",
            "[15] Bikram Kumar and Deepak Gupta. Universum based lagrangian twin bounded\n",
            "support vector machine to classify eeg signals. Computer methods and programs\n",
            "in biomedicine, 208:106244, 2021.\n",
            "[16] Bo Liu, Ruiguang Huang, Yanshan Xiao, Junrui Liu, Kai Wang, Liangjiao Li,\n",
            "and Qihang Chen. Adaptive robust adaboost-based twin support vector machine\n",
            "with universum data. Information Sciences, 609:1334–1352, 2022.\n",
            "[17] Yanmeng Li and Huaijiang Sun. An improved parametric-margin universum\n",
            "tsvm. Neural Computing and Applications, 34(16):13987–14001, 2022.\n",
            "[18] Shuyin Xia, Guoyin Wang, Xinbo Gao, and Xiaoli Peng. Gbsvm: granular-ball\"\n",
            "\n",
            "\n",
            "CONCISE SUMMARY:\u001b[0m\n",
            "Prompt after formatting:\n",
            "\u001b[32;1m\u001b[1;3mWrite a concise summary of the following:\n",
            "\n",
            "\n",
            "\"support vector machine. arXiv preprint arXiv:2210.03120, 2022.\n",
            "34\"\n",
            "\n",
            "\n",
            "CONCISE SUMMARY:\u001b[0m\n",
            "\n",
            "\u001b[1m> Finished chain.\u001b[0m\n"
          ]
        },
        {
          "name": "stderr",
          "output_type": "stream",
          "text": [
            "/usr/local/lib/python3.10/dist-packages/huggingface_hub/utils/_token.py:89: UserWarning: \n",
            "The secret `HF_TOKEN` does not exist in your Colab secrets.\n",
            "To authenticate with the Hugging Face Hub, create a token in your settings tab (https://huggingface.co/settings/tokens), set it as secret in your Google Colab and restart your session.\n",
            "You will be able to reuse this secret in all of your notebooks.\n",
            "Please note that authentication is recommended but still optional to access public models or datasets.\n",
            "  warnings.warn(\n"
          ]
        },
        {
          "data": {
            "application/vnd.jupyter.widget-view+json": {
              "model_id": "01deaeb77a38497e90273cd9aa92fa5b",
              "version_major": 2,
              "version_minor": 0
            },
            "text/plain": [
              "tokenizer_config.json:   0%|          | 0.00/26.0 [00:00<?, ?B/s]"
            ]
          },
          "metadata": {},
          "output_type": "display_data"
        },
        {
          "data": {
            "application/vnd.jupyter.widget-view+json": {
              "model_id": "0ad56d98c55f4dd29cd70b0ed5968deb",
              "version_major": 2,
              "version_minor": 0
            },
            "text/plain": [
              "vocab.json:   0%|          | 0.00/1.04M [00:00<?, ?B/s]"
            ]
          },
          "metadata": {},
          "output_type": "display_data"
        },
        {
          "data": {
            "application/vnd.jupyter.widget-view+json": {
              "model_id": "43f20db44d614d9aa2e44f33155ab1eb",
              "version_major": 2,
              "version_minor": 0
            },
            "text/plain": [
              "merges.txt:   0%|          | 0.00/456k [00:00<?, ?B/s]"
            ]
          },
          "metadata": {},
          "output_type": "display_data"
        },
        {
          "data": {
            "application/vnd.jupyter.widget-view+json": {
              "model_id": "67da6b93e96f41e3ac3a815d8d0c87f2",
              "version_major": 2,
              "version_minor": 0
            },
            "text/plain": [
              "tokenizer.json:   0%|          | 0.00/1.36M [00:00<?, ?B/s]"
            ]
          },
          "metadata": {},
          "output_type": "display_data"
        },
        {
          "name": "stderr",
          "output_type": "stream",
          "text": [
            "/usr/local/lib/python3.10/dist-packages/huggingface_hub/file_download.py:1132: FutureWarning: `resume_download` is deprecated and will be removed in version 1.0.0. Downloads always resume when possible. If you want to force a new download, use `force_download=True`.\n",
            "  warnings.warn(\n"
          ]
        },
        {
          "data": {
            "application/vnd.jupyter.widget-view+json": {
              "model_id": "50dd300d0b554eb5823b7ac91db6fee3",
              "version_major": 2,
              "version_minor": 0
            },
            "text/plain": [
              "config.json:   0%|          | 0.00/665 [00:00<?, ?B/s]"
            ]
          },
          "metadata": {},
          "output_type": "display_data"
        },
        {
          "name": "stderr",
          "output_type": "stream",
          "text": [
            "Token indices sequence length is longer than the specified maximum sequence length for this model (5285 > 1024). Running this sequence through the model will result in indexing errors\n"
          ]
        },
        {
          "name": "stdout",
          "output_type": "stream",
          "text": [
            "\n",
            "\n",
            "\u001b[1m> Entering new StuffDocumentsChain chain...\u001b[0m\n",
            "\n",
            "\n",
            "\u001b[1m> Entering new LLMChain chain...\u001b[0m\n",
            "Prompt after formatting:\n",
            "\u001b[32;1m\u001b[1;3mWrite a concise summary of the following:\n",
            "\n",
            "\n",
            "\"Here is a concise summary:\n",
            "\n",
            "The Granular Ball Twin Support Vector Machine (GBU-TSVM) model represents data as granular balls instead of points, increasing robustness, efficiency, and interpretability. It also incorporates Universum data, which includes samples outside target classes, to improve generalization capabilities and accuracy.\n",
            "\n",
            "Here is a concise summary:\n",
            "\n",
            "The model uses additional knowledge to make more precise predictions and features a refined learning process with a modified hinge loss function that accounts for granular ball radii, leading to improved error measurement and decision boundary precision.\n",
            "\n",
            "Here is a concise summary:\n",
            "\n",
            "The authors propose a novel Granular Ball Twin Support Vector Machine with Universum Data (GBU-TSVM) that improves classification accuracy and efficiency by incorporating prior knowledge from Universum data and representing data instances as hyper-balls rather than points in feature space.\n",
            "\n",
            "The GBU-TSVM model improves robustness and efficiency in handling noisy and large datasets by grouping data points into granular balls, enhancing interpretability and noise resistance. It outperforms existing TSVM models in accuracy and computational efficiency, setting a new standard in data representation and classification.\n",
            "\n",
            "Here is a concise summary:\n",
            "\n",
            "The text appears to be a preprint submission to Elsevier, dated June 23, 2024, and includes topics related to universum data, classification, and Twin Support Vector Machine (TSVM), with corresponding authors M. A. Ganaie and Vrushank Ahire.\n",
            "\n",
            "Here is a concise summary:\n",
            "\n",
            "Support Vector Machines (SVMs) have made significant progress in classification tasks, but have limitations such as noise sensitivity and inefficiency with large datasets. To address these limitations, researchers have explored novel methods, including Granular Computing, which represents and processes information in a hierarchical manner to enhance SVM performance.\n",
            "\n",
            "Granular-ball Computing is a paradigm that partitions datasets into \"granular-balls\" of varying sizes, offering a robust framework for data analysis and knowledge discovery, with advantages in efficiency, noise robustness, and interpretability.\n",
            "\n",
            "Here is a concise summary:\n",
            "\n",
            "The Granular-ball Support Vector Machine (GB-SVM) is a classifier that uses granular-balls as input, but still struggles with noisy and outlier-prone datasets. Twin Support Vector Machines (TSVMs) is an alternative approach that constructs two non-parallel hyperplanes, one for each class, resulting in faster training and good generalization performance.\n",
            "\n",
            "Here is a concise summary:\n",
            "\n",
            "Researchers integrated Universum data into SVMs to enhance generalization performance. Universum data, which falls outside target classes, provides contextual information to improve learning. The Universum TSVM (U-TSVM) was developed, using two hinge loss functions to leverage prior knowledge and achieving superior performance.\n",
            "\n",
            "Here is a concise summary:\n",
            "\n",
            "The text discusses the integration of Universum learning and Transductive Support Vector Machines (TSVMs) to enhance traditional SVMs' performance in various tasks.\n",
            "\n",
            "Researchers in Granular-ball Computing have proposed various extensions to improve the limitations of existing methods, including introducing regularization terms and least-squares formulations to enhance generalization performance and computational efficiency. Additionally, they have addressed challenges such as class imbalance and multi-task learning scenarios by developing new methods, including RUTSVM-CIL and U Par-ν-SVM, to tackle these issues in large-scale datasets.\n",
            "\n",
            "Researchers have developed various methods to improve classification performance on imbalanced data by leveraging Universum data, including extensions to multi-task and transductive settings, and applications to EEG signal classification and robust twin support vector machines.\n",
            "\n",
            "Here is a concise summary:\n",
            "\n",
            "The proposed Granular Ball Twin Support Vector Machine with Universum Data (GBU-TSVM) combines the strengths of TSVM, Universum learning, and granular ball computing to improve robustness, efficiency, and interpretability in handling noisy and large datasets.\n",
            "\n",
            "The GBU-TSVM model combines Universum learning and granular ball computing to improve classification accuracy and efficiency. It addresses limitations of existing methods by mitigating noise and outliers, capturing prior knowledge, and ensuring faster training and good generalization performance.\n",
            "\n",
            "Here is a concise summary of the text:\n",
            "\n",
            "The manuscript discusses a new classification model, GBU-TSVM, and its foundation, implementation, and performance on benchmark datasets. It also reviews related work, including Support Vector Machines (SVMs), a widely adopted and effective methodology in machine learning for classification and regression tasks.\n",
            "\n",
            "The margin in a hyperplane is the distance to the nearest data points (support vectors) from each class. Maximizing this margin improves generalization performance and reduces overfitting risk.\n",
            "\n",
            "Here is a concise summary:\n",
            "\n",
            "The primal formulation of Support Vector Machine (SVM) optimization involves minimizing the norm of the weight vector ω and slack variables ξ, subject to constraints that ensure correct classification. The dual formulation, derived from the primal problem, is often computationally easier to handle. It involves maximizing a quadratic function of Lagrangian multipliers α, subject to constraints. The solution α* yields the optimal separating hyperplane (ω, b), which can be used for classification.\n",
            "\n",
            "SVMs can handle non-linearly separable data using the kernel trick, which computes the dot product of data points in a higher-dimensional feature space without explicitly transforming the data.\n",
            "\n",
            "Here is a concise summary:\n",
            "\n",
            "The Support Vector Machine (SVM) algorithm uses kernel functions (e.g. linear, polynomial, RBF) to map data points into a higher-dimensional space, enabling effective classification in high-dimensional spaces with limited samples. However, SVMs can struggle with noisy or outlier-laden data. The Granular Ball Support Vector Machine (GB-SVM) is an extension of SVM that represents data points as \"granular balls\" to improve robustness and handle uncertainties in classification tasks.\n",
            "\n",
            "Here is a concise summary:\n",
            "\n",
            "The Granular Ball SVM (GB-SVM) method represents data points as granular balls with a center and radius, accounting for variability and uncertainty in the data. This approach leads to more robust and efficient classification models, especially with noisy or outlier-prone data, by incorporating the internal structure of data clusters into the classification boundaries.\n",
            "\n",
            "The goal is to find the optimal hyperplane (ω, b) that separates the data points, subject to the constraint ω · ci + b = 0, where yi = −1.\n",
            "\n",
            "The primal formulation of the inseparable Granular Ball Support Vector Machine (GB-SVM) minimizes the weight vector norm and slack variables subject to constraints on margin and misclassification. The dual formulation, obtained through Lagrange multipliers, maximizes a quadratic function subject to constraints on the sum of Lagrange multipliers and their bounds.\n",
            "\n",
            "The dual problem of a Support Vector Machine (SVM) is formulated as a quadratic programming problem, maximizing a function of α (Lagrange multipliers) subject to constraints, which provides the optimal parameters (ω, b) for the separating hyperplane.\n",
            "\n",
            "Here is a concise summary:\n",
            "\n",
            "To find the optimal values of ω and b in GB-SVM, solve the convex optimization problem to find α, then compute ω and b using the support vectors. ω is calculated as a function of P and Q, and b is computed as the average of values derived from positive and negative support vectors. This approach enables GB-SVM to handle noise and outliers more effectively.\n",
            "\n",
            "Here is a concise summary:\n",
            "\n",
            "The stage is set for future model advancements, including integrating Universum data. The Twin Support Vector Machine (TSVM) algorithm, introduced by Jayadeva et al. in 2007, differs from traditional SVMs by constructing two non-parallel hyperplanes that are strategically positioned to better separate classes.\n",
            "\n",
            "Here is a concise summary:\n",
            "\n",
            "Twin Support Vector Machine (TSVM) is a classification approach that handles imbalanced datasets by constructing two non-parallel hyperplanes, one closer to each class. The optimal hyperplanes are determined by solving two Quadratic Programming Problems (QPPs), which minimize the distance between the hyperplanes and the respective classes while maintaining a distance of at least one from the other class.\n",
            "\n",
            "Here is a concise summary:\n",
            "\n",
            "The primal quadratic programming problems (QPPs) are formulated with regularization parameters c1 and c2, and are subject to certain constraints. The dual formulation of these QPPs is derived using Lagrange multipliers αi and βi, resulting in two maximization problems with constraints on α and β.\n",
            "\n",
            "Here is a concise summary:\n",
            "\n",
            "The text discusses two support vector machine (SVM) formulations: a dual problem-based SVM and the Universum-Twin Support Vector Machine (U-TSVM). The dual problem-based SVM uses hyperplanes to separate data, with solutions providing parameters for the hyperplanes. U-TSVM incorporates supplementary \"Universum\" data to enhance classification performance and improve model robustness by leveraging information about the underlying data distribution.\n",
            "\n",
            "Here is a concise summary:\n",
            "\n",
            "The U-TSVM method combines labeled data (D) with Universum data (U) to classify input datapoints into +1 or -1 classes. The labeled data consists of input-output pairs, while the Universum data consists of only input points. The goal is to derive a function that predicts the label for any input point based on its distance to two nonparallel hyperplanes, using a quadratic programming approach with hinge loss functions.\n",
            "\n",
            "The text describes a pair of optimization problems (20) and (22) with constraints (21) and (23), respectively. The problems involve minimizing a quadratic objective function with hinge loss terms, subject to linear inequality constraints. The optimization variables include ω+, b+, ξ, ψ, ω-, b-, η, and ψ*. The problems are related to a Universum-based classification model, where the hinge loss terms are used to approximate the loss function.\n",
            "\n",
            "Here is a concise summary:\n",
            "\n",
            "The text derives the dual formulation for an optimization problem involving a positive hyperplane. The equality condition is reformulated to express ϑ+ in terms of α, µ, and other variables. The dual formulation is then presented, which involves maximizing a Lagrangian function subject to certain constraints on α and µ.\n",
            "\n",
            "Here is a concise summary of the text:\n",
            "\n",
            "The text describes a method for classifying data using a twin support vector machine with universum data. The method involves finding two hyperplanes, one for the positive class and one for the negative class, by maximizing a quadratic function subject to certain constraints. The hyperplanes are defined by parameters ϑ+ and ϑ-, which are used to classify new data points based on their minimum distance to the hyperplanes. The method is formulated for both linear and non-linear cases.\n",
            "\n",
            "A granular-ball (GBj) is a set of k data points (zi) and its center (c) is calculated as the average of these points.\n",
            "\n",
            "Here is a concise summary:\n",
            "\n",
            "A granular-ball is a set of k samples with a radius calculated using average or maximum distance from the center. The goal is to optimize granular-ball quality by minimizing the total number of samples and granular-balls, while ensuring each granular-ball meets a certain quality threshold, using a combination of traditional learning methods and granular-ball learning methods.\n",
            "\n",
            "Here is a concise summary:\n",
            "\n",
            "The classification approach is expanded by integrating Universum data into the granular-ball computing framework. The augmented training set, ˜T, combines labeled granular-balls from both positive (T+) and negative (T-) classes, along with Universum samples (U). The components of ˜T are defined, including centroids and radii for granular-balls in each class, and Universum samples without labels.\n",
            "\n",
            "Here is a concise summary:\n",
            "\n",
            "The text describes a classification problem with two classes (+1 and -1) and an additional set of unlabeled Universum data. The data is represented as granular-balls, each characterized by a centroid, radius, and class label. The parameters A, B, R+, R-, and Ru are defined to represent the centroids and radii of the granular-balls in the positive and negative classes, as well as the Universum data.\n",
            "\n",
            "Here is a concise summary:\n",
            "\n",
            "The GBU-TSVM (Granular-Ball Universal Twin Support Vector Machine) algorithm aims to classify input data points by deriving a decision function that considers distances to granular-balls of both classes, rather than individual points or hyperplanes. The algorithm uses an ϵ-insensitive loss function that integrates prior information and accounts for error tolerance within a specified margin.\n",
            "\n",
            "Here is a concise summary:\n",
            "\n",
            "The article discusses the incorporation of prior knowledge from Universum samples into the Twin Support Vector Machines (TSVM) algorithm. Two modified hinge loss functions, ψi and ψ∗i, are introduced to adjust the loss based on the distance of Universum samples from the decision boundary. These functions are used in the U-TSVM and GBU-TSVM algorithms to improve the classification performance.\n",
            "\n",
            "Here is a concise summary:\n",
            "\n",
            "The GBU-TSVM model uses two adjustment terms, ψ∗i and ψ∗i, to incorporate Universum samples into the learning process. These terms are defined as max functions that depend on the geometry of the samples, with parameters ϵ, fω+,b+, ci, r∗i, fω-,b-, ci, and r∗i.\"\n",
            "\n",
            "\n",
            "CONCISE SUMMARY:\u001b[0m\n",
            "\n",
            "\u001b[1m> Finished chain.\u001b[0m\n",
            "\n",
            "\u001b[1m> Finished chain.\u001b[0m\n",
            "\n",
            "\n",
            "\u001b[1m> Entering new StuffDocumentsChain chain...\u001b[0m\n",
            "\n",
            "\n",
            "\u001b[1m> Entering new LLMChain chain...\u001b[0m\n",
            "Prompt after formatting:\n",
            "\u001b[32;1m\u001b[1;3mWrite a concise summary of the following:\n",
            "\n",
            "\n",
            "\"Here is a concise summary:\n",
            "\n",
            "GBU-TSVM (Granular Ball Universal Twin Support Vector Machine) classifies new granular ball points as +1 or -1 based on their distance from two nonparallel hyperplanes. The model incorporates prior knowledge from the Universum by modifying the hinge loss functions in two quadratic programming problems (QPPs), which optimize the hyperplanes and slack variables while considering the Universum samples and their radii.\n",
            "\n",
            "The text appears to be a caption for a figure, specifically Figure 3, which shows the Hinge Loss (ψ) of granular balls generated from the Universum data.\n",
            "\n",
            "Here is a concise summary:\n",
            "\n",
            "The Lagrangian function L(Ω) is defined, where Ω is a set of variables including ω+, b+, ξ, ψ, and Lagrange multipliers α, β, µ, and γ. The dual formulation is obtained using the Karush-Kuhn-Tucker (KKT) conditions, which involves maximizing L(Ω) subject to certain constraints. The partial derivatives of L(Ω) with respect to ω+, b+, ξ, and ψ are set to zero, and the Lagrange multipliers are non-negative.\n",
            "\n",
            "Here is a concise summary:\n",
            "\n",
            "The text derives the Wolfe dual optimization problem for a support vector machine (SVM) with two classes. The primal problem is formulated in equations (54)-(57), and the dual problem is derived through equations (64)-(73). The dual problem is a maximization problem with two variables, α and µ, subject to certain constraints. The solution involves finding the optimal hyperplane parameters, ϑ+, which separate the positive class from the rest.\n",
            "\n",
            "Here is a concise summary:\n",
            "\n",
            "The Granular Ball Twin Support Vector Machine (GBU-TSVM) is formulated as a quadratic programming problem to find the separating hyperplanes for the positive and negative classes. The problem is solved using Lagrange multipliers, and the hyperplanes are derived from the solutions. A new sample is classified based on its minimum distance to the hyperplanes. The approach is then extended to the non-linear case using the Radial Basis Function (RBF) kernel.\n",
            "\n",
            "The RBF kernel maps data points to a higher-dimensional feature space for computation and decision-making, including generating granular balls in high-dimensional space.\n",
            "\n",
            "Here is a concise summary:\n",
            "\n",
            "The GBU-TSVM method maps data points from the input space to the feature space using the RBF kernel, where granular balls are formed directly in the feature space to avoid inaccurate radius mapping. The center and radius of each granular ball are calculated in the feature space using the mapped data points.\n",
            "\n",
            "Here is a concise summary:\n",
            "\n",
            "The text describes a machine learning approach using kernel functions and nonlinear optimization problems. It defines an augmented training set `T˜` consisting of labeled granular-balls and Universum samples. The goal is to find hyperplanes that separate the data using Gaussian kernel functions. The primal formulation involves minimizing two objective functions, each with constraints, to find the optimal hyperplanes.\n",
            "\n",
            "Here is a concise summary:\n",
            "\n",
            "The text presents a dual formulation of an optimization problem, consisting of two inequalities: (96) and the one below it, with variables η, ψ*, and parameters K, CT, ω, e, b, R, ϵ, and U.\n",
            "\n",
            "The text presents a dual optimization problem for training a Support Vector Machine (SVM) with two hyperplanes, one for the positive class and one for the negative class. The optimization problems are formulated in terms of maximizing a Lagrangian function subject to certain constraints, where the variables are the parameters of the hyperplanes. The matrices and vectors used in the formulation are defined in terms of kernel functions and data points.\n",
            "\n",
            "Here is a concise summary:\n",
            "\n",
            "The rating hyperplane for the negative class is reformulated as an equation: QTQθ -+ P Tλ - STν = 0.\n",
            "\n",
            "Here is a concise summary:\n",
            "\n",
            "The text describes a method for classification using separating hyperplanes derived from equations (101) and (106). The hyperplanes are defined by equations (107) and the classification of a sample is based on its minimum distance to these hyperplanes (equation 108). The method is then evaluated using several UCI benchmark datasets on a PC with a specific configuration, using Google Colab as the software environment.\n",
            "\n",
            "Here is a concise summary:\n",
            "\n",
            "The authors used cvx.opt.solvers to solve a quadratic programming problem for their classification model, tuning hyperparameters c1, c2, and cu (set equal for simplicity), and ϵ (selected from 6 values). They also observed and recorded the minimum data points (num) and purity (pur) for ball generation in each dataset.\n",
            "\n",
            "Here is a concise summary:\n",
            "\n",
            "Table 1 presents information on 19 datasets, including the number of samples, features, and percentage of majority class for each. The table is used to determine favorable ranges for hyperparameters in a machine learning experiment.\n",
            "\n",
            "Two methods were used to generate Universum data: (1) splitting data into training, test, and Universum sets, and (2) generating Universum data from training data balls. The first method was used consistently across all datasets due to the computational expense of the second method.\n",
            "\n",
            "Universum knowledge is obtained by randomly splitting the data into 50% for training.\n",
            "\n",
            "The study compared the performance of four machine learning models (GBU-TSVM, U-TSVM, TSVM, and Pin-GTSVM) on various datasets using 5-fold cross-validation. The results show that the GBU-TSVM model consistently outperforms the other models, achieving the highest average accuracy across different datasets.\n",
            "\n",
            "Here is a concise summary:\n",
            "\n",
            "Experiments showed that GBU-TSVM outperformed other models in accuracy and speed as dataset sizes increased. For example, with 1022 samples, GBU-TSVM achieved 83.06% accuracy, outperforming others, and was 16-58 times faster than U-TSVM and TSVM, respectively, due to efficient data representation.\n",
            "\n",
            "Here is a concise summary:\n",
            "\n",
            "GBU-TSVM performs well on smaller datasets (<300 samples), maintaining high accuracy and efficiency. It achieves the highest accuracy in 8 out of 10 datasets, outperforming other models, including U-TSVM, Pin-GTSVM, and others, with a significant accuracy margin.\n",
            "\n",
            "GBU-TSVM excels on challenging datasets, particularly in medical applications like Echocardiogram and Mammographic, where high accuracy is crucial, making it a promising tool for real-world medical diagnoses.\n",
            "\n",
            "The Friedman Test was used to compare the performance of multiple models, including GBY-TSVM, U-TSVM, TSVM, and Pin-GTSVM. The results show that GBY-TSVM outperforms the other models, with a statistically significant difference in accuracy (p-value = 0.0027).\n",
            "\n",
            "A statistical test was performed to compare the accuracy of multiple models. The p-value was less than 0.05, indicating significant differences in accuracy among the models. Additionally, a Wilcoxon Signed-Rank Test was conducted to compare each model's performance pairwise.\n",
            "\n",
            "The Wilcoxon Signed-Rank Test is used to compare paired samples and determine if their population mean ranks differ. The test statistic (W) is calculated based on the differences between pairs, their signs, and ranks. The null hypothesis assumes no difference, while the alternative hypothesis suggests a significant difference. In the experiment, the test results show significant differences in performance between GBU-TSVM and other models (U-TSVM, TSVM, and Pin-GTSVM) with p-values < 0.004.\n",
            "\n",
            "Here is a concise summary:\n",
            "\n",
            "The Kruskal-Wallis test is used to compare the performance of multiple TSVM variants across multiple datasets, assessing significant differences in performance among the variants.\n",
            "\n",
            "Here is a concise summary:\n",
            "\n",
            "The Kruskal-Wallis test showed significant differences in performance among TSVM variants (p-value = 0.0139). This means at least one variant performs differently compared to others across datasets. A Win-Tie-Loss analysis was also conducted to further compare the models' performance.\n",
            "\n",
            "GBU-TSVM outperforms U-TSVM, TSVM, and Pin-GTSVM in accuracy across datasets, winning 9 times and losing only 1 time in each comparison.\n",
            "\n",
            "Here is a concise summary:\n",
            "\n",
            "A parameter sensitivity analysis was conducted on the GBU-TSVM model using the Statlog-Heart dataset. Hyperparameters c1, c2, cu, and ϵ were varied across a range of powers of 2 from 2^-8 to 2^8 to understand their impact on accuracy, while keeping num and pur fixed at 20 and 0.88, respectively.\n",
            "\n",
            "Here is a concise summary:\n",
            "\n",
            "The optimal hyperparameters for the Granular Ball-based Universum Twin Support Vector Machine (GBU-TSVM) model are identified as c1=8.0, c2=4.0, cu=0.25, and ϵ=32.0, emphasizing the importance of fine-tuning hyperparameters to maximize classification accuracy.\n",
            "\n",
            "Here is a concise summary:\n",
            "\n",
            "A new classification model, GBU-TSVM, combines traditional TSVM with granular-ball learning to utilize Universum data, incorporating unlabeled samples and prior domain knowledge. Experimental results show GBU-TSVM outperforms traditional TSVMs, especially on imbalanced and complex datasets, and provides a robust and accurate framework for classification tasks.\n",
            "\n",
            "Here is a concise summary of the references:\n",
            "\n",
            "The references cite research on granular ball computing, a method for adaptive multi-granularity representation and computation, and its application in classifiers for efficient and robust learning. They also mention Twin Support Vector Machines (TSVMs) and their variations, including smoothing techniques and coordinate descent methods, for pattern classification.\n",
            "\n",
            "The text references two research papers on machine learning, one by Bottou et al. (2006) and another by Qi et al. (2012), both of which discuss the concept of \"universum\" in the context of inference and support vector machines.\n",
            "\n",
            "Here is a concise summary:\n",
            "\n",
            "The references describe various modifications to twin support vector machines (TWSVMs) for classification, incorporating universum data to improve performance. These modifications include least squares TWSVM, ν-TWSVM, reduced universum TWSVM, and universum parametric-margin ν-SVM, with applications to class imbalance learning and imbalanced data classification.\n",
            "\n",
            "Here is a concise summary:\n",
            "\n",
            "The references list 8 research papers on machine learning and neural networks, specifically on universum data and its applications in classification, transductive learning, and support vector machines.\n",
            "\n",
            "Here is a concise summary:\n",
            "\n",
            "The article discusses Support Vector Machines (SVMs) and is available as an arXiv preprint with the identifier arXiv:2210.03120, published in 2022.\"\n",
            "\n",
            "\n",
            "CONCISE SUMMARY:\u001b[0m\n",
            "\n",
            "\u001b[1m> Finished chain.\u001b[0m\n",
            "\n",
            "\u001b[1m> Finished chain.\u001b[0m\n",
            "\n",
            "\n",
            "\u001b[1m> Entering new LLMChain chain...\u001b[0m\n",
            "Prompt after formatting:\n",
            "\u001b[32;1m\u001b[1;3mWrite a concise summary of the following:\n",
            "\n",
            "\n",
            "\"Here is a concise summary of the text:\n",
            "\n",
            "The Granular Ball Twin Support Vector Machine (GBU-TSVM) is a novel classification model that combines the strengths of Twin Support Vector Machines (TSVMs), Universum learning, and granular ball computing. It represents data as granular balls instead of points, improving robustness, efficiency, and interpretability. The model incorporates prior knowledge from Universum data to enhance generalization capabilities and accuracy. It uses modified hinge loss functions to account for granular ball radii, leading to improved error measurement and decision boundary precision. The GBU-TSVM model outperforms existing TSVM models in accuracy and computational efficiency, setting a new standard in data representation and classification.\n",
            "\n",
            "Here is a concise summary of the text:\n",
            "\n",
            "The Granular Ball Universal Twin Support Vector Machine (GBU-TSVM) is a classification model that combines traditional Twin Support Vector Machines (TSVMs) with granular-ball learning to utilize Universum data, incorporating unlabeled samples and prior domain knowledge. The model uses a quadratic programming problem to find separating hyperplanes for the positive and negative classes, and a new sample is classified based on its minimum distance to the hyperplanes. Experimental results show that GBU-TSVM outperforms traditional TSVMs, especially on imbalanced and complex datasets, and provides a robust and accurate framework for classification tasks. The model is evaluated using various UCI benchmark datasets and compared to other TSVM variants, with statistical tests showing significant differences in performance. A parameter sensitivity analysis is also conducted to identify the optimal hyperparameters for the GBU-TSVM model.\"\n",
            "\n",
            "\n",
            "CONCISE SUMMARY:\u001b[0m\n",
            "\n",
            "\u001b[1m> Finished chain.\u001b[0m\n",
            "\n",
            "\u001b[1m> Finished chain.\u001b[0m\n"
          ]
        },
        {
          "data": {
            "application/vnd.google.colaboratory.intrinsic+json": {
              "type": "string"
            },
            "text/plain": [
              "'Here is a concise summary of the text:\\n\\nThe Granular Ball Universal Twin Support Vector Machine (GBU-TSVM) is a novel classification model that combines Twin Support Vector Machines with granular-ball learning and Universum data. It outperforms traditional TSVMs in accuracy and efficiency, especially on imbalanced and complex datasets, and provides a robust framework for classification tasks.'"
            ]
          },
          "execution_count": 168,
          "metadata": {},
          "output_type": "execute_result"
        }
      ],
      "source": [
        "chain.run(club_text)"
      ]
    },
    {
      "cell_type": "markdown",
      "metadata": {
        "id": "bTlpsEvgq8KX"
      },
      "source": [
        "---"
      ]
    },
    {
      "cell_type": "markdown",
      "metadata": {
        "id": "6vYL9KLIq9Aw"
      },
      "source": [
        "# Agents\n",
        "\n",
        "The language model that drives decision making.\n",
        "\n",
        "More specifically, an agent takes in an input and returns a response corresponding to an action to take along with an action input. You can see different types of agents (which are better for different use cases)."
      ]
    },
    {
      "cell_type": "code",
      "execution_count": 169,
      "metadata": {
        "id": "VFuZS6JUpwQW"
      },
      "outputs": [],
      "source": [
        "from langchain.agents import load_tools\n",
        "from langchain.agents import initialize_agent\n",
        "from langchain_groq import ChatGroq\n",
        "import json"
      ]
    },
    {
      "cell_type": "code",
      "execution_count": 171,
      "metadata": {
        "id": "QmQnlw3Irl3D"
      },
      "outputs": [],
      "source": [
        "chat = ChatGroq(\n",
        "    temperature = 0.7,\n",
        "    model = \"llama3-70b-8192\",\n",
        "    api_key = groq_api_key\n",
        ")"
      ]
    },
    {
      "cell_type": "code",
      "execution_count": 176,
      "metadata": {
        "id": "dRSWuNlvsdk_"
      },
      "outputs": [],
      "source": [
        "pip install -qU google-search-results"
      ]
    },
    {
      "cell_type": "code",
      "execution_count": 177,
      "metadata": {
        "id": "c7tJqGl7r4MK"
      },
      "outputs": [],
      "source": [
        "toolkit = load_tools([\"serpapi\"],llm=chat,serpapi_api_key=serp_api_key)"
      ]
    },
    {
      "cell_type": "code",
      "execution_count": 179,
      "metadata": {
        "colab": {
          "base_uri": "https://localhost:8080/"
        },
        "id": "dovrJG8gsbNJ",
        "outputId": "f5ddfdaa-2c1e-4229-8c6d-b2e956154328"
      },
      "outputs": [
        {
          "name": "stderr",
          "output_type": "stream",
          "text": [
            "/usr/local/lib/python3.10/dist-packages/langchain_core/_api/deprecation.py:139: LangChainDeprecationWarning: The function `initialize_agent` was deprecated in LangChain 0.1.0 and will be removed in 0.3.0. Use Use new agent constructor methods like create_react_agent, create_json_agent, create_structured_chat_agent, etc. instead.\n",
            "  warn_deprecated(\n"
          ]
        }
      ],
      "source": [
        "agent = initialize_agent(toolkit, chat ,agent=\"zero-shot-react-description\",verbose=True,return_intermediate_steps=True)"
      ]
    },
    {
      "cell_type": "code",
      "execution_count": 180,
      "metadata": {
        "colab": {
          "base_uri": "https://localhost:8080/"
        },
        "id": "pFJwEkVgtJCa",
        "outputId": "5b10c050-988a-416b-9c65-0ff2f062d7fe"
      },
      "outputs": [
        {
          "name": "stderr",
          "output_type": "stream",
          "text": [
            "/usr/local/lib/python3.10/dist-packages/langchain_core/_api/deprecation.py:139: LangChainDeprecationWarning: The method `Chain.__call__` was deprecated in langchain 0.1.0 and will be removed in 0.3.0. Use invoke instead.\n",
            "  warn_deprecated(\n"
          ]
        },
        {
          "name": "stdout",
          "output_type": "stream",
          "text": [
            "\n",
            "\n",
            "\u001b[1m> Entering new AgentExecutor chain...\u001b[0m\n",
            "\u001b[32;1m\u001b[1;3mThought: I need to find the party that Devendra Fadnavis is a member of, and then find the year of establishment of that party.\n",
            "\n",
            "Action: Search\n",
            "Action Input: \"Devendra Fadnavis party\"\u001b[0m\n",
            "Observation: \u001b[36;1m\u001b[1;3mBharatiya Janata Party\u001b[0m\n",
            "Thought:\u001b[32;1m\u001b[1;3mThought: I now know that Devendra Fadnavis is a member of the Bharatiya Janata Party. Now I need to find the year of establishment of the Bharatiya Janata Party.\n",
            "\n",
            "Action: Search\n",
            "Action Input: \"Bharatiya Janata Party establishment year\"\u001b[0m\n",
            "Observation: \u001b[36;1m\u001b[1;3mApril 6, 1980, India\u001b[0m\n",
            "Thought:\u001b[32;1m\u001b[1;3mThought: I now know the final answer\n",
            "Final Answer: 1980\u001b[0m\n",
            "\n",
            "\u001b[1m> Finished chain.\u001b[0m\n"
          ]
        }
      ],
      "source": [
        "response = agent({\"input\":\"What is the year of establishment of the party\"\n",
        "                  \"Devendra Fadnavis is a member of?\"})"
      ]
    },
    {
      "cell_type": "code",
      "execution_count": null,
      "metadata": {
        "id": "dHtPR62Wt-gt"
      },
      "outputs": [],
      "source": []
    }
  ],
  "metadata": {
    "colab": {
      "collapsed_sections": [
        "8sycG-h5vSnu",
        "lACG27JFvqYY",
        "6RsumqrdyRvE",
        "3WO0a_A__kBp",
        "uY9qmY8zLbE4",
        "LiV5VmzVVwaN",
        "xlfv1CHr-ms7",
        "sXqTXOD4L1Pt",
        "aRyrnbpqmTjZ"
      ],
      "provenance": []
    },
    "kernelspec": {
      "display_name": "Python 3",
      "name": "python3"
    },
    "language_info": {
      "name": "python"
    },
    "widgets": {
      "application/vnd.jupyter.widget-state+json": {
        "01deaeb77a38497e90273cd9aa92fa5b": {
          "model_module": "@jupyter-widgets/controls",
          "model_module_version": "1.5.0",
          "model_name": "HBoxModel",
          "state": {
            "_dom_classes": [],
            "_model_module": "@jupyter-widgets/controls",
            "_model_module_version": "1.5.0",
            "_model_name": "HBoxModel",
            "_view_count": null,
            "_view_module": "@jupyter-widgets/controls",
            "_view_module_version": "1.5.0",
            "_view_name": "HBoxView",
            "box_style": "",
            "children": [
              "IPY_MODEL_6816a53883a344feb42a7909b278c6c1",
              "IPY_MODEL_ade95e037f54406eb0fa0b9a6ee1d11b",
              "IPY_MODEL_1dbafe6a69334af1ae2e7ed3af5d9a08"
            ],
            "layout": "IPY_MODEL_8b04a0f0b7e84631b70ab935c63c8cc9"
          }
        },
        "071eaaf608514e44bb18bcb8fedbae2b": {
          "model_module": "@jupyter-widgets/base",
          "model_module_version": "1.2.0",
          "model_name": "LayoutModel",
          "state": {
            "_model_module": "@jupyter-widgets/base",
            "_model_module_version": "1.2.0",
            "_model_name": "LayoutModel",
            "_view_count": null,
            "_view_module": "@jupyter-widgets/base",
            "_view_module_version": "1.2.0",
            "_view_name": "LayoutView",
            "align_content": null,
            "align_items": null,
            "align_self": null,
            "border": null,
            "bottom": null,
            "display": null,
            "flex": null,
            "flex_flow": null,
            "grid_area": null,
            "grid_auto_columns": null,
            "grid_auto_flow": null,
            "grid_auto_rows": null,
            "grid_column": null,
            "grid_gap": null,
            "grid_row": null,
            "grid_template_areas": null,
            "grid_template_columns": null,
            "grid_template_rows": null,
            "height": null,
            "justify_content": null,
            "justify_items": null,
            "left": null,
            "margin": null,
            "max_height": null,
            "max_width": null,
            "min_height": null,
            "min_width": null,
            "object_fit": null,
            "object_position": null,
            "order": null,
            "overflow": null,
            "overflow_x": null,
            "overflow_y": null,
            "padding": null,
            "right": null,
            "top": null,
            "visibility": null,
            "width": null
          }
        },
        "0ad56d98c55f4dd29cd70b0ed5968deb": {
          "model_module": "@jupyter-widgets/controls",
          "model_module_version": "1.5.0",
          "model_name": "HBoxModel",
          "state": {
            "_dom_classes": [],
            "_model_module": "@jupyter-widgets/controls",
            "_model_module_version": "1.5.0",
            "_model_name": "HBoxModel",
            "_view_count": null,
            "_view_module": "@jupyter-widgets/controls",
            "_view_module_version": "1.5.0",
            "_view_name": "HBoxView",
            "box_style": "",
            "children": [
              "IPY_MODEL_f9ca87dc11ac4ab39b994f8b9a136dbd",
              "IPY_MODEL_c457907ddd0348ab826392e30da5fff8",
              "IPY_MODEL_4ed2bf91e49b429582e74c728c650a35"
            ],
            "layout": "IPY_MODEL_76af60af2df944a29250f028cd7fcb51"
          }
        },
        "0c96f54abb1146f6a28c88a0196c9020": {
          "model_module": "@jupyter-widgets/controls",
          "model_module_version": "1.5.0",
          "model_name": "ProgressStyleModel",
          "state": {
            "_model_module": "@jupyter-widgets/controls",
            "_model_module_version": "1.5.0",
            "_model_name": "ProgressStyleModel",
            "_view_count": null,
            "_view_module": "@jupyter-widgets/base",
            "_view_module_version": "1.2.0",
            "_view_name": "StyleView",
            "bar_color": null,
            "description_width": ""
          }
        },
        "0cd6f7036b4c4818ae8955c0299487f0": {
          "model_module": "@jupyter-widgets/controls",
          "model_module_version": "1.5.0",
          "model_name": "DescriptionStyleModel",
          "state": {
            "_model_module": "@jupyter-widgets/controls",
            "_model_module_version": "1.5.0",
            "_model_name": "DescriptionStyleModel",
            "_view_count": null,
            "_view_module": "@jupyter-widgets/base",
            "_view_module_version": "1.2.0",
            "_view_name": "StyleView",
            "description_width": ""
          }
        },
        "0d6c16ff0eb84b159905a4a27f1546bc": {
          "model_module": "@jupyter-widgets/controls",
          "model_module_version": "1.5.0",
          "model_name": "DescriptionStyleModel",
          "state": {
            "_model_module": "@jupyter-widgets/controls",
            "_model_module_version": "1.5.0",
            "_model_name": "DescriptionStyleModel",
            "_view_count": null,
            "_view_module": "@jupyter-widgets/base",
            "_view_module_version": "1.2.0",
            "_view_name": "StyleView",
            "description_width": ""
          }
        },
        "10e67ae197c245389b57a8365b36bc69": {
          "model_module": "@jupyter-widgets/controls",
          "model_module_version": "1.5.0",
          "model_name": "ProgressStyleModel",
          "state": {
            "_model_module": "@jupyter-widgets/controls",
            "_model_module_version": "1.5.0",
            "_model_name": "ProgressStyleModel",
            "_view_count": null,
            "_view_module": "@jupyter-widgets/base",
            "_view_module_version": "1.2.0",
            "_view_name": "StyleView",
            "bar_color": null,
            "description_width": ""
          }
        },
        "14bfcaf4721b4bb69e0ab3485f826254": {
          "model_module": "@jupyter-widgets/base",
          "model_module_version": "1.2.0",
          "model_name": "LayoutModel",
          "state": {
            "_model_module": "@jupyter-widgets/base",
            "_model_module_version": "1.2.0",
            "_model_name": "LayoutModel",
            "_view_count": null,
            "_view_module": "@jupyter-widgets/base",
            "_view_module_version": "1.2.0",
            "_view_name": "LayoutView",
            "align_content": null,
            "align_items": null,
            "align_self": null,
            "border": null,
            "bottom": null,
            "display": null,
            "flex": null,
            "flex_flow": null,
            "grid_area": null,
            "grid_auto_columns": null,
            "grid_auto_flow": null,
            "grid_auto_rows": null,
            "grid_column": null,
            "grid_gap": null,
            "grid_row": null,
            "grid_template_areas": null,
            "grid_template_columns": null,
            "grid_template_rows": null,
            "height": null,
            "justify_content": null,
            "justify_items": null,
            "left": null,
            "margin": null,
            "max_height": null,
            "max_width": null,
            "min_height": null,
            "min_width": null,
            "object_fit": null,
            "object_position": null,
            "order": null,
            "overflow": null,
            "overflow_x": null,
            "overflow_y": null,
            "padding": null,
            "right": null,
            "top": null,
            "visibility": null,
            "width": null
          }
        },
        "1dbafe6a69334af1ae2e7ed3af5d9a08": {
          "model_module": "@jupyter-widgets/controls",
          "model_module_version": "1.5.0",
          "model_name": "HTMLModel",
          "state": {
            "_dom_classes": [],
            "_model_module": "@jupyter-widgets/controls",
            "_model_module_version": "1.5.0",
            "_model_name": "HTMLModel",
            "_view_count": null,
            "_view_module": "@jupyter-widgets/controls",
            "_view_module_version": "1.5.0",
            "_view_name": "HTMLView",
            "description": "",
            "description_tooltip": null,
            "layout": "IPY_MODEL_47a2adbf36174274a5f2bfad8ecaf8db",
            "placeholder": "​",
            "style": "IPY_MODEL_9fa813c3a35249c98a21a0458367e276",
            "value": " 26.0/26.0 [00:00&lt;00:00, 1.14kB/s]"
          }
        },
        "2c537e209fa449709d9b5ff556aef696": {
          "model_module": "@jupyter-widgets/controls",
          "model_module_version": "1.5.0",
          "model_name": "HTMLModel",
          "state": {
            "_dom_classes": [],
            "_model_module": "@jupyter-widgets/controls",
            "_model_module_version": "1.5.0",
            "_model_name": "HTMLModel",
            "_view_count": null,
            "_view_module": "@jupyter-widgets/controls",
            "_view_module_version": "1.5.0",
            "_view_name": "HTMLView",
            "description": "",
            "description_tooltip": null,
            "layout": "IPY_MODEL_fb8b0eed71da48f4887b57fe4039cd72",
            "placeholder": "​",
            "style": "IPY_MODEL_3f40c18c2b8b4736906f1b466dcd1ca4",
            "value": "config.json: 100%"
          }
        },
        "2d72976e426e46dab21f6d0be14ad179": {
          "model_module": "@jupyter-widgets/controls",
          "model_module_version": "1.5.0",
          "model_name": "HTMLModel",
          "state": {
            "_dom_classes": [],
            "_model_module": "@jupyter-widgets/controls",
            "_model_module_version": "1.5.0",
            "_model_name": "HTMLModel",
            "_view_count": null,
            "_view_module": "@jupyter-widgets/controls",
            "_view_module_version": "1.5.0",
            "_view_name": "HTMLView",
            "description": "",
            "description_tooltip": null,
            "layout": "IPY_MODEL_071eaaf608514e44bb18bcb8fedbae2b",
            "placeholder": "​",
            "style": "IPY_MODEL_fe4da75975c8447fae978c6f9767d883",
            "value": " 456k/456k [00:00&lt;00:00, 9.47MB/s]"
          }
        },
        "34d217abd9cc42c083af3c1803765dc4": {
          "model_module": "@jupyter-widgets/controls",
          "model_module_version": "1.5.0",
          "model_name": "HTMLModel",
          "state": {
            "_dom_classes": [],
            "_model_module": "@jupyter-widgets/controls",
            "_model_module_version": "1.5.0",
            "_model_name": "HTMLModel",
            "_view_count": null,
            "_view_module": "@jupyter-widgets/controls",
            "_view_module_version": "1.5.0",
            "_view_name": "HTMLView",
            "description": "",
            "description_tooltip": null,
            "layout": "IPY_MODEL_ee5612ce9bfe4345b35b7ee9f6a592a0",
            "placeholder": "​",
            "style": "IPY_MODEL_4ea25b6a6bee4a359cfeddff839e7252",
            "value": " 665/665 [00:00&lt;00:00, 29.6kB/s]"
          }
        },
        "357a8c0623f54177bd672f0ed4f9df75": {
          "model_module": "@jupyter-widgets/base",
          "model_module_version": "1.2.0",
          "model_name": "LayoutModel",
          "state": {
            "_model_module": "@jupyter-widgets/base",
            "_model_module_version": "1.2.0",
            "_model_name": "LayoutModel",
            "_view_count": null,
            "_view_module": "@jupyter-widgets/base",
            "_view_module_version": "1.2.0",
            "_view_name": "LayoutView",
            "align_content": null,
            "align_items": null,
            "align_self": null,
            "border": null,
            "bottom": null,
            "display": null,
            "flex": null,
            "flex_flow": null,
            "grid_area": null,
            "grid_auto_columns": null,
            "grid_auto_flow": null,
            "grid_auto_rows": null,
            "grid_column": null,
            "grid_gap": null,
            "grid_row": null,
            "grid_template_areas": null,
            "grid_template_columns": null,
            "grid_template_rows": null,
            "height": null,
            "justify_content": null,
            "justify_items": null,
            "left": null,
            "margin": null,
            "max_height": null,
            "max_width": null,
            "min_height": null,
            "min_width": null,
            "object_fit": null,
            "object_position": null,
            "order": null,
            "overflow": null,
            "overflow_x": null,
            "overflow_y": null,
            "padding": null,
            "right": null,
            "top": null,
            "visibility": null,
            "width": null
          }
        },
        "3f40c18c2b8b4736906f1b466dcd1ca4": {
          "model_module": "@jupyter-widgets/controls",
          "model_module_version": "1.5.0",
          "model_name": "DescriptionStyleModel",
          "state": {
            "_model_module": "@jupyter-widgets/controls",
            "_model_module_version": "1.5.0",
            "_model_name": "DescriptionStyleModel",
            "_view_count": null,
            "_view_module": "@jupyter-widgets/base",
            "_view_module_version": "1.2.0",
            "_view_name": "StyleView",
            "description_width": ""
          }
        },
        "42f096eec1d445319351ee3ddf7743c6": {
          "model_module": "@jupyter-widgets/base",
          "model_module_version": "1.2.0",
          "model_name": "LayoutModel",
          "state": {
            "_model_module": "@jupyter-widgets/base",
            "_model_module_version": "1.2.0",
            "_model_name": "LayoutModel",
            "_view_count": null,
            "_view_module": "@jupyter-widgets/base",
            "_view_module_version": "1.2.0",
            "_view_name": "LayoutView",
            "align_content": null,
            "align_items": null,
            "align_self": null,
            "border": null,
            "bottom": null,
            "display": null,
            "flex": null,
            "flex_flow": null,
            "grid_area": null,
            "grid_auto_columns": null,
            "grid_auto_flow": null,
            "grid_auto_rows": null,
            "grid_column": null,
            "grid_gap": null,
            "grid_row": null,
            "grid_template_areas": null,
            "grid_template_columns": null,
            "grid_template_rows": null,
            "height": null,
            "justify_content": null,
            "justify_items": null,
            "left": null,
            "margin": null,
            "max_height": null,
            "max_width": null,
            "min_height": null,
            "min_width": null,
            "object_fit": null,
            "object_position": null,
            "order": null,
            "overflow": null,
            "overflow_x": null,
            "overflow_y": null,
            "padding": null,
            "right": null,
            "top": null,
            "visibility": null,
            "width": null
          }
        },
        "4338c0506ef64c4599be1bd1dbfc679b": {
          "model_module": "@jupyter-widgets/base",
          "model_module_version": "1.2.0",
          "model_name": "LayoutModel",
          "state": {
            "_model_module": "@jupyter-widgets/base",
            "_model_module_version": "1.2.0",
            "_model_name": "LayoutModel",
            "_view_count": null,
            "_view_module": "@jupyter-widgets/base",
            "_view_module_version": "1.2.0",
            "_view_name": "LayoutView",
            "align_content": null,
            "align_items": null,
            "align_self": null,
            "border": null,
            "bottom": null,
            "display": null,
            "flex": null,
            "flex_flow": null,
            "grid_area": null,
            "grid_auto_columns": null,
            "grid_auto_flow": null,
            "grid_auto_rows": null,
            "grid_column": null,
            "grid_gap": null,
            "grid_row": null,
            "grid_template_areas": null,
            "grid_template_columns": null,
            "grid_template_rows": null,
            "height": null,
            "justify_content": null,
            "justify_items": null,
            "left": null,
            "margin": null,
            "max_height": null,
            "max_width": null,
            "min_height": null,
            "min_width": null,
            "object_fit": null,
            "object_position": null,
            "order": null,
            "overflow": null,
            "overflow_x": null,
            "overflow_y": null,
            "padding": null,
            "right": null,
            "top": null,
            "visibility": null,
            "width": null
          }
        },
        "43f20db44d614d9aa2e44f33155ab1eb": {
          "model_module": "@jupyter-widgets/controls",
          "model_module_version": "1.5.0",
          "model_name": "HBoxModel",
          "state": {
            "_dom_classes": [],
            "_model_module": "@jupyter-widgets/controls",
            "_model_module_version": "1.5.0",
            "_model_name": "HBoxModel",
            "_view_count": null,
            "_view_module": "@jupyter-widgets/controls",
            "_view_module_version": "1.5.0",
            "_view_name": "HBoxView",
            "box_style": "",
            "children": [
              "IPY_MODEL_cc7954838070498b8e1fa40f16215123",
              "IPY_MODEL_4481af453a054ef680b624e6c33558e0",
              "IPY_MODEL_2d72976e426e46dab21f6d0be14ad179"
            ],
            "layout": "IPY_MODEL_5a594b1936c74f48a477ed3fb1dd3c3d"
          }
        },
        "4481af453a054ef680b624e6c33558e0": {
          "model_module": "@jupyter-widgets/controls",
          "model_module_version": "1.5.0",
          "model_name": "FloatProgressModel",
          "state": {
            "_dom_classes": [],
            "_model_module": "@jupyter-widgets/controls",
            "_model_module_version": "1.5.0",
            "_model_name": "FloatProgressModel",
            "_view_count": null,
            "_view_module": "@jupyter-widgets/controls",
            "_view_module_version": "1.5.0",
            "_view_name": "ProgressView",
            "bar_style": "success",
            "description": "",
            "description_tooltip": null,
            "layout": "IPY_MODEL_dc8155d3a0a74eeabbb691815f01c4a3",
            "max": 456318,
            "min": 0,
            "orientation": "horizontal",
            "style": "IPY_MODEL_75b45fbf633947e5bd663e0e192ba45b",
            "value": 456318
          }
        },
        "46d85e74fa8f4e16b6691261a14edb76": {
          "model_module": "@jupyter-widgets/base",
          "model_module_version": "1.2.0",
          "model_name": "LayoutModel",
          "state": {
            "_model_module": "@jupyter-widgets/base",
            "_model_module_version": "1.2.0",
            "_model_name": "LayoutModel",
            "_view_count": null,
            "_view_module": "@jupyter-widgets/base",
            "_view_module_version": "1.2.0",
            "_view_name": "LayoutView",
            "align_content": null,
            "align_items": null,
            "align_self": null,
            "border": null,
            "bottom": null,
            "display": null,
            "flex": null,
            "flex_flow": null,
            "grid_area": null,
            "grid_auto_columns": null,
            "grid_auto_flow": null,
            "grid_auto_rows": null,
            "grid_column": null,
            "grid_gap": null,
            "grid_row": null,
            "grid_template_areas": null,
            "grid_template_columns": null,
            "grid_template_rows": null,
            "height": null,
            "justify_content": null,
            "justify_items": null,
            "left": null,
            "margin": null,
            "max_height": null,
            "max_width": null,
            "min_height": null,
            "min_width": null,
            "object_fit": null,
            "object_position": null,
            "order": null,
            "overflow": null,
            "overflow_x": null,
            "overflow_y": null,
            "padding": null,
            "right": null,
            "top": null,
            "visibility": null,
            "width": null
          }
        },
        "47a2adbf36174274a5f2bfad8ecaf8db": {
          "model_module": "@jupyter-widgets/base",
          "model_module_version": "1.2.0",
          "model_name": "LayoutModel",
          "state": {
            "_model_module": "@jupyter-widgets/base",
            "_model_module_version": "1.2.0",
            "_model_name": "LayoutModel",
            "_view_count": null,
            "_view_module": "@jupyter-widgets/base",
            "_view_module_version": "1.2.0",
            "_view_name": "LayoutView",
            "align_content": null,
            "align_items": null,
            "align_self": null,
            "border": null,
            "bottom": null,
            "display": null,
            "flex": null,
            "flex_flow": null,
            "grid_area": null,
            "grid_auto_columns": null,
            "grid_auto_flow": null,
            "grid_auto_rows": null,
            "grid_column": null,
            "grid_gap": null,
            "grid_row": null,
            "grid_template_areas": null,
            "grid_template_columns": null,
            "grid_template_rows": null,
            "height": null,
            "justify_content": null,
            "justify_items": null,
            "left": null,
            "margin": null,
            "max_height": null,
            "max_width": null,
            "min_height": null,
            "min_width": null,
            "object_fit": null,
            "object_position": null,
            "order": null,
            "overflow": null,
            "overflow_x": null,
            "overflow_y": null,
            "padding": null,
            "right": null,
            "top": null,
            "visibility": null,
            "width": null
          }
        },
        "4ea25b6a6bee4a359cfeddff839e7252": {
          "model_module": "@jupyter-widgets/controls",
          "model_module_version": "1.5.0",
          "model_name": "DescriptionStyleModel",
          "state": {
            "_model_module": "@jupyter-widgets/controls",
            "_model_module_version": "1.5.0",
            "_model_name": "DescriptionStyleModel",
            "_view_count": null,
            "_view_module": "@jupyter-widgets/base",
            "_view_module_version": "1.2.0",
            "_view_name": "StyleView",
            "description_width": ""
          }
        },
        "4ed2bf91e49b429582e74c728c650a35": {
          "model_module": "@jupyter-widgets/controls",
          "model_module_version": "1.5.0",
          "model_name": "HTMLModel",
          "state": {
            "_dom_classes": [],
            "_model_module": "@jupyter-widgets/controls",
            "_model_module_version": "1.5.0",
            "_model_name": "HTMLModel",
            "_view_count": null,
            "_view_module": "@jupyter-widgets/controls",
            "_view_module_version": "1.5.0",
            "_view_name": "HTMLView",
            "description": "",
            "description_tooltip": null,
            "layout": "IPY_MODEL_8e439d5ba7ea48de94bdf16f12783c69",
            "placeholder": "​",
            "style": "IPY_MODEL_96e72f0f69a3437a961f5ad7ee64a388",
            "value": " 1.04M/1.04M [00:00&lt;00:00, 13.1MB/s]"
          }
        },
        "4f6037c3989544c6a63ce8b242cd47fa": {
          "model_module": "@jupyter-widgets/controls",
          "model_module_version": "1.5.0",
          "model_name": "HTMLModel",
          "state": {
            "_dom_classes": [],
            "_model_module": "@jupyter-widgets/controls",
            "_model_module_version": "1.5.0",
            "_model_name": "HTMLModel",
            "_view_count": null,
            "_view_module": "@jupyter-widgets/controls",
            "_view_module_version": "1.5.0",
            "_view_name": "HTMLView",
            "description": "",
            "description_tooltip": null,
            "layout": "IPY_MODEL_14bfcaf4721b4bb69e0ab3485f826254",
            "placeholder": "​",
            "style": "IPY_MODEL_0d6c16ff0eb84b159905a4a27f1546bc",
            "value": "tokenizer.json: 100%"
          }
        },
        "50dd300d0b554eb5823b7ac91db6fee3": {
          "model_module": "@jupyter-widgets/controls",
          "model_module_version": "1.5.0",
          "model_name": "HBoxModel",
          "state": {
            "_dom_classes": [],
            "_model_module": "@jupyter-widgets/controls",
            "_model_module_version": "1.5.0",
            "_model_name": "HBoxModel",
            "_view_count": null,
            "_view_module": "@jupyter-widgets/controls",
            "_view_module_version": "1.5.0",
            "_view_name": "HBoxView",
            "box_style": "",
            "children": [
              "IPY_MODEL_2c537e209fa449709d9b5ff556aef696",
              "IPY_MODEL_b6f332599c24441f97d0d2a3c10a32d6",
              "IPY_MODEL_34d217abd9cc42c083af3c1803765dc4"
            ],
            "layout": "IPY_MODEL_549fa3583c734b78a86faf8aa54b726e"
          }
        },
        "549fa3583c734b78a86faf8aa54b726e": {
          "model_module": "@jupyter-widgets/base",
          "model_module_version": "1.2.0",
          "model_name": "LayoutModel",
          "state": {
            "_model_module": "@jupyter-widgets/base",
            "_model_module_version": "1.2.0",
            "_model_name": "LayoutModel",
            "_view_count": null,
            "_view_module": "@jupyter-widgets/base",
            "_view_module_version": "1.2.0",
            "_view_name": "LayoutView",
            "align_content": null,
            "align_items": null,
            "align_self": null,
            "border": null,
            "bottom": null,
            "display": null,
            "flex": null,
            "flex_flow": null,
            "grid_area": null,
            "grid_auto_columns": null,
            "grid_auto_flow": null,
            "grid_auto_rows": null,
            "grid_column": null,
            "grid_gap": null,
            "grid_row": null,
            "grid_template_areas": null,
            "grid_template_columns": null,
            "grid_template_rows": null,
            "height": null,
            "justify_content": null,
            "justify_items": null,
            "left": null,
            "margin": null,
            "max_height": null,
            "max_width": null,
            "min_height": null,
            "min_width": null,
            "object_fit": null,
            "object_position": null,
            "order": null,
            "overflow": null,
            "overflow_x": null,
            "overflow_y": null,
            "padding": null,
            "right": null,
            "top": null,
            "visibility": null,
            "width": null
          }
        },
        "5a594b1936c74f48a477ed3fb1dd3c3d": {
          "model_module": "@jupyter-widgets/base",
          "model_module_version": "1.2.0",
          "model_name": "LayoutModel",
          "state": {
            "_model_module": "@jupyter-widgets/base",
            "_model_module_version": "1.2.0",
            "_model_name": "LayoutModel",
            "_view_count": null,
            "_view_module": "@jupyter-widgets/base",
            "_view_module_version": "1.2.0",
            "_view_name": "LayoutView",
            "align_content": null,
            "align_items": null,
            "align_self": null,
            "border": null,
            "bottom": null,
            "display": null,
            "flex": null,
            "flex_flow": null,
            "grid_area": null,
            "grid_auto_columns": null,
            "grid_auto_flow": null,
            "grid_auto_rows": null,
            "grid_column": null,
            "grid_gap": null,
            "grid_row": null,
            "grid_template_areas": null,
            "grid_template_columns": null,
            "grid_template_rows": null,
            "height": null,
            "justify_content": null,
            "justify_items": null,
            "left": null,
            "margin": null,
            "max_height": null,
            "max_width": null,
            "min_height": null,
            "min_width": null,
            "object_fit": null,
            "object_position": null,
            "order": null,
            "overflow": null,
            "overflow_x": null,
            "overflow_y": null,
            "padding": null,
            "right": null,
            "top": null,
            "visibility": null,
            "width": null
          }
        },
        "5a7c63999e0641ab8424e6c66761eb81": {
          "model_module": "@jupyter-widgets/base",
          "model_module_version": "1.2.0",
          "model_name": "LayoutModel",
          "state": {
            "_model_module": "@jupyter-widgets/base",
            "_model_module_version": "1.2.0",
            "_model_name": "LayoutModel",
            "_view_count": null,
            "_view_module": "@jupyter-widgets/base",
            "_view_module_version": "1.2.0",
            "_view_name": "LayoutView",
            "align_content": null,
            "align_items": null,
            "align_self": null,
            "border": null,
            "bottom": null,
            "display": null,
            "flex": null,
            "flex_flow": null,
            "grid_area": null,
            "grid_auto_columns": null,
            "grid_auto_flow": null,
            "grid_auto_rows": null,
            "grid_column": null,
            "grid_gap": null,
            "grid_row": null,
            "grid_template_areas": null,
            "grid_template_columns": null,
            "grid_template_rows": null,
            "height": null,
            "justify_content": null,
            "justify_items": null,
            "left": null,
            "margin": null,
            "max_height": null,
            "max_width": null,
            "min_height": null,
            "min_width": null,
            "object_fit": null,
            "object_position": null,
            "order": null,
            "overflow": null,
            "overflow_x": null,
            "overflow_y": null,
            "padding": null,
            "right": null,
            "top": null,
            "visibility": null,
            "width": null
          }
        },
        "5d244c9aa0ff4a67a40a3e2da0964368": {
          "model_module": "@jupyter-widgets/controls",
          "model_module_version": "1.5.0",
          "model_name": "ProgressStyleModel",
          "state": {
            "_model_module": "@jupyter-widgets/controls",
            "_model_module_version": "1.5.0",
            "_model_name": "ProgressStyleModel",
            "_view_count": null,
            "_view_module": "@jupyter-widgets/base",
            "_view_module_version": "1.2.0",
            "_view_name": "StyleView",
            "bar_color": null,
            "description_width": ""
          }
        },
        "6616410cfaed4265b2c11255e56fbd0d": {
          "model_module": "@jupyter-widgets/base",
          "model_module_version": "1.2.0",
          "model_name": "LayoutModel",
          "state": {
            "_model_module": "@jupyter-widgets/base",
            "_model_module_version": "1.2.0",
            "_model_name": "LayoutModel",
            "_view_count": null,
            "_view_module": "@jupyter-widgets/base",
            "_view_module_version": "1.2.0",
            "_view_name": "LayoutView",
            "align_content": null,
            "align_items": null,
            "align_self": null,
            "border": null,
            "bottom": null,
            "display": null,
            "flex": null,
            "flex_flow": null,
            "grid_area": null,
            "grid_auto_columns": null,
            "grid_auto_flow": null,
            "grid_auto_rows": null,
            "grid_column": null,
            "grid_gap": null,
            "grid_row": null,
            "grid_template_areas": null,
            "grid_template_columns": null,
            "grid_template_rows": null,
            "height": null,
            "justify_content": null,
            "justify_items": null,
            "left": null,
            "margin": null,
            "max_height": null,
            "max_width": null,
            "min_height": null,
            "min_width": null,
            "object_fit": null,
            "object_position": null,
            "order": null,
            "overflow": null,
            "overflow_x": null,
            "overflow_y": null,
            "padding": null,
            "right": null,
            "top": null,
            "visibility": null,
            "width": null
          }
        },
        "67da6b93e96f41e3ac3a815d8d0c87f2": {
          "model_module": "@jupyter-widgets/controls",
          "model_module_version": "1.5.0",
          "model_name": "HBoxModel",
          "state": {
            "_dom_classes": [],
            "_model_module": "@jupyter-widgets/controls",
            "_model_module_version": "1.5.0",
            "_model_name": "HBoxModel",
            "_view_count": null,
            "_view_module": "@jupyter-widgets/controls",
            "_view_module_version": "1.5.0",
            "_view_name": "HBoxView",
            "box_style": "",
            "children": [
              "IPY_MODEL_4f6037c3989544c6a63ce8b242cd47fa",
              "IPY_MODEL_8fa27d5b8eba4287a7933621a258bf44",
              "IPY_MODEL_d6dbaaa40e574b6eaaa6fdc53b25c54e"
            ],
            "layout": "IPY_MODEL_5a7c63999e0641ab8424e6c66761eb81"
          }
        },
        "6816a53883a344feb42a7909b278c6c1": {
          "model_module": "@jupyter-widgets/controls",
          "model_module_version": "1.5.0",
          "model_name": "HTMLModel",
          "state": {
            "_dom_classes": [],
            "_model_module": "@jupyter-widgets/controls",
            "_model_module_version": "1.5.0",
            "_model_name": "HTMLModel",
            "_view_count": null,
            "_view_module": "@jupyter-widgets/controls",
            "_view_module_version": "1.5.0",
            "_view_name": "HTMLView",
            "description": "",
            "description_tooltip": null,
            "layout": "IPY_MODEL_6fbc2dce99134aca822ddff49a3743d4",
            "placeholder": "​",
            "style": "IPY_MODEL_0cd6f7036b4c4818ae8955c0299487f0",
            "value": "tokenizer_config.json: 100%"
          }
        },
        "6fbc2dce99134aca822ddff49a3743d4": {
          "model_module": "@jupyter-widgets/base",
          "model_module_version": "1.2.0",
          "model_name": "LayoutModel",
          "state": {
            "_model_module": "@jupyter-widgets/base",
            "_model_module_version": "1.2.0",
            "_model_name": "LayoutModel",
            "_view_count": null,
            "_view_module": "@jupyter-widgets/base",
            "_view_module_version": "1.2.0",
            "_view_name": "LayoutView",
            "align_content": null,
            "align_items": null,
            "align_self": null,
            "border": null,
            "bottom": null,
            "display": null,
            "flex": null,
            "flex_flow": null,
            "grid_area": null,
            "grid_auto_columns": null,
            "grid_auto_flow": null,
            "grid_auto_rows": null,
            "grid_column": null,
            "grid_gap": null,
            "grid_row": null,
            "grid_template_areas": null,
            "grid_template_columns": null,
            "grid_template_rows": null,
            "height": null,
            "justify_content": null,
            "justify_items": null,
            "left": null,
            "margin": null,
            "max_height": null,
            "max_width": null,
            "min_height": null,
            "min_width": null,
            "object_fit": null,
            "object_position": null,
            "order": null,
            "overflow": null,
            "overflow_x": null,
            "overflow_y": null,
            "padding": null,
            "right": null,
            "top": null,
            "visibility": null,
            "width": null
          }
        },
        "75b45fbf633947e5bd663e0e192ba45b": {
          "model_module": "@jupyter-widgets/controls",
          "model_module_version": "1.5.0",
          "model_name": "ProgressStyleModel",
          "state": {
            "_model_module": "@jupyter-widgets/controls",
            "_model_module_version": "1.5.0",
            "_model_name": "ProgressStyleModel",
            "_view_count": null,
            "_view_module": "@jupyter-widgets/base",
            "_view_module_version": "1.2.0",
            "_view_name": "StyleView",
            "bar_color": null,
            "description_width": ""
          }
        },
        "76af60af2df944a29250f028cd7fcb51": {
          "model_module": "@jupyter-widgets/base",
          "model_module_version": "1.2.0",
          "model_name": "LayoutModel",
          "state": {
            "_model_module": "@jupyter-widgets/base",
            "_model_module_version": "1.2.0",
            "_model_name": "LayoutModel",
            "_view_count": null,
            "_view_module": "@jupyter-widgets/base",
            "_view_module_version": "1.2.0",
            "_view_name": "LayoutView",
            "align_content": null,
            "align_items": null,
            "align_self": null,
            "border": null,
            "bottom": null,
            "display": null,
            "flex": null,
            "flex_flow": null,
            "grid_area": null,
            "grid_auto_columns": null,
            "grid_auto_flow": null,
            "grid_auto_rows": null,
            "grid_column": null,
            "grid_gap": null,
            "grid_row": null,
            "grid_template_areas": null,
            "grid_template_columns": null,
            "grid_template_rows": null,
            "height": null,
            "justify_content": null,
            "justify_items": null,
            "left": null,
            "margin": null,
            "max_height": null,
            "max_width": null,
            "min_height": null,
            "min_width": null,
            "object_fit": null,
            "object_position": null,
            "order": null,
            "overflow": null,
            "overflow_x": null,
            "overflow_y": null,
            "padding": null,
            "right": null,
            "top": null,
            "visibility": null,
            "width": null
          }
        },
        "82d8e725e3c447048c154f23fd1ff823": {
          "model_module": "@jupyter-widgets/controls",
          "model_module_version": "1.5.0",
          "model_name": "DescriptionStyleModel",
          "state": {
            "_model_module": "@jupyter-widgets/controls",
            "_model_module_version": "1.5.0",
            "_model_name": "DescriptionStyleModel",
            "_view_count": null,
            "_view_module": "@jupyter-widgets/base",
            "_view_module_version": "1.2.0",
            "_view_name": "StyleView",
            "description_width": ""
          }
        },
        "8b04a0f0b7e84631b70ab935c63c8cc9": {
          "model_module": "@jupyter-widgets/base",
          "model_module_version": "1.2.0",
          "model_name": "LayoutModel",
          "state": {
            "_model_module": "@jupyter-widgets/base",
            "_model_module_version": "1.2.0",
            "_model_name": "LayoutModel",
            "_view_count": null,
            "_view_module": "@jupyter-widgets/base",
            "_view_module_version": "1.2.0",
            "_view_name": "LayoutView",
            "align_content": null,
            "align_items": null,
            "align_self": null,
            "border": null,
            "bottom": null,
            "display": null,
            "flex": null,
            "flex_flow": null,
            "grid_area": null,
            "grid_auto_columns": null,
            "grid_auto_flow": null,
            "grid_auto_rows": null,
            "grid_column": null,
            "grid_gap": null,
            "grid_row": null,
            "grid_template_areas": null,
            "grid_template_columns": null,
            "grid_template_rows": null,
            "height": null,
            "justify_content": null,
            "justify_items": null,
            "left": null,
            "margin": null,
            "max_height": null,
            "max_width": null,
            "min_height": null,
            "min_width": null,
            "object_fit": null,
            "object_position": null,
            "order": null,
            "overflow": null,
            "overflow_x": null,
            "overflow_y": null,
            "padding": null,
            "right": null,
            "top": null,
            "visibility": null,
            "width": null
          }
        },
        "8e439d5ba7ea48de94bdf16f12783c69": {
          "model_module": "@jupyter-widgets/base",
          "model_module_version": "1.2.0",
          "model_name": "LayoutModel",
          "state": {
            "_model_module": "@jupyter-widgets/base",
            "_model_module_version": "1.2.0",
            "_model_name": "LayoutModel",
            "_view_count": null,
            "_view_module": "@jupyter-widgets/base",
            "_view_module_version": "1.2.0",
            "_view_name": "LayoutView",
            "align_content": null,
            "align_items": null,
            "align_self": null,
            "border": null,
            "bottom": null,
            "display": null,
            "flex": null,
            "flex_flow": null,
            "grid_area": null,
            "grid_auto_columns": null,
            "grid_auto_flow": null,
            "grid_auto_rows": null,
            "grid_column": null,
            "grid_gap": null,
            "grid_row": null,
            "grid_template_areas": null,
            "grid_template_columns": null,
            "grid_template_rows": null,
            "height": null,
            "justify_content": null,
            "justify_items": null,
            "left": null,
            "margin": null,
            "max_height": null,
            "max_width": null,
            "min_height": null,
            "min_width": null,
            "object_fit": null,
            "object_position": null,
            "order": null,
            "overflow": null,
            "overflow_x": null,
            "overflow_y": null,
            "padding": null,
            "right": null,
            "top": null,
            "visibility": null,
            "width": null
          }
        },
        "8fa27d5b8eba4287a7933621a258bf44": {
          "model_module": "@jupyter-widgets/controls",
          "model_module_version": "1.5.0",
          "model_name": "FloatProgressModel",
          "state": {
            "_dom_classes": [],
            "_model_module": "@jupyter-widgets/controls",
            "_model_module_version": "1.5.0",
            "_model_name": "FloatProgressModel",
            "_view_count": null,
            "_view_module": "@jupyter-widgets/controls",
            "_view_module_version": "1.5.0",
            "_view_name": "ProgressView",
            "bar_style": "success",
            "description": "",
            "description_tooltip": null,
            "layout": "IPY_MODEL_46d85e74fa8f4e16b6691261a14edb76",
            "max": 1355256,
            "min": 0,
            "orientation": "horizontal",
            "style": "IPY_MODEL_5d244c9aa0ff4a67a40a3e2da0964368",
            "value": 1355256
          }
        },
        "93a7299804ef4ff69f16a0a910d0e3d5": {
          "model_module": "@jupyter-widgets/base",
          "model_module_version": "1.2.0",
          "model_name": "LayoutModel",
          "state": {
            "_model_module": "@jupyter-widgets/base",
            "_model_module_version": "1.2.0",
            "_model_name": "LayoutModel",
            "_view_count": null,
            "_view_module": "@jupyter-widgets/base",
            "_view_module_version": "1.2.0",
            "_view_name": "LayoutView",
            "align_content": null,
            "align_items": null,
            "align_self": null,
            "border": null,
            "bottom": null,
            "display": null,
            "flex": null,
            "flex_flow": null,
            "grid_area": null,
            "grid_auto_columns": null,
            "grid_auto_flow": null,
            "grid_auto_rows": null,
            "grid_column": null,
            "grid_gap": null,
            "grid_row": null,
            "grid_template_areas": null,
            "grid_template_columns": null,
            "grid_template_rows": null,
            "height": null,
            "justify_content": null,
            "justify_items": null,
            "left": null,
            "margin": null,
            "max_height": null,
            "max_width": null,
            "min_height": null,
            "min_width": null,
            "object_fit": null,
            "object_position": null,
            "order": null,
            "overflow": null,
            "overflow_x": null,
            "overflow_y": null,
            "padding": null,
            "right": null,
            "top": null,
            "visibility": null,
            "width": null
          }
        },
        "96e72f0f69a3437a961f5ad7ee64a388": {
          "model_module": "@jupyter-widgets/controls",
          "model_module_version": "1.5.0",
          "model_name": "DescriptionStyleModel",
          "state": {
            "_model_module": "@jupyter-widgets/controls",
            "_model_module_version": "1.5.0",
            "_model_name": "DescriptionStyleModel",
            "_view_count": null,
            "_view_module": "@jupyter-widgets/base",
            "_view_module_version": "1.2.0",
            "_view_name": "StyleView",
            "description_width": ""
          }
        },
        "97a153e23e164a1fab10aa0223579201": {
          "model_module": "@jupyter-widgets/base",
          "model_module_version": "1.2.0",
          "model_name": "LayoutModel",
          "state": {
            "_model_module": "@jupyter-widgets/base",
            "_model_module_version": "1.2.0",
            "_model_name": "LayoutModel",
            "_view_count": null,
            "_view_module": "@jupyter-widgets/base",
            "_view_module_version": "1.2.0",
            "_view_name": "LayoutView",
            "align_content": null,
            "align_items": null,
            "align_self": null,
            "border": null,
            "bottom": null,
            "display": null,
            "flex": null,
            "flex_flow": null,
            "grid_area": null,
            "grid_auto_columns": null,
            "grid_auto_flow": null,
            "grid_auto_rows": null,
            "grid_column": null,
            "grid_gap": null,
            "grid_row": null,
            "grid_template_areas": null,
            "grid_template_columns": null,
            "grid_template_rows": null,
            "height": null,
            "justify_content": null,
            "justify_items": null,
            "left": null,
            "margin": null,
            "max_height": null,
            "max_width": null,
            "min_height": null,
            "min_width": null,
            "object_fit": null,
            "object_position": null,
            "order": null,
            "overflow": null,
            "overflow_x": null,
            "overflow_y": null,
            "padding": null,
            "right": null,
            "top": null,
            "visibility": null,
            "width": null
          }
        },
        "9fa813c3a35249c98a21a0458367e276": {
          "model_module": "@jupyter-widgets/controls",
          "model_module_version": "1.5.0",
          "model_name": "DescriptionStyleModel",
          "state": {
            "_model_module": "@jupyter-widgets/controls",
            "_model_module_version": "1.5.0",
            "_model_name": "DescriptionStyleModel",
            "_view_count": null,
            "_view_module": "@jupyter-widgets/base",
            "_view_module_version": "1.2.0",
            "_view_name": "StyleView",
            "description_width": ""
          }
        },
        "ade95e037f54406eb0fa0b9a6ee1d11b": {
          "model_module": "@jupyter-widgets/controls",
          "model_module_version": "1.5.0",
          "model_name": "FloatProgressModel",
          "state": {
            "_dom_classes": [],
            "_model_module": "@jupyter-widgets/controls",
            "_model_module_version": "1.5.0",
            "_model_name": "FloatProgressModel",
            "_view_count": null,
            "_view_module": "@jupyter-widgets/controls",
            "_view_module_version": "1.5.0",
            "_view_name": "ProgressView",
            "bar_style": "success",
            "description": "",
            "description_tooltip": null,
            "layout": "IPY_MODEL_97a153e23e164a1fab10aa0223579201",
            "max": 26,
            "min": 0,
            "orientation": "horizontal",
            "style": "IPY_MODEL_10e67ae197c245389b57a8365b36bc69",
            "value": 26
          }
        },
        "b6f332599c24441f97d0d2a3c10a32d6": {
          "model_module": "@jupyter-widgets/controls",
          "model_module_version": "1.5.0",
          "model_name": "FloatProgressModel",
          "state": {
            "_dom_classes": [],
            "_model_module": "@jupyter-widgets/controls",
            "_model_module_version": "1.5.0",
            "_model_name": "FloatProgressModel",
            "_view_count": null,
            "_view_module": "@jupyter-widgets/controls",
            "_view_module_version": "1.5.0",
            "_view_name": "ProgressView",
            "bar_style": "success",
            "description": "",
            "description_tooltip": null,
            "layout": "IPY_MODEL_93a7299804ef4ff69f16a0a910d0e3d5",
            "max": 665,
            "min": 0,
            "orientation": "horizontal",
            "style": "IPY_MODEL_0c96f54abb1146f6a28c88a0196c9020",
            "value": 665
          }
        },
        "bac1a0ffa10d48ebb946fc10d2ae4140": {
          "model_module": "@jupyter-widgets/controls",
          "model_module_version": "1.5.0",
          "model_name": "DescriptionStyleModel",
          "state": {
            "_model_module": "@jupyter-widgets/controls",
            "_model_module_version": "1.5.0",
            "_model_name": "DescriptionStyleModel",
            "_view_count": null,
            "_view_module": "@jupyter-widgets/base",
            "_view_module_version": "1.2.0",
            "_view_name": "StyleView",
            "description_width": ""
          }
        },
        "c457907ddd0348ab826392e30da5fff8": {
          "model_module": "@jupyter-widgets/controls",
          "model_module_version": "1.5.0",
          "model_name": "FloatProgressModel",
          "state": {
            "_dom_classes": [],
            "_model_module": "@jupyter-widgets/controls",
            "_model_module_version": "1.5.0",
            "_model_name": "FloatProgressModel",
            "_view_count": null,
            "_view_module": "@jupyter-widgets/controls",
            "_view_module_version": "1.5.0",
            "_view_name": "ProgressView",
            "bar_style": "success",
            "description": "",
            "description_tooltip": null,
            "layout": "IPY_MODEL_6616410cfaed4265b2c11255e56fbd0d",
            "max": 1042301,
            "min": 0,
            "orientation": "horizontal",
            "style": "IPY_MODEL_d5198f9d07884e9a90dbddd75aa09bdb",
            "value": 1042301
          }
        },
        "cc7954838070498b8e1fa40f16215123": {
          "model_module": "@jupyter-widgets/controls",
          "model_module_version": "1.5.0",
          "model_name": "HTMLModel",
          "state": {
            "_dom_classes": [],
            "_model_module": "@jupyter-widgets/controls",
            "_model_module_version": "1.5.0",
            "_model_name": "HTMLModel",
            "_view_count": null,
            "_view_module": "@jupyter-widgets/controls",
            "_view_module_version": "1.5.0",
            "_view_name": "HTMLView",
            "description": "",
            "description_tooltip": null,
            "layout": "IPY_MODEL_357a8c0623f54177bd672f0ed4f9df75",
            "placeholder": "​",
            "style": "IPY_MODEL_cd3ee8e4f51545518585ce29b7a26a0a",
            "value": "merges.txt: 100%"
          }
        },
        "cd3ee8e4f51545518585ce29b7a26a0a": {
          "model_module": "@jupyter-widgets/controls",
          "model_module_version": "1.5.0",
          "model_name": "DescriptionStyleModel",
          "state": {
            "_model_module": "@jupyter-widgets/controls",
            "_model_module_version": "1.5.0",
            "_model_name": "DescriptionStyleModel",
            "_view_count": null,
            "_view_module": "@jupyter-widgets/base",
            "_view_module_version": "1.2.0",
            "_view_name": "StyleView",
            "description_width": ""
          }
        },
        "d5198f9d07884e9a90dbddd75aa09bdb": {
          "model_module": "@jupyter-widgets/controls",
          "model_module_version": "1.5.0",
          "model_name": "ProgressStyleModel",
          "state": {
            "_model_module": "@jupyter-widgets/controls",
            "_model_module_version": "1.5.0",
            "_model_name": "ProgressStyleModel",
            "_view_count": null,
            "_view_module": "@jupyter-widgets/base",
            "_view_module_version": "1.2.0",
            "_view_name": "StyleView",
            "bar_color": null,
            "description_width": ""
          }
        },
        "d6dbaaa40e574b6eaaa6fdc53b25c54e": {
          "model_module": "@jupyter-widgets/controls",
          "model_module_version": "1.5.0",
          "model_name": "HTMLModel",
          "state": {
            "_dom_classes": [],
            "_model_module": "@jupyter-widgets/controls",
            "_model_module_version": "1.5.0",
            "_model_name": "HTMLModel",
            "_view_count": null,
            "_view_module": "@jupyter-widgets/controls",
            "_view_module_version": "1.5.0",
            "_view_name": "HTMLView",
            "description": "",
            "description_tooltip": null,
            "layout": "IPY_MODEL_42f096eec1d445319351ee3ddf7743c6",
            "placeholder": "​",
            "style": "IPY_MODEL_bac1a0ffa10d48ebb946fc10d2ae4140",
            "value": " 1.36M/1.36M [00:00&lt;00:00, 8.50MB/s]"
          }
        },
        "dc8155d3a0a74eeabbb691815f01c4a3": {
          "model_module": "@jupyter-widgets/base",
          "model_module_version": "1.2.0",
          "model_name": "LayoutModel",
          "state": {
            "_model_module": "@jupyter-widgets/base",
            "_model_module_version": "1.2.0",
            "_model_name": "LayoutModel",
            "_view_count": null,
            "_view_module": "@jupyter-widgets/base",
            "_view_module_version": "1.2.0",
            "_view_name": "LayoutView",
            "align_content": null,
            "align_items": null,
            "align_self": null,
            "border": null,
            "bottom": null,
            "display": null,
            "flex": null,
            "flex_flow": null,
            "grid_area": null,
            "grid_auto_columns": null,
            "grid_auto_flow": null,
            "grid_auto_rows": null,
            "grid_column": null,
            "grid_gap": null,
            "grid_row": null,
            "grid_template_areas": null,
            "grid_template_columns": null,
            "grid_template_rows": null,
            "height": null,
            "justify_content": null,
            "justify_items": null,
            "left": null,
            "margin": null,
            "max_height": null,
            "max_width": null,
            "min_height": null,
            "min_width": null,
            "object_fit": null,
            "object_position": null,
            "order": null,
            "overflow": null,
            "overflow_x": null,
            "overflow_y": null,
            "padding": null,
            "right": null,
            "top": null,
            "visibility": null,
            "width": null
          }
        },
        "ee5612ce9bfe4345b35b7ee9f6a592a0": {
          "model_module": "@jupyter-widgets/base",
          "model_module_version": "1.2.0",
          "model_name": "LayoutModel",
          "state": {
            "_model_module": "@jupyter-widgets/base",
            "_model_module_version": "1.2.0",
            "_model_name": "LayoutModel",
            "_view_count": null,
            "_view_module": "@jupyter-widgets/base",
            "_view_module_version": "1.2.0",
            "_view_name": "LayoutView",
            "align_content": null,
            "align_items": null,
            "align_self": null,
            "border": null,
            "bottom": null,
            "display": null,
            "flex": null,
            "flex_flow": null,
            "grid_area": null,
            "grid_auto_columns": null,
            "grid_auto_flow": null,
            "grid_auto_rows": null,
            "grid_column": null,
            "grid_gap": null,
            "grid_row": null,
            "grid_template_areas": null,
            "grid_template_columns": null,
            "grid_template_rows": null,
            "height": null,
            "justify_content": null,
            "justify_items": null,
            "left": null,
            "margin": null,
            "max_height": null,
            "max_width": null,
            "min_height": null,
            "min_width": null,
            "object_fit": null,
            "object_position": null,
            "order": null,
            "overflow": null,
            "overflow_x": null,
            "overflow_y": null,
            "padding": null,
            "right": null,
            "top": null,
            "visibility": null,
            "width": null
          }
        },
        "f9ca87dc11ac4ab39b994f8b9a136dbd": {
          "model_module": "@jupyter-widgets/controls",
          "model_module_version": "1.5.0",
          "model_name": "HTMLModel",
          "state": {
            "_dom_classes": [],
            "_model_module": "@jupyter-widgets/controls",
            "_model_module_version": "1.5.0",
            "_model_name": "HTMLModel",
            "_view_count": null,
            "_view_module": "@jupyter-widgets/controls",
            "_view_module_version": "1.5.0",
            "_view_name": "HTMLView",
            "description": "",
            "description_tooltip": null,
            "layout": "IPY_MODEL_4338c0506ef64c4599be1bd1dbfc679b",
            "placeholder": "​",
            "style": "IPY_MODEL_82d8e725e3c447048c154f23fd1ff823",
            "value": "vocab.json: 100%"
          }
        },
        "fb8b0eed71da48f4887b57fe4039cd72": {
          "model_module": "@jupyter-widgets/base",
          "model_module_version": "1.2.0",
          "model_name": "LayoutModel",
          "state": {
            "_model_module": "@jupyter-widgets/base",
            "_model_module_version": "1.2.0",
            "_model_name": "LayoutModel",
            "_view_count": null,
            "_view_module": "@jupyter-widgets/base",
            "_view_module_version": "1.2.0",
            "_view_name": "LayoutView",
            "align_content": null,
            "align_items": null,
            "align_self": null,
            "border": null,
            "bottom": null,
            "display": null,
            "flex": null,
            "flex_flow": null,
            "grid_area": null,
            "grid_auto_columns": null,
            "grid_auto_flow": null,
            "grid_auto_rows": null,
            "grid_column": null,
            "grid_gap": null,
            "grid_row": null,
            "grid_template_areas": null,
            "grid_template_columns": null,
            "grid_template_rows": null,
            "height": null,
            "justify_content": null,
            "justify_items": null,
            "left": null,
            "margin": null,
            "max_height": null,
            "max_width": null,
            "min_height": null,
            "min_width": null,
            "object_fit": null,
            "object_position": null,
            "order": null,
            "overflow": null,
            "overflow_x": null,
            "overflow_y": null,
            "padding": null,
            "right": null,
            "top": null,
            "visibility": null,
            "width": null
          }
        },
        "fe4da75975c8447fae978c6f9767d883": {
          "model_module": "@jupyter-widgets/controls",
          "model_module_version": "1.5.0",
          "model_name": "DescriptionStyleModel",
          "state": {
            "_model_module": "@jupyter-widgets/controls",
            "_model_module_version": "1.5.0",
            "_model_name": "DescriptionStyleModel",
            "_view_count": null,
            "_view_module": "@jupyter-widgets/base",
            "_view_module_version": "1.2.0",
            "_view_name": "StyleView",
            "description_width": ""
          }
        }
      }
    }
  },
  "nbformat": 4,
  "nbformat_minor": 0
}
