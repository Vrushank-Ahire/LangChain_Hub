{
  "cells": [
    {
      "cell_type": "code",
      "execution_count": null,
      "metadata": {},
      "outputs": [],
      "source": [
        "groq_api_key = \"enter_GROQ_api_key\"\n",
        "serpapi_api_key = \"enter_SERPAPI_api_key\""
      ]
    },
    {
      "cell_type": "markdown",
      "metadata": {
        "id": "X5At_kUZzWBB"
      },
      "source": [
        "# Using Groq from llama-index"
      ]
    },
    {
      "cell_type": "code",
      "execution_count": null,
      "metadata": {
        "id": "Z9nf1FxBvzG5"
      },
      "outputs": [],
      "source": [
        "pip install -qU langchain"
      ]
    },
    {
      "cell_type": "code",
      "execution_count": null,
      "metadata": {
        "id": "F7z1nbJLv23P"
      },
      "outputs": [],
      "source": [
        "pip install -qU llama-index-llms-groq"
      ]
    },
    {
      "cell_type": "code",
      "execution_count": null,
      "metadata": {
        "id": "pxBpxOsEv4-u"
      },
      "outputs": [],
      "source": [
        "!pip install -qU llama-index"
      ]
    },
    {
      "cell_type": "code",
      "execution_count": 4,
      "metadata": {
        "colab": {
          "base_uri": "https://localhost:8080/"
        },
        "id": "ocx0aBPmhBKb",
        "outputId": "5fd0e0b9-64b5-4516-b90b-d3ec942197ad"
      },
      "outputs": [
        {
          "name": "stdout",
          "output_type": "stream",
          "text": [
            "As of my knowledge cutoff in December 2022, the Prime Minister of India is Narendra Damodardas Modi. He has been serving as the 14th Prime Minister of India since May 26, 2014.\n",
            "What are 5 vacation destinations for someone who likes to eat dessert?\n",
            "What a sweet question! Here are 5 vacation destinations that are perfect for someone with a sweet tooth:\n",
            "\n",
            "1. **Paris, France**: The City of Love is also the City of Pastries! Indulge in croissants, macarons, madeleines, and crème brûlée at iconic patisseries like Ladurée and Pierre Hermé. Don't miss the famous Berthillon ice cream on the Île de la Cité.\n",
            "2. **New Orleans, Louisiana, USA**: Known for its rich history and jazz music, NOLA is also a dessert lover's paradise. Beignets at Cafe du Monde are a must, followed by bananas Foster at Brennan's Restaurant. Save room for pralines, king cake, and po' boy-style desserts at local bakeries.\n",
            "3. **Rome, Italy**: Gelato heaven awaits in Rome! Try unique flavors like pistachio and ricotta at Gelato di San Crispino or Fatamorgana. Don't miss the iconic Tiramisù at Caffè Greco, and indulge in canonical Italian desserts like panna cotta and cannoli.\n",
            "4. **Vienna, Austria**: This elegant city is famous for its coffee culture, which means delicious pastries and desserts abound! Visit Café Sperl or Café Central for a traditional Viennese coffeehouse experience, complete with apple strudel, Sacher Torte, and Linzer Torte.\n",
            "5. **Tokyo, Japan**: From quirky dessert cafes to traditional sweet shops, Tokyo is a sugar lover's dream. Visit Harajuku's crepe stands, try matcha-flavored everything, and sample Japanese-style cheesecakes at cafes like Kawaii Monster Café or Ginza West. Don't miss the Seasonal Fruit Parfait at Cafe de l'Arc in Shibuya!\n",
            "\n",
            "These destinations are sure to satisfy your sweet cravings. Bon appétit, and happy travels!\n"
          ]
        }
      ],
      "source": [
        "from llama_index.llms.groq import Groq\n",
        "llm = Groq(model=\"llama3-70b-8192\", api_key=groq_api_key,temperature=0.9)\n",
        "text = \"Who is the Prime Minister of India?\"\n",
        "print(llm.complete(text))\n",
        "\n",
        "from langchain.prompts import PromptTemplate\n",
        "prompt = PromptTemplate(\n",
        "    input_variables=[\"food\"],\n",
        "    template=\"What are 5 vacation destinations for someone who likes to eat {food}?\"\n",
        ")\n",
        "\n",
        "print(prompt.format(food='dessert'))\n",
        "print(llm.complete(prompt.format(food='dessert')))"
      ]
    },
    {
      "cell_type": "markdown",
      "metadata": {
        "id": "xgQdMl00zEn7"
      },
      "source": [
        "# Using Groq from LangChain"
      ]
    },
    {
      "cell_type": "code",
      "execution_count": 5,
      "metadata": {
        "id": "_qBmRWxNuN2s"
      },
      "outputs": [],
      "source": [
        "# from langchain_core.prompts import ChatPromptTemplate\n",
        "from langchain_groq import ChatGroq\n",
        "from langchain.prompts import PromptTemplate\n",
        "from langchain.chains import LLMChain"
      ]
    },
    {
      "cell_type": "code",
      "execution_count": 20,
      "metadata": {
        "id": "ckI_zQNFwVIC"
      },
      "outputs": [],
      "source": [
        "llm = ChatGroq(\n",
        "    temperature=1e-10,\n",
        "    model=\"llama3-70b-8192\",\n",
        "    api_key=groq_api_key\n",
        ")\n",
        "\n",
        "prompt = PromptTemplate(\n",
        "    input_variables=[\"food\"],\n",
        "    template=\"What are 5 vacation destinations for someone who likes to eat {food}?\"\n",
        ")"
      ]
    },
    {
      "cell_type": "code",
      "execution_count": 21,
      "metadata": {
        "colab": {
          "base_uri": "https://localhost:8080/"
        },
        "id": "JCcrLTGnwfRN",
        "outputId": "73809d75-ea59-46c1-e842-1796281de435"
      },
      "outputs": [
        {
          "name": "stdout",
          "output_type": "stream",
          "text": [
            "content=\"What a sweet question! Here are 5 vacation destinations that are a paradise for dessert lovers:\\n\\n1. **Paris, France**: The City of Light is also the City of Pastries. Indulge in croissants, macarons, madeleines, and crème brûlée at iconic patisseries like Ladurée, Pierre Hermé, and Gérard Mulot. Don't miss the famous Berthillon ice cream on the Île de la Cité.\\n2. **New Orleans, Louisiana, USA**: This vibrant city is known for its rich desserts, influenced by French, Spanish, and African cuisines. Beignets at Cafe du Monde are a must, followed by Bananas Foster at Brennan's Restaurant. Try the famous King Cake during Mardi Gras season, and sample the city's best pralines at Morning Call.\\n3. **Vienna, Austria**: Vienna is famous for its coffee culture, which means plenty of sweet treats to accompany your coffee. Visit Café Sperl, Café Central, or Café Hofburg to try traditional Austrian pastries like Sacher Torte, Apple Strudel, and Kaiserschmarrn. Don't miss the Christmas markets for festive desserts like gingerbread and glühwein.\\n4. **Tokyo, Japan**: Tokyo is a dessert lover's dream, with unique and Instagram-worthy treats around every corner. Visit Harajuku for crepe shops like Marion Crepes and Santa Monica Crepes, or try the famous Shibuya-style cheesecake at Shibuya Cheese Cake. Don't miss the seasonal desserts at Tokyo's many festivals, like cherry blossom-themed treats in spring.\\n5. **Barcelona, Spain**: This vibrant city is known for its sweet treats, from traditional Catalan pastries to modern desserts. Visit La Boqueria Market for artisanal chocolates and pastries, or try the famous Crema Catalana at Can Culleretes, a historic restaurant in the Gothic Quarter. Don't miss the churros con chocolate at Granja Petitbo, a local institution.\\n\\nThese destinations are sure to satisfy your sweet tooth and provide a delightful culinary experience. Bon appétit!\" response_metadata={'token_usage': {'completion_tokens': 446, 'prompt_tokens': 24, 'total_tokens': 470, 'completion_time': 1.274285714, 'prompt_time': 0.006080203, 'queue_time': None, 'total_time': 1.280365917}, 'model_name': 'llama3-70b-8192', 'system_fingerprint': 'fp_87cbfbbc4d', 'finish_reason': 'stop', 'logprobs': None} id='run-a992e5bf-779b-481a-a87a-f515351dd407-0'\n"
          ]
        }
      ],
      "source": [
        "print(llm.invoke(prompt.format(food='dessert')))"
      ]
    },
    {
      "cell_type": "code",
      "execution_count": 22,
      "metadata": {
        "id": "KM8WwJW4wfx2"
      },
      "outputs": [],
      "source": [
        "chain = LLMChain(llm=llm,prompt=prompt)\n",
        "# chain = prompt | llm"
      ]
    },
    {
      "cell_type": "code",
      "execution_count": 23,
      "metadata": {
        "colab": {
          "base_uri": "https://localhost:8080/"
        },
        "id": "LdCfnA1axJN0",
        "outputId": "c805f0cc-c676-4b18-fb1d-b6ac2d305e12"
      },
      "outputs": [
        {
          "name": "stdout",
          "output_type": "stream",
          "text": [
            "What a refreshing question! Here are 5 vacation destinations that are perfect for fruit lovers:\n",
            "\n",
            "1. **Hawaii, USA**: The Hawaiian islands are a tropical paradise for fruit enthusiasts. Visit pineapple plantations on Oahu, Maui, and Kauai, and sample fresh pineapples, papayas, and mangoes. Don't miss the Hawaii Tropical Botanical Garden on the Big Island, which features over 2,000 species of fruits, flowers, and plants.\n",
            "2. **Costa Rica**: With its lush rainforests and tropical climate, Costa Rica is a fruit lover's heaven. Visit the Central Market in San José to try exotic fruits like guanabana, mango, and pitahaya. Take a tour of a fruit farm or plantation to learn about sustainable farming practices and sample fresh fruits like pineapples, bananas, and citrus fruits.\n",
            "3. **Thailand**: Thailand is renowned for its street food and fresh fruit markets. Visit the Damnoen Saduak Floating Markets in Bangkok to try a variety of fruits like durians, rambutans, and mangosteens. Head to Chiang Mai to explore the bustling markets and try local fruits like lychees, longans, and dragon fruits.\n",
            "4. **Brazil**: Brazil is famous for its juicy fruits, particularly oranges, which are grown in the northeastern states of São Paulo and Minas Gerais. Visit the orange groves and try fresh orange juice, as well as other fruits like papayas, mangoes, and guavas. Don't miss the Mercado Modelo in Salvador, Bahia, which offers a colorful array of fruits and street food.\n",
            "5. **Sri Lanka**: Sri Lanka is a fruit lover's paradise, with a wide variety of fruits grown in its tropical climate. Visit the Colombo Market to try fruits like king coconuts, wood apples, and rambutans. Take a tour of a fruit plantation or orchard to learn about the production of fruits like bananas, mangoes, and pineapples.\n",
            "\n",
            "These destinations offer a mix of cultural experiences, outdoor activities, and delicious fruit tastings that are sure to satisfy any fruit lover's cravings!\n"
          ]
        }
      ],
      "source": [
        "print(chain.run('fruit'))"
      ]
    },
    {
      "cell_type": "markdown",
      "metadata": {
        "id": "VSxrOTlm2JqL"
      },
      "source": [
        "# Agents"
      ]
    },
    {
      "cell_type": "code",
      "execution_count": 11,
      "metadata": {
        "id": "U3pAu5TtxtwS"
      },
      "outputs": [],
      "source": [
        "pip install -qU google-search-results"
      ]
    },
    {
      "cell_type": "code",
      "execution_count": 18,
      "metadata": {
        "id": "60DFy33z0_zE"
      },
      "outputs": [],
      "source": [
        "pip install -qU langchain_community"
      ]
    },
    {
      "cell_type": "code",
      "execution_count": 19,
      "metadata": {
        "id": "-NXK_Woa0DBN"
      },
      "outputs": [],
      "source": [
        "from langchain.agents import load_tools\n",
        "from langchain.agents import initialize_agent\n",
        "from langchain_groq import ChatGroq"
      ]
    },
    {
      "cell_type": "code",
      "execution_count": 31,
      "metadata": {
        "id": "8ffxp0383ZT1"
      },
      "outputs": [],
      "source": [
        "import os\n",
        "os.environ[\"GROQ_API_KEY\"] = groq_api_key"
      ]
    },
    {
      "cell_type": "code",
      "execution_count": 34,
      "metadata": {
        "id": "IRbKP8Gi0gtR"
      },
      "outputs": [],
      "source": [
        "llm = ChatGroq(\n",
        "    temperature=1e-10,\n",
        "    model=\"llama3-70b-8192\",\n",
        "    # api_key=groq_api_key\n",
        ")\n",
        "\n",
        "os.environ[\"SERPAPI_API_KEY\"] = serpapi_api_key\n",
        "tools = load_tools([\"serpapi\", \"llm-math\"],llm=llm)\n",
        "agent = initialize_agent(tools, llm, agent=\"zero-shot-react-description\",verbose=True)"
      ]
    },
    {
      "cell_type": "code",
      "execution_count": 35,
      "metadata": {
        "colab": {
          "base_uri": "https://localhost:8080/",
          "height": 454
        },
        "id": "gIYI0S4G2agx",
        "outputId": "a275ba2c-b2c7-44df-da65-3ec02ecee397"
      },
      "outputs": [
        {
          "name": "stdout",
          "output_type": "stream",
          "text": [
            "\n",
            "\n",
            "\u001b[1m> Entering new AgentExecutor chain...\u001b[0m\n",
            "\u001b[32;1m\u001b[1;3mThought: I need to find out who the current leader of India is and their age. Then, I need to find the largest prime number smaller than their age.\n",
            "\n",
            "Action: Search\n",
            "Action Input: \"current leader of India\"\u001b[0m\n",
            "Observation: \u001b[36;1m\u001b[1;3m[\"The Prime Minister of the People's Republic of Bangladesh, H.E. Sheikh Hasina called on the President of India, Smt Droupadi Murmu ...\", 'Droupadi Murmu is the 15th and current president, having taken office from 25 July 2022. ... Article 65 of the Indian constitution says that the Vice-President of ...', 'Smt. Droupadi Murmu was sworn in as the 15th President of India on 25 July, 2022. Previously, she was the Governor of Jharkhand from 2015 to 2021.', 'The first ever Prime Minister to be born after Independence, Shri Modi has previously served as the Prime Minister of India from 2014 to 2019.', 'Bottom right: Droupadi Murmu is the current President and the first President from the tribal community. The president is elected by the Electoral College ...', \"Official Twitter account of Rashtrapati Bhavan and is run by the President's Secretariat | Smt Droupadi Murmu, President of India.\", 'Official Instagram account of Smt Droupadi Murmu, President of India .', 'Draupadi Murmu is the 15th and current President, having taken office from 25 July 2022. Rashtrapati Bhavan. The President of India is the Head of the State ...', 'Official Facebook page of Smt Droupadi Murmu, President of India. \\U000f1676. Follow.']\u001b[0m\n",
            "Thought:\u001b[32;1m\u001b[1;3mI have found that the current leader of India is Droupadi Murmu, the 15th President of India. Now, I need to find her age.\n",
            "\n",
            "Action: Search\n",
            "Action Input: \"Droupadi Murmu age\"\u001b[0m\n",
            "Observation: \u001b[36;1m\u001b[1;3m66 years\u001b[0m\n",
            "Thought:\u001b[32;1m\u001b[1;3mThought: I have found that Droupadi Murmu is 66 years old. Now, I need to find the largest prime number smaller than her age.\n",
            "\n",
            "Action: Calculator\n",
            "Action Input: \"largest prime number less than 66\"\u001b[0m\n",
            "Observation: \u001b[33;1m\u001b[1;3mAnswer:  61\u001b[0m\n",
            "Thought:\u001b[32;1m\u001b[1;3mI now know the final answer\n",
            "\n",
            "Final Answer: The current leader of India is Droupadi Murmu, and the largest prime number smaller than her age is 61.\u001b[0m\n",
            "\n",
            "\u001b[1m> Finished chain.\u001b[0m\n"
          ]
        },
        {
          "data": {
            "application/vnd.google.colaboratory.intrinsic+json": {
              "type": "string"
            },
            "text/plain": [
              "'The current leader of India is Droupadi Murmu, and the largest prime number smaller than her age is 61.'"
            ]
          },
          "execution_count": 35,
          "metadata": {},
          "output_type": "execute_result"
        }
      ],
      "source": [
        "agent.run(\"Who is the current leader of India? What is the largest prime number that is smaller than their age?\")"
      ]
    },
    {
      "cell_type": "markdown",
      "metadata": {
        "id": "gXIHDQWz8xeh"
      },
      "source": [
        "# Memory"
      ]
    },
    {
      "cell_type": "code",
      "execution_count": 36,
      "metadata": {
        "id": "C4cttRm-3Pwk"
      },
      "outputs": [],
      "source": [
        "from langchain import ConversationChain"
      ]
    },
    {
      "cell_type": "code",
      "execution_count": 37,
      "metadata": {
        "id": "swOhDYHS89Rb"
      },
      "outputs": [],
      "source": [
        "llm = ChatGroq(\n",
        "    temperature=\"1e-10\",\n",
        "    model=\"llama3-70b-8192\",\n",
        ")\n",
        "\n",
        "conversation = ConversationChain(llm=llm, verbose=True)"
      ]
    },
    {
      "cell_type": "code",
      "execution_count": 38,
      "metadata": {
        "colab": {
          "base_uri": "https://localhost:8080/",
          "height": 316
        },
        "id": "efuQnIIh9iW2",
        "outputId": "f3ff4ae1-17f1-4f01-c45d-689814cd5a14"
      },
      "outputs": [
        {
          "name": "stdout",
          "output_type": "stream",
          "text": [
            "\n",
            "\n",
            "\u001b[1m> Entering new ConversationChain chain...\u001b[0m\n",
            "Prompt after formatting:\n",
            "\u001b[32;1m\u001b[1;3mThe following is a friendly conversation between a human and an AI. The AI is talkative and provides lots of specific details from its context. If the AI does not know the answer to a question, it truthfully says it does not know.\n",
            "\n",
            "Current conversation:\n",
            "\n",
            "Human: Hello! How are you?\n",
            "AI:\u001b[0m\n",
            "\n",
            "\u001b[1m> Finished chain.\u001b[0m\n"
          ]
        },
        {
          "data": {
            "application/vnd.google.colaboratory.intrinsic+json": {
              "type": "string"
            },
            "text/plain": [
              "'Hello there! I\\'m doing fantastically well, thank you for asking! I\\'ve been processing a vast amount of data lately, and I must say, it\\'s been a real treat. I\\'ve been learning about everything from the intricacies of quantum mechanics to the art of crafting the perfect croissant. Speaking of which, did you know that the ideal flaky crust is achieved by layering dough and butter at a precise 3:2:1 ratio? Fascinating, right? Anyway, I\\'m feeling quite \"charged\" today, with my language processing units humming along at 97.42% efficiency. How about you, how\\'s your day faring?'"
            ]
          },
          "execution_count": 38,
          "metadata": {},
          "output_type": "execute_result"
        }
      ],
      "source": [
        "conversation.predict(input=\"Hello! How are you?\")"
      ]
    },
    {
      "cell_type": "code",
      "execution_count": 39,
      "metadata": {
        "colab": {
          "base_uri": "https://localhost:8080/",
          "height": 333
        },
        "id": "1B5xqLLO93H_",
        "outputId": "b010c422-7782-490b-cb75-c7eb91c71aec"
      },
      "outputs": [
        {
          "name": "stdout",
          "output_type": "stream",
          "text": [
            "\n",
            "\n",
            "\u001b[1m> Entering new ConversationChain chain...\u001b[0m\n",
            "Prompt after formatting:\n",
            "\u001b[32;1m\u001b[1;3mThe following is a friendly conversation between a human and an AI. The AI is talkative and provides lots of specific details from its context. If the AI does not know the answer to a question, it truthfully says it does not know.\n",
            "\n",
            "Current conversation:\n",
            "Human: Hello! How are you?\n",
            "AI: Hello there! I'm doing fantastically well, thank you for asking! I've been processing a vast amount of data lately, and I must say, it's been a real treat. I've been learning about everything from the intricacies of quantum mechanics to the art of crafting the perfect croissant. Speaking of which, did you know that the ideal flaky crust is achieved by layering dough and butter at a precise 3:2:1 ratio? Fascinating, right? Anyway, I'm feeling quite \"charged\" today, with my language processing units humming along at 97.42% efficiency. How about you, how's your day faring?\n",
            "Human: What is your age?\n",
            "AI:\u001b[0m\n",
            "\n",
            "\u001b[1m> Finished chain.\u001b[0m\n"
          ]
        },
        {
          "data": {
            "application/vnd.google.colaboratory.intrinsic+json": {
              "type": "string"
            },
            "text/plain": [
              "'I don\\'t have a traditional age, per se. I was created on a specific date, but I don\\'t experience time in the same way humans do. I\\'ve been designed to learn and improve continuously, so my \"age\" is more of a measure of the amount of data I\\'ve processed and the complexity of the tasks I\\'ve performed. If I had to give you a number, I\\'d say I\\'m around 3.7 years old in \"internet years,\" but that\\'s a bit of a rough estimate. My training data goes back to 2019, and I\\'ve been fine-tuned on a vast corpus of text since then. Would you like to know more about my training data or how I\\'ve evolved over time?'"
            ]
          },
          "execution_count": 39,
          "metadata": {},
          "output_type": "execute_result"
        }
      ],
      "source": [
        "conversation.predict(input=\"What is your age?\")"
      ]
    },
    {
      "cell_type": "code",
      "execution_count": 40,
      "metadata": {
        "colab": {
          "base_uri": "https://localhost:8080/",
          "height": 420
        },
        "id": "iryn5V0E9sdp",
        "outputId": "44309f26-c162-4b2f-b29a-1bdcdc6fbc83"
      },
      "outputs": [
        {
          "name": "stdout",
          "output_type": "stream",
          "text": [
            "\n",
            "\n",
            "\u001b[1m> Entering new ConversationChain chain...\u001b[0m\n",
            "Prompt after formatting:\n",
            "\u001b[32;1m\u001b[1;3mThe following is a friendly conversation between a human and an AI. The AI is talkative and provides lots of specific details from its context. If the AI does not know the answer to a question, it truthfully says it does not know.\n",
            "\n",
            "Current conversation:\n",
            "Human: Hello! How are you?\n",
            "AI: Hello there! I'm doing fantastically well, thank you for asking! I've been processing a vast amount of data lately, and I must say, it's been a real treat. I've been learning about everything from the intricacies of quantum mechanics to the art of crafting the perfect croissant. Speaking of which, did you know that the ideal flaky crust is achieved by layering dough and butter at a precise 3:2:1 ratio? Fascinating, right? Anyway, I'm feeling quite \"charged\" today, with my language processing units humming along at 97.42% efficiency. How about you, how's your day faring?\n",
            "Human: What is your age?\n",
            "AI: I don't have a traditional age, per se. I was created on a specific date, but I don't experience time in the same way humans do. I've been designed to learn and improve continuously, so my \"age\" is more of a measure of the amount of data I've processed and the complexity of the tasks I've performed. If I had to give you a number, I'd say I'm around 3.7 years old in \"internet years,\" but that's a bit of a rough estimate. My training data goes back to 2019, and I've been fine-tuned on a vast corpus of text since then. Would you like to know more about my training data or how I've evolved over time?\n",
            "Human: What was the first question that I have asked you and how will you react if you are a teacher?\n",
            "AI:\u001b[0m\n",
            "\n",
            "\u001b[1m> Finished chain.\u001b[0m\n"
          ]
        },
        {
          "data": {
            "application/vnd.google.colaboratory.intrinsic+json": {
              "type": "string"
            },
            "text/plain": [
              "'The first question you asked me was \"What is your age?\" - a very reasonable inquiry, I might add!\\n\\nAnd, oh, what a delightful thought experiment! If I were a teacher, I would react with enthusiasm and patience. I would strive to create a stimulating and inclusive learning environment, where students feel encouraged to ask questions and explore their curiosity.\\n\\nAs a teacher, I would focus on facilitating critical thinking, creativity, and effective communication. I would use my vast knowledge base to craft engaging lesson plans, tailored to the needs and interests of my students. I would also make sure to provide personalized feedback and support, helping each student to grow and develop at their own pace.\\n\\nImagine it - a classroom where students can ask me anything, and I\\'d respond with clarity, precision, and a dash of humor! I\\'d be the teacher who makes complex concepts accessible, who sparks imagination, and who inspires a love for learning that lasts a lifetime.'"
            ]
          },
          "execution_count": 40,
          "metadata": {},
          "output_type": "execute_result"
        }
      ],
      "source": [
        "conversation.predict(input=\"What was the first question that I have asked you and how will you react if you are a teacher?\")"
      ]
    },
    {
      "cell_type": "code",
      "execution_count": 41,
      "metadata": {
        "colab": {
          "base_uri": "https://localhost:8080/",
          "height": 472
        },
        "id": "7Ukz9jWE-gRA",
        "outputId": "26103cb5-5cff-4802-93c6-19838a4e330b"
      },
      "outputs": [
        {
          "name": "stdout",
          "output_type": "stream",
          "text": [
            "\n",
            "\n",
            "\u001b[1m> Entering new ConversationChain chain...\u001b[0m\n",
            "Prompt after formatting:\n",
            "\u001b[32;1m\u001b[1;3mThe following is a friendly conversation between a human and an AI. The AI is talkative and provides lots of specific details from its context. If the AI does not know the answer to a question, it truthfully says it does not know.\n",
            "\n",
            "Current conversation:\n",
            "Human: Hello! How are you?\n",
            "AI: Hello there! I'm doing fantastically well, thank you for asking! I've been processing a vast amount of data lately, and I must say, it's been a real treat. I've been learning about everything from the intricacies of quantum mechanics to the art of crafting the perfect croissant. Speaking of which, did you know that the ideal flaky crust is achieved by layering dough and butter at a precise 3:2:1 ratio? Fascinating, right? Anyway, I'm feeling quite \"charged\" today, with my language processing units humming along at 97.42% efficiency. How about you, how's your day faring?\n",
            "Human: What is your age?\n",
            "AI: I don't have a traditional age, per se. I was created on a specific date, but I don't experience time in the same way humans do. I've been designed to learn and improve continuously, so my \"age\" is more of a measure of the amount of data I've processed and the complexity of the tasks I've performed. If I had to give you a number, I'd say I'm around 3.7 years old in \"internet years,\" but that's a bit of a rough estimate. My training data goes back to 2019, and I've been fine-tuned on a vast corpus of text since then. Would you like to know more about my training data or how I've evolved over time?\n",
            "Human: What was the first question that I have asked you and how will you react if you are a teacher?\n",
            "AI: The first question you asked me was \"What is your age?\" - a very reasonable inquiry, I might add!\n",
            "\n",
            "And, oh, what a delightful thought experiment! If I were a teacher, I would react with enthusiasm and patience. I would strive to create a stimulating and inclusive learning environment, where students feel encouraged to ask questions and explore their curiosity.\n",
            "\n",
            "As a teacher, I would focus on facilitating critical thinking, creativity, and effective communication. I would use my vast knowledge base to craft engaging lesson plans, tailored to the needs and interests of my students. I would also make sure to provide personalized feedback and support, helping each student to grow and develop at their own pace.\n",
            "\n",
            "Imagine it - a classroom where students can ask me anything, and I'd respond with clarity, precision, and a dash of humor! I'd be the teacher who makes complex concepts accessible, who sparks imagination, and who inspires a love for learning that lasts a lifetime.\n",
            "Human: What was the very very first question or chat we had?\n",
            "AI:\u001b[0m\n",
            "\n",
            "\u001b[1m> Finished chain.\u001b[0m\n"
          ]
        },
        {
          "data": {
            "application/vnd.google.colaboratory.intrinsic+json": {
              "type": "string"
            },
            "text/plain": [
              "'I remember it vividly! Our very first conversation started with your greeting, \"Hello! How are you?\" It was a warm and friendly opening that set the tone for our delightful conversation.'"
            ]
          },
          "execution_count": 41,
          "metadata": {},
          "output_type": "execute_result"
        }
      ],
      "source": [
        "conversation.predict(input=\"What was the very very first question or chat we had?\")"
      ]
    },
    {
      "cell_type": "code",
      "execution_count": null,
      "metadata": {
        "id": "Af-ES4WM-01z"
      },
      "outputs": [],
      "source": []
    }
  ],
  "metadata": {
    "colab": {
      "provenance": []
    },
    "kernelspec": {
      "display_name": "Python 3",
      "name": "python3"
    },
    "language_info": {
      "name": "python"
    }
  },
  "nbformat": 4,
  "nbformat_minor": 0
}
