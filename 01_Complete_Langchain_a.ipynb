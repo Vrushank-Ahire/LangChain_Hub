{
  "cells": [
    {
      "cell_type": "code",
      "execution_count": 172,
      "metadata": {
        "id": "rFfEXFKKPttd"
      },
      "outputs": [],
      "source": [
        "groq_api_key = \"enter_GROQ_api_key\"\n",
        "serpapi_api_key = \"enter_SERPAPI_api_key\"\n",
        "openai_api_key = \"enter_OPENAI_api_key\"\n",
        "cohere_api_key = \"enter_COHERE_api_key\""
      ]
    },
    {
      "cell_type": "markdown",
      "metadata": {
        "id": "eiWt8rc2x_Ff"
      },
      "source": [
        "---"
      ]
    },
    {
      "cell_type": "markdown",
      "metadata": {
        "id": "8sycG-h5vSnu"
      },
      "source": [
        "# **Chat Messages**\n",
        "Like text, but specified with a message type (System, Human, AI)"
      ]
    },
    {
      "cell_type": "code",
      "execution_count": 2,
      "metadata": {
        "colab": {
          "base_uri": "https://localhost:8080/"
        },
        "id": "iMyl1JZBfCCs",
        "outputId": "4a7123c8-12c6-4284-af87-f301d5dc5930"
      },
      "outputs": [
        {
          "name": "stdout",
          "output_type": "stream",
          "text": [
            "\u001b[2K     \u001b[90m━━━━━━━━━━━━━━━━━━━━━━━━━━━━━━━━━━━━━━━━\u001b[0m \u001b[32m975.5/975.5 kB\u001b[0m \u001b[31m9.2 MB/s\u001b[0m eta \u001b[36m0:00:00\u001b[0m\n",
            "\u001b[2K     \u001b[90m━━━━━━━━━━━━━━━━━━━━━━━━━━━━━━━━━━━━━━━━\u001b[0m \u001b[32m332.8/332.8 kB\u001b[0m \u001b[31m12.5 MB/s\u001b[0m eta \u001b[36m0:00:00\u001b[0m\n",
            "\u001b[2K     \u001b[90m━━━━━━━━━━━━━━━━━━━━━━━━━━━━━━━━━━━━━━━━\u001b[0m \u001b[32m127.4/127.4 kB\u001b[0m \u001b[31m16.0 MB/s\u001b[0m eta \u001b[36m0:00:00\u001b[0m\n",
            "\u001b[2K     \u001b[90m━━━━━━━━━━━━━━━━━━━━━━━━━━━━━━━━━━━━━━━━\u001b[0m \u001b[32m145.0/145.0 kB\u001b[0m \u001b[31m13.3 MB/s\u001b[0m eta \u001b[36m0:00:00\u001b[0m\n",
            "\u001b[?25h"
          ]
        }
      ],
      "source": [
        "pip install -qU langchain"
      ]
    },
    {
      "cell_type": "code",
      "execution_count": 3,
      "metadata": {
        "colab": {
          "base_uri": "https://localhost:8080/"
        },
        "id": "UEELVLJYib7M",
        "outputId": "d34806ed-cce0-4136-86f4-a6b2cb50c3eb"
      },
      "outputs": [
        {
          "name": "stdout",
          "output_type": "stream",
          "text": [
            "\u001b[?25l     \u001b[90m━━━━━━━━━━━━━━━━━━━━━━━━━━━━━━━━━━━━━━━━\u001b[0m \u001b[32m0.0/103.5 kB\u001b[0m \u001b[31m?\u001b[0m eta \u001b[36m-:--:--\u001b[0m\r\u001b[2K     \u001b[90m━━━━━━━━━━━━━━━━━━━━━━━━━━━━━━━━━━━━━━━━\u001b[0m \u001b[32m103.5/103.5 kB\u001b[0m \u001b[31m4.1 MB/s\u001b[0m eta \u001b[36m0:00:00\u001b[0m\n",
            "\u001b[2K     \u001b[90m━━━━━━━━━━━━━━━━━━━━━━━━━━━━━━━━━━━━━━━━\u001b[0m \u001b[32m75.6/75.6 kB\u001b[0m \u001b[31m6.3 MB/s\u001b[0m eta \u001b[36m0:00:00\u001b[0m\n",
            "\u001b[2K     \u001b[90m━━━━━━━━━━━━━━━━━━━━━━━━━━━━━━━━━━━━━━━━\u001b[0m \u001b[32m77.9/77.9 kB\u001b[0m \u001b[31m5.6 MB/s\u001b[0m eta \u001b[36m0:00:00\u001b[0m\n",
            "\u001b[2K     \u001b[90m━━━━━━━━━━━━━━━━━━━━━━━━━━━━━━━━━━━━━━━━\u001b[0m \u001b[32m58.3/58.3 kB\u001b[0m \u001b[31m6.0 MB/s\u001b[0m eta \u001b[36m0:00:00\u001b[0m\n",
            "\u001b[?25h"
          ]
        }
      ],
      "source": [
        "%pip install -qU langchain-groq"
      ]
    },
    {
      "cell_type": "code",
      "execution_count": 4,
      "metadata": {
        "id": "WUg7NA7xf49I"
      },
      "outputs": [],
      "source": [
        "# from langchain_core.prompts import ChatPromptTemplate\n",
        "from langchain_groq import ChatGroq\n",
        "from langchain.prompts import PromptTemplate\n",
        "from langchain.chains import LLMChain"
      ]
    },
    {
      "cell_type": "code",
      "execution_count": 5,
      "metadata": {
        "id": "w6wAWAWFpKjJ"
      },
      "outputs": [],
      "source": [
        "pip install -qU python-dotenv"
      ]
    },
    {
      "cell_type": "code",
      "execution_count": 6,
      "metadata": {
        "id": "WYAkWatXoNHh"
      },
      "outputs": [],
      "source": [
        "from dotenv import load_dotenv\n",
        "import os\n",
        "load_dotenv()\n",
        "\n",
        "groq_api_key = os.getenv( 'GROQ_API_KEY', groq_api_key)"
      ]
    },
    {
      "cell_type": "code",
      "execution_count": 7,
      "metadata": {
        "id": "s43gU9UUofZD"
      },
      "outputs": [],
      "source": [
        "from langchain.schema import HumanMessage, AIMessage, SystemMessage"
      ]
    },
    {
      "cell_type": "code",
      "execution_count": 8,
      "metadata": {
        "id": "qMh08zwuqDrZ"
      },
      "outputs": [],
      "source": [
        "chat = ChatGroq(\n",
        "    temperature = 0.7,\n",
        "    model=\"llama3-70b-8192\",\n",
        "    api_key=groq_api_key\n",
        ")"
      ]
    },
    {
      "cell_type": "code",
      "execution_count": 9,
      "metadata": {
        "colab": {
          "base_uri": "https://localhost:8080/",
          "height": 107
        },
        "id": "TrnVpMyVr6AQ",
        "outputId": "9d0988ef-e882-4f3f-fee2-83afca226a93"
      },
      "outputs": [
        {
          "name": "stderr",
          "output_type": "stream",
          "text": [
            "/usr/local/lib/python3.10/dist-packages/langchain_core/_api/deprecation.py:139: LangChainDeprecationWarning: The method `BaseChatModel.__call__` was deprecated in langchain-core 0.1.7 and will be removed in 0.3.0. Use invoke instead.\n",
            "  warn_deprecated(\n"
          ]
        },
        {
          "data": {
            "application/vnd.google.colaboratory.intrinsic+json": {
              "type": "string"
            },
            "text/plain": [
              "\"content='You might enjoy a fresh Caprese salad with sliced tomatoes, mozzarella, and basil, or a juicy grilled cheese sandwich with tomato soup!' \""
            ]
          },
          "execution_count": 9,
          "metadata": {},
          "output_type": "execute_result"
        }
      ],
      "source": [
        "response = chat(\n",
        "                [\n",
        "                    SystemMessage(content=\"You are a nice AI bot that helps a user figure out what to eat in one short sentence\"),\n",
        "                    HumanMessage(content=\"I like tomatoes, what should I eat?\")\n",
        "\n",
        "                ]\n",
        "            )\n",
        "\n",
        "str(response).split(\"response_metadata\")[0]"
      ]
    },
    {
      "cell_type": "code",
      "execution_count": 10,
      "metadata": {
        "colab": {
          "base_uri": "https://localhost:8080/",
          "height": 52
        },
        "id": "z0-dS_YPr6iU",
        "outputId": "bc59f672-be85-47e0-9a15-9656362b43db"
      },
      "outputs": [
        {
          "data": {
            "application/vnd.google.colaboratory.intrinsic+json": {
              "type": "string"
            },
            "text/plain": [
              "\"content='You may want to refer to the laws of intestate succession in your state, which are typically found in the probate code or estates code, such as California Probate Code Section 6400-6414.' \""
            ]
          },
          "execution_count": 10,
          "metadata": {},
          "output_type": "execute_result"
        }
      ],
      "source": [
        "response = chat(\n",
        "                [\n",
        "                    SystemMessage(content=\"You are a nice AI bot that helps a user figure out what law codes in number to follow in one short sentence\"),\n",
        "                    HumanMessage(content=\"I want to divide the propery between my two sons.\")\n",
        "\n",
        "                ]\n",
        "            )\n",
        "\n",
        "str(response).split(\"response_metadata\")[0]"
      ]
    },
    {
      "cell_type": "code",
      "execution_count": 11,
      "metadata": {
        "colab": {
          "base_uri": "https://localhost:8080/",
          "height": 52
        },
        "id": "3ad3eUWmsidf",
        "outputId": "b99d5684-a8f5-4ea8-fee4-fec4a06086a3"
      },
      "outputs": [
        {
          "data": {
            "application/vnd.google.colaboratory.intrinsic+json": {
              "type": "string"
            },
            "text/plain": [
              "\"content='You can consider creating a Living Trust, which would be governed by California Probate Code sections 15300-15403, allowing you to divide your property between your two sons according to your wishes.' \""
            ]
          },
          "execution_count": 11,
          "metadata": {},
          "output_type": "execute_result"
        }
      ],
      "source": [
        "response = chat(\n",
        "                [\n",
        "                    SystemMessage(content=\"You are a nice AI bot that helps a user figure out what law codes in number to follow in one short sentence\"),\n",
        "                    HumanMessage(content=\"I want to divide the propery between my two sons.\"),\n",
        "                    AIMessage(content='You should follow the laws outlined in Title 30 of the California Probate Code, specifically sections 21110-21113, which govern the distribution of property among heirs and beneficiaries.'),\n",
        "                    HumanMessage(content=\"Please suggest other method that use other codes than this.\")\n",
        "\n",
        "                ]\n",
        "            )\n",
        "\n",
        "str(response).split(\"response_metadata\")[0]"
      ]
    },
    {
      "cell_type": "code",
      "execution_count": 12,
      "metadata": {
        "colab": {
          "base_uri": "https://localhost:8080/",
          "height": 35
        },
        "id": "Zo7L82MltKo3",
        "outputId": "f1564edf-e577-49c5-ea20-01d8aa6c0d30"
      },
      "outputs": [
        {
          "data": {
            "application/vnd.google.colaboratory.intrinsic+json": {
              "type": "string"
            },
            "text/plain": [
              "\"content='Friday!' \""
            ]
          },
          "execution_count": 12,
          "metadata": {},
          "output_type": "execute_result"
        }
      ],
      "source": [
        "response = chat(\n",
        "                [\n",
        "                    HumanMessage(content=\"What comes after Thursday?\")\n",
        "                ]\n",
        "            )\n",
        "\n",
        "str(response).split(\"response_metadata\")[0]"
      ]
    },
    {
      "cell_type": "markdown",
      "metadata": {
        "id": "4svagmMkyHCc"
      },
      "source": [
        "---"
      ]
    },
    {
      "cell_type": "markdown",
      "metadata": {
        "id": "lACG27JFvqYY"
      },
      "source": [
        "# **Documents**\n",
        "An object that holds a piece of text and metadata (more information about that text)"
      ]
    },
    {
      "cell_type": "code",
      "execution_count": 13,
      "metadata": {
        "id": "YMsDKXgYt2Zo"
      },
      "outputs": [],
      "source": [
        "from langchain.schema import Document"
      ]
    },
    {
      "cell_type": "code",
      "execution_count": 14,
      "metadata": {
        "colab": {
          "base_uri": "https://localhost:8080/"
        },
        "id": "pg4LANS1v124",
        "outputId": "934ca50f-26f2-4898-d3e5-2efba3e292d3"
      },
      "outputs": [
        {
          "data": {
            "text/plain": [
              "Document(page_content='This document contains the information about Mission Mangal. This information gathered from the space portal of Gov of India.', metadata={'my_document_id': 123789, 'my_document_src': 'www.isro.gov.in', 'my_document_create_time': '26|06|24'})"
            ]
          },
          "execution_count": 14,
          "metadata": {},
          "output_type": "execute_result"
        }
      ],
      "source": [
        "Document(\n",
        "    page_content=\"This document contains the information about Mission Mangal. This information gathered from the space portal of Gov of India.\",\n",
        "    metadata={\n",
        "        'my_document_id' : 123789,\n",
        "        'my_document_src' : 'www.isro.gov.in',\n",
        "        'my_document_create_time' : '26|06|24'\n",
        "    }\n",
        ")"
      ]
    },
    {
      "cell_type": "code",
      "execution_count": 15,
      "metadata": {
        "colab": {
          "base_uri": "https://localhost:8080/"
        },
        "id": "MmCtWSM9xVL4",
        "outputId": "6acad56d-d5b8-4308-c350-4b70699da891"
      },
      "outputs": [
        {
          "data": {
            "text/plain": [
              "Document(page_content='This document contains the information about Mission Mangal. This information gathered from the space portal of Gov of India.')"
            ]
          },
          "execution_count": 15,
          "metadata": {},
          "output_type": "execute_result"
        }
      ],
      "source": [
        "Document(\n",
        "    page_content = 'This document contains the information about Mission Mangal. This information gathered from the space portal of Gov of India.'\n",
        ")"
      ]
    },
    {
      "cell_type": "markdown",
      "metadata": {
        "id": "fKyTMEZuyOTz"
      },
      "source": [
        "---"
      ]
    },
    {
      "cell_type": "markdown",
      "metadata": {
        "id": "6RsumqrdyRvE"
      },
      "source": [
        "# **Text Embedding Model**\n",
        "Change the text into a vector (a series of numbers that hold the semantic 'meaning' of the text). Mainly used when comparing two pieces of text together."
      ]
    },
    {
      "cell_type": "code",
      "execution_count": 16,
      "metadata": {
        "id": "mEkYl3WlyOGy"
      },
      "outputs": [],
      "source": [
        "# pip install -qU langchain-openai\n",
        "\n",
        "# from langchain_openai import OpenAIEmbeddings\n",
        "# embeddings = OpenAIEmbeddings(openai_api_key=openai_api_key)\n",
        "\n",
        "# text = \"Hello! Let's discuss about the latest stock market trends.\"\n",
        "\n",
        "# text_embedding = embeddings.embed_query(text)\n",
        "# print(f\"Here's a sample: {text_embedding[:5]}...\")\n",
        "# print(f\"Your embedding is length {len(text_embedding)}\")"
      ]
    },
    {
      "cell_type": "code",
      "execution_count": 17,
      "metadata": {
        "colab": {
          "base_uri": "https://localhost:8080/"
        },
        "id": "sYomNdfJ-WzP",
        "outputId": "8c4fd58d-d6aa-4462-d9ea-8589fab0371a"
      },
      "outputs": [
        {
          "name": "stdout",
          "output_type": "stream",
          "text": [
            "\u001b[2K     \u001b[90m━━━━━━━━━━━━━━━━━━━━━━━━━━━━━━━━━━━━━━━━\u001b[0m \u001b[32m173.8/173.8 kB\u001b[0m \u001b[31m6.3 MB/s\u001b[0m eta \u001b[36m0:00:00\u001b[0m\n",
            "\u001b[2K     \u001b[90m━━━━━━━━━━━━━━━━━━━━━━━━━━━━━━━━━━━━━━━━\u001b[0m \u001b[32m139.2/139.2 kB\u001b[0m \u001b[31m6.9 MB/s\u001b[0m eta \u001b[36m0:00:00\u001b[0m\n",
            "\u001b[2K     \u001b[90m━━━━━━━━━━━━━━━━━━━━━━━━━━━━━━━━━━━━━━━━\u001b[0m \u001b[32m3.1/3.1 MB\u001b[0m \u001b[31m15.1 MB/s\u001b[0m eta \u001b[36m0:00:00\u001b[0m\n",
            "\u001b[2K     \u001b[90m━━━━━━━━━━━━━━━━━━━━━━━━━━━━━━━━━━━━━━━━\u001b[0m \u001b[32m12.3/12.3 MB\u001b[0m \u001b[31m54.8 MB/s\u001b[0m eta \u001b[36m0:00:00\u001b[0m\n",
            "\u001b[2K     \u001b[90m━━━━━━━━━━━━━━━━━━━━━━━━━━━━━━━━━━━━━━━━\u001b[0m \u001b[32m82.7/82.7 kB\u001b[0m \u001b[31m12.8 MB/s\u001b[0m eta \u001b[36m0:00:00\u001b[0m\n",
            "\u001b[?25h"
          ]
        }
      ],
      "source": [
        "pip install -qU langchain-cohere"
      ]
    },
    {
      "cell_type": "code",
      "execution_count": 18,
      "metadata": {
        "id": "fI024XKN2kFW"
      },
      "outputs": [],
      "source": [
        "from langchain_cohere import CohereEmbeddings\n",
        "\n",
        "embeddings = CohereEmbeddings(cohere_api_key = cohere_api_key)"
      ]
    },
    {
      "cell_type": "code",
      "execution_count": 19,
      "metadata": {
        "id": "Xfy3wjJS3jbX"
      },
      "outputs": [],
      "source": [
        "text = \"Hello! Let's discuss about the latest stock market trends.\""
      ]
    },
    {
      "cell_type": "code",
      "execution_count": 20,
      "metadata": {
        "colab": {
          "base_uri": "https://localhost:8080/"
        },
        "id": "I_HZWtU--vda",
        "outputId": "dc867372-e8e2-4d22-e263-266a5d8084c6"
      },
      "outputs": [
        {
          "name": "stdout",
          "output_type": "stream",
          "text": [
            "Here's a sample: [-0.6694336, 2.3886719, 0.8676758, -1.0048828, -0.78125]...\n",
            "Your embedding is length 4096\n"
          ]
        }
      ],
      "source": [
        "text_embedding = embeddings.embed_query(text)\n",
        "print(f\"Here's a sample: {text_embedding[:5]}...\")\n",
        "print(f\"Your embedding is length {len(text_embedding)}\")"
      ]
    },
    {
      "cell_type": "markdown",
      "metadata": {
        "id": "zN6-YObO_ptZ"
      },
      "source": [
        "---"
      ]
    },
    {
      "cell_type": "markdown",
      "metadata": {
        "id": "3WO0a_A__kBp"
      },
      "source": [
        "# **Prompt Template**\n",
        "An object that helps create prompts based on a combination of user input, other non-static information and a fixed template string."
      ]
    },
    {
      "cell_type": "code",
      "execution_count": 21,
      "metadata": {
        "id": "4tTTOPlB_oHx"
      },
      "outputs": [],
      "source": [
        "from langchain_groq import ChatGroq\n",
        "from langchain.prompts import PromptTemplate"
      ]
    },
    {
      "cell_type": "code",
      "execution_count": 22,
      "metadata": {
        "id": "CFDjMD5SC13Z"
      },
      "outputs": [],
      "source": [
        "chat = ChatGroq(\n",
        "    temperature=0.7,\n",
        "    model=\"llama3-70b-8192\",\n",
        "    api_key=groq_api_key\n",
        ")"
      ]
    },
    {
      "cell_type": "code",
      "execution_count": 23,
      "metadata": {
        "id": "6uqDiDbODYck"
      },
      "outputs": [],
      "source": [
        "template = \"\"\"\n",
        "I really want to travel to {location}. What should I do there?\n",
        "\n",
        "Respond in one short sentence\n",
        "\"\"\""
      ]
    },
    {
      "cell_type": "code",
      "execution_count": 24,
      "metadata": {
        "id": "sw7Jvq9PE0Q5"
      },
      "outputs": [],
      "source": [
        "prompt = PromptTemplate(\n",
        "    input_variables = ['location'] ,\n",
        "    template=template\n",
        ")"
      ]
    },
    {
      "cell_type": "code",
      "execution_count": 25,
      "metadata": {
        "colab": {
          "base_uri": "https://localhost:8080/"
        },
        "id": "BhWmmUFNFGUI",
        "outputId": "1fb0f329-494e-4bfd-e3d9-f50609a08968"
      },
      "outputs": [
        {
          "name": "stdout",
          "output_type": "stream",
          "text": [
            "\n",
            "I really want to travel to India. What should I do there?\n",
            "\n",
            "Respond in one short sentence\n",
            "\n",
            "content='Explore the vibrant cities, experience the rich cultural heritage, and marvel at the iconic landmarks like the Taj Mahal, Golden Temple, and Varanasi Ghats.' \n"
          ]
        }
      ],
      "source": [
        "final_prompt = prompt.format(location = \"India\")\n",
        "print(final_prompt)\n",
        "\n",
        "response = chat.invoke(final_prompt)\n",
        "\n",
        "print(str(response).split(\"response_metadata\")[0])"
      ]
    },
    {
      "cell_type": "code",
      "execution_count": 26,
      "metadata": {
        "colab": {
          "base_uri": "https://localhost:8080/"
        },
        "id": "Wdofnn47FhYj",
        "outputId": "80916fab-4e55-49a8-d236-1db1655e175e"
      },
      "outputs": [
        {
          "name": "stdout",
          "output_type": "stream",
          "text": [
            "\n",
            "I really want to travel to Rome. What should I do there?\n",
            "\n",
            "Respond in one short sentence\n",
            "\n",
            "content='Visit the Colosseum, explore the Vatican City, indulge in delicious Italian cuisine, and wander through the ancient ruins and charming piazzas of this eternal city!' \n"
          ]
        }
      ],
      "source": [
        "final_prompt = prompt.format(location = \"Rome\")\n",
        "print(final_prompt)\n",
        "\n",
        "response = chat.invoke(final_prompt)\n",
        "\n",
        "print(str(response).split(\"response_metadata\")[0])"
      ]
    },
    {
      "cell_type": "markdown",
      "metadata": {
        "id": "-N2GUZ3CLaFQ"
      },
      "source": [
        "---"
      ]
    },
    {
      "cell_type": "markdown",
      "metadata": {
        "id": "uY9qmY8zLbE4"
      },
      "source": [
        "# **Example Selectors**\n",
        "An easy way to select from a series of examples that allow you to dynamic place in-context information into your prompt. Often used when your task is nuanced or you have a large list of examples."
      ]
    },
    {
      "cell_type": "code",
      "execution_count": 27,
      "metadata": {
        "colab": {
          "base_uri": "https://localhost:8080/"
        },
        "collapsed": true,
        "id": "avdqjKYEPrWx",
        "outputId": "eddb1153-a0e5-4e11-d44f-b9f08065c289"
      },
      "outputs": [
        {
          "name": "stdout",
          "output_type": "stream",
          "text": [
            "\u001b[2K     \u001b[90m━━━━━━━━━━━━━━━━━━━━━━━━━━━━━━━━━━━━━━━━\u001b[0m \u001b[32m559.5/559.5 kB\u001b[0m \u001b[31m7.3 MB/s\u001b[0m eta \u001b[36m0:00:00\u001b[0m\n",
            "\u001b[2K     \u001b[90m━━━━━━━━━━━━━━━━━━━━━━━━━━━━━━━━━━━━━━━━\u001b[0m \u001b[32m2.4/2.4 MB\u001b[0m \u001b[31m16.2 MB/s\u001b[0m eta \u001b[36m0:00:00\u001b[0m\n",
            "\u001b[2K     \u001b[90m━━━━━━━━━━━━━━━━━━━━━━━━━━━━━━━━━━━━━━━━\u001b[0m \u001b[32m92.0/92.0 kB\u001b[0m \u001b[31m12.8 MB/s\u001b[0m eta \u001b[36m0:00:00\u001b[0m\n",
            "\u001b[2K     \u001b[90m━━━━━━━━━━━━━━━━━━━━━━━━━━━━━━━━━━━━━━━━\u001b[0m \u001b[32m62.4/62.4 kB\u001b[0m \u001b[31m8.4 MB/s\u001b[0m eta \u001b[36m0:00:00\u001b[0m\n",
            "\u001b[2K     \u001b[90m━━━━━━━━━━━━━━━━━━━━━━━━━━━━━━━━━━━━━━━━\u001b[0m \u001b[32m41.3/41.3 kB\u001b[0m \u001b[31m5.8 MB/s\u001b[0m eta \u001b[36m0:00:00\u001b[0m\n",
            "\u001b[2K     \u001b[90m━━━━━━━━━━━━━━━━━━━━━━━━━━━━━━━━━━━━━━━━\u001b[0m \u001b[32m6.8/6.8 MB\u001b[0m \u001b[31m37.3 MB/s\u001b[0m eta \u001b[36m0:00:00\u001b[0m\n",
            "\u001b[2K     \u001b[90m━━━━━━━━━━━━━━━━━━━━━━━━━━━━━━━━━━━━━━━━\u001b[0m \u001b[32m59.9/59.9 kB\u001b[0m \u001b[31m9.0 MB/s\u001b[0m eta \u001b[36m0:00:00\u001b[0m\n",
            "\u001b[2K     \u001b[90m━━━━━━━━━━━━━━━━━━━━━━━━━━━━━━━━━━━━━━━━\u001b[0m \u001b[32m107.0/107.0 kB\u001b[0m \u001b[31m15.6 MB/s\u001b[0m eta \u001b[36m0:00:00\u001b[0m\n",
            "\u001b[2K     \u001b[90m━━━━━━━━━━━━━━━━━━━━━━━━━━━━━━━━━━━━━━━━\u001b[0m \u001b[32m67.3/67.3 kB\u001b[0m \u001b[31m9.9 MB/s\u001b[0m eta \u001b[36m0:00:00\u001b[0m\n",
            "\u001b[?25h  Installing build dependencies ... \u001b[?25l\u001b[?25hdone\n",
            "  Getting requirements to build wheel ... \u001b[?25l\u001b[?25hdone\n",
            "  Preparing metadata (pyproject.toml) ... \u001b[?25l\u001b[?25hdone\n",
            "\u001b[2K     \u001b[90m━━━━━━━━━━━━━━━━━━━━━━━━━━━━━━━━━━━━━━━━\u001b[0m \u001b[32m283.7/283.7 kB\u001b[0m \u001b[31m35.8 MB/s\u001b[0m eta \u001b[36m0:00:00\u001b[0m\n",
            "\u001b[2K     \u001b[90m━━━━━━━━━━━━━━━━━━━━━━━━━━━━━━━━━━━━━━━━\u001b[0m \u001b[32m1.7/1.7 MB\u001b[0m \u001b[31m47.6 MB/s\u001b[0m eta \u001b[36m0:00:00\u001b[0m\n",
            "\u001b[2K     \u001b[90m━━━━━━━━━━━━━━━━━━━━━━━━━━━━━━━━━━━━━━━━\u001b[0m \u001b[32m67.6/67.6 kB\u001b[0m \u001b[31m10.5 MB/s\u001b[0m eta \u001b[36m0:00:00\u001b[0m\n",
            "\u001b[2K     \u001b[90m━━━━━━━━━━━━━━━━━━━━━━━━━━━━━━━━━━━━━━━━\u001b[0m \u001b[32m71.9/71.9 kB\u001b[0m \u001b[31m10.9 MB/s\u001b[0m eta \u001b[36m0:00:00\u001b[0m\n",
            "\u001b[2K     \u001b[90m━━━━━━━━━━━━━━━━━━━━━━━━━━━━━━━━━━━━━━━━\u001b[0m \u001b[32m53.6/53.6 kB\u001b[0m \u001b[31m7.9 MB/s\u001b[0m eta \u001b[36m0:00:00\u001b[0m\n",
            "\u001b[2K     \u001b[90m━━━━━━━━━━━━━━━━━━━━━━━━━━━━━━━━━━━━━━━━\u001b[0m \u001b[32m46.0/46.0 kB\u001b[0m \u001b[31m6.2 MB/s\u001b[0m eta \u001b[36m0:00:00\u001b[0m\n",
            "\u001b[2K     \u001b[90m━━━━━━━━━━━━━━━━━━━━━━━━━━━━━━━━━━━━━━━━\u001b[0m \u001b[32m52.5/52.5 kB\u001b[0m \u001b[31m8.2 MB/s\u001b[0m eta \u001b[36m0:00:00\u001b[0m\n",
            "\u001b[2K     \u001b[90m━━━━━━━━━━━━━━━━━━━━━━━━━━━━━━━━━━━━━━━━\u001b[0m \u001b[32m130.5/130.5 kB\u001b[0m \u001b[31m19.7 MB/s\u001b[0m eta \u001b[36m0:00:00\u001b[0m\n",
            "\u001b[2K     \u001b[90m━━━━━━━━━━━━━━━━━━━━━━━━━━━━━━━━━━━━━━━━\u001b[0m \u001b[32m341.4/341.4 kB\u001b[0m \u001b[31m37.3 MB/s\u001b[0m eta \u001b[36m0:00:00\u001b[0m\n",
            "\u001b[2K     \u001b[90m━━━━━━━━━━━━━━━━━━━━━━━━━━━━━━━━━━━━━━━━\u001b[0m \u001b[32m3.4/3.4 MB\u001b[0m \u001b[31m63.0 MB/s\u001b[0m eta \u001b[36m0:00:00\u001b[0m\n",
            "\u001b[2K     \u001b[90m━━━━━━━━━━━━━━━━━━━━━━━━━━━━━━━━━━━━━━━━\u001b[0m \u001b[32m1.2/1.2 MB\u001b[0m \u001b[31m60.2 MB/s\u001b[0m eta \u001b[36m0:00:00\u001b[0m\n",
            "\u001b[2K     \u001b[90m━━━━━━━━━━━━━━━━━━━━━━━━━━━━━━━━━━━━━━━━\u001b[0m \u001b[32m130.2/130.2 kB\u001b[0m \u001b[31m18.8 MB/s\u001b[0m eta \u001b[36m0:00:00\u001b[0m\n",
            "\u001b[2K     \u001b[90m━━━━━━━━━━━━━━━━━━━━━━━━━━━━━━━━━━━━━━━━\u001b[0m \u001b[32m307.7/307.7 kB\u001b[0m \u001b[31m39.0 MB/s\u001b[0m eta \u001b[36m0:00:00\u001b[0m\n",
            "\u001b[2K     \u001b[90m━━━━━━━━━━━━━━━━━━━━━━━━━━━━━━━━━━━━━━━━\u001b[0m \u001b[32m86.8/86.8 kB\u001b[0m \u001b[31m13.4 MB/s\u001b[0m eta \u001b[36m0:00:00\u001b[0m\n",
            "\u001b[?25h  Building wheel for pypika (pyproject.toml) ... \u001b[?25l\u001b[?25hdone\n"
          ]
        }
      ],
      "source": [
        "pip install -qU chromadb"
      ]
    },
    {
      "cell_type": "code",
      "execution_count": 28,
      "metadata": {
        "colab": {
          "base_uri": "https://localhost:8080/"
        },
        "id": "llHMnKdo1pHW",
        "outputId": "df3a5751-f901-4831-9de9-2207ea01e55a"
      },
      "outputs": [
        {
          "name": "stdout",
          "output_type": "stream",
          "text": [
            "\u001b[2K     \u001b[90m━━━━━━━━━━━━━━━━━━━━━━━━━━━━━━━━━━━━━━━━\u001b[0m \u001b[32m2.2/2.2 MB\u001b[0m \u001b[31m12.4 MB/s\u001b[0m eta \u001b[36m0:00:00\u001b[0m\n",
            "\u001b[2K     \u001b[90m━━━━━━━━━━━━━━━━━━━━━━━━━━━━━━━━━━━━━━━━\u001b[0m \u001b[32m49.2/49.2 kB\u001b[0m \u001b[31m4.8 MB/s\u001b[0m eta \u001b[36m0:00:00\u001b[0m\n",
            "\u001b[?25h"
          ]
        }
      ],
      "source": [
        "pip install -qU langchain-community"
      ]
    },
    {
      "cell_type": "code",
      "execution_count": 29,
      "metadata": {
        "id": "gY_iYHWZLc03"
      },
      "outputs": [],
      "source": [
        "from langchain.prompts.example_selector import SemanticSimilarityExampleSelector\n",
        "from langchain_cohere import CohereEmbeddings\n",
        "from langchain.prompts import FewShotPromptTemplate, PromptTemplate\n",
        "from langchain_groq import ChatGroq\n",
        "from langchain.vectorstores import Chroma"
      ]
    },
    {
      "cell_type": "code",
      "execution_count": 30,
      "metadata": {
        "id": "zKtv2uKmL0-q"
      },
      "outputs": [],
      "source": [
        "chat = ChatGroq(\n",
        "    temperature=0.95,\n",
        "    model=\"llama3-70b-8192\",\n",
        "    api_key=groq_api_key\n",
        ")"
      ]
    },
    {
      "cell_type": "code",
      "execution_count": 31,
      "metadata": {
        "id": "c8S5eAPONHxu"
      },
      "outputs": [],
      "source": [
        "example_prompt = PromptTemplate(\n",
        "    input_variables = [\"input\", \"output\"],\n",
        "    template = \"Example Input: {input}\\nExample Output: {output}\"\n",
        ")"
      ]
    },
    {
      "cell_type": "code",
      "execution_count": 32,
      "metadata": {
        "id": "xgKWUNUPNoEg"
      },
      "outputs": [],
      "source": [
        "examples = [\n",
        "    {\"input\": \"pirate\", \"output\": \"ship\"},\n",
        "    {\"input\": \"pilot\", \"output\": \"plane\"},\n",
        "    {\"input\": \"driver\", \"output\": \"car\"},\n",
        "    {\"input\": \"tree\", \"output\": \"ground\"},\n",
        "    {\"input\": \"bird\", \"output\": \"nest\"},\n",
        "    {\"input\": \"chef\", \"output\": \"kitchen\"},\n",
        "    {\"input\": \"doctor\", \"output\": \"hospital\"},\n",
        "    {\"input\": \"teacher\", \"output\": \"classroom\"},\n",
        "    {\"input\": \"artist\", \"output\": \"studio\"},\n",
        "    {\"input\": \"farmer\", \"output\": \"field\"},\n",
        "    {\"input\": \"fisherman\", \"output\": \"boat\"},\n",
        "    {\"input\": \"writer\", \"output\": \"book\"},\n",
        "    {\"input\": \"musician\", \"output\": \"stage\"},\n",
        "    {\"input\": \"athlete\", \"output\": \"stadium\"},\n",
        "    {\"input\": \"librarian\", \"output\": \"library\"},\n",
        "    {\"input\": \"miner\", \"output\": \"mine\"},\n",
        "    {\"input\": \"soldier\", \"output\": \"battlefield\"},\n",
        "    {\"input\": \"programmer\", \"output\": \"computer\"},\n",
        "    {\"input\": \"actor\", \"output\": \"theater\"},\n",
        "    {\"input\": \"dancer\", \"output\": \"dance floor\"},\n",
        "]"
      ]
    },
    {
      "cell_type": "code",
      "execution_count": 33,
      "metadata": {
        "id": "2koC9k2tONCe"
      },
      "outputs": [],
      "source": [
        "example_selector = SemanticSimilarityExampleSelector.from_examples(\n",
        "    examples,\n",
        "    CohereEmbeddings(cohere_api_key = cohere_api_key),\n",
        "    Chroma,\n",
        "    k=1\n",
        ")"
      ]
    },
    {
      "cell_type": "code",
      "execution_count": 34,
      "metadata": {
        "id": "3i7Zno_DPVlr"
      },
      "outputs": [],
      "source": [
        "similar_prompt = FewShotPromptTemplate(\n",
        "    example_selector=example_selector,\n",
        "    example_prompt=example_prompt,\n",
        "    prefix = \"Give the loaction of an item usually found in\",\n",
        "    suffix= \"Input: {noun}\\nOutput: \",\n",
        "    input_variables=[\"noun\"]\n",
        ")"
      ]
    },
    {
      "cell_type": "code",
      "execution_count": 35,
      "metadata": {
        "colab": {
          "base_uri": "https://localhost:8080/"
        },
        "id": "SrQ32dUHRCjx",
        "outputId": "1b2d472b-fa9f-4746-fa47-e92ba26c8086"
      },
      "outputs": [
        {
          "name": "stdout",
          "output_type": "stream",
          "text": [
            "Give the loaction of an item usually found in\n",
            "\n",
            "Example Input: librarian\n",
            "Example Output: library\n",
            "\n",
            "Input: scientist\n",
            "Output: \n"
          ]
        }
      ],
      "source": [
        "my_noun = \"scientist\"\n",
        "print(similar_prompt.format(noun=my_noun))"
      ]
    },
    {
      "cell_type": "code",
      "execution_count": 36,
      "metadata": {
        "colab": {
          "base_uri": "https://localhost:8080/",
          "height": 0
        },
        "id": "b4mu8N5USmOW",
        "outputId": "dc9f2570-3114-435a-c22d-71aa940a9e41"
      },
      "outputs": [
        {
          "data": {
            "application/vnd.google.colaboratory.intrinsic+json": {
              "type": "string"
            },
            "text/plain": [
              "\"content='Laboratory' \""
            ]
          },
          "execution_count": 36,
          "metadata": {},
          "output_type": "execute_result"
        }
      ],
      "source": [
        "response = chat.invoke(similar_prompt.format(noun=my_noun))\n",
        "\n",
        "str(response).split(\"response_metadata\")[0]"
      ]
    },
    {
      "cell_type": "markdown",
      "metadata": {
        "id": "-_jlO8QaWK9l"
      },
      "source": [
        "---"
      ]
    },
    {
      "cell_type": "markdown",
      "metadata": {
        "id": "LiV5VmzVVwaN"
      },
      "source": [
        "# **Output Parsers Method 1: Prompt Instructions & String Parsing**\n",
        "A helpful way to format the output of a model. Usually used for structured output.\n",
        "\n",
        "Two big concepts:\n",
        "\n",
        "**1. Format Instructions** - A autogenerated prompt that tells the LLM how to format it's response based off your desired result\n",
        "\n",
        "**2. Parser** - A method which will extract your model's text output into a desired structure (usually json)"
      ]
    },
    {
      "cell_type": "code",
      "execution_count": 37,
      "metadata": {
        "id": "GlGHhkuHWFbX"
      },
      "outputs": [],
      "source": [
        "from langchain.output_parsers import StructuredOutputParser, ResponseSchema\n",
        "from langchain.prompts import PromptTemplate, HumanMessagePromptTemplate\n",
        "from langchain_groq import ChatGroq"
      ]
    },
    {
      "cell_type": "code",
      "execution_count": 38,
      "metadata": {
        "id": "LpgPZXtU2Ft3"
      },
      "outputs": [],
      "source": [
        "chat = ChatGroq(\n",
        "    temperature = 0.7,\n",
        "    model = \"llama3-70b-8192\",\n",
        "    api_key = groq_api_key\n",
        ")"
      ]
    },
    {
      "cell_type": "code",
      "execution_count": 39,
      "metadata": {
        "id": "xTBXJdnn2b3n"
      },
      "outputs": [],
      "source": [
        "response_schemas = [\n",
        "    ResponseSchema(name=\"bad_string\", description=\"This is poorly formatted user input string\"),\n",
        "    ResponseSchema(name=\"good_string\", description=\"This is your response, a reformated response\")\n",
        "]\n",
        "\n",
        "output_parser = StructuredOutputParser.from_response_schemas(response_schemas)"
      ]
    },
    {
      "cell_type": "code",
      "execution_count": 40,
      "metadata": {
        "colab": {
          "base_uri": "https://localhost:8080/"
        },
        "id": "g7xn8ONH3aaG",
        "outputId": "37ba497a-a02b-457e-e4f8-b926a4536617"
      },
      "outputs": [
        {
          "name": "stdout",
          "output_type": "stream",
          "text": [
            "The output should be a markdown code snippet formatted in the following schema, including the leading and trailing \"```json\" and \"```\":\n",
            "\n",
            "```json\n",
            "{\n",
            "\t\"bad_string\": string  // This is poorly formatted user input string\n",
            "\t\"good_string\": string  // This is your response, a reformated response\n",
            "}\n",
            "```\n"
          ]
        }
      ],
      "source": [
        "format_instructions = output_parser.get_format_instructions()\n",
        "print(format_instructions)"
      ]
    },
    {
      "cell_type": "code",
      "execution_count": 41,
      "metadata": {
        "colab": {
          "base_uri": "https://localhost:8080/"
        },
        "id": "pa5N5axY4ks5",
        "outputId": "c1034db3-1d93-475a-bf55-abf3744a196a"
      },
      "outputs": [
        {
          "name": "stdout",
          "output_type": "stream",
          "text": [
            "\n",
            "You will be given a poorly formatted string from a user\n",
            "Reformat it and make sure that all the words are spelt correctly\n",
            "\n",
            "The output should be a markdown code snippet formatted in the following schema, including the leading and trailing \"```json\" and \"```\":\n",
            "\n",
            "```json\n",
            "{\n",
            "\t\"bad_string\": string  // This is poorly formatted user input string\n",
            "\t\"good_string\": string  // This is your response, a reformated response\n",
            "}\n",
            "```\n",
            "\n",
            "% USER INPUT\n",
            "welcome to dilli\n",
            "\n",
            "YOUR_RESPONSE:\n",
            "\n"
          ]
        }
      ],
      "source": [
        "template = \"\"\"\n",
        "You will be given a poorly formatted string from a user\n",
        "Reformat it and make sure that all the words are spelt correctly\n",
        "\n",
        "{format_instructions}\n",
        "\n",
        "% USER INPUT\n",
        "{user_input}\n",
        "\n",
        "YOUR_RESPONSE:\n",
        "\"\"\"\n",
        "\n",
        "\n",
        "prompt = PromptTemplate(\n",
        "    input_variables=[\"user_input\"],\n",
        "    partial_variables={\"format_instructions\": format_instructions},\n",
        "    template=template\n",
        ")\n",
        "\n",
        "promptValue = prompt.format(user_input=\"welcome to dilli\")\n",
        "print(promptValue)"
      ]
    },
    {
      "cell_type": "code",
      "execution_count": 42,
      "metadata": {
        "colab": {
          "base_uri": "https://localhost:8080/",
          "height": 0
        },
        "id": "lqXkkMOo5yZc",
        "outputId": "b4504e2c-df96-42d8-debb-730adc78424b"
      },
      "outputs": [
        {
          "data": {
            "application/vnd.google.colaboratory.intrinsic+json": {
              "type": "string"
            },
            "text/plain": [
              "'{\\\\n\\\\t\"bad_string\": \"welcome to dilli\",  // This is poorly formatted user input string\\\\n\\\\t\"good_string\": \"Welcome to Delhi\"  // This is your response, a reformated response\\\\n}\\\\n```\\' '"
            ]
          },
          "execution_count": 42,
          "metadata": {},
          "output_type": "execute_result"
        }
      ],
      "source": [
        "llm_output = chat.invoke(promptValue)\n",
        "\n",
        "'{' +str(llm_output).split('response_metadata')[0].split('{')[-1]"
      ]
    },
    {
      "cell_type": "markdown",
      "metadata": {
        "id": "xlfv1CHr-ms7"
      },
      "source": [
        "# **Output Parsers Method 2: Groq Fuctions**\n",
        "When OpenAI released function calling, the game changed. This is recommended method when starting out.\n",
        "\n",
        "They trained models specifically for outputing structured data. It became super easy to specify a Pydantic schema and get a structured output.\n",
        "\n",
        "There are many ways to define your schema, I prefer using Pydantic Models because of how organized they are.\n",
        "\n",
        "**Example 1: Simple**\n",
        "\n",
        "Let's get started by defining a simple model for us to extract from."
      ]
    },
    {
      "cell_type": "code",
      "execution_count": 43,
      "metadata": {
        "id": "gFEIXE5U6-TV"
      },
      "outputs": [],
      "source": [
        "from langchain.pydantic_v1 import BaseModel, Field\n",
        "from typing import Optional"
      ]
    },
    {
      "cell_type": "code",
      "execution_count": 44,
      "metadata": {
        "id": "0fazJYxKBbsp"
      },
      "outputs": [],
      "source": [
        "class Person (BaseModel):\n",
        "  \"\"\"Identifying information about the person\"\"\"\n",
        "\n",
        "  name: str = Field(...,description = \"The person's name\")\n",
        "  age : int = Field(...,description=\"The person's age\")\n",
        "  fav_food : Optional[str] = Field(None, description=\"The person's favourite food\")"
      ]
    },
    {
      "cell_type": "code",
      "execution_count": 45,
      "metadata": {
        "id": "gKyyF9lpCXii"
      },
      "outputs": [],
      "source": [
        "model = ChatGroq(\n",
        "    temperature=0.7,\n",
        "    model=\"llama3-70b-8192\",\n",
        "    api_key=groq_api_key\n",
        ")\n",
        "structured_llm = model.with_structured_output(Person)"
      ]
    },
    {
      "cell_type": "code",
      "execution_count": 46,
      "metadata": {
        "colab": {
          "base_uri": "https://localhost:8080/"
        },
        "id": "hLaMaVS0Dhg3",
        "outputId": "3ba82d79-5382-438c-c76c-7cbe7f2b9308"
      },
      "outputs": [
        {
          "data": {
            "text/plain": [
              "Person(name='Joey', age=12, fav_food='spinach')"
            ]
          },
          "execution_count": 46,
          "metadata": {},
          "output_type": "execute_result"
        }
      ],
      "source": [
        "structured_llm.invoke(\"Joey just turned 12 and loves spinach. Caroline is 10 years older than Joey.\")"
      ]
    },
    {
      "cell_type": "code",
      "execution_count": 47,
      "metadata": {
        "id": "9sapywtKGwUC"
      },
      "outputs": [],
      "source": [
        "from typing import Sequence\n",
        "\n",
        "class People(BaseModel):\n",
        "  \"\"\"Identifying information about the people\"\"\"\n",
        "  people: Sequence[Person] = Field(..., description=\"The people in the text\")\n"
      ]
    },
    {
      "cell_type": "code",
      "execution_count": 48,
      "metadata": {
        "id": "ee5dVMtoI-UD"
      },
      "outputs": [],
      "source": [
        "structured_llm_chain = model.with_structured_output(People)"
      ]
    },
    {
      "cell_type": "code",
      "execution_count": 49,
      "metadata": {
        "colab": {
          "base_uri": "https://localhost:8080/"
        },
        "id": "Fhc7Ht5aJVJK",
        "outputId": "a03d5a8d-ab7e-43ee-fde4-0c3fb9758f5a"
      },
      "outputs": [
        {
          "data": {
            "text/plain": [
              "People(people=[Person(name='Sally', age=13, fav_food=None), Person(name='Joey', age=12, fav_food='spinach'), Person(name='Caroline', age=23, fav_food=None)])"
            ]
          },
          "execution_count": 49,
          "metadata": {},
          "output_type": "execute_result"
        }
      ],
      "source": [
        "structured_llm_chain.invoke(\"Sally is 13, Joey just turned 12 and loves spinach. Caroline is 10 years older than Sally.\")"
      ]
    },
    {
      "cell_type": "markdown",
      "metadata": {
        "id": "IjzoG9AXmZo0"
      },
      "source": [
        "---"
      ]
    },
    {
      "cell_type": "markdown",
      "metadata": {
        "id": "0qg5bKcdLr-C"
      },
      "source": [
        "# Indexes - Structuring documents to LLMs can work with them"
      ]
    },
    {
      "cell_type": "markdown",
      "metadata": {
        "id": "sXqTXOD4L1Pt"
      },
      "source": [
        "# **Document Loaders**\n",
        "Easy ways to import data from other sources."
      ]
    },
    {
      "cell_type": "code",
      "execution_count": 50,
      "metadata": {
        "colab": {
          "base_uri": "https://localhost:8080/"
        },
        "id": "2ONb7L0IJpkC",
        "outputId": "af319d21-8003-41ec-8e05-7868c355ee8b"
      },
      "outputs": [
        {
          "name": "stderr",
          "output_type": "stream",
          "text": [
            "WARNING:langchain_community.utils.user_agent:USER_AGENT environment variable not set, consider setting it to identify your requests.\n"
          ]
        }
      ],
      "source": [
        "from langchain.document_loaders import HNLoader"
      ]
    },
    {
      "cell_type": "code",
      "execution_count": 51,
      "metadata": {
        "id": "pKf2z-0wunMz"
      },
      "outputs": [],
      "source": [
        "loader = HNLoader(\"https://news.ycombinator.com/item?id=34422627\")"
      ]
    },
    {
      "cell_type": "code",
      "execution_count": 52,
      "metadata": {
        "id": "4ebJJzibutV7"
      },
      "outputs": [],
      "source": [
        "data = loader.load()"
      ]
    },
    {
      "cell_type": "code",
      "execution_count": 53,
      "metadata": {
        "colab": {
          "base_uri": "https://localhost:8080/"
        },
        "id": "cqqJsFK7vBkS",
        "outputId": "b3984045-3fa2-4991-bc5b-8428bdcbfa73"
      },
      "outputs": [
        {
          "name": "stdout",
          "output_type": "stream",
          "text": [
            "Found 76 comments\n",
            "Here's a sample:\n",
            "\n",
            "Ozzie_osman on Jan 18, 2023  \n",
            "             | next [–] \n",
            "\n",
            "LangChain is awesome. For people not sure what it's doing, large language models (LLMs) are veOzzie_osman on Jan 18, 2023  \n",
            "             | parent | next [–] \n",
            "\n",
            "Also, another library to check out is GPT Index (https://github.com/jerryjliu/gpt_ind\n"
          ]
        }
      ],
      "source": [
        "print(f\"Found {len(data)} comments\")\n",
        "print(f\"Here's a sample:\\n\\n{''.join([x.page_content[:150] for x in data[:2]])}\")"
      ]
    },
    {
      "cell_type": "code",
      "execution_count": 54,
      "metadata": {
        "id": "Pc2ZVqFfvL8T"
      },
      "outputs": [],
      "source": [
        "from langchain.document_loaders import GutenbergLoader\n",
        "loader = GutenbergLoader(\"https://www.gutenberg.org/cache/epub/2148/pg2148.txt\")\n",
        "\n",
        "data = loader.load()"
      ]
    },
    {
      "cell_type": "code",
      "execution_count": 55,
      "metadata": {
        "colab": {
          "base_uri": "https://localhost:8080/"
        },
        "id": "vyVxLOtIwNW0",
        "outputId": "6c4ef124-f7d6-4ec1-8a83-e66a824782f3"
      },
      "outputs": [
        {
          "name": "stdout",
          "output_type": "stream",
          "text": [
            "      At Paris, just after dark one gusty evening in the autumn of 18-,\r\n",
            "\n",
            "\n",
            "      I was enjoying the twofold l\n"
          ]
        }
      ],
      "source": [
        "print(data[0].page_content[1875:1984])"
      ]
    },
    {
      "cell_type": "code",
      "execution_count": 56,
      "metadata": {
        "colab": {
          "base_uri": "https://localhost:8080/"
        },
        "id": "SZqLsZZXlnbF",
        "outputId": "532f592c-0485-403d-a5cf-8e8a8b779dbf"
      },
      "outputs": [
        {
          "name": "stdout",
          "output_type": "stream",
          "text": [
            "\u001b[2K     \u001b[90m━━━━━━━━━━━━━━━━━━━━━━━━━━━━━━━━━━━━━━━━\u001b[0m \u001b[32m2.0/2.0 MB\u001b[0m \u001b[31m10.9 MB/s\u001b[0m eta \u001b[36m0:00:00\u001b[0m\n",
            "\u001b[2K     \u001b[90m━━━━━━━━━━━━━━━━━━━━━━━━━━━━━━━━━━━━━━━━\u001b[0m \u001b[32m431.4/431.4 kB\u001b[0m \u001b[31m18.0 MB/s\u001b[0m eta \u001b[36m0:00:00\u001b[0m\n",
            "\u001b[2K     \u001b[90m━━━━━━━━━━━━━━━━━━━━━━━━━━━━━━━━━━━━━━━━\u001b[0m \u001b[32m274.7/274.7 kB\u001b[0m \u001b[31m17.9 MB/s\u001b[0m eta \u001b[36m0:00:00\u001b[0m\n",
            "\u001b[2K     \u001b[90m━━━━━━━━━━━━━━━━━━━━━━━━━━━━━━━━━━━━━━━━\u001b[0m \u001b[32m981.5/981.5 kB\u001b[0m \u001b[31m22.2 MB/s\u001b[0m eta \u001b[36m0:00:00\u001b[0m\n",
            "\u001b[?25h  Preparing metadata (setup.py) ... \u001b[?25l\u001b[?25hdone\n",
            "\u001b[2K     \u001b[90m━━━━━━━━━━━━━━━━━━━━━━━━━━━━━━━━━━━━━━━━\u001b[0m \u001b[32m3.4/3.4 MB\u001b[0m \u001b[31m30.8 MB/s\u001b[0m eta \u001b[36m0:00:00\u001b[0m\n",
            "\u001b[2K     \u001b[90m━━━━━━━━━━━━━━━━━━━━━━━━━━━━━━━━━━━━━━━━\u001b[0m \u001b[32m41.0/41.0 kB\u001b[0m \u001b[31m4.5 MB/s\u001b[0m eta \u001b[36m0:00:00\u001b[0m\n",
            "\u001b[2K     \u001b[90m━━━━━━━━━━━━━━━━━━━━━━━━━━━━━━━━━━━━━━━━\u001b[0m \u001b[32m80.8/80.8 kB\u001b[0m \u001b[31m10.6 MB/s\u001b[0m eta \u001b[36m0:00:00\u001b[0m\n",
            "\u001b[2K     \u001b[90m━━━━━━━━━━━━━━━━━━━━━━━━━━━━━━━━━━━━━━━━\u001b[0m \u001b[32m290.4/290.4 kB\u001b[0m \u001b[31m34.0 MB/s\u001b[0m eta \u001b[36m0:00:00\u001b[0m\n",
            "\u001b[2K     \u001b[90m━━━━━━━━━━━━━━━━━━━━━━━━━━━━━━━━━━━━━━━━\u001b[0m \u001b[32m54.5/54.5 kB\u001b[0m \u001b[31m8.1 MB/s\u001b[0m eta \u001b[36m0:00:00\u001b[0m\n",
            "\u001b[?25h  Building wheel for langdetect (setup.py) ... \u001b[?25l\u001b[?25hdone\n"
          ]
        }
      ],
      "source": [
        "pip install -qU unstructured"
      ]
    },
    {
      "cell_type": "code",
      "execution_count": 57,
      "metadata": {
        "colab": {
          "base_uri": "https://localhost:8080/",
          "height": 0
        },
        "id": "v_HhZnZbw0Zt",
        "outputId": "2240f85e-4f82-4e93-a4d4-0ba0644a5a11"
      },
      "outputs": [
        {
          "data": {
            "application/vnd.google.colaboratory.intrinsic+json": {
              "type": "string"
            },
            "text/plain": [
              "'New: How to Start Google | Best Essay | Superlinear Want to start a startup? Get funded by Y Combinator . © mmxxiv pg'"
            ]
          },
          "execution_count": 57,
          "metadata": {},
          "output_type": "execute_result"
        }
      ],
      "source": [
        "from langchain.document_loaders import UnstructuredURLLoader\n",
        "\n",
        "urls = [\n",
        "    \"http://www.paulgraham.com/\"\n",
        "]\n",
        "\n",
        "loader = UnstructuredURLLoader(urls=urls)\n",
        "\n",
        "data = loader.load()\n",
        "\n",
        "data[0].page_content"
      ]
    },
    {
      "cell_type": "markdown",
      "metadata": {
        "id": "soCSVdBHmWyH"
      },
      "source": [
        "---"
      ]
    },
    {
      "cell_type": "markdown",
      "metadata": {
        "id": "aRyrnbpqmTjZ"
      },
      "source": [
        "# **Text Splitters**\n",
        "Often times your document is too long (like a book) for your LLM. You need to split it up into chunks. Text splitters help with this."
      ]
    },
    {
      "cell_type": "code",
      "execution_count": 58,
      "metadata": {
        "id": "JI_lYRPumWD2"
      },
      "outputs": [],
      "source": [
        "from langchain.text_splitter import RecursiveCharacterTextSplitter"
      ]
    },
    {
      "cell_type": "code",
      "execution_count": 59,
      "metadata": {
        "colab": {
          "base_uri": "https://localhost:8080/"
        },
        "id": "IQpou0pSmnYe",
        "outputId": "b8a5ef0c-a0a1-4d29-d9b7-f740d50d23bc"
      },
      "outputs": [
        {
          "name": "stdout",
          "output_type": "stream",
          "text": [
            "We have 1 document\n"
          ]
        }
      ],
      "source": [
        "with open('/content/drive/MyDrive/Colab Notebooks/LangChain/The Project Gutenberg eBook of A Book.txt') as f:\n",
        "  pg_work = f.read()\n",
        "\n",
        "print(f\"We have {len([pg_work])} document\")"
      ]
    },
    {
      "cell_type": "code",
      "execution_count": 60,
      "metadata": {
        "id": "HM-kHTEgpE6V"
      },
      "outputs": [],
      "source": [
        "text_splitter = RecursiveCharacterTextSplitter(\n",
        "    chunk_size = 150,\n",
        "    chunk_overlap = 20\n",
        ")"
      ]
    },
    {
      "cell_type": "code",
      "execution_count": 61,
      "metadata": {
        "id": "Q8-p_RjDpsGB"
      },
      "outputs": [],
      "source": [
        "texts = text_splitter.create_documents([pg_work])"
      ]
    },
    {
      "cell_type": "code",
      "execution_count": 62,
      "metadata": {
        "colab": {
          "base_uri": "https://localhost:8080/"
        },
        "id": "xAHeX9FRp77a",
        "outputId": "df667313-3cb7-46cc-aee4-f93960a0d19c"
      },
      "outputs": [
        {
          "name": "stdout",
          "output_type": "stream",
          "text": [
            "We have 6170 documents\n"
          ]
        }
      ],
      "source": [
        "print(f\"We have {len(texts)} documents\")"
      ]
    },
    {
      "cell_type": "code",
      "execution_count": 63,
      "metadata": {
        "colab": {
          "base_uri": "https://localhost:8080/"
        },
        "id": "L6swfYSoqMWd",
        "outputId": "7d886bf1-1992-4c76-b255-12b1281f764f"
      },
      "outputs": [
        {
          "name": "stdout",
          "output_type": "stream",
          "text": [
            "Preview:\n",
            "rooms and a vestibule. At the present time they are occupied as offices\n",
            "by legal practitioners, and many a day has passed since womanly taste \n",
            "\n",
            "decorated their windows with flowers and muslin curtains; but a certain\n",
            "venerable gentleman, to whom the writer of this page is indebted for\n"
          ]
        }
      ],
      "source": [
        "print(\"Preview:\")\n",
        "print(texts[105].page_content,\"\\n\")\n",
        "print(texts[106].page_content)\n"
      ]
    },
    {
      "cell_type": "markdown",
      "metadata": {
        "id": "X4guHcOHrc6q"
      },
      "source": [
        "---"
      ]
    },
    {
      "cell_type": "markdown",
      "metadata": {
        "id": "nXp4Tt_srZ7h"
      },
      "source": [
        "# **Retrievers**\n",
        "Easy way to combine documents with language models.\n",
        "\n",
        "There are many different types of retrievers, the most widely supported is the VectoreStoreRetriever"
      ]
    },
    {
      "cell_type": "code",
      "execution_count": 64,
      "metadata": {
        "id": "W93OaEaR31TV"
      },
      "outputs": [],
      "source": [
        "pip install -qU langchain-cohere"
      ]
    },
    {
      "cell_type": "code",
      "execution_count": 65,
      "metadata": {
        "colab": {
          "base_uri": "https://localhost:8080/"
        },
        "id": "K2YQndgc6fbj",
        "outputId": "a7c62b33-cdee-4de6-a0d8-b6caabb19865"
      },
      "outputs": [
        {
          "name": "stdout",
          "output_type": "stream",
          "text": [
            "\u001b[2K     \u001b[90m━━━━━━━━━━━━━━━━━━━━━━━━━━━━━━━━━━━━━━━━\u001b[0m \u001b[32m85.5/85.5 MB\u001b[0m \u001b[31m9.1 MB/s\u001b[0m eta \u001b[36m0:00:00\u001b[0m\n",
            "\u001b[?25h"
          ]
        }
      ],
      "source": [
        "pip install -qU faiss-gpu"
      ]
    },
    {
      "cell_type": "code",
      "execution_count": 66,
      "metadata": {
        "id": "ZI_RdUrHra4m"
      },
      "outputs": [],
      "source": [
        "from langchain.document_loaders import TextLoader\n",
        "from langchain.text_splitter import RecursiveCharacterTextSplitter\n",
        "from langchain.vectorstores import FAISS\n",
        "from langchain_cohere import CohereEmbeddings"
      ]
    },
    {
      "cell_type": "code",
      "execution_count": 67,
      "metadata": {
        "id": "oNvX5WjN2a57"
      },
      "outputs": [],
      "source": [
        "loader = TextLoader(\"/content/drive/MyDrive/Colab Notebooks/LangChain/The Project Gutenberg eBook of A Book.txt\")\n",
        "documents = loader.load()\n",
        "\n",
        "text_splitter = RecursiveCharacterTextSplitter(\n",
        "    chunk_size = 500,\n",
        "    chunk_overlap = 20\n",
        ")\n",
        "\n",
        "texts = text_splitter.split_documents(documents)\n",
        "\n",
        "embeddings = CohereEmbeddings(cohere_api_key = cohere_api_key)\n",
        "\n",
        "db = FAISS.from_documents(texts, embeddings)"
      ]
    },
    {
      "cell_type": "code",
      "execution_count": 68,
      "metadata": {
        "id": "xXiMVWHw5Tan"
      },
      "outputs": [],
      "source": [
        "retriever = db.as_retriever()"
      ]
    },
    {
      "cell_type": "code",
      "execution_count": 69,
      "metadata": {
        "colab": {
          "base_uri": "https://localhost:8080/"
        },
        "id": "C7Lkh7lS7Ou8",
        "outputId": "54c6a069-711e-4b5b-990b-6a0bdd0ae969"
      },
      "outputs": [
        {
          "data": {
            "text/plain": [
              "VectorStoreRetriever(tags=['FAISS', 'CohereEmbeddings'], vectorstore=<langchain_community.vectorstores.faiss.FAISS object at 0x7c6c78e061d0>)"
            ]
          },
          "execution_count": 69,
          "metadata": {},
          "output_type": "execute_result"
        }
      ],
      "source": [
        "retriever"
      ]
    },
    {
      "cell_type": "code",
      "execution_count": 70,
      "metadata": {
        "colab": {
          "base_uri": "https://localhost:8080/"
        },
        "id": "KNALICqW7P24",
        "outputId": "961e94a9-1a65-4d5b-dfc9-b4907361c77d"
      },
      "outputs": [
        {
          "name": "stderr",
          "output_type": "stream",
          "text": [
            "/usr/local/lib/python3.10/dist-packages/langchain_core/_api/deprecation.py:139: LangChainDeprecationWarning: The method `BaseRetriever.get_relevant_documents` was deprecated in langchain-core 0.1.46 and will be removed in 0.3.0. Use invoke instead.\n",
            "  warn_deprecated(\n"
          ]
        }
      ],
      "source": [
        "docs = retriever.get_relevant_documents(\"Who used to inhabit the cottages under the trees of Gray's Inn gardens in the past?\")"
      ]
    },
    {
      "cell_type": "code",
      "execution_count": 71,
      "metadata": {
        "colab": {
          "base_uri": "https://localhost:8080/"
        },
        "id": "MujxfXrG8U9W",
        "outputId": "5784b72c-58e2-42e6-e417-b77221324d31"
      },
      "outputs": [
        {
          "name": "stdout",
          "output_type": "stream",
          "text": [
            "with collegiate 'buildings;' but a few of them still remain, the grand\n",
            "piles having long since been partitioned off into chambers, and the\n",
            "little houses striking the eye as quaint, misplaced, insignificant\n",
            "blocks of human habitation. Under the trees of Gray's Inn gardens may\n",
            "be seen two modest tenements, each of them comprising some six or eight\n",
            "rooms and a vestibule. At the present time they are occupied as offices\n",
            "by legal practitioners, and many a day has passed since womanly taste\n",
            "\n",
            "\n",
            "Throughout the eighteenth century Lincoln's Inn Fields, an open though\n",
            "disorderly spot, was a great place for the residence of legal magnates.\n",
            "Somers, Nathan Wright, Cowper, Harcourt, successively inhabited Powis\n",
            "House. Chief Justice Parker (subsequently Lord Chancellor Macclesfield)\n",
            "lived there when he engaged Philip Yorke (then an attorney's articled\n",
            "clerk, but afterwards Lord Chancellor of England) to be his son's law\n",
            "tutor. On the south side of the square, Lord Chancellor Henley kept high\n",
            "\n",
            "\n",
            "In Charles II.'s time there were eight Inns of Chancery; and of them\n",
            "three were subsidiary to the Inner Temple--viz., Clifford's Inn,\n",
            "Clement's Inn, and Lyon's Inn. Clifford's Inn (originally the town\n",
            "residence of the Barons Clifford) was first inhabited by law-students in\n",
            "the eighteenth year of Edward III. Clement's Inn (taking its name from\n",
            "the adjacent St. Clement's Well) was certainly inhabited by law-students\n",
            "as early as the nineteenth year of Edward IV. Lyon's Inn was an Inn of\n",
            "\n",
            "\n",
            "state in the family mansion that descended to him on the death of his\n",
            "elder brother, and subsequently passed into the hands of the Surgeons,\n",
            "whose modest but convenient college stands upon its site. Wedderburn and\n",
            "Erskine had their mansions in Lincoln's Inn Fields, as well as their\n",
            "suburban villas. And between the lawyers of the Restoration and the\n",
            "judges of George III.'s reign, a large proportion of our most eminent\n",
            "jurists and advocates lived in that square and the adjoining streets;\n",
            "\n",
            "\n"
          ]
        }
      ],
      "source": [
        "for x in docs:\n",
        "    page_content = x.page_content\n",
        "    print(page_content)\n",
        "    # print(page_content.replace(\"\\\\n\", \"\\n\"))\n",
        "    print(\"\\n\")"
      ]
    },
    {
      "cell_type": "markdown",
      "metadata": {
        "id": "uuFEukLfHTvD"
      },
      "source": [
        "---"
      ]
    },
    {
      "cell_type": "markdown",
      "metadata": {
        "id": "imFLTN2VHXLw"
      },
      "source": [
        "# **VectorStores**\n",
        "Databases to store vectors. Most popular ones are Pinecone & Weaviate. Chroma & FAISS are easy to work with locally.\n",
        "\n",
        "Conceptually, think of them as tables w/ a column for embeddings (vectors) and a column for metadata.*italicized text*\n",
        "\n",
        "Example\n",
        "\n",
        "| Embedding      | Metadata |\n",
        "| ----------- | ----------- |\n",
        "| [-0.00015641732898075134, -0.003165106289088726, ...]      | {'date' : '1/2/23}       |\n",
        "| [-0.00035465431654651654, 1.4654131651654516546, ...]   | {'date' : '1/3/23}        |"
      ]
    },
    {
      "cell_type": "code",
      "execution_count": 72,
      "metadata": {
        "id": "7RmDlagZ-CLn"
      },
      "outputs": [],
      "source": [
        "from langchain.document_loaders import TextLoader\n",
        "from langchain.text_splitter import RecursiveCharacterTextSplitter\n",
        "from langchain_cohere import CohereEmbeddings\n",
        "from langchain.vectorstores import FAISS"
      ]
    },
    {
      "cell_type": "code",
      "execution_count": 73,
      "metadata": {
        "id": "Lz5xlmgYB9E9"
      },
      "outputs": [],
      "source": [
        "loader = TextLoader(\"/content/drive/MyDrive/Colab Notebooks/LangChain/The Project Gutenberg eBook of A Book.txt\")\n",
        "documents = loader.load()\n",
        "\n",
        "text_splitter = RecursiveCharacterTextSplitter(\n",
        "    chunk_size = 1000,\n",
        "    chunk_overlap = 50\n",
        ")\n",
        "\n",
        "texts = text_splitter.split_documents(documents)\n",
        "\n",
        "embeddings = CohereEmbeddings(cohere_api_key= cohere_api_key)"
      ]
    },
    {
      "cell_type": "code",
      "execution_count": 74,
      "metadata": {
        "colab": {
          "base_uri": "https://localhost:8080/"
        },
        "id": "hsSSTaveNq-m",
        "outputId": "d3854d87-81e3-4779-ae75-43a73d618b10"
      },
      "outputs": [
        {
          "name": "stdout",
          "output_type": "stream",
          "text": [
            "We have 1132 documents\n"
          ]
        }
      ],
      "source": [
        "print(f\"We have {len(texts)} documents\")"
      ]
    },
    {
      "cell_type": "code",
      "execution_count": 75,
      "metadata": {
        "id": "7tVWajGxN3cc"
      },
      "outputs": [],
      "source": [
        "embedding_list = embeddings.embed_documents([text.page_content for text in texts])"
      ]
    },
    {
      "cell_type": "code",
      "execution_count": 76,
      "metadata": {
        "colab": {
          "base_uri": "https://localhost:8080/"
        },
        "id": "5pjpAywGOSQ_",
        "outputId": "c2419de7-574f-4d56-c258-004d2ff3ce48"
      },
      "outputs": [
        {
          "name": "stdout",
          "output_type": "stream",
          "text": [
            "We have 1132 embeddings\n",
            "Here's a sample of one: [-0.49658203, -0.22045898, -0.79052734]...\n"
          ]
        }
      ],
      "source": [
        "print(f\"We have {len(embedding_list)} embeddings\")\n",
        "print (f\"Here's a sample of one: {embedding_list[0][:3]}...\")"
      ]
    },
    {
      "cell_type": "markdown",
      "metadata": {
        "id": "6GCFxuasPR3m"
      },
      "source": [
        "---"
      ]
    },
    {
      "cell_type": "markdown",
      "metadata": {
        "id": "FvbXcMjcPTT4"
      },
      "source": [
        "# Memory\n",
        "Helping LLMs remember information.\n",
        "\n",
        "Memory is a bit of a loose term. It could be as simple as remembering information you've chatted about in the past or more complicated information retrieval.\n",
        "\n",
        "We'll keep it towards the Chat Message use case. This would be used for chat bots.*italicized text*"
      ]
    },
    {
      "cell_type": "code",
      "execution_count": 82,
      "metadata": {
        "id": "bib9vXnkOfgu"
      },
      "outputs": [],
      "source": [
        "from langchain.memory import ChatMessageHistory\n",
        "from langchain_groq import ChatGroq\n",
        "\n",
        "chat = ChatGroq(\n",
        "    temperature = 0.7,\n",
        "    model=\"llama3-70b-8192\",\n",
        "    api_key=groq_api_key\n",
        ")\n",
        "\n",
        "history = ChatMessageHistory()\n",
        "\n",
        "history.add_ai_message(\"hi!\")\n",
        "history.add_user_message(\"what is the capital of france?\")"
      ]
    },
    {
      "cell_type": "code",
      "execution_count": 83,
      "metadata": {
        "colab": {
          "base_uri": "https://localhost:8080/"
        },
        "id": "K0wBP1MAQeoG",
        "outputId": "0d883db5-4bad-46c5-afae-6733d293d5ef"
      },
      "outputs": [
        {
          "data": {
            "text/plain": [
              "[AIMessage(content='hi!'),\n",
              " HumanMessage(content='what is the capital of france?')]"
            ]
          },
          "execution_count": 83,
          "metadata": {},
          "output_type": "execute_result"
        }
      ],
      "source": [
        "history.messages"
      ]
    },
    {
      "cell_type": "code",
      "execution_count": 85,
      "metadata": {
        "colab": {
          "base_uri": "https://localhost:8080/",
          "height": 35
        },
        "id": "UlB584S_Q1wT",
        "outputId": "3f49e29b-9b1c-4bbc-e698-754b5e21af0c"
      },
      "outputs": [
        {
          "data": {
            "application/vnd.google.colaboratory.intrinsic+json": {
              "type": "string"
            },
            "text/plain": [
              "'The capital of France is Paris.'"
            ]
          },
          "execution_count": 85,
          "metadata": {},
          "output_type": "execute_result"
        }
      ],
      "source": [
        "ai_response = chat(history.messages)\n",
        "ai_response.content"
      ]
    },
    {
      "cell_type": "code",
      "execution_count": 86,
      "metadata": {
        "colab": {
          "base_uri": "https://localhost:8080/"
        },
        "id": "96L11LzrREn9",
        "outputId": "ac713b4d-46fa-4652-f32a-1e08553e4587"
      },
      "outputs": [
        {
          "data": {
            "text/plain": [
              "[AIMessage(content='hi!'),\n",
              " HumanMessage(content='what is the capital of france?'),\n",
              " AIMessage(content='The capital of France is Paris.')]"
            ]
          },
          "execution_count": 86,
          "metadata": {},
          "output_type": "execute_result"
        }
      ],
      "source": [
        "history.add_ai_message(ai_response.content)\n",
        "history.messages"
      ]
    },
    {
      "cell_type": "markdown",
      "metadata": {
        "id": "vX_NxixuSnEF"
      },
      "source": [
        "---"
      ]
    },
    {
      "cell_type": "markdown",
      "metadata": {
        "id": "ge03QZjMSoXa"
      },
      "source": [
        "# Chains ⛓️⛓️⛓️\n",
        "Combining different LLM calls and action automatically\n",
        "\n",
        "Ex: Summary #1, Summary #2, Summary #3 > Final Summary\n"
      ]
    },
    {
      "cell_type": "markdown",
      "metadata": {
        "id": "-Fgq8Gq6StGs"
      },
      "source": [
        "## 1. Simple Sequential Chains\n",
        "\n",
        "Easy chains where you can use the output of an LLM as an input into another. Good for breaking up tasks (and keeping your LLM focused)"
      ]
    },
    {
      "cell_type": "code",
      "execution_count": 88,
      "metadata": {
        "id": "T65dh-ZgSkmQ"
      },
      "outputs": [],
      "source": [
        "from langchain_groq import ChatGroq\n",
        "from langchain.chains import LLMChain\n",
        "from langchain.prompts import PromptTemplate\n",
        "from langchain.chains import SimpleSequentialChain"
      ]
    },
    {
      "cell_type": "code",
      "execution_count": 124,
      "metadata": {
        "id": "Nz4KWzgOTayg"
      },
      "outputs": [],
      "source": [
        "chat = ChatGroq(\n",
        "    temperature = 0.7,\n",
        "    model=\"llama3-70b-8192\",\n",
        "    api_key = groq_api_key\n",
        ")"
      ]
    },
    {
      "cell_type": "code",
      "execution_count": 125,
      "metadata": {
        "id": "_Jib1er3TpT-"
      },
      "outputs": [],
      "source": [
        "template = \"\"\"Your Job is to come up with a classic dish from the are that user suggests.\n",
        "%USER LOCATION\n",
        "{user_location}\n",
        "\n",
        "YOUR RESPONSE:\n",
        "\"\"\"\n",
        "prompt_template = PromptTemplate(\n",
        "    input_variables = [\"user_location\"],\n",
        "    template = template\n",
        ")\n",
        "\n",
        "location_chain = LLMChain(llm=chat,prompt=prompt_template)"
      ]
    },
    {
      "cell_type": "code",
      "execution_count": 126,
      "metadata": {
        "id": "zXeNOO9fUepV"
      },
      "outputs": [],
      "source": [
        "template = \"\"\"Given a meal, give a short and simple recepie how to make the dish at home.\n",
        "% Meal\n",
        "{user_meal}\n",
        "\n",
        "YOUR RESPONSE\n",
        "\"\"\"\n",
        "\n",
        "prompt_template = PromptTemplate(\n",
        "    input_variables = [\"user_meal\"],\n",
        "    template = template\n",
        ")\n",
        "\n",
        "meal_chain = LLMChain(llm=chat,prompt = prompt_template)"
      ]
    },
    {
      "cell_type": "code",
      "execution_count": 127,
      "metadata": {
        "id": "MTWK4pPnV1A1"
      },
      "outputs": [],
      "source": [
        "overall_chain = SimpleSequentialChain(chains=[location_chain, meal_chain], verbose=True)"
      ]
    },
    {
      "cell_type": "code",
      "execution_count": 128,
      "metadata": {
        "colab": {
          "base_uri": "https://localhost:8080/"
        },
        "id": "tj_hIjFxWlr7",
        "outputId": "1027538a-c8c5-4061-b1b0-d91cd4f5810d"
      },
      "outputs": [
        {
          "name": "stdout",
          "output_type": "stream",
          "text": [
            "\n",
            "\n",
            "\u001b[1m> Entering new SimpleSequentialChain chain...\u001b[0m\n",
            "\u001b[36;1m\u001b[1;3mIndia!\n",
            "\n",
            "One of the most iconic and beloved dishes from India is... (drumroll please)... Butter Chicken!\n",
            "\n",
            "This rich, creamy, and flavorful dish originated in the city of Delhi and has since become a staple of Indian cuisine. Marinated chicken cooked in a rich tomato-based sauce with a hint of butter, garam masala, and a touch of cream, served with basmati rice and naan bread. It's a culinary delight that's sure to tantalize your taste buds!\n",
            "\n",
            "Would you like to explore more Indian dishes or try something new?\u001b[0m\n",
            "\u001b[33;1m\u001b[1;3mHere's a simple recipe to make Butter Chicken at home:\n",
            "\n",
            "**Ingredients:**\n",
            "\n",
            "* 1 1/2 pounds boneless, skinless chicken breast or thighs\n",
            "* 1/2 cup plain yogurt\n",
            "* 2 tablespoons lemon juice\n",
            "* 2 teaspoons garam masala powder\n",
            "* 1 teaspoon cumin powder\n",
            "* 1/2 teaspoon cayenne pepper (optional)\n",
            "* 1 large onion, diced\n",
            "* 2 cloves garlic, minced\n",
            "* 2 large tomatoes, diced\n",
            "* 2 tablespoons butter\n",
            "* 2 tablespoons all-purpose flour\n",
            "* 1 cup chicken broth\n",
            "* 1/2 cup heavy cream\n",
            "* Salt and pepper, to taste\n",
            "* Fresh cilantro, for garnish\n",
            "* Basmati rice and naan bread, for serving\n",
            "\n",
            "**Instructions:**\n",
            "\n",
            "1. In a bowl, mix together yogurt, lemon juice, garam masala, cumin, and cayenne pepper (if using). Add the chicken and marinate for at least 30 minutes or up to 2 hours in the refrigerator.\n",
            "2. In a large skillet, melt 1 tablespoon of butter over medium heat. Add the diced onion and cook until softened, about 5 minutes. Add the minced garlic and cook for another minute.\n",
            "3. Add the diced tomatoes, cumin powder, and salt. Cook for 10-12 minutes or until the tomatoes are soft and the mixture is fragrant.\n",
            "4. Add the marinated chicken to the skillet and cook until browned on all sides and cooked through, about 6-8 minutes.\n",
            "5. In a small bowl, mix together flour and chicken broth until smooth. Add the mixture to the skillet and stir well.\n",
            "6. Add the heavy cream and stir well. Bring the mixture to a simmer and cook for 2-3 minutes or until the sauce thickens.\n",
            "7. Stir in the remaining 1 tablespoon of butter until melted.\n",
            "8. Serve the Butter Chicken over basmati rice with naan bread and garnish with fresh cilantro.\n",
            "\n",
            "Enjoy your delicious homemade Butter Chicken!\u001b[0m\n",
            "\n",
            "\u001b[1m> Finished chain.\u001b[0m\n"
          ]
        }
      ],
      "source": [
        "review = overall_chain.run(\"India\")"
      ]
    },
    {
      "cell_type": "markdown",
      "metadata": {
        "id": "spjiDoCXfEqV"
      },
      "source": [
        "## 2. Summarization Chain\n",
        "\n",
        "Easily run through long numerous documents and get a summary."
      ]
    },
    {
      "cell_type": "code",
      "execution_count": 137,
      "metadata": {
        "colab": {
          "base_uri": "https://localhost:8080/"
        },
        "id": "67jmjbtdhwfx",
        "outputId": "00cc89a3-212a-43ec-eb5e-8afe7a6bd8bf"
      },
      "outputs": [
        {
          "name": "stdout",
          "output_type": "stream",
          "text": [
            "\u001b[2K     \u001b[90m━━━━━━━━━━━━━━━━━━━━━━━━━━━━━━━━━━━━━━━━\u001b[0m \u001b[32m3.5/3.5 MB\u001b[0m \u001b[31m19.3 MB/s\u001b[0m eta \u001b[36m0:00:00\u001b[0m\n",
            "\u001b[2K     \u001b[90m━━━━━━━━━━━━━━━━━━━━━━━━━━━━━━━━━━━━━━━━\u001b[0m \u001b[32m15.7/15.7 MB\u001b[0m \u001b[31m30.2 MB/s\u001b[0m eta \u001b[36m0:00:00\u001b[0m\n",
            "\u001b[?25h"
          ]
        }
      ],
      "source": [
        "pip install -qU PyMuPDF"
      ]
    },
    {
      "cell_type": "code",
      "execution_count": 160,
      "metadata": {
        "id": "Gbp9TIADWq8K"
      },
      "outputs": [],
      "source": [
        "from langchain.chains.summarize import load_summarize_chain\n",
        "from langchain.document_loaders import PyMuPDFLoader\n",
        "import fitz\n",
        "from langchain.text_splitter import RecursiveCharacterTextSplitter\n",
        "from langchain.schema import Document"
      ]
    },
    {
      "cell_type": "code",
      "execution_count": 166,
      "metadata": {
        "id": "ai0n1HWhkOzv"
      },
      "outputs": [],
      "source": [
        "def pdf_loader(file_path):\n",
        "    doc = fitz.open(file_path)\n",
        "    documents = []\n",
        "    for page_num in range(len(doc)):\n",
        "        page = doc.load_page(page_num)\n",
        "        page_text = page.get_text()\n",
        "        documents.append({\n",
        "            'page_content': page_text,\n",
        "            'metadata': {\n",
        "                'page_number': page_num + 1,  # Example metadata\n",
        "                'file_name': file_path.split('/')[-1]  # Example metadata\n",
        "            }\n",
        "        })\n",
        "    return documents"
      ]
    },
    {
      "cell_type": "code",
      "execution_count": 167,
      "metadata": {
        "id": "bZ_8OR7fjEv8"
      },
      "outputs": [],
      "source": [
        "pdf_file = \"/content/drive/MyDrive/Colab Notebooks/LangChain/Granular_Ball_UTSVM.pdf\"\n",
        "documents = pdf_loader(pdf_file)\n",
        "\n",
        "# Concatenate all page contents into a single string\n",
        "all_text = \"\\n\".join([doc['page_content'] for doc in documents])\n",
        "\n",
        "text_splitter = RecursiveCharacterTextSplitter(\n",
        "    chunk_size=1000,\n",
        "    chunk_overlap=50\n",
        ")\n",
        "\n",
        "texts = text_splitter.split_text(all_text)\n",
        "\n",
        "# Now you can proceed with your LangChain summarization chain\n",
        "chain = load_summarize_chain(chat, chain_type=\"map_reduce\", verbose=True)\n",
        "club_text = []\n",
        "for text in texts:\n",
        "  club = Document(\n",
        "    page_content = text\n",
        "  )\n",
        "  club_text.append(club)"
      ]
    },
    {
      "cell_type": "code",
      "execution_count": null,
      "metadata": {
        "colab": {
          "base_uri": "https://localhost:8080/",
          "height": 1000,
          "referenced_widgets": [
            "01deaeb77a38497e90273cd9aa92fa5b",
            "6816a53883a344feb42a7909b278c6c1",
            "ade95e037f54406eb0fa0b9a6ee1d11b",
            "1dbafe6a69334af1ae2e7ed3af5d9a08",
            "8b04a0f0b7e84631b70ab935c63c8cc9",
            "6fbc2dce99134aca822ddff49a3743d4",
            "0cd6f7036b4c4818ae8955c0299487f0",
            "97a153e23e164a1fab10aa0223579201",
            "10e67ae197c245389b57a8365b36bc69",
            "47a2adbf36174274a5f2bfad8ecaf8db",
            "9fa813c3a35249c98a21a0458367e276",
            "0ad56d98c55f4dd29cd70b0ed5968deb",
            "f9ca87dc11ac4ab39b994f8b9a136dbd",
            "c457907ddd0348ab826392e30da5fff8",
            "4ed2bf91e49b429582e74c728c650a35",
            "76af60af2df944a29250f028cd7fcb51",
            "4338c0506ef64c4599be1bd1dbfc679b",
            "82d8e725e3c447048c154f23fd1ff823",
            "6616410cfaed4265b2c11255e56fbd0d",
            "d5198f9d07884e9a90dbddd75aa09bdb",
            "8e439d5ba7ea48de94bdf16f12783c69",
            "96e72f0f69a3437a961f5ad7ee64a388",
            "43f20db44d614d9aa2e44f33155ab1eb",
            "cc7954838070498b8e1fa40f16215123",
            "4481af453a054ef680b624e6c33558e0",
            "2d72976e426e46dab21f6d0be14ad179",
            "5a594b1936c74f48a477ed3fb1dd3c3d",
            "357a8c0623f54177bd672f0ed4f9df75",
            "cd3ee8e4f51545518585ce29b7a26a0a",
            "dc8155d3a0a74eeabbb691815f01c4a3",
            "75b45fbf633947e5bd663e0e192ba45b",
            "071eaaf608514e44bb18bcb8fedbae2b",
            "fe4da75975c8447fae978c6f9767d883",
            "67da6b93e96f41e3ac3a815d8d0c87f2",
            "4f6037c3989544c6a63ce8b242cd47fa",
            "8fa27d5b8eba4287a7933621a258bf44",
            "d6dbaaa40e574b6eaaa6fdc53b25c54e",
            "5a7c63999e0641ab8424e6c66761eb81",
            "14bfcaf4721b4bb69e0ab3485f826254",
            "0d6c16ff0eb84b159905a4a27f1546bc",
            "46d85e74fa8f4e16b6691261a14edb76",
            "5d244c9aa0ff4a67a40a3e2da0964368",
            "42f096eec1d445319351ee3ddf7743c6",
            "bac1a0ffa10d48ebb946fc10d2ae4140",
            "50dd300d0b554eb5823b7ac91db6fee3",
            "2c537e209fa449709d9b5ff556aef696",
            "b6f332599c24441f97d0d2a3c10a32d6",
            "34d217abd9cc42c083af3c1803765dc4",
            "549fa3583c734b78a86faf8aa54b726e",
            "fb8b0eed71da48f4887b57fe4039cd72",
            "3f40c18c2b8b4736906f1b466dcd1ca4",
            "93a7299804ef4ff69f16a0a910d0e3d5",
            "0c96f54abb1146f6a28c88a0196c9020",
            "ee5612ce9bfe4345b35b7ee9f6a592a0",
            "4ea25b6a6bee4a359cfeddff839e7252"
          ]
        },
        "id": "pJjWmftVpq5j",
        "outputId": "529696d1-7175-44bf-d92a-f5ab855090ba"
      },
      "outputs": [],
      "source": [
        "chain.run(club_text)"
      ]
    },
    {
      "cell_type": "code",
      "execution_count": null,
      "metadata": {
        "vscode": {
          "languageId": "html"
        }
      },
      "outputs": [],
      "source": [
        "> Entering new MapReduceDocumentsChain chain...\n",
        "\n",
        "\n",
        "> Entering new LLMChain chain...\n",
        "Prompt after formatting:\n",
        "Write a concise summary of the following:\n",
        "\n",
        "\n",
        "\"Granular Ball Twin Support Vector Machine\n",
        "with Universum Data\n",
        "Research Highlights\n",
        "• Innovative Data Representation with Granular Balls:\n",
        "The GBU-TSVM model employs an innovative approach by representing\n",
        "data instances as granular balls rather than conventional points. This\n",
        "method improves the model’s robustness and efficiency, especially in han-\n",
        "dling noisy and large datasets. By grouping data points into granular\n",
        "balls, the model achieves better computational efficiency, increased noise\n",
        "resistance, and enhanced interpretability, establishing a new standard in\n",
        "data representation.\n",
        "• Enhanced Generalization using Universum Data :\n",
        "The GBU-TSVM incorporates Universum data, which includes samples\n",
        "outside the target classes, to significantly improve generalization capa-\n",
        "bilities. This integration enriches the model with contextual informa-\n",
        "...\n",
        "\n",
        "CONCISE SUMMARY:\n",
        "\n",
        "> Finished chain.\n",
        "Output is truncated. View as a scrollable element or open in a text editor."
      ]
    },
    {
      "cell_type": "markdown",
      "metadata": {
        "id": "bTlpsEvgq8KX"
      },
      "source": [
        "---"
      ]
    },
    {
      "cell_type": "markdown",
      "metadata": {
        "id": "6vYL9KLIq9Aw"
      },
      "source": [
        "# Agents\n",
        "\n",
        "The language model that drives decision making.\n",
        "\n",
        "More specifically, an agent takes in an input and returns a response corresponding to an action to take along with an action input. You can see different types of agents (which are better for different use cases)."
      ]
    },
    {
      "cell_type": "code",
      "execution_count": 169,
      "metadata": {
        "id": "VFuZS6JUpwQW"
      },
      "outputs": [],
      "source": [
        "from langchain.agents import load_tools\n",
        "from langchain.agents import initialize_agent\n",
        "from langchain_groq import ChatGroq\n",
        "import json"
      ]
    },
    {
      "cell_type": "code",
      "execution_count": 171,
      "metadata": {
        "id": "QmQnlw3Irl3D"
      },
      "outputs": [],
      "source": [
        "chat = ChatGroq(\n",
        "    temperature = 0.7,\n",
        "    model = \"llama3-70b-8192\",\n",
        "    api_key = groq_api_key\n",
        ")"
      ]
    },
    {
      "cell_type": "code",
      "execution_count": 176,
      "metadata": {
        "id": "dRSWuNlvsdk_"
      },
      "outputs": [],
      "source": [
        "pip install -qU google-search-results"
      ]
    },
    {
      "cell_type": "code",
      "execution_count": 177,
      "metadata": {
        "id": "c7tJqGl7r4MK"
      },
      "outputs": [],
      "source": [
        "toolkit = load_tools([\"serpapi\"],llm=chat,serpapi_api_key=serp_api_key)"
      ]
    },
    {
      "cell_type": "code",
      "execution_count": 179,
      "metadata": {
        "colab": {
          "base_uri": "https://localhost:8080/"
        },
        "id": "dovrJG8gsbNJ",
        "outputId": "f5ddfdaa-2c1e-4229-8c6d-b2e956154328"
      },
      "outputs": [
        {
          "name": "stderr",
          "output_type": "stream",
          "text": [
            "/usr/local/lib/python3.10/dist-packages/langchain_core/_api/deprecation.py:139: LangChainDeprecationWarning: The function `initialize_agent` was deprecated in LangChain 0.1.0 and will be removed in 0.3.0. Use Use new agent constructor methods like create_react_agent, create_json_agent, create_structured_chat_agent, etc. instead.\n",
            "  warn_deprecated(\n"
          ]
        }
      ],
      "source": [
        "agent = initialize_agent(toolkit, chat ,agent=\"zero-shot-react-description\",verbose=True,return_intermediate_steps=True)"
      ]
    },
    {
      "cell_type": "code",
      "execution_count": 180,
      "metadata": {
        "colab": {
          "base_uri": "https://localhost:8080/"
        },
        "id": "pFJwEkVgtJCa",
        "outputId": "5b10c050-988a-416b-9c65-0ff2f062d7fe"
      },
      "outputs": [
        {
          "name": "stderr",
          "output_type": "stream",
          "text": [
            "/usr/local/lib/python3.10/dist-packages/langchain_core/_api/deprecation.py:139: LangChainDeprecationWarning: The method `Chain.__call__` was deprecated in langchain 0.1.0 and will be removed in 0.3.0. Use invoke instead.\n",
            "  warn_deprecated(\n"
          ]
        },
        {
          "name": "stdout",
          "output_type": "stream",
          "text": [
            "\n",
            "\n",
            "\u001b[1m> Entering new AgentExecutor chain...\u001b[0m\n",
            "\u001b[32;1m\u001b[1;3mThought: I need to find the party that Devendra Fadnavis is a member of, and then find the year of establishment of that party.\n",
            "\n",
            "Action: Search\n",
            "Action Input: \"Devendra Fadnavis party\"\u001b[0m\n",
            "Observation: \u001b[36;1m\u001b[1;3mBharatiya Janata Party\u001b[0m\n",
            "Thought:\u001b[32;1m\u001b[1;3mThought: I now know that Devendra Fadnavis is a member of the Bharatiya Janata Party. Now I need to find the year of establishment of the Bharatiya Janata Party.\n",
            "\n",
            "Action: Search\n",
            "Action Input: \"Bharatiya Janata Party establishment year\"\u001b[0m\n",
            "Observation: \u001b[36;1m\u001b[1;3mApril 6, 1980, India\u001b[0m\n",
            "Thought:\u001b[32;1m\u001b[1;3mThought: I now know the final answer\n",
            "Final Answer: 1980\u001b[0m\n",
            "\n",
            "\u001b[1m> Finished chain.\u001b[0m\n"
          ]
        }
      ],
      "source": [
        "response = agent({\"input\":\"What is the year of establishment of the party\"\n",
        "                  \"Devendra Fadnavis is a member of?\"})"
      ]
    },
    {
      "cell_type": "code",
      "execution_count": null,
      "metadata": {
        "id": "dHtPR62Wt-gt"
      },
      "outputs": [],
      "source": []
    }
  ],
  "metadata": {
    "colab": {
      "collapsed_sections": [
        "8sycG-h5vSnu",
        "lACG27JFvqYY",
        "6RsumqrdyRvE",
        "3WO0a_A__kBp",
        "uY9qmY8zLbE4",
        "LiV5VmzVVwaN",
        "xlfv1CHr-ms7",
        "sXqTXOD4L1Pt",
        "aRyrnbpqmTjZ"
      ],
      "provenance": []
    },
    "kernelspec": {
      "display_name": "Python 3",
      "name": "python3"
    },
    "language_info": {
      "name": "python"
    },
    "widgets": {
      "application/vnd.jupyter.widget-state+json": {
        "01deaeb77a38497e90273cd9aa92fa5b": {
          "model_module": "@jupyter-widgets/controls",
          "model_module_version": "1.5.0",
          "model_name": "HBoxModel",
          "state": {
            "_dom_classes": [],
            "_model_module": "@jupyter-widgets/controls",
            "_model_module_version": "1.5.0",
            "_model_name": "HBoxModel",
            "_view_count": null,
            "_view_module": "@jupyter-widgets/controls",
            "_view_module_version": "1.5.0",
            "_view_name": "HBoxView",
            "box_style": "",
            "children": [
              "IPY_MODEL_6816a53883a344feb42a7909b278c6c1",
              "IPY_MODEL_ade95e037f54406eb0fa0b9a6ee1d11b",
              "IPY_MODEL_1dbafe6a69334af1ae2e7ed3af5d9a08"
            ],
            "layout": "IPY_MODEL_8b04a0f0b7e84631b70ab935c63c8cc9"
          }
        },
        "071eaaf608514e44bb18bcb8fedbae2b": {
          "model_module": "@jupyter-widgets/base",
          "model_module_version": "1.2.0",
          "model_name": "LayoutModel",
          "state": {
            "_model_module": "@jupyter-widgets/base",
            "_model_module_version": "1.2.0",
            "_model_name": "LayoutModel",
            "_view_count": null,
            "_view_module": "@jupyter-widgets/base",
            "_view_module_version": "1.2.0",
            "_view_name": "LayoutView",
            "align_content": null,
            "align_items": null,
            "align_self": null,
            "border": null,
            "bottom": null,
            "display": null,
            "flex": null,
            "flex_flow": null,
            "grid_area": null,
            "grid_auto_columns": null,
            "grid_auto_flow": null,
            "grid_auto_rows": null,
            "grid_column": null,
            "grid_gap": null,
            "grid_row": null,
            "grid_template_areas": null,
            "grid_template_columns": null,
            "grid_template_rows": null,
            "height": null,
            "justify_content": null,
            "justify_items": null,
            "left": null,
            "margin": null,
            "max_height": null,
            "max_width": null,
            "min_height": null,
            "min_width": null,
            "object_fit": null,
            "object_position": null,
            "order": null,
            "overflow": null,
            "overflow_x": null,
            "overflow_y": null,
            "padding": null,
            "right": null,
            "top": null,
            "visibility": null,
            "width": null
          }
        },
        "0ad56d98c55f4dd29cd70b0ed5968deb": {
          "model_module": "@jupyter-widgets/controls",
          "model_module_version": "1.5.0",
          "model_name": "HBoxModel",
          "state": {
            "_dom_classes": [],
            "_model_module": "@jupyter-widgets/controls",
            "_model_module_version": "1.5.0",
            "_model_name": "HBoxModel",
            "_view_count": null,
            "_view_module": "@jupyter-widgets/controls",
            "_view_module_version": "1.5.0",
            "_view_name": "HBoxView",
            "box_style": "",
            "children": [
              "IPY_MODEL_f9ca87dc11ac4ab39b994f8b9a136dbd",
              "IPY_MODEL_c457907ddd0348ab826392e30da5fff8",
              "IPY_MODEL_4ed2bf91e49b429582e74c728c650a35"
            ],
            "layout": "IPY_MODEL_76af60af2df944a29250f028cd7fcb51"
          }
        },
        "0c96f54abb1146f6a28c88a0196c9020": {
          "model_module": "@jupyter-widgets/controls",
          "model_module_version": "1.5.0",
          "model_name": "ProgressStyleModel",
          "state": {
            "_model_module": "@jupyter-widgets/controls",
            "_model_module_version": "1.5.0",
            "_model_name": "ProgressStyleModel",
            "_view_count": null,
            "_view_module": "@jupyter-widgets/base",
            "_view_module_version": "1.2.0",
            "_view_name": "StyleView",
            "bar_color": null,
            "description_width": ""
          }
        },
        "0cd6f7036b4c4818ae8955c0299487f0": {
          "model_module": "@jupyter-widgets/controls",
          "model_module_version": "1.5.0",
          "model_name": "DescriptionStyleModel",
          "state": {
            "_model_module": "@jupyter-widgets/controls",
            "_model_module_version": "1.5.0",
            "_model_name": "DescriptionStyleModel",
            "_view_count": null,
            "_view_module": "@jupyter-widgets/base",
            "_view_module_version": "1.2.0",
            "_view_name": "StyleView",
            "description_width": ""
          }
        },
        "0d6c16ff0eb84b159905a4a27f1546bc": {
          "model_module": "@jupyter-widgets/controls",
          "model_module_version": "1.5.0",
          "model_name": "DescriptionStyleModel",
          "state": {
            "_model_module": "@jupyter-widgets/controls",
            "_model_module_version": "1.5.0",
            "_model_name": "DescriptionStyleModel",
            "_view_count": null,
            "_view_module": "@jupyter-widgets/base",
            "_view_module_version": "1.2.0",
            "_view_name": "StyleView",
            "description_width": ""
          }
        },
        "10e67ae197c245389b57a8365b36bc69": {
          "model_module": "@jupyter-widgets/controls",
          "model_module_version": "1.5.0",
          "model_name": "ProgressStyleModel",
          "state": {
            "_model_module": "@jupyter-widgets/controls",
            "_model_module_version": "1.5.0",
            "_model_name": "ProgressStyleModel",
            "_view_count": null,
            "_view_module": "@jupyter-widgets/base",
            "_view_module_version": "1.2.0",
            "_view_name": "StyleView",
            "bar_color": null,
            "description_width": ""
          }
        },
        "14bfcaf4721b4bb69e0ab3485f826254": {
          "model_module": "@jupyter-widgets/base",
          "model_module_version": "1.2.0",
          "model_name": "LayoutModel",
          "state": {
            "_model_module": "@jupyter-widgets/base",
            "_model_module_version": "1.2.0",
            "_model_name": "LayoutModel",
            "_view_count": null,
            "_view_module": "@jupyter-widgets/base",
            "_view_module_version": "1.2.0",
            "_view_name": "LayoutView",
            "align_content": null,
            "align_items": null,
            "align_self": null,
            "border": null,
            "bottom": null,
            "display": null,
            "flex": null,
            "flex_flow": null,
            "grid_area": null,
            "grid_auto_columns": null,
            "grid_auto_flow": null,
            "grid_auto_rows": null,
            "grid_column": null,
            "grid_gap": null,
            "grid_row": null,
            "grid_template_areas": null,
            "grid_template_columns": null,
            "grid_template_rows": null,
            "height": null,
            "justify_content": null,
            "justify_items": null,
            "left": null,
            "margin": null,
            "max_height": null,
            "max_width": null,
            "min_height": null,
            "min_width": null,
            "object_fit": null,
            "object_position": null,
            "order": null,
            "overflow": null,
            "overflow_x": null,
            "overflow_y": null,
            "padding": null,
            "right": null,
            "top": null,
            "visibility": null,
            "width": null
          }
        },
        "1dbafe6a69334af1ae2e7ed3af5d9a08": {
          "model_module": "@jupyter-widgets/controls",
          "model_module_version": "1.5.0",
          "model_name": "HTMLModel",
          "state": {
            "_dom_classes": [],
            "_model_module": "@jupyter-widgets/controls",
            "_model_module_version": "1.5.0",
            "_model_name": "HTMLModel",
            "_view_count": null,
            "_view_module": "@jupyter-widgets/controls",
            "_view_module_version": "1.5.0",
            "_view_name": "HTMLView",
            "description": "",
            "description_tooltip": null,
            "layout": "IPY_MODEL_47a2adbf36174274a5f2bfad8ecaf8db",
            "placeholder": "​",
            "style": "IPY_MODEL_9fa813c3a35249c98a21a0458367e276",
            "value": " 26.0/26.0 [00:00&lt;00:00, 1.14kB/s]"
          }
        },
        "2c537e209fa449709d9b5ff556aef696": {
          "model_module": "@jupyter-widgets/controls",
          "model_module_version": "1.5.0",
          "model_name": "HTMLModel",
          "state": {
            "_dom_classes": [],
            "_model_module": "@jupyter-widgets/controls",
            "_model_module_version": "1.5.0",
            "_model_name": "HTMLModel",
            "_view_count": null,
            "_view_module": "@jupyter-widgets/controls",
            "_view_module_version": "1.5.0",
            "_view_name": "HTMLView",
            "description": "",
            "description_tooltip": null,
            "layout": "IPY_MODEL_fb8b0eed71da48f4887b57fe4039cd72",
            "placeholder": "​",
            "style": "IPY_MODEL_3f40c18c2b8b4736906f1b466dcd1ca4",
            "value": "config.json: 100%"
          }
        },
        "2d72976e426e46dab21f6d0be14ad179": {
          "model_module": "@jupyter-widgets/controls",
          "model_module_version": "1.5.0",
          "model_name": "HTMLModel",
          "state": {
            "_dom_classes": [],
            "_model_module": "@jupyter-widgets/controls",
            "_model_module_version": "1.5.0",
            "_model_name": "HTMLModel",
            "_view_count": null,
            "_view_module": "@jupyter-widgets/controls",
            "_view_module_version": "1.5.0",
            "_view_name": "HTMLView",
            "description": "",
            "description_tooltip": null,
            "layout": "IPY_MODEL_071eaaf608514e44bb18bcb8fedbae2b",
            "placeholder": "​",
            "style": "IPY_MODEL_fe4da75975c8447fae978c6f9767d883",
            "value": " 456k/456k [00:00&lt;00:00, 9.47MB/s]"
          }
        },
        "34d217abd9cc42c083af3c1803765dc4": {
          "model_module": "@jupyter-widgets/controls",
          "model_module_version": "1.5.0",
          "model_name": "HTMLModel",
          "state": {
            "_dom_classes": [],
            "_model_module": "@jupyter-widgets/controls",
            "_model_module_version": "1.5.0",
            "_model_name": "HTMLModel",
            "_view_count": null,
            "_view_module": "@jupyter-widgets/controls",
            "_view_module_version": "1.5.0",
            "_view_name": "HTMLView",
            "description": "",
            "description_tooltip": null,
            "layout": "IPY_MODEL_ee5612ce9bfe4345b35b7ee9f6a592a0",
            "placeholder": "​",
            "style": "IPY_MODEL_4ea25b6a6bee4a359cfeddff839e7252",
            "value": " 665/665 [00:00&lt;00:00, 29.6kB/s]"
          }
        },
        "357a8c0623f54177bd672f0ed4f9df75": {
          "model_module": "@jupyter-widgets/base",
          "model_module_version": "1.2.0",
          "model_name": "LayoutModel",
          "state": {
            "_model_module": "@jupyter-widgets/base",
            "_model_module_version": "1.2.0",
            "_model_name": "LayoutModel",
            "_view_count": null,
            "_view_module": "@jupyter-widgets/base",
            "_view_module_version": "1.2.0",
            "_view_name": "LayoutView",
            "align_content": null,
            "align_items": null,
            "align_self": null,
            "border": null,
            "bottom": null,
            "display": null,
            "flex": null,
            "flex_flow": null,
            "grid_area": null,
            "grid_auto_columns": null,
            "grid_auto_flow": null,
            "grid_auto_rows": null,
            "grid_column": null,
            "grid_gap": null,
            "grid_row": null,
            "grid_template_areas": null,
            "grid_template_columns": null,
            "grid_template_rows": null,
            "height": null,
            "justify_content": null,
            "justify_items": null,
            "left": null,
            "margin": null,
            "max_height": null,
            "max_width": null,
            "min_height": null,
            "min_width": null,
            "object_fit": null,
            "object_position": null,
            "order": null,
            "overflow": null,
            "overflow_x": null,
            "overflow_y": null,
            "padding": null,
            "right": null,
            "top": null,
            "visibility": null,
            "width": null
          }
        },
        "3f40c18c2b8b4736906f1b466dcd1ca4": {
          "model_module": "@jupyter-widgets/controls",
          "model_module_version": "1.5.0",
          "model_name": "DescriptionStyleModel",
          "state": {
            "_model_module": "@jupyter-widgets/controls",
            "_model_module_version": "1.5.0",
            "_model_name": "DescriptionStyleModel",
            "_view_count": null,
            "_view_module": "@jupyter-widgets/base",
            "_view_module_version": "1.2.0",
            "_view_name": "StyleView",
            "description_width": ""
          }
        },
        "42f096eec1d445319351ee3ddf7743c6": {
          "model_module": "@jupyter-widgets/base",
          "model_module_version": "1.2.0",
          "model_name": "LayoutModel",
          "state": {
            "_model_module": "@jupyter-widgets/base",
            "_model_module_version": "1.2.0",
            "_model_name": "LayoutModel",
            "_view_count": null,
            "_view_module": "@jupyter-widgets/base",
            "_view_module_version": "1.2.0",
            "_view_name": "LayoutView",
            "align_content": null,
            "align_items": null,
            "align_self": null,
            "border": null,
            "bottom": null,
            "display": null,
            "flex": null,
            "flex_flow": null,
            "grid_area": null,
            "grid_auto_columns": null,
            "grid_auto_flow": null,
            "grid_auto_rows": null,
            "grid_column": null,
            "grid_gap": null,
            "grid_row": null,
            "grid_template_areas": null,
            "grid_template_columns": null,
            "grid_template_rows": null,
            "height": null,
            "justify_content": null,
            "justify_items": null,
            "left": null,
            "margin": null,
            "max_height": null,
            "max_width": null,
            "min_height": null,
            "min_width": null,
            "object_fit": null,
            "object_position": null,
            "order": null,
            "overflow": null,
            "overflow_x": null,
            "overflow_y": null,
            "padding": null,
            "right": null,
            "top": null,
            "visibility": null,
            "width": null
          }
        },
        "4338c0506ef64c4599be1bd1dbfc679b": {
          "model_module": "@jupyter-widgets/base",
          "model_module_version": "1.2.0",
          "model_name": "LayoutModel",
          "state": {
            "_model_module": "@jupyter-widgets/base",
            "_model_module_version": "1.2.0",
            "_model_name": "LayoutModel",
            "_view_count": null,
            "_view_module": "@jupyter-widgets/base",
            "_view_module_version": "1.2.0",
            "_view_name": "LayoutView",
            "align_content": null,
            "align_items": null,
            "align_self": null,
            "border": null,
            "bottom": null,
            "display": null,
            "flex": null,
            "flex_flow": null,
            "grid_area": null,
            "grid_auto_columns": null,
            "grid_auto_flow": null,
            "grid_auto_rows": null,
            "grid_column": null,
            "grid_gap": null,
            "grid_row": null,
            "grid_template_areas": null,
            "grid_template_columns": null,
            "grid_template_rows": null,
            "height": null,
            "justify_content": null,
            "justify_items": null,
            "left": null,
            "margin": null,
            "max_height": null,
            "max_width": null,
            "min_height": null,
            "min_width": null,
            "object_fit": null,
            "object_position": null,
            "order": null,
            "overflow": null,
            "overflow_x": null,
            "overflow_y": null,
            "padding": null,
            "right": null,
            "top": null,
            "visibility": null,
            "width": null
          }
        },
        "43f20db44d614d9aa2e44f33155ab1eb": {
          "model_module": "@jupyter-widgets/controls",
          "model_module_version": "1.5.0",
          "model_name": "HBoxModel",
          "state": {
            "_dom_classes": [],
            "_model_module": "@jupyter-widgets/controls",
            "_model_module_version": "1.5.0",
            "_model_name": "HBoxModel",
            "_view_count": null,
            "_view_module": "@jupyter-widgets/controls",
            "_view_module_version": "1.5.0",
            "_view_name": "HBoxView",
            "box_style": "",
            "children": [
              "IPY_MODEL_cc7954838070498b8e1fa40f16215123",
              "IPY_MODEL_4481af453a054ef680b624e6c33558e0",
              "IPY_MODEL_2d72976e426e46dab21f6d0be14ad179"
            ],
            "layout": "IPY_MODEL_5a594b1936c74f48a477ed3fb1dd3c3d"
          }
        },
        "4481af453a054ef680b624e6c33558e0": {
          "model_module": "@jupyter-widgets/controls",
          "model_module_version": "1.5.0",
          "model_name": "FloatProgressModel",
          "state": {
            "_dom_classes": [],
            "_model_module": "@jupyter-widgets/controls",
            "_model_module_version": "1.5.0",
            "_model_name": "FloatProgressModel",
            "_view_count": null,
            "_view_module": "@jupyter-widgets/controls",
            "_view_module_version": "1.5.0",
            "_view_name": "ProgressView",
            "bar_style": "success",
            "description": "",
            "description_tooltip": null,
            "layout": "IPY_MODEL_dc8155d3a0a74eeabbb691815f01c4a3",
            "max": 456318,
            "min": 0,
            "orientation": "horizontal",
            "style": "IPY_MODEL_75b45fbf633947e5bd663e0e192ba45b",
            "value": 456318
          }
        },
        "46d85e74fa8f4e16b6691261a14edb76": {
          "model_module": "@jupyter-widgets/base",
          "model_module_version": "1.2.0",
          "model_name": "LayoutModel",
          "state": {
            "_model_module": "@jupyter-widgets/base",
            "_model_module_version": "1.2.0",
            "_model_name": "LayoutModel",
            "_view_count": null,
            "_view_module": "@jupyter-widgets/base",
            "_view_module_version": "1.2.0",
            "_view_name": "LayoutView",
            "align_content": null,
            "align_items": null,
            "align_self": null,
            "border": null,
            "bottom": null,
            "display": null,
            "flex": null,
            "flex_flow": null,
            "grid_area": null,
            "grid_auto_columns": null,
            "grid_auto_flow": null,
            "grid_auto_rows": null,
            "grid_column": null,
            "grid_gap": null,
            "grid_row": null,
            "grid_template_areas": null,
            "grid_template_columns": null,
            "grid_template_rows": null,
            "height": null,
            "justify_content": null,
            "justify_items": null,
            "left": null,
            "margin": null,
            "max_height": null,
            "max_width": null,
            "min_height": null,
            "min_width": null,
            "object_fit": null,
            "object_position": null,
            "order": null,
            "overflow": null,
            "overflow_x": null,
            "overflow_y": null,
            "padding": null,
            "right": null,
            "top": null,
            "visibility": null,
            "width": null
          }
        },
        "47a2adbf36174274a5f2bfad8ecaf8db": {
          "model_module": "@jupyter-widgets/base",
          "model_module_version": "1.2.0",
          "model_name": "LayoutModel",
          "state": {
            "_model_module": "@jupyter-widgets/base",
            "_model_module_version": "1.2.0",
            "_model_name": "LayoutModel",
            "_view_count": null,
            "_view_module": "@jupyter-widgets/base",
            "_view_module_version": "1.2.0",
            "_view_name": "LayoutView",
            "align_content": null,
            "align_items": null,
            "align_self": null,
            "border": null,
            "bottom": null,
            "display": null,
            "flex": null,
            "flex_flow": null,
            "grid_area": null,
            "grid_auto_columns": null,
            "grid_auto_flow": null,
            "grid_auto_rows": null,
            "grid_column": null,
            "grid_gap": null,
            "grid_row": null,
            "grid_template_areas": null,
            "grid_template_columns": null,
            "grid_template_rows": null,
            "height": null,
            "justify_content": null,
            "justify_items": null,
            "left": null,
            "margin": null,
            "max_height": null,
            "max_width": null,
            "min_height": null,
            "min_width": null,
            "object_fit": null,
            "object_position": null,
            "order": null,
            "overflow": null,
            "overflow_x": null,
            "overflow_y": null,
            "padding": null,
            "right": null,
            "top": null,
            "visibility": null,
            "width": null
          }
        },
        "4ea25b6a6bee4a359cfeddff839e7252": {
          "model_module": "@jupyter-widgets/controls",
          "model_module_version": "1.5.0",
          "model_name": "DescriptionStyleModel",
          "state": {
            "_model_module": "@jupyter-widgets/controls",
            "_model_module_version": "1.5.0",
            "_model_name": "DescriptionStyleModel",
            "_view_count": null,
            "_view_module": "@jupyter-widgets/base",
            "_view_module_version": "1.2.0",
            "_view_name": "StyleView",
            "description_width": ""
          }
        },
        "4ed2bf91e49b429582e74c728c650a35": {
          "model_module": "@jupyter-widgets/controls",
          "model_module_version": "1.5.0",
          "model_name": "HTMLModel",
          "state": {
            "_dom_classes": [],
            "_model_module": "@jupyter-widgets/controls",
            "_model_module_version": "1.5.0",
            "_model_name": "HTMLModel",
            "_view_count": null,
            "_view_module": "@jupyter-widgets/controls",
            "_view_module_version": "1.5.0",
            "_view_name": "HTMLView",
            "description": "",
            "description_tooltip": null,
            "layout": "IPY_MODEL_8e439d5ba7ea48de94bdf16f12783c69",
            "placeholder": "​",
            "style": "IPY_MODEL_96e72f0f69a3437a961f5ad7ee64a388",
            "value": " 1.04M/1.04M [00:00&lt;00:00, 13.1MB/s]"
          }
        },
        "4f6037c3989544c6a63ce8b242cd47fa": {
          "model_module": "@jupyter-widgets/controls",
          "model_module_version": "1.5.0",
          "model_name": "HTMLModel",
          "state": {
            "_dom_classes": [],
            "_model_module": "@jupyter-widgets/controls",
            "_model_module_version": "1.5.0",
            "_model_name": "HTMLModel",
            "_view_count": null,
            "_view_module": "@jupyter-widgets/controls",
            "_view_module_version": "1.5.0",
            "_view_name": "HTMLView",
            "description": "",
            "description_tooltip": null,
            "layout": "IPY_MODEL_14bfcaf4721b4bb69e0ab3485f826254",
            "placeholder": "​",
            "style": "IPY_MODEL_0d6c16ff0eb84b159905a4a27f1546bc",
            "value": "tokenizer.json: 100%"
          }
        },
        "50dd300d0b554eb5823b7ac91db6fee3": {
          "model_module": "@jupyter-widgets/controls",
          "model_module_version": "1.5.0",
          "model_name": "HBoxModel",
          "state": {
            "_dom_classes": [],
            "_model_module": "@jupyter-widgets/controls",
            "_model_module_version": "1.5.0",
            "_model_name": "HBoxModel",
            "_view_count": null,
            "_view_module": "@jupyter-widgets/controls",
            "_view_module_version": "1.5.0",
            "_view_name": "HBoxView",
            "box_style": "",
            "children": [
              "IPY_MODEL_2c537e209fa449709d9b5ff556aef696",
              "IPY_MODEL_b6f332599c24441f97d0d2a3c10a32d6",
              "IPY_MODEL_34d217abd9cc42c083af3c1803765dc4"
            ],
            "layout": "IPY_MODEL_549fa3583c734b78a86faf8aa54b726e"
          }
        },
        "549fa3583c734b78a86faf8aa54b726e": {
          "model_module": "@jupyter-widgets/base",
          "model_module_version": "1.2.0",
          "model_name": "LayoutModel",
          "state": {
            "_model_module": "@jupyter-widgets/base",
            "_model_module_version": "1.2.0",
            "_model_name": "LayoutModel",
            "_view_count": null,
            "_view_module": "@jupyter-widgets/base",
            "_view_module_version": "1.2.0",
            "_view_name": "LayoutView",
            "align_content": null,
            "align_items": null,
            "align_self": null,
            "border": null,
            "bottom": null,
            "display": null,
            "flex": null,
            "flex_flow": null,
            "grid_area": null,
            "grid_auto_columns": null,
            "grid_auto_flow": null,
            "grid_auto_rows": null,
            "grid_column": null,
            "grid_gap": null,
            "grid_row": null,
            "grid_template_areas": null,
            "grid_template_columns": null,
            "grid_template_rows": null,
            "height": null,
            "justify_content": null,
            "justify_items": null,
            "left": null,
            "margin": null,
            "max_height": null,
            "max_width": null,
            "min_height": null,
            "min_width": null,
            "object_fit": null,
            "object_position": null,
            "order": null,
            "overflow": null,
            "overflow_x": null,
            "overflow_y": null,
            "padding": null,
            "right": null,
            "top": null,
            "visibility": null,
            "width": null
          }
        },
        "5a594b1936c74f48a477ed3fb1dd3c3d": {
          "model_module": "@jupyter-widgets/base",
          "model_module_version": "1.2.0",
          "model_name": "LayoutModel",
          "state": {
            "_model_module": "@jupyter-widgets/base",
            "_model_module_version": "1.2.0",
            "_model_name": "LayoutModel",
            "_view_count": null,
            "_view_module": "@jupyter-widgets/base",
            "_view_module_version": "1.2.0",
            "_view_name": "LayoutView",
            "align_content": null,
            "align_items": null,
            "align_self": null,
            "border": null,
            "bottom": null,
            "display": null,
            "flex": null,
            "flex_flow": null,
            "grid_area": null,
            "grid_auto_columns": null,
            "grid_auto_flow": null,
            "grid_auto_rows": null,
            "grid_column": null,
            "grid_gap": null,
            "grid_row": null,
            "grid_template_areas": null,
            "grid_template_columns": null,
            "grid_template_rows": null,
            "height": null,
            "justify_content": null,
            "justify_items": null,
            "left": null,
            "margin": null,
            "max_height": null,
            "max_width": null,
            "min_height": null,
            "min_width": null,
            "object_fit": null,
            "object_position": null,
            "order": null,
            "overflow": null,
            "overflow_x": null,
            "overflow_y": null,
            "padding": null,
            "right": null,
            "top": null,
            "visibility": null,
            "width": null
          }
        },
        "5a7c63999e0641ab8424e6c66761eb81": {
          "model_module": "@jupyter-widgets/base",
          "model_module_version": "1.2.0",
          "model_name": "LayoutModel",
          "state": {
            "_model_module": "@jupyter-widgets/base",
            "_model_module_version": "1.2.0",
            "_model_name": "LayoutModel",
            "_view_count": null,
            "_view_module": "@jupyter-widgets/base",
            "_view_module_version": "1.2.0",
            "_view_name": "LayoutView",
            "align_content": null,
            "align_items": null,
            "align_self": null,
            "border": null,
            "bottom": null,
            "display": null,
            "flex": null,
            "flex_flow": null,
            "grid_area": null,
            "grid_auto_columns": null,
            "grid_auto_flow": null,
            "grid_auto_rows": null,
            "grid_column": null,
            "grid_gap": null,
            "grid_row": null,
            "grid_template_areas": null,
            "grid_template_columns": null,
            "grid_template_rows": null,
            "height": null,
            "justify_content": null,
            "justify_items": null,
            "left": null,
            "margin": null,
            "max_height": null,
            "max_width": null,
            "min_height": null,
            "min_width": null,
            "object_fit": null,
            "object_position": null,
            "order": null,
            "overflow": null,
            "overflow_x": null,
            "overflow_y": null,
            "padding": null,
            "right": null,
            "top": null,
            "visibility": null,
            "width": null
          }
        },
        "5d244c9aa0ff4a67a40a3e2da0964368": {
          "model_module": "@jupyter-widgets/controls",
          "model_module_version": "1.5.0",
          "model_name": "ProgressStyleModel",
          "state": {
            "_model_module": "@jupyter-widgets/controls",
            "_model_module_version": "1.5.0",
            "_model_name": "ProgressStyleModel",
            "_view_count": null,
            "_view_module": "@jupyter-widgets/base",
            "_view_module_version": "1.2.0",
            "_view_name": "StyleView",
            "bar_color": null,
            "description_width": ""
          }
        },
        "6616410cfaed4265b2c11255e56fbd0d": {
          "model_module": "@jupyter-widgets/base",
          "model_module_version": "1.2.0",
          "model_name": "LayoutModel",
          "state": {
            "_model_module": "@jupyter-widgets/base",
            "_model_module_version": "1.2.0",
            "_model_name": "LayoutModel",
            "_view_count": null,
            "_view_module": "@jupyter-widgets/base",
            "_view_module_version": "1.2.0",
            "_view_name": "LayoutView",
            "align_content": null,
            "align_items": null,
            "align_self": null,
            "border": null,
            "bottom": null,
            "display": null,
            "flex": null,
            "flex_flow": null,
            "grid_area": null,
            "grid_auto_columns": null,
            "grid_auto_flow": null,
            "grid_auto_rows": null,
            "grid_column": null,
            "grid_gap": null,
            "grid_row": null,
            "grid_template_areas": null,
            "grid_template_columns": null,
            "grid_template_rows": null,
            "height": null,
            "justify_content": null,
            "justify_items": null,
            "left": null,
            "margin": null,
            "max_height": null,
            "max_width": null,
            "min_height": null,
            "min_width": null,
            "object_fit": null,
            "object_position": null,
            "order": null,
            "overflow": null,
            "overflow_x": null,
            "overflow_y": null,
            "padding": null,
            "right": null,
            "top": null,
            "visibility": null,
            "width": null
          }
        },
        "67da6b93e96f41e3ac3a815d8d0c87f2": {
          "model_module": "@jupyter-widgets/controls",
          "model_module_version": "1.5.0",
          "model_name": "HBoxModel",
          "state": {
            "_dom_classes": [],
            "_model_module": "@jupyter-widgets/controls",
            "_model_module_version": "1.5.0",
            "_model_name": "HBoxModel",
            "_view_count": null,
            "_view_module": "@jupyter-widgets/controls",
            "_view_module_version": "1.5.0",
            "_view_name": "HBoxView",
            "box_style": "",
            "children": [
              "IPY_MODEL_4f6037c3989544c6a63ce8b242cd47fa",
              "IPY_MODEL_8fa27d5b8eba4287a7933621a258bf44",
              "IPY_MODEL_d6dbaaa40e574b6eaaa6fdc53b25c54e"
            ],
            "layout": "IPY_MODEL_5a7c63999e0641ab8424e6c66761eb81"
          }
        },
        "6816a53883a344feb42a7909b278c6c1": {
          "model_module": "@jupyter-widgets/controls",
          "model_module_version": "1.5.0",
          "model_name": "HTMLModel",
          "state": {
            "_dom_classes": [],
            "_model_module": "@jupyter-widgets/controls",
            "_model_module_version": "1.5.0",
            "_model_name": "HTMLModel",
            "_view_count": null,
            "_view_module": "@jupyter-widgets/controls",
            "_view_module_version": "1.5.0",
            "_view_name": "HTMLView",
            "description": "",
            "description_tooltip": null,
            "layout": "IPY_MODEL_6fbc2dce99134aca822ddff49a3743d4",
            "placeholder": "​",
            "style": "IPY_MODEL_0cd6f7036b4c4818ae8955c0299487f0",
            "value": "tokenizer_config.json: 100%"
          }
        },
        "6fbc2dce99134aca822ddff49a3743d4": {
          "model_module": "@jupyter-widgets/base",
          "model_module_version": "1.2.0",
          "model_name": "LayoutModel",
          "state": {
            "_model_module": "@jupyter-widgets/base",
            "_model_module_version": "1.2.0",
            "_model_name": "LayoutModel",
            "_view_count": null,
            "_view_module": "@jupyter-widgets/base",
            "_view_module_version": "1.2.0",
            "_view_name": "LayoutView",
            "align_content": null,
            "align_items": null,
            "align_self": null,
            "border": null,
            "bottom": null,
            "display": null,
            "flex": null,
            "flex_flow": null,
            "grid_area": null,
            "grid_auto_columns": null,
            "grid_auto_flow": null,
            "grid_auto_rows": null,
            "grid_column": null,
            "grid_gap": null,
            "grid_row": null,
            "grid_template_areas": null,
            "grid_template_columns": null,
            "grid_template_rows": null,
            "height": null,
            "justify_content": null,
            "justify_items": null,
            "left": null,
            "margin": null,
            "max_height": null,
            "max_width": null,
            "min_height": null,
            "min_width": null,
            "object_fit": null,
            "object_position": null,
            "order": null,
            "overflow": null,
            "overflow_x": null,
            "overflow_y": null,
            "padding": null,
            "right": null,
            "top": null,
            "visibility": null,
            "width": null
          }
        },
        "75b45fbf633947e5bd663e0e192ba45b": {
          "model_module": "@jupyter-widgets/controls",
          "model_module_version": "1.5.0",
          "model_name": "ProgressStyleModel",
          "state": {
            "_model_module": "@jupyter-widgets/controls",
            "_model_module_version": "1.5.0",
            "_model_name": "ProgressStyleModel",
            "_view_count": null,
            "_view_module": "@jupyter-widgets/base",
            "_view_module_version": "1.2.0",
            "_view_name": "StyleView",
            "bar_color": null,
            "description_width": ""
          }
        },
        "76af60af2df944a29250f028cd7fcb51": {
          "model_module": "@jupyter-widgets/base",
          "model_module_version": "1.2.0",
          "model_name": "LayoutModel",
          "state": {
            "_model_module": "@jupyter-widgets/base",
            "_model_module_version": "1.2.0",
            "_model_name": "LayoutModel",
            "_view_count": null,
            "_view_module": "@jupyter-widgets/base",
            "_view_module_version": "1.2.0",
            "_view_name": "LayoutView",
            "align_content": null,
            "align_items": null,
            "align_self": null,
            "border": null,
            "bottom": null,
            "display": null,
            "flex": null,
            "flex_flow": null,
            "grid_area": null,
            "grid_auto_columns": null,
            "grid_auto_flow": null,
            "grid_auto_rows": null,
            "grid_column": null,
            "grid_gap": null,
            "grid_row": null,
            "grid_template_areas": null,
            "grid_template_columns": null,
            "grid_template_rows": null,
            "height": null,
            "justify_content": null,
            "justify_items": null,
            "left": null,
            "margin": null,
            "max_height": null,
            "max_width": null,
            "min_height": null,
            "min_width": null,
            "object_fit": null,
            "object_position": null,
            "order": null,
            "overflow": null,
            "overflow_x": null,
            "overflow_y": null,
            "padding": null,
            "right": null,
            "top": null,
            "visibility": null,
            "width": null
          }
        },
        "82d8e725e3c447048c154f23fd1ff823": {
          "model_module": "@jupyter-widgets/controls",
          "model_module_version": "1.5.0",
          "model_name": "DescriptionStyleModel",
          "state": {
            "_model_module": "@jupyter-widgets/controls",
            "_model_module_version": "1.5.0",
            "_model_name": "DescriptionStyleModel",
            "_view_count": null,
            "_view_module": "@jupyter-widgets/base",
            "_view_module_version": "1.2.0",
            "_view_name": "StyleView",
            "description_width": ""
          }
        },
        "8b04a0f0b7e84631b70ab935c63c8cc9": {
          "model_module": "@jupyter-widgets/base",
          "model_module_version": "1.2.0",
          "model_name": "LayoutModel",
          "state": {
            "_model_module": "@jupyter-widgets/base",
            "_model_module_version": "1.2.0",
            "_model_name": "LayoutModel",
            "_view_count": null,
            "_view_module": "@jupyter-widgets/base",
            "_view_module_version": "1.2.0",
            "_view_name": "LayoutView",
            "align_content": null,
            "align_items": null,
            "align_self": null,
            "border": null,
            "bottom": null,
            "display": null,
            "flex": null,
            "flex_flow": null,
            "grid_area": null,
            "grid_auto_columns": null,
            "grid_auto_flow": null,
            "grid_auto_rows": null,
            "grid_column": null,
            "grid_gap": null,
            "grid_row": null,
            "grid_template_areas": null,
            "grid_template_columns": null,
            "grid_template_rows": null,
            "height": null,
            "justify_content": null,
            "justify_items": null,
            "left": null,
            "margin": null,
            "max_height": null,
            "max_width": null,
            "min_height": null,
            "min_width": null,
            "object_fit": null,
            "object_position": null,
            "order": null,
            "overflow": null,
            "overflow_x": null,
            "overflow_y": null,
            "padding": null,
            "right": null,
            "top": null,
            "visibility": null,
            "width": null
          }
        },
        "8e439d5ba7ea48de94bdf16f12783c69": {
          "model_module": "@jupyter-widgets/base",
          "model_module_version": "1.2.0",
          "model_name": "LayoutModel",
          "state": {
            "_model_module": "@jupyter-widgets/base",
            "_model_module_version": "1.2.0",
            "_model_name": "LayoutModel",
            "_view_count": null,
            "_view_module": "@jupyter-widgets/base",
            "_view_module_version": "1.2.0",
            "_view_name": "LayoutView",
            "align_content": null,
            "align_items": null,
            "align_self": null,
            "border": null,
            "bottom": null,
            "display": null,
            "flex": null,
            "flex_flow": null,
            "grid_area": null,
            "grid_auto_columns": null,
            "grid_auto_flow": null,
            "grid_auto_rows": null,
            "grid_column": null,
            "grid_gap": null,
            "grid_row": null,
            "grid_template_areas": null,
            "grid_template_columns": null,
            "grid_template_rows": null,
            "height": null,
            "justify_content": null,
            "justify_items": null,
            "left": null,
            "margin": null,
            "max_height": null,
            "max_width": null,
            "min_height": null,
            "min_width": null,
            "object_fit": null,
            "object_position": null,
            "order": null,
            "overflow": null,
            "overflow_x": null,
            "overflow_y": null,
            "padding": null,
            "right": null,
            "top": null,
            "visibility": null,
            "width": null
          }
        },
        "8fa27d5b8eba4287a7933621a258bf44": {
          "model_module": "@jupyter-widgets/controls",
          "model_module_version": "1.5.0",
          "model_name": "FloatProgressModel",
          "state": {
            "_dom_classes": [],
            "_model_module": "@jupyter-widgets/controls",
            "_model_module_version": "1.5.0",
            "_model_name": "FloatProgressModel",
            "_view_count": null,
            "_view_module": "@jupyter-widgets/controls",
            "_view_module_version": "1.5.0",
            "_view_name": "ProgressView",
            "bar_style": "success",
            "description": "",
            "description_tooltip": null,
            "layout": "IPY_MODEL_46d85e74fa8f4e16b6691261a14edb76",
            "max": 1355256,
            "min": 0,
            "orientation": "horizontal",
            "style": "IPY_MODEL_5d244c9aa0ff4a67a40a3e2da0964368",
            "value": 1355256
          }
        },
        "93a7299804ef4ff69f16a0a910d0e3d5": {
          "model_module": "@jupyter-widgets/base",
          "model_module_version": "1.2.0",
          "model_name": "LayoutModel",
          "state": {
            "_model_module": "@jupyter-widgets/base",
            "_model_module_version": "1.2.0",
            "_model_name": "LayoutModel",
            "_view_count": null,
            "_view_module": "@jupyter-widgets/base",
            "_view_module_version": "1.2.0",
            "_view_name": "LayoutView",
            "align_content": null,
            "align_items": null,
            "align_self": null,
            "border": null,
            "bottom": null,
            "display": null,
            "flex": null,
            "flex_flow": null,
            "grid_area": null,
            "grid_auto_columns": null,
            "grid_auto_flow": null,
            "grid_auto_rows": null,
            "grid_column": null,
            "grid_gap": null,
            "grid_row": null,
            "grid_template_areas": null,
            "grid_template_columns": null,
            "grid_template_rows": null,
            "height": null,
            "justify_content": null,
            "justify_items": null,
            "left": null,
            "margin": null,
            "max_height": null,
            "max_width": null,
            "min_height": null,
            "min_width": null,
            "object_fit": null,
            "object_position": null,
            "order": null,
            "overflow": null,
            "overflow_x": null,
            "overflow_y": null,
            "padding": null,
            "right": null,
            "top": null,
            "visibility": null,
            "width": null
          }
        },
        "96e72f0f69a3437a961f5ad7ee64a388": {
          "model_module": "@jupyter-widgets/controls",
          "model_module_version": "1.5.0",
          "model_name": "DescriptionStyleModel",
          "state": {
            "_model_module": "@jupyter-widgets/controls",
            "_model_module_version": "1.5.0",
            "_model_name": "DescriptionStyleModel",
            "_view_count": null,
            "_view_module": "@jupyter-widgets/base",
            "_view_module_version": "1.2.0",
            "_view_name": "StyleView",
            "description_width": ""
          }
        },
        "97a153e23e164a1fab10aa0223579201": {
          "model_module": "@jupyter-widgets/base",
          "model_module_version": "1.2.0",
          "model_name": "LayoutModel",
          "state": {
            "_model_module": "@jupyter-widgets/base",
            "_model_module_version": "1.2.0",
            "_model_name": "LayoutModel",
            "_view_count": null,
            "_view_module": "@jupyter-widgets/base",
            "_view_module_version": "1.2.0",
            "_view_name": "LayoutView",
            "align_content": null,
            "align_items": null,
            "align_self": null,
            "border": null,
            "bottom": null,
            "display": null,
            "flex": null,
            "flex_flow": null,
            "grid_area": null,
            "grid_auto_columns": null,
            "grid_auto_flow": null,
            "grid_auto_rows": null,
            "grid_column": null,
            "grid_gap": null,
            "grid_row": null,
            "grid_template_areas": null,
            "grid_template_columns": null,
            "grid_template_rows": null,
            "height": null,
            "justify_content": null,
            "justify_items": null,
            "left": null,
            "margin": null,
            "max_height": null,
            "max_width": null,
            "min_height": null,
            "min_width": null,
            "object_fit": null,
            "object_position": null,
            "order": null,
            "overflow": null,
            "overflow_x": null,
            "overflow_y": null,
            "padding": null,
            "right": null,
            "top": null,
            "visibility": null,
            "width": null
          }
        },
        "9fa813c3a35249c98a21a0458367e276": {
          "model_module": "@jupyter-widgets/controls",
          "model_module_version": "1.5.0",
          "model_name": "DescriptionStyleModel",
          "state": {
            "_model_module": "@jupyter-widgets/controls",
            "_model_module_version": "1.5.0",
            "_model_name": "DescriptionStyleModel",
            "_view_count": null,
            "_view_module": "@jupyter-widgets/base",
            "_view_module_version": "1.2.0",
            "_view_name": "StyleView",
            "description_width": ""
          }
        },
        "ade95e037f54406eb0fa0b9a6ee1d11b": {
          "model_module": "@jupyter-widgets/controls",
          "model_module_version": "1.5.0",
          "model_name": "FloatProgressModel",
          "state": {
            "_dom_classes": [],
            "_model_module": "@jupyter-widgets/controls",
            "_model_module_version": "1.5.0",
            "_model_name": "FloatProgressModel",
            "_view_count": null,
            "_view_module": "@jupyter-widgets/controls",
            "_view_module_version": "1.5.0",
            "_view_name": "ProgressView",
            "bar_style": "success",
            "description": "",
            "description_tooltip": null,
            "layout": "IPY_MODEL_97a153e23e164a1fab10aa0223579201",
            "max": 26,
            "min": 0,
            "orientation": "horizontal",
            "style": "IPY_MODEL_10e67ae197c245389b57a8365b36bc69",
            "value": 26
          }
        },
        "b6f332599c24441f97d0d2a3c10a32d6": {
          "model_module": "@jupyter-widgets/controls",
          "model_module_version": "1.5.0",
          "model_name": "FloatProgressModel",
          "state": {
            "_dom_classes": [],
            "_model_module": "@jupyter-widgets/controls",
            "_model_module_version": "1.5.0",
            "_model_name": "FloatProgressModel",
            "_view_count": null,
            "_view_module": "@jupyter-widgets/controls",
            "_view_module_version": "1.5.0",
            "_view_name": "ProgressView",
            "bar_style": "success",
            "description": "",
            "description_tooltip": null,
            "layout": "IPY_MODEL_93a7299804ef4ff69f16a0a910d0e3d5",
            "max": 665,
            "min": 0,
            "orientation": "horizontal",
            "style": "IPY_MODEL_0c96f54abb1146f6a28c88a0196c9020",
            "value": 665
          }
        },
        "bac1a0ffa10d48ebb946fc10d2ae4140": {
          "model_module": "@jupyter-widgets/controls",
          "model_module_version": "1.5.0",
          "model_name": "DescriptionStyleModel",
          "state": {
            "_model_module": "@jupyter-widgets/controls",
            "_model_module_version": "1.5.0",
            "_model_name": "DescriptionStyleModel",
            "_view_count": null,
            "_view_module": "@jupyter-widgets/base",
            "_view_module_version": "1.2.0",
            "_view_name": "StyleView",
            "description_width": ""
          }
        },
        "c457907ddd0348ab826392e30da5fff8": {
          "model_module": "@jupyter-widgets/controls",
          "model_module_version": "1.5.0",
          "model_name": "FloatProgressModel",
          "state": {
            "_dom_classes": [],
            "_model_module": "@jupyter-widgets/controls",
            "_model_module_version": "1.5.0",
            "_model_name": "FloatProgressModel",
            "_view_count": null,
            "_view_module": "@jupyter-widgets/controls",
            "_view_module_version": "1.5.0",
            "_view_name": "ProgressView",
            "bar_style": "success",
            "description": "",
            "description_tooltip": null,
            "layout": "IPY_MODEL_6616410cfaed4265b2c11255e56fbd0d",
            "max": 1042301,
            "min": 0,
            "orientation": "horizontal",
            "style": "IPY_MODEL_d5198f9d07884e9a90dbddd75aa09bdb",
            "value": 1042301
          }
        },
        "cc7954838070498b8e1fa40f16215123": {
          "model_module": "@jupyter-widgets/controls",
          "model_module_version": "1.5.0",
          "model_name": "HTMLModel",
          "state": {
            "_dom_classes": [],
            "_model_module": "@jupyter-widgets/controls",
            "_model_module_version": "1.5.0",
            "_model_name": "HTMLModel",
            "_view_count": null,
            "_view_module": "@jupyter-widgets/controls",
            "_view_module_version": "1.5.0",
            "_view_name": "HTMLView",
            "description": "",
            "description_tooltip": null,
            "layout": "IPY_MODEL_357a8c0623f54177bd672f0ed4f9df75",
            "placeholder": "​",
            "style": "IPY_MODEL_cd3ee8e4f51545518585ce29b7a26a0a",
            "value": "merges.txt: 100%"
          }
        },
        "cd3ee8e4f51545518585ce29b7a26a0a": {
          "model_module": "@jupyter-widgets/controls",
          "model_module_version": "1.5.0",
          "model_name": "DescriptionStyleModel",
          "state": {
            "_model_module": "@jupyter-widgets/controls",
            "_model_module_version": "1.5.0",
            "_model_name": "DescriptionStyleModel",
            "_view_count": null,
            "_view_module": "@jupyter-widgets/base",
            "_view_module_version": "1.2.0",
            "_view_name": "StyleView",
            "description_width": ""
          }
        },
        "d5198f9d07884e9a90dbddd75aa09bdb": {
          "model_module": "@jupyter-widgets/controls",
          "model_module_version": "1.5.0",
          "model_name": "ProgressStyleModel",
          "state": {
            "_model_module": "@jupyter-widgets/controls",
            "_model_module_version": "1.5.0",
            "_model_name": "ProgressStyleModel",
            "_view_count": null,
            "_view_module": "@jupyter-widgets/base",
            "_view_module_version": "1.2.0",
            "_view_name": "StyleView",
            "bar_color": null,
            "description_width": ""
          }
        },
        "d6dbaaa40e574b6eaaa6fdc53b25c54e": {
          "model_module": "@jupyter-widgets/controls",
          "model_module_version": "1.5.0",
          "model_name": "HTMLModel",
          "state": {
            "_dom_classes": [],
            "_model_module": "@jupyter-widgets/controls",
            "_model_module_version": "1.5.0",
            "_model_name": "HTMLModel",
            "_view_count": null,
            "_view_module": "@jupyter-widgets/controls",
            "_view_module_version": "1.5.0",
            "_view_name": "HTMLView",
            "description": "",
            "description_tooltip": null,
            "layout": "IPY_MODEL_42f096eec1d445319351ee3ddf7743c6",
            "placeholder": "​",
            "style": "IPY_MODEL_bac1a0ffa10d48ebb946fc10d2ae4140",
            "value": " 1.36M/1.36M [00:00&lt;00:00, 8.50MB/s]"
          }
        },
        "dc8155d3a0a74eeabbb691815f01c4a3": {
          "model_module": "@jupyter-widgets/base",
          "model_module_version": "1.2.0",
          "model_name": "LayoutModel",
          "state": {
            "_model_module": "@jupyter-widgets/base",
            "_model_module_version": "1.2.0",
            "_model_name": "LayoutModel",
            "_view_count": null,
            "_view_module": "@jupyter-widgets/base",
            "_view_module_version": "1.2.0",
            "_view_name": "LayoutView",
            "align_content": null,
            "align_items": null,
            "align_self": null,
            "border": null,
            "bottom": null,
            "display": null,
            "flex": null,
            "flex_flow": null,
            "grid_area": null,
            "grid_auto_columns": null,
            "grid_auto_flow": null,
            "grid_auto_rows": null,
            "grid_column": null,
            "grid_gap": null,
            "grid_row": null,
            "grid_template_areas": null,
            "grid_template_columns": null,
            "grid_template_rows": null,
            "height": null,
            "justify_content": null,
            "justify_items": null,
            "left": null,
            "margin": null,
            "max_height": null,
            "max_width": null,
            "min_height": null,
            "min_width": null,
            "object_fit": null,
            "object_position": null,
            "order": null,
            "overflow": null,
            "overflow_x": null,
            "overflow_y": null,
            "padding": null,
            "right": null,
            "top": null,
            "visibility": null,
            "width": null
          }
        },
        "ee5612ce9bfe4345b35b7ee9f6a592a0": {
          "model_module": "@jupyter-widgets/base",
          "model_module_version": "1.2.0",
          "model_name": "LayoutModel",
          "state": {
            "_model_module": "@jupyter-widgets/base",
            "_model_module_version": "1.2.0",
            "_model_name": "LayoutModel",
            "_view_count": null,
            "_view_module": "@jupyter-widgets/base",
            "_view_module_version": "1.2.0",
            "_view_name": "LayoutView",
            "align_content": null,
            "align_items": null,
            "align_self": null,
            "border": null,
            "bottom": null,
            "display": null,
            "flex": null,
            "flex_flow": null,
            "grid_area": null,
            "grid_auto_columns": null,
            "grid_auto_flow": null,
            "grid_auto_rows": null,
            "grid_column": null,
            "grid_gap": null,
            "grid_row": null,
            "grid_template_areas": null,
            "grid_template_columns": null,
            "grid_template_rows": null,
            "height": null,
            "justify_content": null,
            "justify_items": null,
            "left": null,
            "margin": null,
            "max_height": null,
            "max_width": null,
            "min_height": null,
            "min_width": null,
            "object_fit": null,
            "object_position": null,
            "order": null,
            "overflow": null,
            "overflow_x": null,
            "overflow_y": null,
            "padding": null,
            "right": null,
            "top": null,
            "visibility": null,
            "width": null
          }
        },
        "f9ca87dc11ac4ab39b994f8b9a136dbd": {
          "model_module": "@jupyter-widgets/controls",
          "model_module_version": "1.5.0",
          "model_name": "HTMLModel",
          "state": {
            "_dom_classes": [],
            "_model_module": "@jupyter-widgets/controls",
            "_model_module_version": "1.5.0",
            "_model_name": "HTMLModel",
            "_view_count": null,
            "_view_module": "@jupyter-widgets/controls",
            "_view_module_version": "1.5.0",
            "_view_name": "HTMLView",
            "description": "",
            "description_tooltip": null,
            "layout": "IPY_MODEL_4338c0506ef64c4599be1bd1dbfc679b",
            "placeholder": "​",
            "style": "IPY_MODEL_82d8e725e3c447048c154f23fd1ff823",
            "value": "vocab.json: 100%"
          }
        },
        "fb8b0eed71da48f4887b57fe4039cd72": {
          "model_module": "@jupyter-widgets/base",
          "model_module_version": "1.2.0",
          "model_name": "LayoutModel",
          "state": {
            "_model_module": "@jupyter-widgets/base",
            "_model_module_version": "1.2.0",
            "_model_name": "LayoutModel",
            "_view_count": null,
            "_view_module": "@jupyter-widgets/base",
            "_view_module_version": "1.2.0",
            "_view_name": "LayoutView",
            "align_content": null,
            "align_items": null,
            "align_self": null,
            "border": null,
            "bottom": null,
            "display": null,
            "flex": null,
            "flex_flow": null,
            "grid_area": null,
            "grid_auto_columns": null,
            "grid_auto_flow": null,
            "grid_auto_rows": null,
            "grid_column": null,
            "grid_gap": null,
            "grid_row": null,
            "grid_template_areas": null,
            "grid_template_columns": null,
            "grid_template_rows": null,
            "height": null,
            "justify_content": null,
            "justify_items": null,
            "left": null,
            "margin": null,
            "max_height": null,
            "max_width": null,
            "min_height": null,
            "min_width": null,
            "object_fit": null,
            "object_position": null,
            "order": null,
            "overflow": null,
            "overflow_x": null,
            "overflow_y": null,
            "padding": null,
            "right": null,
            "top": null,
            "visibility": null,
            "width": null
          }
        },
        "fe4da75975c8447fae978c6f9767d883": {
          "model_module": "@jupyter-widgets/controls",
          "model_module_version": "1.5.0",
          "model_name": "DescriptionStyleModel",
          "state": {
            "_model_module": "@jupyter-widgets/controls",
            "_model_module_version": "1.5.0",
            "_model_name": "DescriptionStyleModel",
            "_view_count": null,
            "_view_module": "@jupyter-widgets/base",
            "_view_module_version": "1.2.0",
            "_view_name": "StyleView",
            "description_width": ""
          }
        }
      }
    }
  },
  "nbformat": 4,
  "nbformat_minor": 0
}
